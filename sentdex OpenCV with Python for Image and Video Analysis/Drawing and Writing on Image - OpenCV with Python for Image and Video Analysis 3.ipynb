{
 "cells": [
  {
   "cell_type": "code",
   "execution_count": 1,
   "metadata": {},
   "outputs": [],
   "source": [
    "import numpy as np\n",
    "import cv2"
   ]
  },
  {
   "cell_type": "code",
   "execution_count": 2,
   "metadata": {},
   "outputs": [
    {
     "data": {
      "text/plain": [
       "array([[[255, 255, 255],\n",
       "        [255, 255, 255],\n",
       "        [255, 255, 255],\n",
       "        ...,\n",
       "        [139, 153, 172],\n",
       "        [137, 151, 169],\n",
       "        [136, 150, 168]],\n",
       "\n",
       "       [[255, 255, 255],\n",
       "        [255, 255, 255],\n",
       "        [255, 255, 255],\n",
       "        ...,\n",
       "        [139, 153, 172],\n",
       "        [137, 151, 169],\n",
       "        [137, 151, 169]],\n",
       "\n",
       "       [[255, 255, 255],\n",
       "        [255, 255, 255],\n",
       "        [255, 255, 255],\n",
       "        ...,\n",
       "        [139, 153, 172],\n",
       "        [136, 152, 169],\n",
       "        [135, 151, 168]],\n",
       "\n",
       "       ...,\n",
       "\n",
       "       [[129, 138, 158],\n",
       "        [129, 138, 158],\n",
       "        [131, 140, 160],\n",
       "        ...,\n",
       "        [113,  86,  89],\n",
       "        [113,  83,  88],\n",
       "        [115,  83,  88]],\n",
       "\n",
       "       [[129, 138, 158],\n",
       "        [129, 138, 158],\n",
       "        [131, 140, 160],\n",
       "        ...,\n",
       "        [113,  86,  89],\n",
       "        [114,  84,  89],\n",
       "        [116,  84,  89]],\n",
       "\n",
       "       [[128, 137, 157],\n",
       "        [129, 138, 158],\n",
       "        [131, 140, 160],\n",
       "        ...,\n",
       "        [113,  86,  89],\n",
       "        [116,  84,  89],\n",
       "        [116,  84,  89]]], dtype=uint8)"
      ]
     },
     "execution_count": 2,
     "metadata": {},
     "output_type": "execute_result"
    }
   ],
   "source": [
    "img = cv2.imread('image.jpg', cv2.IMREAD_COLOR)\n",
    "# 这里还是要检查下的，没有找到图片，也不会报错，可以打印下\n",
    "\n",
    "# 画线\n",
    "cv2.line(img, (0,0), (150,150), (255,255,255), 15) \n",
    "#这里的(0,0), (150,150) 是两个点，而(255,255,255)是颜色对应BGR， 最后的15是线条粗\n",
    "\n",
    "# 画长方形\n",
    "cv2.rectangle(img, (15,25), (200,150), (0,255,0), 5)\n",
    "\n",
    "# 画圆圈\n",
    "cv2.circle(img, (100,63), 55, (0,0,255), -1)\n",
    "# 这里的55是半径,而线粗是-1表示填充图像内部颜色\n",
    "\n",
    "# 画多边形\n",
    "pts = np.array([[10,5],[20,30],[70,20],[50,10]], np.int32)\n",
    "cv2.polylines(img, [pts], True, (0,255,255), 3)\n",
    "# 这里的True是把最后一个点和第一个点连起来\n"
   ]
  },
  {
   "cell_type": "markdown",
   "metadata": {},
   "source": [
    "# 在图片上写字"
   ]
  },
  {
   "cell_type": "code",
   "execution_count": 3,
   "metadata": {},
   "outputs": [
    {
     "data": {
      "text/plain": [
       "array([[[255, 255, 255],\n",
       "        [255, 255, 255],\n",
       "        [255, 255, 255],\n",
       "        ...,\n",
       "        [139, 153, 172],\n",
       "        [137, 151, 169],\n",
       "        [136, 150, 168]],\n",
       "\n",
       "       [[255, 255, 255],\n",
       "        [255, 255, 255],\n",
       "        [255, 255, 255],\n",
       "        ...,\n",
       "        [139, 153, 172],\n",
       "        [137, 151, 169],\n",
       "        [137, 151, 169]],\n",
       "\n",
       "       [[255, 255, 255],\n",
       "        [255, 255, 255],\n",
       "        [255, 255, 255],\n",
       "        ...,\n",
       "        [139, 153, 172],\n",
       "        [136, 152, 169],\n",
       "        [135, 151, 168]],\n",
       "\n",
       "       ...,\n",
       "\n",
       "       [[129, 138, 158],\n",
       "        [129, 138, 158],\n",
       "        [131, 140, 160],\n",
       "        ...,\n",
       "        [113,  86,  89],\n",
       "        [113,  83,  88],\n",
       "        [115,  83,  88]],\n",
       "\n",
       "       [[129, 138, 158],\n",
       "        [129, 138, 158],\n",
       "        [131, 140, 160],\n",
       "        ...,\n",
       "        [113,  86,  89],\n",
       "        [114,  84,  89],\n",
       "        [116,  84,  89]],\n",
       "\n",
       "       [[128, 137, 157],\n",
       "        [129, 138, 158],\n",
       "        [131, 140, 160],\n",
       "        ...,\n",
       "        [113,  86,  89],\n",
       "        [116,  84,  89],\n",
       "        [116,  84,  89]]], dtype=uint8)"
      ]
     },
     "execution_count": 3,
     "metadata": {},
     "output_type": "execute_result"
    }
   ],
   "source": [
    "font = cv2.FONT_HERSHEY_SIMPLEX\n",
    "cv2.putText(img, 'hello OpenCV', (0,130), font, 5, (200,255,255), 10,cv2.LINE_AA)\n",
    "# 这里（0，130）对应的是开始点，5是间隔，10是字粗，cv2.LINE_AA 中的AA指anti-aliasing  反锯齿"
   ]
  },
  {
   "cell_type": "code",
   "execution_count": 4,
   "metadata": {},
   "outputs": [],
   "source": [
    "cv2.imshow('image', img)\n",
    "cv2.waitKey(0)\n",
    "cv2.destroyAllWindows()"
   ]
  },
  {
   "cell_type": "code",
   "execution_count": null,
   "metadata": {},
   "outputs": [],
   "source": []
  }
 ],
 "metadata": {
  "kernelspec": {
   "display_name": "Python 3",
   "language": "python",
   "name": "python3"
  },
  "language_info": {
   "codemirror_mode": {
    "name": "ipython",
    "version": 3
   },
   "file_extension": ".py",
   "mimetype": "text/x-python",
   "name": "python",
   "nbconvert_exporter": "python",
   "pygments_lexer": "ipython3",
   "version": "3.7.1"
  }
 },
 "nbformat": 4,
 "nbformat_minor": 2
}
