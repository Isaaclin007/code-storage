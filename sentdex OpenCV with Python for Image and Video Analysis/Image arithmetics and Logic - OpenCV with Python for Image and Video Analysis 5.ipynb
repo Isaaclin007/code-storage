{
 "cells": [
  {
   "cell_type": "code",
   "execution_count": 1,
   "metadata": {},
   "outputs": [],
   "source": [
    "import cv2\n",
    "import numpy as np"
   ]
  },
  {
   "cell_type": "code",
   "execution_count": null,
   "metadata": {},
   "outputs": [],
   "source": [
    "img1 = cv2.imread('3D-Matplotlib.png')\n",
    "img2 = cv2.imread('mainsvmimage.png')\n",
    "\n",
    "# add = img1 + img2\n",
    "\n",
    "# add = cv2.add(img1,img2) #这会让每个像素点的值加在一起，但值最大不超过255，因此图片会变很白\n",
    "\n",
    "weighted = cv2.addWeighted(img1, 0.6, img2, 0.4, 0) \n",
    "#加权平均每个像素点的值， 这里的0.6和0.4 分别对应每幅图像素值的占比，而最后的0是伽马值\n",
    "\n",
    "cv2.imshow('weighted', weighted)\n",
    "cv2.waitKey(0)\n",
    "cv2.destroyAllWindows()"
   ]
  },
  {
   "cell_type": "code",
   "execution_count": null,
   "metadata": {},
   "outputs": [],
   "source": []
  },
  {
   "cell_type": "code",
   "execution_count": 2,
   "metadata": {},
   "outputs": [
    {
     "data": {
      "text/plain": [
       "(126, 126, 3)"
      ]
     },
     "execution_count": 2,
     "metadata": {},
     "output_type": "execute_result"
    }
   ],
   "source": [
    "img1 = cv2.imread('3D-Matplotlib.png')\n",
    "img2 = cv2.imread('mainlogo.png')\n",
    "\n",
    "img2.shape\n",
    "# rows, cols, channels = img2.shape\n",
    "# roi = img1[0:rows, 0:cols]\n",
    "\n",
    "# cv2.waitKey(0)\n",
    "# cv2.destroyAllWindows()"
   ]
  },
  {
   "cell_type": "code",
   "execution_count": null,
   "metadata": {},
   "outputs": [],
   "source": []
  }
 ],
 "metadata": {
  "kernelspec": {
   "display_name": "Python 3",
   "language": "python",
   "name": "python3"
  },
  "language_info": {
   "codemirror_mode": {
    "name": "ipython",
    "version": 3
   },
   "file_extension": ".py",
   "mimetype": "text/x-python",
   "name": "python",
   "nbconvert_exporter": "python",
   "pygments_lexer": "ipython3",
   "version": "3.7.1"
  }
 },
 "nbformat": 4,
 "nbformat_minor": 2
}
