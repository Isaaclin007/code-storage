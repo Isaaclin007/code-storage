{
 "cells": [
  {
   "cell_type": "code",
   "execution_count": 1,
   "metadata": {},
   "outputs": [],
   "source": [
    "import numpy as np\n",
    "import cv2"
   ]
  },
  {
   "cell_type": "code",
   "execution_count": 2,
   "metadata": {},
   "outputs": [],
   "source": [
    "img = cv2.imread('image.jpg', cv2.IMREAD_COLOR)\n",
    "\n",
    "# 重新定义某一点的颜色\n",
    "img[55,55] = [255,255,255]\n",
    "\n",
    "# 获取某一点的颜色\n",
    "px = img[55,55]\n",
    "\n",
    "# 重新定义某一片的颜色\n",
    "img[100:150,100:150] = [255,255,255]\n",
    "\n",
    "# 获取某一片的颜色（截取一块图像）\n",
    "part_of_img = img[100:200, 200:300]\n",
    "\n",
    "# 把某一片的颜色覆盖掉\n",
    "img[0:100, 0:100] = part_of_img\n",
    "\n",
    "cv2.imshow('image', img)\n",
    "cv2.waitKey(0)\n",
    "cv2.destroyAllWindows()"
   ]
  }
 ],
 "metadata": {
  "kernelspec": {
   "display_name": "Python 3",
   "language": "python",
   "name": "python3"
  },
  "language_info": {
   "codemirror_mode": {
    "name": "ipython",
    "version": 3
   },
   "file_extension": ".py",
   "mimetype": "text/x-python",
   "name": "python",
   "nbconvert_exporter": "python",
   "pygments_lexer": "ipython3",
   "version": "3.7.1"
  }
 },
 "nbformat": 4,
 "nbformat_minor": 2
}
