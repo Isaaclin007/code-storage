{
 "cells": [
  {
   "cell_type": "code",
   "execution_count": 1,
   "metadata": {},
   "outputs": [
    {
     "name": "stdout",
     "output_type": "stream",
     "text": [
      "Populating the interactive namespace from numpy and matplotlib\n"
     ]
    }
   ],
   "source": [
    "%pylab qt\n",
    "import cv2\n",
    "import numpy as np\n",
    "import matplotlib.pyplot as plt\n"
   ]
  },
  {
   "cell_type": "markdown",
   "metadata": {},
   "source": [
    "在OpenCV中使用imread函数时，除了第一个参数外（第一个参数是指定需要读取的图片的路径和图片名），我们还可以指定一个参数，常用的就是\"IMREAD_UNCHANGED\"、\"IMREAD_GRAYSCALE\"、\"IMREAD_COLOR\"三个属性了\n",
    "\n",
    "1）\"IMREAD_UNCHANGED\"指定用图片的原来格式打开，即以不改变图片的方式打开，图片是彩色就是彩色，图片是灰度图像就是灰度图像\n",
    "\n",
    "2）\"IMREAD_GRAYSCALE\"指定用灰度图像的方式打开图片，即将原始图像转化为灰度图像再打开\n",
    "\n",
    "3）\"IMREAD_COLOR\"指定用彩色图像打开图片"
   ]
  },
  {
   "cell_type": "code",
   "execution_count": 2,
   "metadata": {},
   "outputs": [
    {
     "name": "stdout",
     "output_type": "stream",
     "text": [
      "[[138 139 140 ... 157 155 154]\n",
      " [138 140 141 ... 157 155 155]\n",
      " [139 141 142 ... 157 155 154]\n",
      " ...\n",
      " [143 143 145 ...  90  88  88]\n",
      " [143 143 145 ...  90  89  89]\n",
      " [142 143 145 ...  90  89  89]]\n"
     ]
    }
   ],
   "source": [
    "#grayscale 中gray是灰色的意思 grayscale 会把alpha部分移除，\n",
    "# alpha是透明度的值， 在jpg里面包含了4个值，bgra bgr是3个颜色的缩写\n",
    "img = cv2.imread('image.jpg', cv2.IMREAD_GRAYSCALE) \n",
    "print(img)"
   ]
  },
  {
   "cell_type": "markdown",
   "metadata": {},
   "source": [
    "# 这里有两个图片显示的选项，一个是用cv2.imshow() 一个是用 plt.show()"
   ]
  },
  {
   "cell_type": "code",
   "execution_count": null,
   "metadata": {},
   "outputs": [],
   "source": [
    "cv2.imshow('image', img)\n",
    "cv2.waitKey(0)\n",
    "cv2.destroyAllWindows()"
   ]
  },
  {
   "cell_type": "code",
   "execution_count": 7,
   "metadata": {},
   "outputs": [],
   "source": [
    "plt.imshow(img, cmap='gray', interpolation='bicubic')\n",
    "plt.plot([50,100],[50,100],'r',linewidth=5)\n",
    "plt.show()"
   ]
  },
  {
   "cell_type": "code",
   "execution_count": null,
   "metadata": {},
   "outputs": [],
   "source": []
  }
 ],
 "metadata": {
  "kernelspec": {
   "display_name": "Python 3",
   "language": "python",
   "name": "python3"
  },
  "language_info": {
   "codemirror_mode": {
    "name": "ipython",
    "version": 3
   },
   "file_extension": ".py",
   "mimetype": "text/x-python",
   "name": "python",
   "nbconvert_exporter": "python",
   "pygments_lexer": "ipython3",
   "version": "3.7.1"
  }
 },
 "nbformat": 4,
 "nbformat_minor": 2
}
