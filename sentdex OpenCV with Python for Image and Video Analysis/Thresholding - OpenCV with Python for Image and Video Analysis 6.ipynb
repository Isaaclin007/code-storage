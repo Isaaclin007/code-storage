{
 "cells": [
  {
   "cell_type": "code",
   "execution_count": 3,
   "metadata": {},
   "outputs": [],
   "source": [
    "import cv2\n",
    "import numpy as np"
   ]
  },
  {
   "cell_type": "code",
   "execution_count": 2,
   "metadata": {},
   "outputs": [],
   "source": [
    "img = cv2.imread('bookpage.png')\n",
    "retval, threshold = cv2.threshold(img, 12, 255, cv2.THRESH_BINARY)\n",
    "cv2.imshow('original', img)\n",
    "cv2.imshow('threshold', threshold)\n",
    "cv2.waitKey(0)\n",
    "cv2.destroyAllWindows()"
   ]
  },
  {
   "cell_type": "code",
   "execution_count": null,
   "metadata": {},
   "outputs": [],
   "source": []
  },
  {
   "cell_type": "code",
   "execution_count": 2,
   "metadata": {},
   "outputs": [],
   "source": [
    "img = cv2.imread('bookpage.png')\n",
    "retval, threshold = cv2.threshold(img, 12, 255, cv2.THRESH_BINARY)\n",
    "grayscaled = cv2.cvtColor(img, cv2.COLOR_BGR2GRAY)\n",
    "retval2, threshold2 = cv2.threshold(grayscaled, 12, 255, cv2.THRESH_BINARY)\n",
    "cv2.imshow('original', img)\n",
    "cv2.imshow('threshold', threshold)\n",
    "cv2.imshow('threshold2', threshold2)\n",
    "cv2.waitKey(0)\n",
    "cv2.destroyAllWindows()"
   ]
  },
  {
   "cell_type": "code",
   "execution_count": null,
   "metadata": {},
   "outputs": [],
   "source": []
  },
  {
   "cell_type": "code",
   "execution_count": null,
   "metadata": {},
   "outputs": [],
   "source": []
  },
  {
   "cell_type": "markdown",
   "metadata": {},
   "source": [
    "Gaussian adaptive threshold\n",
    "自适应二值化\n",
    "\n",
    "参考网页：\n",
    "https://www.cnblogs.com/shangd/p/6094547.html \n",
    "\n",
    "https://docs.opencv.org/3.4/d7/d4d/tutorial_py_thresholding.html\n"
   ]
  },
  {
   "cell_type": "code",
   "execution_count": 4,
   "metadata": {},
   "outputs": [],
   "source": [
    "img = cv2.imread('bookpage.png')\n",
    "retval, threshold = cv2.threshold(img, 12, 255, cv2.THRESH_BINARY)\n",
    "grayscaled = cv2.cvtColor(img, cv2.COLOR_BGR2GRAY)\n",
    "retval2, threshold2 = cv2.threshold(grayscaled, 12, 255, cv2.THRESH_BINARY)\n",
    "# 自适应二值化（这个非常好用！）\n",
    "gaus = cv2.adaptiveThreshold(grayscaled, 255, cv2.ADAPTIVE_THRESH_GAUSSIAN_C, cv2.THRESH_BINARY, 115, 1)\n",
    "\n",
    "# 图像二值化----otsu（最大类间方差法、大津算法）https://blog.csdn.net/abcjennifer/article/details/6671288\n",
    "retval3, otsu = cv2.threshold(grayscaled, 125, 255, cv2.THRESH_BINARY+cv2.THRESH_OTSU)\n",
    "\n",
    "cv2.imshow('original', img)\n",
    "cv2.imshow('threshold', threshold)\n",
    "cv2.imshow('threshold2', threshold2)\n",
    "cv2.imshow('gaus', gaus)\n",
    "cv2.waitKey(0)\n",
    "cv2.destroyAllWindows()"
   ]
  },
  {
   "cell_type": "markdown",
   "metadata": {},
   "source": [
    "Otsu算法步骤如下：https://blog.csdn.net/abcjennifer/article/details/6671288\n",
    "    \n",
    "设图象包含L个灰度级(0,1…,L-1)，灰度值为i的的象素点数为Ni ，图象总的象素点数为N=N0+N1+...+N(L-1)。灰度值为i的点的概为：\n",
    "P(i) = N(i)/N.\n",
    "门限t将整幅图象分为暗区c1和亮区c2两类，则类间方差σ是t的函数：\n",
    "σ=a1*a2(u1-u2)^2 (2)\n",
    "式中，aj 为类cj的面积与图象总面积之比，a1 = sum(P(i)) i->t, a2 = 1-a1; uj为类cj的均值，u1 = sum(i*P(i))/a1 0->t, \n",
    "u2 = sum(i*P(i))/a2, t+1->L-1 \n",
    "该法选择最佳门限t^ 使类间方差最大，即：令Δu=u1-u2，σb = max{a1(t)*a2(t)Δu^2}"
   ]
  },
  {
   "cell_type": "code",
   "execution_count": null,
   "metadata": {},
   "outputs": [],
   "source": []
  }
 ],
 "metadata": {
  "kernelspec": {
   "display_name": "Python 3",
   "language": "python",
   "name": "python3"
  },
  "language_info": {
   "codemirror_mode": {
    "name": "ipython",
    "version": 3
   },
   "file_extension": ".py",
   "mimetype": "text/x-python",
   "name": "python",
   "nbconvert_exporter": "python",
   "pygments_lexer": "ipython3",
   "version": "3.7.1"
  }
 },
 "nbformat": 4,
 "nbformat_minor": 2
}
