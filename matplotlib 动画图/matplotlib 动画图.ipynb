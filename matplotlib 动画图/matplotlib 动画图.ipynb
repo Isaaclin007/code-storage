{
 "cells": [
  {
   "cell_type": "markdown",
   "metadata": {},
   "source": [
    "# 一开始部分是我写的范例代码，可以先运行下看下效果"
   ]
  },
  {
   "cell_type": "code",
   "execution_count": 80,
   "metadata": {},
   "outputs": [
    {
     "name": "stdout",
     "output_type": "stream",
     "text": [
      "Populating the interactive namespace from numpy and matplotlib\n"
     ]
    }
   ],
   "source": [
    "%pylab qt\n",
    "from matplotlib.animation import FuncAnimation"
   ]
  },
  {
   "cell_type": "code",
   "execution_count": 20,
   "metadata": {},
   "outputs": [],
   "source": [
    "fig, ax = plt.subplots()\n",
    "\n",
    "xdata, ydata = [], []      #初始化两个数组\n",
    "ln, = ax.plot([],[],'r+')\n",
    "\n",
    "def init():\n",
    "    ax.set_xlim(-10, 10)  #设置x轴的范围pi代表3.14...圆周率，\n",
    "    ax.set_ylim(-10, 10)#设置y轴的范围\n",
    "    return ln,               #返回曲线,这里逗号是用来解包的，比如[[1]], 就等于 [1]\n",
    "\n",
    "def update(n):\n",
    "\n",
    "\n",
    "# #（1）如果你只想看最简单的一个点移动，用这部分代码\n",
    "#     ax.set_xlim(n-1, n+1)\n",
    "#     ln.set_data(n,n)\n",
    "    \n",
    "    \n",
    "# （2）如果你想看点画成线，用这部分代码\n",
    "    xdata.append(n)         #将每次传过来的n追加到xdata中\n",
    "    ydata.append(sin(n))\n",
    "    ln.set_data(xdata, ydata)    #重新设置曲线的值\n",
    "    ax.set_xlim(-10, n+1)\n",
    "    \n",
    "    return ln,\n",
    "\n",
    "ani = FuncAnimation(fig, update, frames=1000, init_func=init, blit=False)\n",
    "\n",
    "plt.show()"
   ]
  },
  {
   "cell_type": "markdown",
   "metadata": {},
   "source": [
    "# 接下来是网上的例子"
   ]
  },
  {
   "cell_type": "markdown",
   "metadata": {},
   "source": [
    "例子一"
   ]
  },
  {
   "cell_type": "code",
   "execution_count": 91,
   "metadata": {},
   "outputs": [],
   "source": [
    "from matplotlib import pyplot as plt\n",
    "from matplotlib import animation\n",
    "import numpy as np\n",
    "fig, ax = plt.subplots()\n",
    "#我们的数据是一个0~2π内的正弦曲线\n",
    "x = np.arange(0, 2*np.pi, 0.01)\n",
    "line, = ax.plot(x, np.sin(x))\n",
    "\n",
    "#接着，构造自定义动画函数animate，用来更新每一帧上各个x对应的y坐标值，参数表示第i帧\n",
    "def animate(i):\n",
    "    line.set_ydata(np.sin(x + i/10.0))\n",
    "    return line,\n",
    "#然后，构造开始帧函数init\n",
    "def init():\n",
    "    line.set_ydata(np.sin(x))\n",
    "    return line,\n",
    "#接下来，我们调用FuncAnimation函数生成动画。参数说明：\n",
    "#fig 进行动画绘制的figure\n",
    "#func 自定义动画函数，即传入刚定义的函数animate\n",
    "#frames 动画长度，一次循环包含的帧数\n",
    "#init_func 自定义开始帧，即传入刚定义的函数init\n",
    "#interval 更新频率，以ms计\n",
    "#blit 选择更新所有点，还是仅更新产生变化的点。应选择True，但mac用户请选择False，否则无法显示动画\n",
    "\n",
    "ani = animation.FuncAnimation(fig=fig,\n",
    "                              func=animate,\n",
    "                              frames=100, #frames帧，用来设置动画时长\n",
    "                              init_func=init,\n",
    "                              interval=20,\n",
    "                              blit=False)\n",
    "plt.show()"
   ]
  },
  {
   "cell_type": "markdown",
   "metadata": {},
   "source": [
    "例子二"
   ]
  },
  {
   "cell_type": "code",
   "execution_count": 74,
   "metadata": {},
   "outputs": [],
   "source": [
    "import numpy as np\n",
    "import matplotlib.pyplot as plt\n",
    "from matplotlib.animation import FuncAnimation\n",
    "\n",
    "fig, ax = plt.subplots()   #生成子图，相当于fig = plt.figure(),ax = fig.add_subplot(),其中ax的函数参数表示把当前画布进行分割，例：fig.add_subplot(2,2,2).表示将画布分割为两行两列#ax在第2个子图中绘制，其中行优先，\n",
    "xdata, ydata = [], []      #初始化两个数组\n",
    "ln, = ax.plot([], [], 'bo', animated=False)\n",
    "\n",
    "def init():\n",
    "    ax.set_xlim(0, 2*np.pi)  #设置x轴的范围pi代表3.14...圆周率，\n",
    "    ax.set_ylim(-1, 1)#设置y轴的范围\n",
    "    return ln,               #返回曲线,这里逗号是用来解包的，比如[[1]], 就等于 [1]\n",
    "\n",
    "def update(n):\n",
    "    xdata.append(n)         #将每次传过来的n追加到xdata中\n",
    "    ydata.append(n)\n",
    "    ln.set_data(xdata, ydata)    #重新设置曲线的值\n",
    "    return ln,\n",
    "\n",
    "ani = FuncAnimation(fig, update, frames=np.linspace(0, 2*np.pi, 1000),     #这里的frames在调用update函数是会将frames作为实参传递给“n”\n",
    "                    init_func=init, blit=False)\n",
    "plt.show()"
   ]
  },
  {
   "cell_type": "markdown",
   "metadata": {},
   "source": []
  },
  {
   "cell_type": "markdown",
   "metadata": {},
   "source": [
    "# 这里我要开始画圈圈了"
   ]
  },
  {
   "cell_type": "code",
   "execution_count": 128,
   "metadata": {},
   "outputs": [],
   "source": [
    "\n",
    "    \n",
    "fig, ax = plt.subplots()\n",
    "\n",
    "xdata, ydata = [], []      #初始化两个数组\n",
    "ln, = ax.plot([],[],'r.')\n",
    "\n",
    "def init():\n",
    "    ax.set_xlim(-10, 10)  #设置x轴的范围pi代表3.14...圆周率，\n",
    "    ax.set_ylim(-10, 10)#设置y轴的范围\n",
    "    return ln,               #返回曲线,这里逗号是用来解包的，比如[[1]], 就等于 [1]\n",
    "\n",
    "def update(n):\n",
    "\n",
    "\n",
    "# #（1）如果你只想看最简单的一个点移动，用这部分代码\n",
    "#     ax.set_xlim(n-1, n+1)\n",
    "#     ln.set_data(n,n)\n",
    "    \n",
    "    \n",
    "# （2）如果你想看点画成线，用这部分代码\n",
    "    xdata.append(2*np.sin(n)+cos(n/7))        #将每次传过来的n追加到xdata中\n",
    "    ydata.append(2*np.cos(n)+cos(n/20))\n",
    "    ln.set_data(xdata, ydata)    #重新设置曲线的值\n",
    "    \n",
    "    return ln,\n",
    "\n",
    "ani = FuncAnimation(fig, update, frames=np.linspace(0, 100*np.pi, 1000), init_func=init, blit=False)\n",
    "\n",
    "plt.show()\n",
    "\n",
    "    "
   ]
  },
  {
   "cell_type": "code",
   "execution_count": 127,
   "metadata": {},
   "outputs": [],
   "source": [
    "FuncAnimation?"
   ]
  },
  {
   "cell_type": "code",
   "execution_count": null,
   "metadata": {},
   "outputs": [],
   "source": []
  }
 ],
 "metadata": {
  "kernelspec": {
   "display_name": "Python 3",
   "language": "python",
   "name": "python3"
  },
  "language_info": {
   "codemirror_mode": {
    "name": "ipython",
    "version": 3
   },
   "file_extension": ".py",
   "mimetype": "text/x-python",
   "name": "python",
   "nbconvert_exporter": "python",
   "pygments_lexer": "ipython3",
   "version": "3.7.1"
  }
 },
 "nbformat": 4,
 "nbformat_minor": 2
}
