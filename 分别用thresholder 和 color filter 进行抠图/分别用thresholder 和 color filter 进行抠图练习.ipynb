{
 "cells": [
  {
   "cell_type": "markdown",
   "metadata": {},
   "source": [
    "方法一：利用 thresholder"
   ]
  },
  {
   "cell_type": "markdown",
   "metadata": {},
   "source": [
    "![](./balck_tree.png)"
   ]
  },
  {
   "cell_type": "code",
   "execution_count": 38,
   "metadata": {},
   "outputs": [],
   "source": [
    "import cv2"
   ]
  },
  {
   "cell_type": "code",
   "execution_count": 19,
   "metadata": {},
   "outputs": [],
   "source": [
    "img = cv2.imread('./balck_tree.png')\n",
    "# 这个直接彩色二值化\n",
    "retval, threshold = cv2.threshold(img, 12, 255, cv2.THRESH_BINARY)\n",
    "grayscaled = cv2.cvtColor(img, cv2.COLOR_BGR2GRAY)\n",
    "# 这个是我最熟悉的黑白二值化\n",
    "retval2, threshold2 = cv2.threshold(grayscaled, 20, 255, cv2.THRESH_BINARY)\n",
    "# 高斯自适应二值化\n",
    "gaus = cv2.adaptiveThreshold(grayscaled, 255, cv2.ADAPTIVE_THRESH_GAUSSIAN_C, cv2.THRESH_BINARY, 115, 1)\n",
    "\n",
    "cv2.namedWindow('threshold2',0)\n",
    "cv2.imshow('threshold2', threshold2)\n",
    "cv2.namedWindow('threshold',0)\n",
    "cv2.imshow('threshold', threshold)\n",
    "cv2.namedWindow('gaus',0)\n",
    "cv2.imshow('gaus', gaus)\n",
    "\n",
    "cv2.waitKey(0)\n",
    "cv2.destroyAllWindows()"
   ]
  },
  {
   "cell_type": "markdown",
   "metadata": {},
   "source": [
    "方法二：使用color filter,变成HSV颜色空间，选出我要的颜色范围"
   ]
  },
  {
   "cell_type": "code",
   "execution_count": 22,
   "metadata": {},
   "outputs": [],
   "source": [
    "import numpy as np"
   ]
  },
  {
   "cell_type": "code",
   "execution_count": 36,
   "metadata": {},
   "outputs": [],
   "source": [
    "img = cv2.imread('./balck_tree.png')\n",
    "\n",
    "hsv = cv2.cvtColor(img, cv2.COLOR_BGR2HSV)\n",
    "    \n",
    "lower_color = np.array([0,0,0])\n",
    "upper_color = np.array([255,255,30])\n",
    "\n",
    "\n",
    "#   这里我们创建的mask是全范围的，也就是一张白纸，因此它不会过滤掉任何东西\n",
    "mask = cv2.inRange(hsv, lower_color, upper_color)\n",
    "res = cv2.bitwise_and(img, img, mask=mask)\n",
    "\n",
    "cv2.namedWindow('img',0)\n",
    "cv2.imshow('img', img)\n",
    "cv2.namedWindow('mask',0)\n",
    "cv2.imshow('mask', mask)\n",
    "cv2.namedWindow('res',0)\n",
    "cv2.imshow('res', res)\n",
    "cv2.waitKey(0)\n",
    "cv2.destroyAllWindows()"
   ]
  },
  {
   "cell_type": "code",
   "execution_count": null,
   "metadata": {},
   "outputs": [],
   "source": []
  }
 ],
 "metadata": {
  "kernelspec": {
   "display_name": "Python 3",
   "language": "python",
   "name": "python3"
  },
  "language_info": {
   "codemirror_mode": {
    "name": "ipython",
    "version": 3
   },
   "file_extension": ".py",
   "mimetype": "text/x-python",
   "name": "python",
   "nbconvert_exporter": "python",
   "pygments_lexer": "ipython3",
   "version": "3.7.1"
  }
 },
 "nbformat": 4,
 "nbformat_minor": 2
}
