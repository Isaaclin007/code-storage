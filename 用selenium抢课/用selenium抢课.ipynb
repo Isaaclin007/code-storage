{
 "cells": [
  {
   "cell_type": "code",
   "execution_count": 1,
   "metadata": {},
   "outputs": [],
   "source": [
    "import time\n",
    "from selenium import webdriver"
   ]
  },
  {
   "cell_type": "code",
   "execution_count": 2,
   "metadata": {},
   "outputs": [],
   "source": [
    "driver = webdriver.Chrome() "
   ]
  },
  {
   "cell_type": "code",
   "execution_count": 3,
   "metadata": {},
   "outputs": [],
   "source": [
    "# driver.get(\"https://login.johnshopkins.edu/cgi-bin/allinonelogin.pl?BASIC=FALSE&AUTHDB=PROD&AUTHLEVEL=RISK&RD=20120821&TYPE=33554432&REALMOID=06-07380a7e-b023-4b59-a8eb-af66dd3273e1&GUID=&SMAUTHREASON=0&METHOD=GET&SMAGENTNAME=-SM-PKkoPOYk5LnG7Y5Z7BNjP%2fInHsiUmA2pnqAQHeC4O69UQXdsak2zxzlvJPStuhW9&TARGET=-SM-HTTPS%3a%2f%2fmy%2ejh%2eedu%2fportal%2fgroup%2fmyjhu%2fsis--summary&TIMESTRING=1541119321\")\n",
    "driver.get('https://my.jh.edu/portal/group/myjhu/sis-summary')\n",
    "\n",
    "driver.find_element_by_id(\"USER\").clear()\n",
    "driver.find_element_by_id(\"USER\").send_keys(\"flu16\")\n",
    "driver.find_element_by_id(\"PASSWORD\").clear()\n",
    "driver.find_element_by_id(\"PASSWORD\").send_keys(\"Stean33593\")\n",
    "driver.find_element_by_id(\"USER\").click()\n",
    "driver.find_element_by_id(\"USER\").click()\n",
    "# ERROR: Caught exception [ERROR: Unsupported command [doubleClick | id=USER | ]]\n",
    "driver.find_element_by_xpath(\"(.//*[normalize-space(text()) and normalize-space(.)='Enter your Login ID and Password'])[1]/following::div[6]\").click()\n",
    "driver.find_element_by_id(\"PASSWORD\").click()\n",
    "driver.find_element_by_id(\"PASSWORD\").click()\n",
    "# ERROR: Caught exception [ERROR: Unsupported command [doubleClick | id=PASSWORD | ]]\n",
    "driver.find_element_by_id(\"submit1\").click()\n",
    "# https://my.jh.edu/portal/group/myjhu/sis-summary\n",
    "\n",
    "\n",
    "    "
   ]
  },
  {
   "cell_type": "code",
   "execution_count": 4,
   "metadata": {},
   "outputs": [],
   "source": [
    "while True:\n",
    "    try:\n",
    "        driver.get(\"https://sis.jhu.edu/sswf/CMN/MessageBoard/JHU_CMN_MessageBoard.aspx\")\n",
    "\n",
    "        # ERROR: Caught exception [ERROR: Unsupported command [selectWindow | win_ser_1 | ]]\n",
    "        driver.find_element_by_link_text(\"Registration\").click()\n",
    "        driver.find_element_by_link_text(\"Registration\").click()\n",
    "        driver.find_element_by_link_text(\"My Cart\").click()\n",
    "        time.sleep(0.3)\n",
    "\n",
    "        driver.find_element_by_id(\"SelectAllCheckBox\").click()\n",
    "\n",
    "        driver.find_element_by_id(\"ctl00_contentPlaceHolder_ibEnroll\").click()\n",
    "        time.sleep(0.3)\n",
    "\n",
    "        driver.find_element_by_id(\"ctl00_contentPlaceHolder_cmdSubmit\").click()\n",
    "        html = driver.page_source\n",
    "        key_words = 'Failed'\n",
    "        if key_words not in str(html):\n",
    "            break\n",
    "    except:\n",
    "        continue"
   ]
  },
  {
   "cell_type": "code",
   "execution_count": null,
   "metadata": {},
   "outputs": [],
   "source": []
  }
 ],
 "metadata": {
  "kernelspec": {
   "display_name": "Python 3",
   "language": "python",
   "name": "python3"
  },
  "language_info": {
   "codemirror_mode": {
    "name": "ipython",
    "version": 3
   },
   "file_extension": ".py",
   "mimetype": "text/x-python",
   "name": "python",
   "nbconvert_exporter": "python",
   "pygments_lexer": "ipython3",
   "version": "3.7.1"
  }
 },
 "nbformat": 4,
 "nbformat_minor": 2
}
