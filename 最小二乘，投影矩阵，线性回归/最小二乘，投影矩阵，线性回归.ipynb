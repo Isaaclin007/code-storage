{
 "cells": [
  {
   "cell_type": "code",
   "execution_count": 1,
   "metadata": {},
   "outputs": [
    {
     "name": "stdout",
     "output_type": "stream",
     "text": [
      "Populating the interactive namespace from numpy and matplotlib\n"
     ]
    }
   ],
   "source": [
    "%pylab inline\n",
    "import pandas as pd"
   ]
  },
  {
   "cell_type": "code",
   "execution_count": 81,
   "metadata": {},
   "outputs": [],
   "source": [
    "x = 3* random.rand(50)\n",
    "e = 1 * np.random.randn(x.size)\n",
    "y = 10 * np.cos(x+1) + e"
   ]
  },
  {
   "cell_type": "code",
   "execution_count": 82,
   "metadata": {},
   "outputs": [
    {
     "data": {
      "text/plain": [
       "[<matplotlib.lines.Line2D at 0x11c747ba8>]"
      ]
     },
     "execution_count": 82,
     "metadata": {},
     "output_type": "execute_result"
    },
    {
     "data": {
      "image/png": "[encoded data removed]",
      "text/plain": [
       "<Figure size 432x288 with 1 Axes>"
      ]
     },
     "metadata": {
      "needs_background": "light"
     },
     "output_type": "display_data"
    }
   ],
   "source": [
    "plot(x,y,'bx')"
   ]
  },
  {
   "cell_type": "code",
   "execution_count": 83,
   "metadata": {},
   "outputs": [],
   "source": [
    "X = np.ones((x.size, 2))\n",
    "X[:,1] = x"
   ]
  },
  {
   "cell_type": "code",
   "execution_count": 84,
   "metadata": {},
   "outputs": [
    {
     "data": {
      "text/plain": [
       "array([[1.        , 2.09485454],\n",
       "       [1.        , 1.55198881],\n",
       "       [1.        , 0.28356697],\n",
       "       [1.        , 1.75504647],\n",
       "       [1.        , 1.21081284]])"
      ]
     },
     "execution_count": 84,
     "metadata": {},
     "output_type": "execute_result"
    }
   ],
   "source": [
    "X[:5]"
   ]
  },
  {
   "cell_type": "code",
   "execution_count": 85,
   "metadata": {},
   "outputs": [],
   "source": [
    "# X*beta = Y, we want to solve beta, but it do not have solution, therefore, we solve the close beta ,called beta_Hat\n",
    "# X.T * X * beta_Hat = X.T * Y\n",
    "# therefore beta_Hat = (X.T * X)^-1 * X.T * Y\n",
    "# plug beta_Hat in X * beta = Y at beta position, beta_Hat is a close beta\n",
    "# we get :\n",
    "# X * beta_Hat = Y_hat\n",
    "# X * [(X.T * X)^-1 * X.T * Y] = Y_hat\n",
    "\n",
    "beta_Hat = dot(dot(inv(dot(X.T, X)) , X.T), y)\n",
    "y_Hat = dot(X, beta_Hat)"
   ]
  },
  {
   "cell_type": "code",
   "execution_count": 86,
   "metadata": {},
   "outputs": [
    {
     "data": {
      "text/plain": [
       "[<matplotlib.lines.Line2D at 0x11c7dd828>]"
      ]
     },
     "execution_count": 86,
     "metadata": {},
     "output_type": "execute_result"
    },
    {
     "data": {
      "image/png": "[encoded data removed]",
      "text/plain": [
       "<Figure size 432x288 with 1 Axes>"
      ]
     },
     "metadata": {
      "needs_background": "light"
     },
     "output_type": "display_data"
    }
   ],
   "source": [
    "plot(x,y_Hat,'rx')\n",
    "plot(x,y,'bx')"
   ]
  },
  {
   "cell_type": "markdown",
   "metadata": {},
   "source": [
    "# 如果要算 a1 + a2 * x + a3 * x^2 = y 中的 a1, a2, a3"
   ]
  },
  {
   "cell_type": "code",
   "execution_count": 87,
   "metadata": {},
   "outputs": [],
   "source": [
    "x = 3*random.rand(50)\n",
    "e = 1 * np.random.randn(x.size)\n",
    "y = 10 * np.cos(x+1) + e"
   ]
  },
  {
   "cell_type": "code",
   "execution_count": 88,
   "metadata": {},
   "outputs": [],
   "source": [
    "X = np.ones((x.size, 3))\n",
    "X[:, 1] = x\n",
    "X[:, 2] = x**2"
   ]
  },
  {
   "cell_type": "code",
   "execution_count": 89,
   "metadata": {},
   "outputs": [
    {
     "data": {
      "text/plain": [
       "array([[1.00000000e+00, 4.32555444e-01, 1.87104212e-01],\n",
       "       [1.00000000e+00, 2.46671919e+00, 6.08470354e+00],\n",
       "       [1.00000000e+00, 7.66185950e-01, 5.87040910e-01],\n",
       "       [1.00000000e+00, 3.47714016e-02, 1.20905037e-03],\n",
       "       [1.00000000e+00, 8.29339367e-01, 6.87803785e-01]])"
      ]
     },
     "execution_count": 89,
     "metadata": {},
     "output_type": "execute_result"
    }
   ],
   "source": [
    "X[:5]"
   ]
  },
  {
   "cell_type": "code",
   "execution_count": 90,
   "metadata": {},
   "outputs": [],
   "source": [
    "beta_Hat = dot(dot(inv(dot(X.T, X)) , X.T), y)\n",
    "y_Hat = dot(X, beta_Hat)"
   ]
  },
  {
   "cell_type": "code",
   "execution_count": 94,
   "metadata": {},
   "outputs": [
    {
     "data": {
      "text/plain": [
       "[<matplotlib.lines.Line2D at 0x11c971240>]"
      ]
     },
     "execution_count": 94,
     "metadata": {},
     "output_type": "execute_result"
    },
    {
     "data": {
      "image/png": "[encoded data removed]",
      "text/plain": [
       "<Figure size 432x288 with 1 Axes>"
      ]
     },
     "metadata": {
      "needs_background": "light"
     },
     "output_type": "display_data"
    }
   ],
   "source": [
    "plot(x,y_Hat,'r.')\n",
    "plot(x,y,'bx')"
   ]
  },
  {
   "cell_type": "code",
   "execution_count": null,
   "metadata": {},
   "outputs": [],
   "source": []
  }
 ],
 "metadata": {
  "kernelspec": {
   "display_name": "Python 3",
   "language": "python",
   "name": "python3"
  },
  "language_info": {
   "codemirror_mode": {
    "name": "ipython",
    "version": 3
   },
   "file_extension": ".py",
   "mimetype": "text/x-python",
   "name": "python",
   "nbconvert_exporter": "python",
   "pygments_lexer": "ipython3",
   "version": "3.7.1"
  }
 },
 "nbformat": 4,
 "nbformat_minor": 2
}
