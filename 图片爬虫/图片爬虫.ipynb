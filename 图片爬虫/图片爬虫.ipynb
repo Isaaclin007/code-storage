{
 "cells": [
  {
   "cell_type": "code",
   "execution_count": 1,
   "metadata": {},
   "outputs": [],
   "source": [
    "import requests\n",
    "from bs4 import BeautifulSoup as bs\n",
    "import os"
   ]
  },
  {
   "cell_type": "code",
   "execution_count": 2,
   "metadata": {},
   "outputs": [],
   "source": [
    "# 在桌面创建image文件夹\n",
    "os.chdir('/Users/flu16/Desktop')\n",
    "os.makedirs('image',exist_ok=True)"
   ]
  },
  {
   "cell_type": "code",
   "execution_count": 3,
   "metadata": {},
   "outputs": [],
   "source": [
    "def core_function(page_number):\n",
    "        req = requests.get('https://www.ugirls.com/Content/List/Magazine-%d.html'%page_number)\n",
    "        soup = bs(req.text)\n",
    "        img_list = [i['src'] for i in soup.find_all(class_=\"gallery\")]\n",
    "        if len(img_list) != 0:\n",
    "            print('downloading page %d'%page_number)\n",
    "            for sub_number in range(5):\n",
    "                img = requests.get(img_list[sub_number])\n",
    "                with open('./image/%d(%d).jpg'%(page_number,sub_number),'wb') as f:\n",
    "                    f.write(img.content)\n",
    "        else:\n",
    "            print('page', page_number, 'not exist')"
   ]
  },
  {
   "cell_type": "code",
   "execution_count": 4,
   "metadata": {},
   "outputs": [],
   "source": [
    "def download_img(page_number):\n",
    "    \n",
    "    if not os.path.exists('image/%d(4).jpg'%page_number):\n",
    "        core_function(page_number)\n",
    "    else:\n",
    "        print('page', page_number, 'already exist')\n"
   ]
  },
  {
   "cell_type": "code",
   "execution_count": null,
   "metadata": {},
   "outputs": [
    {
     "name": "stdout",
     "output_type": "stream",
     "text": [
      "downloading page 460\n",
      "downloading page 461\n",
      "downloading page 462\n",
      "downloading page 463\n",
      "downloading page 464\n",
      "downloading page 465\n",
      "downloading page 466\n",
      "downloading page 467\n",
      "downloading page 468\n",
      "downloading page 469\n",
      "downloading page 470\n",
      "downloading page 471\n",
      "downloading page 472\n",
      "downloading page 473\n",
      "downloading page 474\n",
      "downloading page 475\n",
      "downloading page 476\n",
      "downloading page 477\n",
      "downloading page 478\n",
      "downloading page 479\n",
      "downloading page 480\n",
      "downloading page 481\n",
      "downloading page 482\n"
     ]
    }
   ],
   "source": [
    "for i in range(460,550):\n",
    "    download_img(i)"
   ]
  },
  {
   "cell_type": "code",
   "execution_count": null,
   "metadata": {},
   "outputs": [],
   "source": []
  }
 ],
 "metadata": {
  "kernelspec": {
   "display_name": "Python 3",
   "language": "python",
   "name": "python3"
  },
  "language_info": {
   "codemirror_mode": {
    "name": "ipython",
    "version": 3
   },
   "file_extension": ".py",
   "mimetype": "text/x-python",
   "name": "python",
   "nbconvert_exporter": "python",
   "pygments_lexer": "ipython3",
   "version": "3.7.1"
  }
 },
 "nbformat": 4,
 "nbformat_minor": 2
}
