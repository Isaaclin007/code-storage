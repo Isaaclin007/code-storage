{
 "cells": [
  {
   "cell_type": "code",
   "execution_count": 1,
   "metadata": {},
   "outputs": [
    {
     "name": "stdout",
     "output_type": "stream",
     "text": [
      "Populating the interactive namespace from numpy and matplotlib\n"
     ]
    }
   ],
   "source": [
    "import pandas as pd\n",
    "%pylab inline"
   ]
  },
  {
   "cell_type": "code",
   "execution_count": 34,
   "metadata": {},
   "outputs": [],
   "source": [
    "df_bcom_raw = pd.read_excel('BCOM Index (OHLC).xlsx', skiprows=[0,1,2,3,4,5], parse_dates=['Date'], index_col=0)\n"
   ]
  },
  {
   "cell_type": "code",
   "execution_count": 35,
   "metadata": {},
   "outputs": [
    {
     "data": {
      "text/html": [
       "<div>\n",
       "<style scoped>\n",
       "    .dataframe tbody tr th:only-of-type {\n",
       "        vertical-align: middle;\n",
       "    }\n",
       "\n",
       "    .dataframe tbody tr th {\n",
       "        vertical-align: top;\n",
       "    }\n",
       "\n",
       "    .dataframe thead th {\n",
       "        text-align: right;\n",
       "    }\n",
       "</style>\n",
       "<table border=\"1\" class=\"dataframe\">\n",
       "  <thead>\n",
       "    <tr style=\"text-align: right;\">\n",
       "      <th></th>\n",
       "      <th>PX_LAST</th>\n",
       "      <th>Change</th>\n",
       "      <th>% Change</th>\n",
       "      <th>PX_OPEN</th>\n",
       "      <th>Change.1</th>\n",
       "      <th>% Change.1</th>\n",
       "      <th>PX_HIGH</th>\n",
       "      <th>Change.2</th>\n",
       "      <th>% Change.2</th>\n",
       "      <th>PX_LOW</th>\n",
       "      <th>Change.3</th>\n",
       "      <th>% Change.3</th>\n",
       "    </tr>\n",
       "    <tr>\n",
       "      <th>Date</th>\n",
       "      <th></th>\n",
       "      <th></th>\n",
       "      <th></th>\n",
       "      <th></th>\n",
       "      <th></th>\n",
       "      <th></th>\n",
       "      <th></th>\n",
       "      <th></th>\n",
       "      <th></th>\n",
       "      <th></th>\n",
       "      <th></th>\n",
       "      <th></th>\n",
       "    </tr>\n",
       "  </thead>\n",
       "  <tbody>\n",
       "    <tr>\n",
       "      <th>2019-02-25</th>\n",
       "      <td>81.3010</td>\n",
       "      <td>-0.8236</td>\n",
       "      <td>-1.002866</td>\n",
       "      <td>82.2414</td>\n",
       "      <td>0.1168</td>\n",
       "      <td>0.142223</td>\n",
       "      <td>82.4778</td>\n",
       "      <td>0.3532</td>\n",
       "      <td>0.430078</td>\n",
       "      <td>81.1855</td>\n",
       "      <td>-0.9391</td>\n",
       "      <td>-1.143506</td>\n",
       "    </tr>\n",
       "    <tr>\n",
       "      <th>2019-02-22</th>\n",
       "      <td>82.1246</td>\n",
       "      <td>0.3368</td>\n",
       "      <td>0.411797</td>\n",
       "      <td>81.7159</td>\n",
       "      <td>-0.0719</td>\n",
       "      <td>-0.087910</td>\n",
       "      <td>82.2338</td>\n",
       "      <td>0.4460</td>\n",
       "      <td>0.545314</td>\n",
       "      <td>81.6920</td>\n",
       "      <td>-0.0958</td>\n",
       "      <td>-0.117132</td>\n",
       "    </tr>\n",
       "    <tr>\n",
       "      <th>2019-02-21</th>\n",
       "      <td>81.7878</td>\n",
       "      <td>0.1057</td>\n",
       "      <td>0.129404</td>\n",
       "      <td>81.5986</td>\n",
       "      <td>-0.0835</td>\n",
       "      <td>-0.102226</td>\n",
       "      <td>81.8750</td>\n",
       "      <td>0.1929</td>\n",
       "      <td>0.236159</td>\n",
       "      <td>81.5439</td>\n",
       "      <td>-0.1382</td>\n",
       "      <td>-0.169193</td>\n",
       "    </tr>\n",
       "    <tr>\n",
       "      <th>2019-02-20</th>\n",
       "      <td>81.6821</td>\n",
       "      <td>0.3879</td>\n",
       "      <td>0.477156</td>\n",
       "      <td>81.4641</td>\n",
       "      <td>0.1699</td>\n",
       "      <td>0.208994</td>\n",
       "      <td>81.8110</td>\n",
       "      <td>0.5168</td>\n",
       "      <td>0.635716</td>\n",
       "      <td>81.0860</td>\n",
       "      <td>-0.2082</td>\n",
       "      <td>-0.256107</td>\n",
       "    </tr>\n",
       "    <tr>\n",
       "      <th>2019-02-19</th>\n",
       "      <td>81.2942</td>\n",
       "      <td>0.3373</td>\n",
       "      <td>0.416641</td>\n",
       "      <td>81.1193</td>\n",
       "      <td>0.1624</td>\n",
       "      <td>0.200601</td>\n",
       "      <td>81.3327</td>\n",
       "      <td>0.3758</td>\n",
       "      <td>0.464198</td>\n",
       "      <td>80.9724</td>\n",
       "      <td>0.0155</td>\n",
       "      <td>0.019146</td>\n",
       "    </tr>\n",
       "  </tbody>\n",
       "</table>\n",
       "</div>"
      ],
      "text/plain": [
       "            PX_LAST  Change  % Change  PX_OPEN  Change.1  % Change.1  PX_HIGH  \\\n",
       "Date                                                                            \n",
       "2019-02-25  81.3010 -0.8236 -1.002866  82.2414    0.1168    0.142223  82.4778   \n",
       "2019-02-22  82.1246  0.3368  0.411797  81.7159   -0.0719   -0.087910  82.2338   \n",
       "2019-02-21  81.7878  0.1057  0.129404  81.5986   -0.0835   -0.102226  81.8750   \n",
       "2019-02-20  81.6821  0.3879  0.477156  81.4641    0.1699    0.208994  81.8110   \n",
       "2019-02-19  81.2942  0.3373  0.416641  81.1193    0.1624    0.200601  81.3327   \n",
       "\n",
       "            Change.2  % Change.2   PX_LOW  Change.3  % Change.3  \n",
       "Date                                                             \n",
       "2019-02-25    0.3532    0.430078  81.1855   -0.9391   -1.143506  \n",
       "2019-02-22    0.4460    0.545314  81.6920   -0.0958   -0.117132  \n",
       "2019-02-21    0.1929    0.236159  81.5439   -0.1382   -0.169193  \n",
       "2019-02-20    0.5168    0.635716  81.0860   -0.2082   -0.256107  \n",
       "2019-02-19    0.3758    0.464198  80.9724    0.0155    0.019146  "
      ]
     },
     "execution_count": 35,
     "metadata": {},
     "output_type": "execute_result"
    }
   ],
   "source": [
    "df_bcom_raw.head()"
   ]
  },
  {
   "cell_type": "code",
   "execution_count": 55,
   "metadata": {},
   "outputs": [
    {
     "data": {
      "text/plain": [
       "4816"
      ]
     },
     "execution_count": 55,
     "metadata": {},
     "output_type": "execute_result"
    }
   ],
   "source": [
    "df_spx_raw = pd.read_excel('SPX Index (OHLC).xlsx', skiprows=[0,1,2,3,4,5], parse_dates=['Date'], index_col=0)\n",
    "len(df_spx_raw)"
   ]
  },
  {
   "cell_type": "code",
   "execution_count": 57,
   "metadata": {},
   "outputs": [
    {
     "data": {
      "text/html": [
       "<div>\n",
       "<style scoped>\n",
       "    .dataframe tbody tr th:only-of-type {\n",
       "        vertical-align: middle;\n",
       "    }\n",
       "\n",
       "    .dataframe tbody tr th {\n",
       "        vertical-align: top;\n",
       "    }\n",
       "\n",
       "    .dataframe thead th {\n",
       "        text-align: right;\n",
       "    }\n",
       "</style>\n",
       "<table border=\"1\" class=\"dataframe\">\n",
       "  <thead>\n",
       "    <tr style=\"text-align: right;\">\n",
       "      <th></th>\n",
       "      <th>PX_LAST</th>\n",
       "      <th>Change</th>\n",
       "      <th>% Change</th>\n",
       "      <th>PX_OPEN</th>\n",
       "      <th>Change.1</th>\n",
       "      <th>% Change.1</th>\n",
       "      <th>PX_HIGH</th>\n",
       "      <th>Change.2</th>\n",
       "      <th>% Change.2</th>\n",
       "      <th>PX_LOW</th>\n",
       "      <th>Change.3</th>\n",
       "      <th>% Change.3</th>\n",
       "    </tr>\n",
       "    <tr>\n",
       "      <th>Date</th>\n",
       "      <th></th>\n",
       "      <th></th>\n",
       "      <th></th>\n",
       "      <th></th>\n",
       "      <th></th>\n",
       "      <th></th>\n",
       "      <th></th>\n",
       "      <th></th>\n",
       "      <th></th>\n",
       "      <th></th>\n",
       "      <th></th>\n",
       "      <th></th>\n",
       "    </tr>\n",
       "  </thead>\n",
       "  <tbody>\n",
       "    <tr>\n",
       "      <th>2000-01-07</th>\n",
       "      <td>1441.47</td>\n",
       "      <td>NaN</td>\n",
       "      <td>NaN</td>\n",
       "      <td>1403.45</td>\n",
       "      <td>NaN</td>\n",
       "      <td>NaN</td>\n",
       "      <td>1441.47</td>\n",
       "      <td>NaN</td>\n",
       "      <td>NaN</td>\n",
       "      <td>1400.73</td>\n",
       "      <td>NaN</td>\n",
       "      <td>NaN</td>\n",
       "    </tr>\n",
       "    <tr>\n",
       "      <th>2000-01-06</th>\n",
       "      <td>1403.45</td>\n",
       "      <td>NaN</td>\n",
       "      <td>NaN</td>\n",
       "      <td>1402.11</td>\n",
       "      <td>NaN</td>\n",
       "      <td>NaN</td>\n",
       "      <td>1411.90</td>\n",
       "      <td>NaN</td>\n",
       "      <td>NaN</td>\n",
       "      <td>1392.02</td>\n",
       "      <td>NaN</td>\n",
       "      <td>NaN</td>\n",
       "    </tr>\n",
       "    <tr>\n",
       "      <th>2000-01-05</th>\n",
       "      <td>1402.11</td>\n",
       "      <td>NaN</td>\n",
       "      <td>NaN</td>\n",
       "      <td>1399.42</td>\n",
       "      <td>NaN</td>\n",
       "      <td>NaN</td>\n",
       "      <td>1413.27</td>\n",
       "      <td>NaN</td>\n",
       "      <td>NaN</td>\n",
       "      <td>1377.68</td>\n",
       "      <td>NaN</td>\n",
       "      <td>NaN</td>\n",
       "    </tr>\n",
       "    <tr>\n",
       "      <th>2000-01-04</th>\n",
       "      <td>1399.42</td>\n",
       "      <td>NaN</td>\n",
       "      <td>NaN</td>\n",
       "      <td>1455.22</td>\n",
       "      <td>NaN</td>\n",
       "      <td>NaN</td>\n",
       "      <td>1455.22</td>\n",
       "      <td>NaN</td>\n",
       "      <td>NaN</td>\n",
       "      <td>1397.43</td>\n",
       "      <td>NaN</td>\n",
       "      <td>NaN</td>\n",
       "    </tr>\n",
       "    <tr>\n",
       "      <th>2000-01-03</th>\n",
       "      <td>1455.22</td>\n",
       "      <td>NaN</td>\n",
       "      <td>NaN</td>\n",
       "      <td>1469.25</td>\n",
       "      <td>NaN</td>\n",
       "      <td>NaN</td>\n",
       "      <td>1478.00</td>\n",
       "      <td>NaN</td>\n",
       "      <td>NaN</td>\n",
       "      <td>1438.36</td>\n",
       "      <td>NaN</td>\n",
       "      <td>NaN</td>\n",
       "    </tr>\n",
       "  </tbody>\n",
       "</table>\n",
       "</div>"
      ],
      "text/plain": [
       "            PX_LAST  Change  % Change  PX_OPEN  Change.1  % Change.1  PX_HIGH  \\\n",
       "Date                                                                            \n",
       "2000-01-07  1441.47     NaN       NaN  1403.45       NaN         NaN  1441.47   \n",
       "2000-01-06  1403.45     NaN       NaN  1402.11       NaN         NaN  1411.90   \n",
       "2000-01-05  1402.11     NaN       NaN  1399.42       NaN         NaN  1413.27   \n",
       "2000-01-04  1399.42     NaN       NaN  1455.22       NaN         NaN  1455.22   \n",
       "2000-01-03  1455.22     NaN       NaN  1469.25       NaN         NaN  1478.00   \n",
       "\n",
       "            Change.2  % Change.2   PX_LOW  Change.3  % Change.3  \n",
       "Date                                                             \n",
       "2000-01-07       NaN         NaN  1400.73       NaN         NaN  \n",
       "2000-01-06       NaN         NaN  1392.02       NaN         NaN  \n",
       "2000-01-05       NaN         NaN  1377.68       NaN         NaN  \n",
       "2000-01-04       NaN         NaN  1397.43       NaN         NaN  \n",
       "2000-01-03       NaN         NaN  1438.36       NaN         NaN  "
      ]
     },
     "execution_count": 57,
     "metadata": {},
     "output_type": "execute_result"
    }
   ],
   "source": [
    "df_spx_raw.tail()"
   ]
  },
  {
   "cell_type": "code",
   "execution_count": 54,
   "metadata": {},
   "outputs": [
    {
     "data": {
      "text/plain": [
       "4806"
      ]
     },
     "execution_count": 54,
     "metadata": {},
     "output_type": "execute_result"
    }
   ],
   "source": [
    "df_bcom_close = df_bcom_raw.PX_LAST\n",
    "len(df_bcom_raw)"
   ]
  },
  {
   "cell_type": "code",
   "execution_count": 53,
   "metadata": {},
   "outputs": [
    {
     "data": {
      "text/plain": [
       "Date\n",
       "2000-01-07    90.7495\n",
       "2000-01-06    91.0400\n",
       "2000-01-05    91.0023\n",
       "2000-01-04    91.4952\n",
       "2000-01-03    92.0451\n",
       "Name: PX_LAST, dtype: float64"
      ]
     },
     "execution_count": 53,
     "metadata": {},
     "output_type": "execute_result"
    }
   ],
   "source": [
    "df_bcom_close.tail()"
   ]
  },
  {
   "cell_type": "code",
   "execution_count": 42,
   "metadata": {},
   "outputs": [],
   "source": [
    "df_spx_close = df_spx_raw.PX_LAST"
   ]
  },
  {
   "cell_type": "code",
   "execution_count": 51,
   "metadata": {},
   "outputs": [
    {
     "data": {
      "text/plain": [
       "Date\n",
       "2000-01-07    1441.47\n",
       "2000-01-06    1403.45\n",
       "2000-01-05    1402.11\n",
       "2000-01-04    1399.42\n",
       "2000-01-03    1455.22\n",
       "Name: PX_LAST, dtype: float64"
      ]
     },
     "execution_count": 51,
     "metadata": {},
     "output_type": "execute_result"
    }
   ],
   "source": [
    "df_spx_close.tail()"
   ]
  },
  {
   "cell_type": "code",
   "execution_count": 99,
   "metadata": {},
   "outputs": [
    {
     "data": {
      "text/plain": [
       "4803"
      ]
     },
     "execution_count": 99,
     "metadata": {},
     "output_type": "execute_result"
    }
   ],
   "source": [
    "close_df = pd.DataFrame({'spx_close':df_spx_close, 'bcom_close':df_bcom_close})\n",
    "close_df.dropna(inplace=True)\n",
    "len(close_df)"
   ]
  },
  {
   "cell_type": "code",
   "execution_count": 100,
   "metadata": {},
   "outputs": [
    {
     "data": {
      "text/plain": [
       "Text(0, 0.5, 'spx_close')"
      ]
     },
     "execution_count": 100,
     "metadata": {},
     "output_type": "execute_result"
    },
    {
     "data": {
      "image/png": "[encoded data removed]",
      "text/plain": [
       "<Figure size 432x288 with 1 Axes>"
      ]
     },
     "metadata": {
      "needs_background": "light"
     },
     "output_type": "display_data"
    }
   ],
   "source": [
    "plot(close_df.bcom_close, close_df.spx_close, 'b.')\n",
    "plt.title('title')\n",
    "plt.xlabel(\"bcom_close\")\n",
    "plt.ylabel(\"spx_close\")"
   ]
  },
  {
   "cell_type": "code",
   "execution_count": 101,
   "metadata": {},
   "outputs": [],
   "source": [
    "x = close_df.bcom_close\n",
    "y = close_df.spx_close\n",
    "X = np.ones((x.size, 2))\n",
    "X[:,1] = x"
   ]
  },
  {
   "cell_type": "code",
   "execution_count": 103,
   "metadata": {},
   "outputs": [],
   "source": [
    "# X*beta = Y, we want to solve beta, but it do not have solution, therefore, we solve the close beta ,called beta_Hat\n",
    "# X.T * X * beta_Hat = X.T * Y\n",
    "# therefore beta_Hat = (X.T * X)^-1 * X.T * Y\n",
    "# plug beta_Hat in X * beta = Y at beta position, beta_Hat is a close beta\n",
    "# we get :\n",
    "# X * beta_Hat = Y_hat\n",
    "# X * [(X.T * X)^-1 * X.T * Y] = Y_hat\n",
    "\n",
    "beta_Hat = dot(dot(inv(dot(X.T, X)) , X.T), y)\n",
    "y_Hat = dot(X, beta_Hat)\n",
    "\n"
   ]
  },
  {
   "cell_type": "code",
   "execution_count": 107,
   "metadata": {},
   "outputs": [
    {
     "data": {
      "text/plain": [
       "Text(0, 0.5, 'spx_close')"
      ]
     },
     "execution_count": 107,
     "metadata": {},
     "output_type": "execute_result"
    },
    {
     "data": {
      "image/png": "[encoded data removed]",
      "text/plain": [
       "<Figure size 432x288 with 1 Axes>"
      ]
     },
     "metadata": {
      "needs_background": "light"
     },
     "output_type": "display_data"
    }
   ],
   "source": [
    "\n",
    "plot(x,y,'b.')\n",
    "plot(x,y_Hat,'r.')\n",
    "plt.title('title')\n",
    "plt.xlabel(\"bcom_close\")\n",
    "plt.ylabel(\"spx_close\")"
   ]
  },
  {
   "cell_type": "code",
   "execution_count": null,
   "metadata": {},
   "outputs": [],
   "source": []
  },
  {
   "cell_type": "code",
   "execution_count": 127,
   "metadata": {},
   "outputs": [],
   "source": [
    "\n",
    "def least_square(x,y,n):\n",
    "    X = np.ones((x.size, n))\n",
    "    for i in range(n):\n",
    "        X[:,i] = x**i\n",
    "    beta_Hat = dot(dot(inv(dot(X.T, X)) , X.T), y)\n",
    "    \n",
    "    y_Hat = dot(X, beta_Hat)\n",
    "    plot(x,y,'b.')\n",
    "    plot(x,y_Hat,'r.')\n",
    "    plt.title('title')\n",
    "    plt.xlabel(\"bcom_close\")\n",
    "    plt.ylabel(\"spx_close\")\n"
   ]
  },
  {
   "cell_type": "code",
   "execution_count": 128,
   "metadata": {},
   "outputs": [
    {
     "data": {
      "image/png": "[encoded data removed]",
      "text/plain": [
       "<Figure size 432x288 with 1 Axes>"
      ]
     },
     "metadata": {
      "needs_background": "light"
     },
     "output_type": "display_data"
    }
   ],
   "source": [
    "x = close_df.bcom_close\n",
    "y = close_df.spx_close\n",
    "least_square(x,y,4)"
   ]
  },
  {
   "cell_type": "code",
   "execution_count": 165,
   "metadata": {},
   "outputs": [],
   "source": [
    "def predict(x,y,n):\n",
    "    n= n+1\n",
    "    for n in range(1,n):\n",
    "        X = np.ones((x.size, n))\n",
    "        for i in range(n):\n",
    "            X[:,i] = x**i\n",
    "        beta_Hat = dot(dot(inv(dot(X.T, X)) , X.T), y)\n",
    "\n",
    "    #     y_Hat = dot(X, beta_Hat)\n",
    "        xx = np.linspace(50,250,20000)\n",
    "        XX = np.ones((xx.size, n))\n",
    "        for i in range(n):\n",
    "            XX[:,i] = xx**i\n",
    "        yy_Hat = XX.dot(beta_Hat)\n",
    "\n",
    "        plot(x,y,'b.')\n",
    "        plot(xx,yy_Hat)\n",
    "        plt.title('title')\n",
    "        plt.xlabel(\"bcom_close\")\n",
    "        plt.ylabel(\"spx_close\")\n"
   ]
  },
  {
   "cell_type": "code",
   "execution_count": 166,
   "metadata": {},
   "outputs": [
    {
     "data": {
      "image/png": "[encoded data removed]",
      "text/plain": [
       "<Figure size 432x288 with 1 Axes>"
      ]
     },
     "metadata": {
      "needs_background": "light"
     },
     "output_type": "display_data"
    }
   ],
   "source": [
    "predict(x,y,5)"
   ]
  },
  {
   "cell_type": "code",
   "execution_count": null,
   "metadata": {},
   "outputs": [],
   "source": []
  }
 ],
 "metadata": {
  "kernelspec": {
   "display_name": "Python 3",
   "language": "python",
   "name": "python3"
  },
  "language_info": {
   "codemirror_mode": {
    "name": "ipython",
    "version": 3
   },
   "file_extension": ".py",
   "mimetype": "text/x-python",
   "name": "python",
   "nbconvert_exporter": "python",
   "pygments_lexer": "ipython3",
   "version": "3.7.1"
  }
 },
 "nbformat": 4,
 "nbformat_minor": 2
}
