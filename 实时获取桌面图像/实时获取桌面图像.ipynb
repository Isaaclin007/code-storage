{
 "cells": [
  {
   "cell_type": "code",
   "execution_count": 5,
   "metadata": {},
   "outputs": [],
   "source": [
    "import numpy as np\n",
    "from PIL import ImageGrab\n",
    "import cv2\n",
    "import time\n",
    "from mss import mss"
   ]
  },
  {
   "cell_type": "markdown",
   "metadata": {},
   "source": [
    "# 方案一: 这个是视频里面的方案，但是速度很慢，可能是因为Mac电脑的缘故"
   ]
  },
  {
   "cell_type": "code",
   "execution_count": 18,
   "metadata": {},
   "outputs": [
    {
     "name": "stdout",
     "output_type": "stream",
     "text": [
      "Loop took 0.5141899585723877 seconds\n",
      "Loop took 0.42211079597473145 seconds\n",
      "Loop took 0.41687893867492676 seconds\n",
      "Loop took 0.5491509437561035 seconds\n",
      "Loop took 0.41843295097351074 seconds\n"
     ]
    }
   ],
   "source": [
    "last_time = time.time()\n",
    "while True:\n",
    "    \n",
    "    grab = ImageGrab.grab(bbox=(0,40,800,640))\n",
    "    screen = np.array(grab)\n",
    "#   这里把BGR转换成RGB色彩空间\n",
    "    screen = cv2.cvtColor(screen, cv2.COLOR_BGR2RGB )\n",
    "    cv2.imshow('screen',screen)\n",
    "    \n",
    "    if cv2.waitKey(25) & 0xFF == ord('q'):\n",
    "        cv2.destroyAllWindows()\n",
    "        break\n",
    "    \n",
    "    print('Loop took {} seconds'.format(time.time()-last_time))\n",
    "    last_time = time.time()"
   ]
  },
  {
   "cell_type": "markdown",
   "metadata": {},
   "source": [
    "# 方案二：使用mss包 （推荐）\n",
    "\n",
    "官方demo：https://python-mss.readthedocs.io/examples.html"
   ]
  },
  {
   "cell_type": "markdown",
   "metadata": {},
   "source": [
    "核心代码是下面这个："
   ]
  },
  {
   "cell_type": "code",
   "execution_count": null,
   "metadata": {},
   "outputs": [],
   "source": [
    "from mss import mss\n",
    "\n",
    "\n",
    "# The simplest use, save a screen shot of the 1st monitor\n",
    "with mss() as sct:\n",
    "    monitor = {\"top\": 160, \"left\": 160, \"width\": 160, \"height\": 135}\n",
    "    sct_img = sct.grab(monitor)"
   ]
  },
  {
   "cell_type": "markdown",
   "metadata": {},
   "source": [
    "正式代码："
   ]
  },
  {
   "cell_type": "code",
   "execution_count": 19,
   "metadata": {},
   "outputs": [
    {
     "name": "stdout",
     "output_type": "stream",
     "text": [
      "Loop took 0.25923728942871094 seconds\n",
      "Loop took 0.13903117179870605 seconds\n",
      "Loop took 0.12657618522644043 seconds\n",
      "Loop took 0.12671399116516113 seconds\n",
      "Loop took 0.12494277954101562 seconds\n",
      "Loop took 0.12396907806396484 seconds\n",
      "Loop took 0.12593793869018555 seconds\n",
      "Loop took 0.29087281227111816 seconds\n",
      "Loop took 0.12779879570007324 seconds\n",
      "Loop took 0.1242060661315918 seconds\n",
      "Loop took 0.12257504463195801 seconds\n"
     ]
    }
   ],
   "source": [
    "last_time = time.time()\n",
    "while True:\n",
    "    with mss() as sct:\n",
    "        monitor = {\"top\": 200, \"left\": 160, \"width\": 600, \"height\": 300}\n",
    "        sct_img = sct.grab(monitor)\n",
    "    \n",
    "    cv2.imshow('screen',np.array(sct_img))\n",
    "    \n",
    "    if cv2.waitKey(25) & 0xFF == ord('q'):\n",
    "        cv2.destroyAllWindows()\n",
    "        break\n",
    "    \n",
    "    print('Loop took {} seconds'.format(time.time()-last_time))\n",
    "    last_time = time.time()"
   ]
  },
  {
   "cell_type": "code",
   "execution_count": null,
   "metadata": {},
   "outputs": [],
   "source": []
  }
 ],
 "metadata": {
  "kernelspec": {
   "display_name": "Python 3",
   "language": "python",
   "name": "python3"
  },
  "language_info": {
   "codemirror_mode": {
    "name": "ipython",
    "version": 3
   },
   "file_extension": ".py",
   "mimetype": "text/x-python",
   "name": "python",
   "nbconvert_exporter": "python",
   "pygments_lexer": "ipython3",
   "version": "3.7.1"
  }
 },
 "nbformat": 4,
 "nbformat_minor": 2
}
