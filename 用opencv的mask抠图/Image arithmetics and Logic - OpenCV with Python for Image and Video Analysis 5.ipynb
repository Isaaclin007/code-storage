{
 "cells": [
  {
   "cell_type": "markdown",
   "metadata": {},
   "source": [
    "这一节课的内容网上有讲解：https://blog.csdn.net/weixin_35732969/article/details/83748054"
   ]
  },
  {
   "cell_type": "code",
   "execution_count": 1,
   "metadata": {},
   "outputs": [
    {
     "name": "stdout",
     "output_type": "stream",
     "text": [
      "Populating the interactive namespace from numpy and matplotlib\n"
     ]
    }
   ],
   "source": [
    "import cv2\n",
    "import numpy as np\n",
    "%pylab qt"
   ]
  },
  {
   "cell_type": "markdown",
   "metadata": {},
   "source": [
    "这一部分是把两个图片给叠加在一起"
   ]
  },
  {
   "cell_type": "code",
   "execution_count": 2,
   "metadata": {},
   "outputs": [],
   "source": [
    "img1 = cv2.imread('3D-Matplotlib.png')\n",
    "img2 = cv2.imread('mainsvmimage.png')\n",
    "\n",
    "# add = img1 + img2\n",
    "\n",
    "# add = cv2.add(img1,img2) #这会让每个像素点的值加在一起，但值最大不超过255，因此图片会变很白\n",
    "\n",
    "weighted = cv2.addWeighted(img1, 0.6, img2, 0.4, 0) \n",
    "#加权平均每个像素点的值， 这里的0.6和0.4 分别对应每幅图像素值的占比，而最后的0是伽马值\n",
    "\n",
    "cv2.imshow('weighted', weighted)\n",
    "cv2.waitKey(0)\n",
    "cv2.destroyAllWindows()"
   ]
  },
  {
   "cell_type": "markdown",
   "metadata": {},
   "source": [
    "第二部分"
   ]
  },
  {
   "cell_type": "code",
   "execution_count": null,
   "metadata": {},
   "outputs": [],
   "source": [
    "img1 = cv2.imread('3D-Matplotlib.png')\n",
    "img2 = cv2.imread('mainlogo.png')\n",
    "\n",
    "\n",
    "rows, cols, channels = img2.shape\n",
    "roi = img1[0:rows, 0:cols]\n",
    "\n",
    "# 这里转变了图片的颜色空间，原来一个像素用三个颜色的数值表示，现在一个数值就够了\n",
    "img2gray = cv2.cvtColor(img2, cv2.COLOR_BGR2GRAY)\n",
    "# 这里把所有超过220的数都变成了255，THRESH_BINARY_INV 中的INV表示inverse\n",
    "# 使用二值化函数cv2.threshold()将灰度图二值化：\n",
    "ret, mask = cv2.threshold(img2gray, 220, 255, cv2.THRESH_BINARY_INV)\n",
    "\n",
    "# 使用“非”操作函数cv2.bitwise_not()将上图颠倒黑白：\n",
    "mask_inv = cv2.bitwise_not(mask)\n",
    "# 使用“与”操作函数cv2.bitwise_and()对图像掩膜（遮挡）：\n",
    "# 就是 2个数据都要先和mask按位和 然后再按位和\n",
    "# 通过位的与运算，达到“掩盖”的目的\n",
    "img1_bg = cv2.bitwise_and(roi, roi, mask=mask_inv)\n",
    "img2_fg = cv2.bitwise_and(img2, img2, mask=mask)\n",
    "\n",
    "dst = cv2.add(img1_bg, img2_fg)\n",
    "img1[0:rows, 0:cols] = dst\n",
    "\n",
    "cv2.startWindowThread() \n",
    "cv2.imshow('img1_bg',img1_bg)\n",
    "cv2.imshow('img2_fg',img2_fg)\n",
    "cv2.imshow('mask',mask)\n",
    "cv2.imshow('dst',dst)\n",
    "cv2.imshow('img1',img1)\n",
    "cv2.waitKey(0)\n",
    "cv2.destroyAllWindows()"
   ]
  },
  {
   "cell_type": "markdown",
   "metadata": {},
   "source": [
    "对掩模的理解：\n",
    "\n",
    "掩模是由0和1组成的一个二进制图像。当在某一功能中应用掩模时，1值区域被处理，被屏蔽的0值区域不被包括在计算中\n",
    "。通过指定的数据值、数据范围、有限或无限值、感兴趣区和注释文件来定义图像掩模，也可以应用上述选项的\n",
    "任意组合作为输入来建立掩模。"
   ]
  },
  {
   "cell_type": "code",
   "execution_count": null,
   "metadata": {},
   "outputs": [],
   "source": []
  }
 ],
 "metadata": {
  "kernelspec": {
   "display_name": "Python 3",
   "language": "python",
   "name": "python3"
  },
  "language_info": {
   "codemirror_mode": {
    "name": "ipython",
    "version": 3
   },
   "file_extension": ".py",
   "mimetype": "text/x-python",
   "name": "python",
   "nbconvert_exporter": "python",
   "pygments_lexer": "ipython3",
   "version": "3.7.1"
  }
 },
 "nbformat": 4,
 "nbformat_minor": 2
}
