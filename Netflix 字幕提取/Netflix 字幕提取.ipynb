{
 "cells": [
  {
   "cell_type": "code",
   "execution_count": 6,
   "metadata": {},
   "outputs": [],
   "source": [
    "from selenium import webdriver\n",
    "from selenium.webdriver.chrome.options import Options\n",
    "import time"
   ]
  },
  {
   "cell_type": "code",
   "execution_count": 7,
   "metadata": {},
   "outputs": [],
   "source": [
    "chrome_options = Options()\n",
    "chrome_options.add_argument('--headless') #define headless\n",
    "driver = webdriver.Chrome()"
   ]
  },
  {
   "cell_type": "code",
   "execution_count": 8,
   "metadata": {},
   "outputs": [],
   "source": [
    "# 打开Netflix，然后登入到主页面\n",
    "\n",
    "driver.get('https://www.netflix.com/')\n",
    "\n",
    "driver.find_element_by_link_text('Sign In').click()\n",
    "driver.find_element_by_id('id_userLoginId').send_keys('2604352280@qq.com')\n",
    "driver.find_element_by_id('id_password').click()\n",
    "# driver.find_element_by_class_name('login-button').click() #点击特定class名字的链接(点击登入按钮)\n",
    "# driver.find_element_by_link_text('fan').click() #点击特定text的超级链接(点击用户‘fan’)"
   ]
  },
  {
   "cell_type": "markdown",
   "metadata": {},
   "source": [
    "### 这里导入用有道翻译函数translate()"
   ]
  },
  {
   "cell_type": "code",
   "execution_count": 9,
   "metadata": {},
   "outputs": [],
   "source": [
    "driver_two = webdriver.Chrome()\n",
    "driver_two.get('http://fanyi.youdao.com/?keyfrom=dict2.top')\n",
    "\n",
    "def translate(words):\n",
    "    if words:\n",
    "        driver_two.find_element_by_id('inputOriginal').clear()\n",
    "        driver_two.find_element_by_id('inputOriginal').send_keys(words)\n",
    "        time.sleep(1)\n",
    "        return driver_two.find_element_by_id('transTarget').text"
   ]
  },
  {
   "cell_type": "markdown",
   "metadata": {},
   "source": [
    "### 这里需要人为操作，打开你要看的视频，然后再运行下面的代码"
   ]
  },
  {
   "cell_type": "code",
   "execution_count": null,
   "metadata": {},
   "outputs": [
    {
     "name": "stdout",
     "output_type": "stream",
     "text": [
      "-Who are you?\n",
      "-I am a princess.\n",
      "——是吗?\n",
      "-我是公主。\n",
      "\n",
      "None\n",
      "UM, NOT SO GOOD.\n",
      "嗯，不太好。\n",
      "OKAY, I'VE GOT THREE OF MY FIVE.\n",
      "好吧，我有五个中的三个。\n",
      "THREE OF YOUR FIVE WHAT?\n",
      "五个中的三个什么?\n",
      "CELEBRITIES I'M ALLOWED TO SLEEP WITH.\n",
      "我可以和名人上床。\n",
      "MY GOD, YOU ARE GIVING THIS A LOT OF THOUGHT.\n",
      "天哪，你想了这么多。\n",
      "HEY, IT'S HARD, OKAY?\n",
      "嘿，这很难，好吗?\n",
      "I ONLY HAVE TWO SPOTS LEFT.\n",
      "我只剩下两个位置了。\n",
      "\n",
      "None\n"
     ]
    }
   ],
   "source": [
    "# 利用class_name进行提取字幕元素\n",
    "\n",
    "sub = ''\n",
    "while True:\n",
    "    time.sleep(0.5)\n",
    "    sub_lis = driver.find_elements_by_class_name('player-timedtext-text-container')\n",
    "#     如果sub和上一次检测的一样，就continue\n",
    "    try:\n",
    "        if sub == ' '.join([i.text for i in sub_lis]):\n",
    "            continue\n",
    "        sub = ' '.join([i.text for i in sub_lis])\n",
    "    except:\n",
    "        continue\n",
    "    print(sub)\n",
    "    print(translate(sub))\n"
   ]
  },
  {
   "cell_type": "code",
   "execution_count": null,
   "metadata": {},
   "outputs": [],
   "source": []
  }
 ],
 "metadata": {
  "kernelspec": {
   "display_name": "Python 3",
   "language": "python",
   "name": "python3"
  },
  "language_info": {
   "codemirror_mode": {
    "name": "ipython",
    "version": 3
   },
   "file_extension": ".py",
   "mimetype": "text/x-python",
   "name": "python",
   "nbconvert_exporter": "python",
   "pygments_lexer": "ipython3",
   "version": "3.7.1"
  }
 },
 "nbformat": 4,
 "nbformat_minor": 2
}
