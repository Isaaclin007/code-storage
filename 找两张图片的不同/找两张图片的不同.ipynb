{
 "cells": [
  {
   "cell_type": "code",
   "execution_count": 1,
   "metadata": {},
   "outputs": [],
   "source": [
    "# # 这里转变了图片的颜色空间，原来一个像素用三个颜色的数值表示，现在一个数值就够了\n",
    "# img2gray = cv2.cvtColor(img2, cv2.COLOR_BGR2GRAY)\n",
    "# # 这里把所有超过220的数都变成了255，THRESH_BINARY_INV 中的INV表示inverse\n",
    "# # 使用二值化函数cv2.threshold()将灰度图二值化：\n",
    "# ret, mask = cv2.threshold(img2gray, 220, 255, cv2.THRESH_BINARY_INV)\n",
    "\n",
    "# # 使用“非”操作函数cv2.bitwise_not()将上图颠倒黑白：\n",
    "# mask_inv = cv2.bitwise_not(mask)\n",
    "# # 使用“与”操作函数cv2.bitwise_and()对图像掩膜（遮挡）：\n",
    "# # 就是 2个数据都要先和mask按位和 然后再按位和\n",
    "# # 通过位的与运算，达到“掩盖”的目的\n",
    "# img1_bg = cv2.bitwise_and(roi, roi, mask=mask_inv)\n",
    "# img2_fg = cv2.bitwise_and(img2, img2, mask=mask)"
   ]
  },
  {
   "cell_type": "markdown",
   "metadata": {},
   "source": [
    "找出两张图片的不同"
   ]
  },
  {
   "cell_type": "code",
   "execution_count": 2,
   "metadata": {},
   "outputs": [
    {
     "name": "stdout",
     "output_type": "stream",
     "text": [
      "Populating the interactive namespace from numpy and matplotlib\n"
     ]
    }
   ],
   "source": [
    "import cv2\n",
    "%pylab inline"
   ]
  },
  {
   "cell_type": "code",
   "execution_count": 3,
   "metadata": {},
   "outputs": [],
   "source": [
    "img0 = cv2.imread('0.png')\n",
    "img1 = cv2.imread('1.png')"
   ]
  },
  {
   "cell_type": "code",
   "execution_count": 4,
   "metadata": {},
   "outputs": [],
   "source": [
    "new_img = img0 - img1"
   ]
  },
  {
   "cell_type": "code",
   "execution_count": 5,
   "metadata": {},
   "outputs": [],
   "source": [
    "img2gray = cv2.cvtColor(new_img, cv2.COLOR_BGR2GRAY)"
   ]
  },
  {
   "cell_type": "code",
   "execution_count": 6,
   "metadata": {},
   "outputs": [],
   "source": [
    "ret, mask = cv2.threshold(img2gray, 0, 255, cv2.THRESH_BINARY)"
   ]
  },
  {
   "cell_type": "code",
   "execution_count": 7,
   "metadata": {},
   "outputs": [],
   "source": [
    "img1_bg = cv2.bitwise_and(img1, img1, mask=mask)"
   ]
  },
  {
   "cell_type": "code",
   "execution_count": 8,
   "metadata": {},
   "outputs": [],
   "source": [
    "cv2.namedWindow('imshow',0)\n",
    "cv2.imshow('imshow', img1_bg)\n",
    "cv2.waitKey(0)\n",
    "cv2.destroyAllWindows()"
   ]
  }
 ],
 "metadata": {
  "kernelspec": {
   "display_name": "Python 3",
   "language": "python",
   "name": "python3"
  },
  "language_info": {
   "codemirror_mode": {
    "name": "ipython",
    "version": 3
   },
   "file_extension": ".py",
   "mimetype": "text/x-python",
   "name": "python",
   "nbconvert_exporter": "python",
   "pygments_lexer": "ipython3",
   "version": "3.7.1"
  }
 },
 "nbformat": 4,
 "nbformat_minor": 2
}
