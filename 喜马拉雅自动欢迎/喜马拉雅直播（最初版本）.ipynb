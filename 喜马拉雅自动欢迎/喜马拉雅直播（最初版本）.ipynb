{
 "cells": [
  {
   "cell_type": "code",
   "execution_count": 106,
   "metadata": {},
   "outputs": [],
   "source": [
    "name_list = []\n",
    "member_list =['静默听寒',\n",
    " 'Crush_阿柒',\n",
    " '梵音閣_大長老_鼎奇',\n",
    " '旧街__',\n",
    " '嘿丶我是某人',\n",
    " '江北_余音',\n",
    " '眼中只有你_',\n",
    " 'SR__匆匆',\n",
    " '凡鲁',\n",
    " '桃心Ki_F哥丶',\n",
    " '_清凉_',\n",
    " '星空沐风',\n",
    " '吉尔伽美什__',\n",
    " '神曜_问余生',\n",
    " '唐宇林小花',\n",
    " '爵士极冰寒',\n",
    " '闪光亚丝娜_',\n",
    " '匆匆浮云承',\n",
    " 'Yr_易燃',\n",
    " '超爱笑哥',\n",
    " '_我親爱哒Mua',\n",
    " '您的理想型',\n",
    " '126abc',\n",
    " '伊心一意丨斯柠凌',\n",
    " 'My_Lucky',\n",
    " '观音泡如来_']"
   ]
  },
  {
   "cell_type": "code",
   "execution_count": 47,
   "metadata": {},
   "outputs": [],
   "source": [
    "import wda\n",
    "import time\n",
    "wda.DEBUG = False # default False\n",
    "wda.HTTP_TIMEOUT = 60.0 # default 60.0 seconds\n",
    "# Enable debug will see http Request and Response\n",
    "# wda.DEBUG = True\n",
    "c = wda.Client('http://10.0.0.64:8100')\n",
    "\n",
    "# get env from $DEVICE_URL if no arguments pass to wda.Client\n",
    "# http://localhost:8100 is the default value if $DEVICE_URL is empty\n"
   ]
  },
  {
   "cell_type": "code",
   "execution_count": 48,
   "metadata": {
    "scrolled": true
   },
   "outputs": [],
   "source": [
    "# s = c.session('com.gemd.iting')\n",
    "s = c.session('com.apple.mobilephone')"
   ]
  },
  {
   "cell_type": "code",
   "execution_count": 49,
   "metadata": {},
   "outputs": [
    {
     "data": {
      "text/plain": [
       "4"
      ]
     },
     "execution_count": 49,
     "metadata": {},
     "output_type": "execute_result"
    }
   ],
   "source": [
    "int(s(nameContains='在线:').get(timeout=10.0).text.split()[0][3:])"
   ]
  },
  {
   "cell_type": "code",
   "execution_count": 58,
   "metadata": {},
   "outputs": [
    {
     "name": "stdout",
     "output_type": "stream",
     "text": [
      "一个堕落的人\n",
      "['四叶草_r', 'King_九三吖', '迷人家_余辰', '祖传维修航母', '一个堕落的人']\n"
     ]
    },
    {
     "ename": "KeyboardInterrupt",
     "evalue": "",
     "output_type": "error",
     "traceback": [
      "\u001b[0;31m---------------------------------------------------------------------------\u001b[0m",
      "\u001b[0;31mKeyboardInterrupt\u001b[0m                         Traceback (most recent call last)",
      "\u001b[0;32m<ipython-input-58-51c509452ff9>\u001b[0m in \u001b[0;36m<module>\u001b[0;34m()\u001b[0m\n\u001b[1;32m      5\u001b[0m \u001b[0mreset_time\u001b[0m \u001b[0;34m=\u001b[0m \u001b[0;36m0\u001b[0m\u001b[0;34m\u001b[0m\u001b[0m\n\u001b[1;32m      6\u001b[0m \u001b[0;32mwhile\u001b[0m \u001b[0;32mTrue\u001b[0m\u001b[0;34m:\u001b[0m\u001b[0;34m\u001b[0m\u001b[0m\n\u001b[0;32m----> 7\u001b[0;31m     \u001b[0mtime\u001b[0m\u001b[0;34m.\u001b[0m\u001b[0msleep\u001b[0m\u001b[0;34m(\u001b[0m\u001b[0;36m1\u001b[0m\u001b[0;34m)\u001b[0m\u001b[0;34m\u001b[0m\u001b[0m\n\u001b[0m\u001b[1;32m      8\u001b[0m     \u001b[0mreset_time\u001b[0m \u001b[0;34m+=\u001b[0m \u001b[0;36m1\u001b[0m\u001b[0;34m\u001b[0m\u001b[0m\n\u001b[1;32m      9\u001b[0m     \u001b[0;32mif\u001b[0m \u001b[0mreset_time\u001b[0m \u001b[0;34m>\u001b[0m\u001b[0;36m30\u001b[0m\u001b[0;34m:\u001b[0m\u001b[0;34m\u001b[0m\u001b[0m\n",
      "\u001b[0;31mKeyboardInterrupt\u001b[0m: "
     ]
    }
   ],
   "source": [
    "t = s(className='Button', name='说点什么...', visible=True, labelContains=\"说点什么...\")\n",
    "# t.set_text(\"欢迎进入直播间\")\n",
    "\n",
    "\n",
    "reset_time = 0\n",
    "while True:\n",
    "    time.sleep(1)\n",
    "    reset_time += 1\n",
    "    if reset_time >30:\n",
    "        s.tap(695/2,100/2)\n",
    "        s.tap(520/2, 800/2)\n",
    "        s.tap(370/2, 1290/2)\n",
    "        reset_time = 0\n",
    "        \n",
    "    \n",
    "    name_str = s(nameContains=' 进入直播间')\n",
    "    while name_str.exists:\n",
    "        try:\n",
    "            print(name_str.text.split()[0])\n",
    "            if name_str.text.split()[0] in member_list:\n",
    "                t.set_text(\"欢迎我们家的%s回来\"%name_str.text.split()[0])\n",
    "            elif name_str.text.split()[0] not in name_list:\n",
    "                name_list.append(name_str.text.split()[0])\n",
    "                t.set_text(\"欢迎%s进入直播间~~喜欢主播北卿的话，就加个关注吧～\"%name_str.text.split()[0])\n",
    "                print(name_list[-5:])\n",
    "            else:\n",
    "                t.set_text(\"欢迎回来，%s\"%name_str.text.split()[0])\n",
    "            s.tap(660/2, 1290/2)\n",
    "            time.sleep(0.5)\n",
    "            s.tap(400/2, 680/2)\n",
    "            reset_time = 30\n",
    "        except:\n",
    "            pass\n"
   ]
  }
 ],
 "metadata": {
  "kernelspec": {
   "display_name": "Python 3",
   "language": "python",
   "name": "python3"
  },
  "language_info": {
   "codemirror_mode": {
    "name": "ipython",
    "version": 3
   },
   "file_extension": ".py",
   "mimetype": "text/x-python",
   "name": "python",
   "nbconvert_exporter": "python",
   "pygments_lexer": "ipython3",
   "version": "3.7.1"
  }
 },
 "nbformat": 4,
 "nbformat_minor": 2
}
