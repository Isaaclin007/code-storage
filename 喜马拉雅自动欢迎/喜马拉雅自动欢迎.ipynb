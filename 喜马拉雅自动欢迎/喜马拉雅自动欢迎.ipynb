{
 "cells": [
  {
   "cell_type": "markdown",
   "metadata": {},
   "source": [
    "官方文档：https://github.com/openatx/facebook-wda"
   ]
  },
  {
   "cell_type": "markdown",
   "metadata": {},
   "source": [
    "小技巧：\n",
    "利用 element.bounds 可以返回元素位置"
   ]
  },
  {
   "cell_type": "code",
   "execution_count": 3,
   "metadata": {},
   "outputs": [],
   "source": [
    "import wda\n",
    "import time\n",
    "import json\n",
    "import threading\n",
    "wda.DEBUG = False # default False\n",
    "wda.HTTP_TIMEOUT = 60.0 # default 60.0 seconds"
   ]
  },
  {
   "cell_type": "markdown",
   "metadata": {},
   "source": [
    "用这个网站找bundle id:https://offcornerdev.com/bundleid.html"
   ]
  },
  {
   "cell_type": "code",
   "execution_count": 4,
   "metadata": {},
   "outputs": [
    {
     "name": "stdout",
     "output_type": "stream",
     "text": [
      "{'state': 'success', 'os': {'name': 'iOS', 'version': '12.1.4'}, 'ios': {'simulatorVersion': '12.1.4', 'ip': '10.0.0.96'}, 'build': {'time': 'Mar 17 2019 19:58:04'}, 'sessionId': '62E87789-028A-4113-BC43-A5C37D98E34C'}\n"
     ]
    },
    {
     "data": {
      "text/plain": [
       "GenericDict(value={}, sessionId='B0194E4B-5D2C-4585-AD80-C85EBA020A5C', status=0)"
      ]
     },
     "execution_count": 4,
     "metadata": {},
     "output_type": "execute_result"
    }
   ],
   "source": [
    "# get env from $DEVICE_URL if no arguments pass to wda.Client\n",
    "# http://localhost:8100 is the default value if $DEVICE_URL is empty\n",
    "c = wda.Client('http://10.0.0.96:8100')\n",
    "# 测试连接是否成功\n",
    "print(c.status())\n",
    "\n",
    "# s = c.session('com.gemd.iting')\n",
    "s = c.session('com.apple.Preferences')\n",
    "s.tap(0, 0)"
   ]
  },
  {
   "cell_type": "code",
   "execution_count": 90,
   "metadata": {},
   "outputs": [
    {
     "data": {
      "text/plain": [
       "'<?xml version=\"1.0\" encoding=\"UTF-8\"?>\\n<XCUIElementTypeApplication type=\"XCUIElementTypeApplication\" name=\"喜马拉雅\" label=\"喜马拉雅\" enabled=\"true\" visible=\"true\" x=\"0\" y=\"0\" width=\"1024\" height=\"1366\">\\n  <XCUIElementTypeOther type=\"XCUIElementTypeOther\" enabled=\"true\" visible=\"false\" x=\"0\" y=\"0\" width=\"1024\" height=\"1366\"/>\\n  <XCUIElementTypeWindow type=\"XCUIElementTypeWindow\" enabled=\"true\" visible=\"true\" x=\"0\" y=\"0\" width=\"1024\" height=\"1366\">\\n    <XCUIElementTypeOther type=\"XCUIElementTypeOther\" enabled=\"true\" visible=\"true\" x=\"0\" y=\"0\" width=\"1024\" height=\"1366\">\\n      <XCUIElementTypeOther type=\"XCUIElementTypeOther\" enabled=\"true\" visible=\"true\" x=\"0\" y=\"0\" width=\"1024\" height=\"1366\">\\n        <XCUIElementTypeImage type=\"XCUIElementTypeImage\" name=\"leftside_shadow_bg\" enabled=\"true\" visible=\"false\" x=\"-14\" y=\"0\" width=\"14\" height=\"1366\"/>\\n        <XCUIElementTypeOther type=\"XCUIElementTypeOther\" enabled=\"true\" visible=\"true\" x=\"0\" y=\"0\" width=\"1024\" height=\"1366\">\\n          <XCUIElementTypeOther type=\"XCUIElementTypeOther\" enabled=\"true\" visible=\"true\" x=\"0\" y=\"0\" width=\"1024\" height=\"1366\">\\n            <XCUIElementTypeOther type=\"XCUIElementTypeOther\" enabled=\"true\" visible=\"true\" x=\"0\" y=\"0\" width=\"1024\" height=\"1366\">\\n              <XCUIElementTypeImage type=\"XCUIElementTypeImage\" enabled=\"true\" visible=\"false\" x=\"0\" y=\"0\" width=\"1024\" height=\"1366\"/>\\n              <XCUIElementTypeOther type=\"XCUIElementTypeOther\" enabled=\"true\" visible=\"true\" x=\"0\" y=\"0\" width=\"1024\" height=\"1366\">\\n                <XCUIElementTypeScrollView type=\"XCUIElementTypeScrollView\" enabled=\"true\" visible=\"true\" x=\"0\" y=\"0\" width=\"1024\" height=\"1366\">\\n                  <XCUIElementTypeOther type=\"XCUIElementTypeOther\" enabled=\"true\" visible=\"true\" x=\"0\" y=\"0\" width=\"1024\" height=\"1366\">\\n                    <XCUIElementTypeOther type=\"XCUIElementTypeOther\" enabled=\"true\" visible=\"true\" x=\"0\" y=\"0\" width=\"1024\" height=\"1366\">\\n                      <XCUIElementTypeOther type=\"XCUIElementTypeOther\" enabled=\"true\" visible=\"false\" x=\"0\" y=\"0\" width=\"1024\" height=\"198\">\\n                        <XCUIElementTypeOther type=\"XCUIElementTypeOther\" enabled=\"true\" visible=\"false\" x=\"0\" y=\"27\" width=\"1024\" height=\"171\">\\n                          <XCUIElementTypeOther type=\"XCUIElementTypeOther\" enabled=\"true\" visible=\"false\" x=\"13\" y=\"33\" width=\"291\" height=\"65\">\\n                            <XCUIElementTypeImage type=\"XCUIElementTypeImage\" enabled=\"true\" visible=\"false\" x=\"13\" y=\"33\" width=\"217\" height=\"65\"/>\\n                            <XCUIElementTypeButton type=\"XCUIElementTypeButton\" name=\"主播头像\" label=\"主播头像\" enabled=\"true\" visible=\"false\" x=\"13\" y=\"33\" width=\"65\" height=\"65\"/>\\n                            <XCUIElementTypeStaticText type=\"XCUIElementTypeStaticText\" value=\"主播名Star_黄泥\" name=\"主播名Star_黄泥\" label=\"主播名Star_黄泥\" enabled=\"true\" visible=\"false\" x=\"84\" y=\"35\" width=\"147\" height=\"23\"/>\\n                            <XCUIElementTypeStaticText type=\"XCUIElementTypeStaticText\" value=\"FM 1738781\" name=\"FM 1738781\" label=\"FM 1738781\" enabled=\"true\" visible=\"false\" x=\"84\" y=\"57\" width=\"82\" height=\"22\"/>\\n                            <XCUIElementTypeOther type=\"XCUIElementTypeOther\" enabled=\"true\" visible=\"false\" x=\"84\" y=\"78\" width=\"147\" height=\"18\">\\n                              <XCUIElementTypeOther type=\"XCUIElementTypeOther\" enabled=\"true\" visible=\"false\" x=\"84\" y=\"83\" width=\"7\" height=\"8\"/>\\n                              <XCUIElementTypeStaticText type=\"XCUIElementTypeStaticText\" value=\"待直播\" name=\"待直播\" label=\"待直播\" enabled=\"true\" visible=\"false\" x=\"93\" y=\"77\" width=\"41\" height=\"20\"/>\\n                            </XCUIElementTypeOther>\\n                          </XCUIElementTypeOther>\\n                          <XCUIElementTypeButton type=\"XCUIElementTypeButton\" name=\"live audience btn close\" label=\"live audience btn close\" enabled=\"true\" visible=\"false\" x=\"964\" y=\"42\" width=\"47\" height=\"48\"/>\\n                          <XCUIElementTypeOther type=\"XCUIElementTypeOther\" enabled=\"true\" visible=\"false\" x=\"13\" y=\"111\" width=\"198\" height=\"33\">\\n                            <XCUIElementTypeImage type=\"XCUIElementTypeImage\" name=\"live_img_ranking_background\" enabled=\"true\" visible=\"false\" x=\"13\" y=\"111\" width=\"107\" height=\"33\"/>\\n                            <XCUIElementTypeStaticText type=\"XCUIElementTypeStaticText\" value=\" 9,506,782\" name=\" 9,506,782\" label=\" 9,506,782\" enabled=\"true\" visible=\"false\" x=\"26\" y=\"111\" width=\"172\" height=\"33\"/>\\n                          </XCUIElementTypeOther>\\n                          <XCUIElementTypeImage type=\"XCUIElementTypeImage\" enabled=\"true\" visible=\"false\" x=\"148\" y=\"107\" width=\"38\" height=\"38\"/>\\n                          <XCUIElementTypeOther type=\"XCUIElementTypeOther\" enabled=\"true\" visible=\"false\" x=\"824\" y=\"107\" width=\"180\" height=\"41\">\\n                            <XCUIElementTypeButton type=\"XCUIElementTypeButton\" name=\"粉丝榜\" label=\"粉丝榜\" enabled=\"true\" visible=\"false\" x=\"824\" y=\"107\" width=\"180\" height=\"41\"/>\\n                            <XCUIElementTypeImage type=\"XCUIElementTypeImage\" name=\"live_img_crown\" enabled=\"true\" visible=\"false\" x=\"861\" y=\"104\" width=\"25\" height=\"22\"/>\\n                            <XCUIElementTypeImage type=\"XCUIElementTypeImage\" enabled=\"true\" visible=\"false\" x=\"866\" y=\"112\" width=\"30\" height=\"30\"/>\\n                            <XCUIElementTypeImage type=\"XCUIElementTypeImage\" enabled=\"true\" visible=\"false\" x=\"902\" y=\"112\" width=\"30\" height=\"30\"/>\\n                            <XCUIElementTypeImage type=\"XCUIElementTypeImage\" enabled=\"true\" visible=\"false\" x=\"938\" y=\"112\" width=\"30\" height=\"30\"/>\\n                            <XCUIElementTypeImage type=\"XCUIElementTypeImage\" name=\"live_top_btn_more\" enabled=\"true\" visible=\"false\" x=\"974\" y=\"112\" width=\"30\" height=\"30\"/>\\n                          </XCUIElementTypeOther>\\n                          <XCUIElementTypeButton type=\"XCUIElementTypeButton\" name=\" 黄泥家 399人\" label=\" 黄泥家 399人\" enabled=\"true\" visible=\"false\" x=\"13\" y=\"151\" width=\"145\" height=\"30\"/>\\n                          <XCUIElementTypeButton type=\"XCUIElementTypeButton\" name=\"1贵族\" label=\"1贵族\" enabled=\"true\" visible=\"false\" x=\"866\" y=\"153\" width=\"78\" height=\"31\"/>\\n                          <XCUIElementTypeButton type=\"XCUIElementTypeButton\" name=\"话题\" label=\"话题\" enabled=\"true\" visible=\"false\" x=\"950\" y=\"153\" width=\"54\" height=\"31\"/>\\n                        </XCUIElementTypeOther>\\n                      </XCUIElementTypeOther>\\n                      <XCUIElementTypeImage type=\"XCUIElementTypeImage\" enabled=\"true\" visible=\"false\" x=\"0\" y=\"0\" width=\"1024\" height=\"1366\"/>\\n                      <XCUIElementTypeOther type=\"XCUIElementTypeOther\" enabled=\"true\" visible=\"false\" x=\"0\" y=\"197\" width=\"1024\" height=\"1093\">\\n                        <XCUIElementTypeOther type=\"XCUIElementTypeOther\" enabled=\"true\" visible=\"false\" x=\"0\" y=\"204\" width=\"1024\" height=\"1086\">\\n                          <XCUIElementTypeTable type=\"XCUIElementTypeTable\" enabled=\"true\" visible=\"false\" x=\"0\" y=\"204\" width=\"1024\" height=\"1086\">\\n                            <XCUIElementTypeCell type=\"XCUIElementTypeCell\" enabled=\"true\" visible=\"false\" x=\"0\" y=\"-80\" width=\"1024\" height=\"112\">\\n                              <XCUIElementTypeOther type=\"XCUIElementTypeOther\" name=\"系统通知：欢迎来到Star_黄泥的直播间！喜欢就关注主播第一时间获得开播提醒哦！为创造和谐的聊天环境，请不要发布违法、低俗、广告等违规内容，违反会被禁言哦！\" label=\"系统通知：欢迎来到Star_黄泥的直播间！喜欢就关注主播第一时间获得开播提醒哦！为创造和谐的聊天环境，请不要发布违法、低俗、广告等违规内容，违反会被禁言哦！\" enabled=\"true\" visible=\"false\" x=\"0\" y=\"-80\" width=\"944\" height=\"56\"/>\\n                            </XCUIElementTypeCell>\\n                            <XCUIElementTypeCell type=\"XCUIElementTypeCell\" enabled=\"true\" visible=\"false\" x=\"0\" y=\"31\" width=\"1024\" height=\"125\">\\n                              <XCUIElementTypeButton type=\"XCUIElementTypeButton\" enabled=\"true\" visible=\"false\" x=\"0\" y=\"-80\" width=\"47\" height=\"48\"/>\\n                              <XCUIElementTypeOther type=\"XCUIElementTypeOther\" name=\"Star泥_心态不变\" label=\"Star泥_心态不变\" enabled=\"true\" visible=\"false\" x=\"0\" y=\"-80\" width=\"110\" height=\"22\"/>\\n                              <XCUIElementTypeOther type=\"XCUIElementTypeOther\" name=\"  \" label=\"  \" enabled=\"true\" visible=\"false\" x=\"0\" y=\"-80\" width=\"104\" height=\"22\"/>\\n                              <XCUIElementTypeOther type=\"XCUIElementTypeOther\" enabled=\"true\" visible=\"false\" x=\"0\" y=\"-80\" width=\"50\" height=\"24\"/>\\n                            </XCUIElementTypeCell>\\n                            <XCUIElementTypeCell type=\"XCUIElementTypeCell\" enabled=\"true\" visible=\"false\" x=\"0\" y=\"155\" width=\"1024\" height=\"124\">\\n                              <XCUIElementTypeImage type=\"XCUIElementTypeImage\" enabled=\"true\" visible=\"false\" x=\"0\" y=\"155\" width=\"74\" height=\"74\"/>\\n                              <XCUIElementTypeOther type=\"XCUIElementTypeOther\" enabled=\"true\" visible=\"false\" x=\"88\" y=\"236\" width=\"26\" height=\"23\"/>\\n                              <XCUIElementTypeButton type=\"XCUIElementTypeButton\" enabled=\"true\" visible=\"false\" x=\"13\" y=\"168\" width=\"47\" height=\"48\"/>\\n                              <XCUIElementTypeOther type=\"XCUIElementTypeOther\" name=\"Star泥_甜甜妮\" label=\"Star泥_甜甜妮\" enabled=\"true\" visible=\"false\" x=\"73\" y=\"168\" width=\"95\" height=\"22\"/>\\n                              <XCUIElementTypeOther type=\"XCUIElementTypeOther\" name=\" 管     \" label=\" 管     \" enabled=\"true\" visible=\"false\" x=\"73\" y=\"189\" width=\"151\" height=\"23\"/>\\n                            </XCUIElementTypeCell>\\n                            <XCUIElementTypeCell type=\"XCUIElementTypeCell\" enabled=\"true\" visible=\"false\" x=\"0\" y=\"279\" width=\"1024\" height=\"124\">\\n                              <XCUIElementTypeImage type=\"XCUIElementTypeImage\" enabled=\"true\" visible=\"false\" x=\"0\" y=\"279\" width=\"74\" height=\"74\"/>\\n                              <XCUIElementTypeOther type=\"XCUIElementTypeOther\" name=\"晚上八点不见不散\" label=\"晚上八点不见不散\" enabled=\"true\" visible=\"false\" x=\"88\" y=\"360\" width=\"212\" height=\"23\"/>\\n                              <XCUIElementTypeButton type=\"XCUIElementTypeButton\" enabled=\"true\" visible=\"false\" x=\"13\" y=\"292\" width=\"47\" height=\"47\"/>\\n                              <XCUIElementTypeOther type=\"XCUIElementTypeOther\" name=\"Star泥__Lydia\" label=\"Star泥__Lydia\" enabled=\"true\" visible=\"false\" x=\"73\" y=\"292\" width=\"95\" height=\"22\"/>\\n                              <XCUIElementTypeOther type=\"XCUIElementTypeOther\" name=\" 管     \" label=\" 管     \" enabled=\"true\" visible=\"false\" x=\"73\" y=\"313\" width=\"151\" height=\"22\"/>\\n                            </XCUIElementTypeCell>\\n                            <XCUIElementTypeCell type=\"XCUIElementTypeCell\" enabled=\"true\" visible=\"false\" x=\"0\" y=\"403\" width=\"1024\" height=\"124\">\\n                              <XCUIElementTypeImage type=\"XCUIElementTypeImage\" enabled=\"true\" visible=\"false\" x=\"0\" y=\"403\" width=\"74\" height=\"74\"/>\\n                              <XCUIElementTypeOther type=\"XCUIElementTypeOther\" enabled=\"true\" visible=\"false\" x=\"88\" y=\"484\" width=\"50\" height=\"23\"/>\\n                              <XCUIElementTypeButton type=\"XCUIElementTypeButton\" enabled=\"true\" visible=\"false\" x=\"13\" y=\"416\" width=\"47\" height=\"47\"/>\\n                              <XCUIElementTypeOther type=\"XCUIElementTypeOther\" name=\"Star泥_香香\" label=\"Star泥_香香\" enabled=\"true\" visible=\"false\" x=\"73\" y=\"416\" width=\"81\" height=\"22\"/>\\n                              <XCUIElementTypeOther type=\"XCUIElementTypeOther\" name=\"    \" label=\"    \" enabled=\"true\" visible=\"false\" x=\"73\" y=\"437\" width=\"161\" height=\"22\"/>\\n                            </XCUIElementTypeCell>\\n                            <XCUIElementTypeCell type=\"XCUIElementTypeCell\" enabled=\"true\" visible=\"false\" x=\"0\" y=\"527\" width=\"1024\" height=\"124\">\\n                              <XCUIElementTypeImage type=\"XCUIElementTypeImage\" enabled=\"true\" visible=\"false\" x=\"0\" y=\"527\" width=\"74\" height=\"74\"/>\\n                              <XCUIElementTypeOther type=\"XCUIElementTypeOther\" enabled=\"true\" visible=\"false\" x=\"88\" y=\"608\" width=\"50\" height=\"23\"/>\\n                              <XCUIElementTypeButton type=\"XCUIElementTypeButton\" enabled=\"true\" visible=\"false\" x=\"13\" y=\"540\" width=\"47\" height=\"47\"/>\\n                              <XCUIElementTypeOther type=\"XCUIElementTypeOther\" name=\"Star泥_浪漫樱花\" label=\"Star泥_浪漫樱花\" enabled=\"true\" visible=\"false\" x=\"73\" y=\"540\" width=\"110\" height=\"22\"/>\\n                              <XCUIElementTypeOther type=\"XCUIElementTypeOther\" name=\"   \" label=\"   \" enabled=\"true\" visible=\"false\" x=\"73\" y=\"561\" width=\"129\" height=\"22\"/>\\n                            </XCUIElementTypeCell>\\n                            <XCUIElementTypeCell type=\"XCUIElementTypeCell\" enabled=\"true\" visible=\"false\" x=\"0\" y=\"651\" width=\"1024\" height=\"128\">\\n                              <XCUIElementTypeOther type=\"XCUIElementTypeOther\" name=\"拜拜\" label=\"拜拜\" enabled=\"true\" visible=\"false\" x=\"88\" y=\"732\" width=\"42\" height=\"27\"/>\\n                              <XCUIElementTypeButton type=\"XCUIElementTypeButton\" name=\"live img chatheads default\" label=\"live img chatheads default\" enabled=\"true\" visible=\"false\" x=\"13\" y=\"664\" width=\"47\" height=\"47\"/>\\n                              <XCUIElementTypeOther type=\"XCUIElementTypeOther\" name=\"凡鲁\" label=\"凡鲁\" enabled=\"true\" visible=\"false\" x=\"73\" y=\"664\" width=\"30\" height=\"22\"/>\\n                              <XCUIElementTypeOther type=\"XCUIElementTypeOther\" name=\"  \" label=\"  \" enabled=\"true\" visible=\"false\" x=\"73\" y=\"685\" width=\"105\" height=\"22\"/>\\n                            </XCUIElementTypeCell>\\n                            <XCUIElementTypeCell type=\"XCUIElementTypeCell\" enabled=\"true\" visible=\"false\" x=\"0\" y=\"779\" width=\"1024\" height=\"128\">\\n                              <XCUIElementTypeOther type=\"XCUIElementTypeOther\" name=\"哎呀\" label=\"哎呀\" enabled=\"true\" visible=\"false\" x=\"88\" y=\"860\" width=\"42\" height=\"27\"/>\\n                              <XCUIElementTypeButton type=\"XCUIElementTypeButton\" enabled=\"true\" visible=\"false\" x=\"13\" y=\"792\" width=\"47\" height=\"47\"/>\\n                              <XCUIElementTypeImage type=\"XCUIElementTypeImage\" name=\"me_fans_verifylogo\" enabled=\"true\" visible=\"false\" x=\"44\" y=\"823\" width=\"16\" height=\"16\"/>\\n                              <XCUIElementTypeOther type=\"XCUIElementTypeOther\" name=\"不染子涵\" label=\"不染子涵\" enabled=\"true\" visible=\"false\" x=\"73\" y=\"792\" width=\"59\" height=\"22\"/>\\n                              <XCUIElementTypeOther type=\"XCUIElementTypeOther\" name=\"  \" label=\"  \" enabled=\"true\" visible=\"false\" x=\"73\" y=\"813\" width=\"105\" height=\"22\"/>\\n                            </XCUIElementTypeCell>\\n                            <XCUIElementTypeCell type=\"XCUIElementTypeCell\" enabled=\"true\" visible=\"false\" x=\"0\" y=\"907\" width=\"1024\" height=\"128\">\\n                              <XCUIElementTypeOther type=\"XCUIElementTypeOther\" name=\"刚才听到了什么\" label=\"刚才听到了什么\" enabled=\"true\" visible=\"false\" x=\"88\" y=\"988\" width=\"144\" height=\"27\"/>\\n                              <XCUIElementTypeButton type=\"XCUIElementTypeButton\" enabled=\"true\" visible=\"false\" x=\"13\" y=\"920\" width=\"47\" height=\"47\"/>\\n                              <XCUIElementTypeImage type=\"XCUIElementTypeImage\" name=\"me_fans_verifylogo\" enabled=\"true\" visible=\"false\" x=\"44\" y=\"951\" width=\"16\" height=\"16\"/>\\n                              <XCUIElementTypeOther type=\"XCUIElementTypeOther\" name=\"不染子涵\" label=\"不染子涵\" enabled=\"true\" visible=\"false\" x=\"73\" y=\"920\" width=\"59\" height=\"22\"/>\\n                              <XCUIElementTypeOther type=\"XCUIElementTypeOther\" name=\"  \" label=\"  \" enabled=\"true\" visible=\"false\" x=\"73\" y=\"941\" width=\"105\" height=\"22\"/>\\n                            </XCUIElementTypeCell>\\n                            <XCUIElementTypeCell type=\"XCUIElementTypeCell\" enabled=\"true\" visible=\"false\" x=\"0\" y=\"1035\" width=\"1024\" height=\"128\">\\n                              <XCUIElementTypeOther type=\"XCUIElementTypeOther\" name=\"嘤嘤嘤\" label=\"嘤嘤嘤\" enabled=\"true\" visible=\"false\" x=\"88\" y=\"1116\" width=\"62\" height=\"27\"/>\\n                              <XCUIElementTypeButton type=\"XCUIElementTypeButton\" enabled=\"true\" visible=\"false\" x=\"13\" y=\"1048\" width=\"47\" height=\"47\"/>\\n                              <XCUIElementTypeImage type=\"XCUIElementTypeImage\" name=\"me_fans_verifylogo\" enabled=\"true\" visible=\"false\" x=\"44\" y=\"1079\" width=\"16\" height=\"16\"/>\\n                              <XCUIElementTypeOther type=\"XCUIElementTypeOther\" name=\"不染子涵\" label=\"不染子涵\" enabled=\"true\" visible=\"false\" x=\"73\" y=\"1048\" width=\"59\" height=\"22\"/>\\n                              <XCUIElementTypeOther type=\"XCUIElementTypeOther\" name=\"  \" label=\"  \" enabled=\"true\" visible=\"false\" x=\"73\" y=\"1069\" width=\"105\" height=\"22\"/>\\n                            </XCUIElementTypeCell>\\n                            <XCUIElementTypeCell type=\"XCUIElementTypeCell\" enabled=\"true\" visible=\"false\" x=\"0\" y=\"1163\" width=\"1024\" height=\"128\">\\n                              <XCUIElementTypeOther type=\"XCUIElementTypeOther\" name=\"@不染子涵 还没走呀\" label=\"@不染子涵 还没走呀\" enabled=\"true\" visible=\"false\" x=\"88\" y=\"1244\" width=\"187\" height=\"27\"/>\\n                              <XCUIElementTypeButton type=\"XCUIElementTypeButton\" name=\"live img chatheads default\" label=\"live img chatheads default\" enabled=\"true\" visible=\"false\" x=\"13\" y=\"1176\" width=\"47\" height=\"47\"/>\\n                              <XCUIElementTypeOther type=\"XCUIElementTypeOther\" name=\"凡鲁\" label=\"凡鲁\" enabled=\"true\" visible=\"false\" x=\"73\" y=\"1176\" width=\"30\" height=\"22\"/>\\n                              <XCUIElementTypeOther type=\"XCUIElementTypeOther\" name=\"  \" label=\"  \" enabled=\"true\" visible=\"false\" x=\"73\" y=\"1197\" width=\"105\" height=\"22\"/>\\n                            </XCUIElementTypeCell>\\n                            <XCUIElementTypeCell type=\"XCUIElementTypeCell\" enabled=\"true\" visible=\"false\" x=\"0\" y=\"1291\" width=\"1024\" height=\"128\">\\n                              <XCUIElementTypeButton type=\"XCUIElementTypeButton\" enabled=\"true\" visible=\"false\" x=\"0\" y=\"-80\" width=\"47\" height=\"48\">\\n                                <XCUIElementTypeImage type=\"XCUIElementTypeImage\" name=\"live_img_chatheads_default\" enabled=\"true\" visible=\"false\" x=\"0\" y=\"-80\" width=\"47\" height=\"48\"/>\\n                              </XCUIElementTypeButton>\\n                              <XCUIElementTypeOther type=\"XCUIElementTypeOther\" name=\"逆風飛颺的燕子\" label=\"逆風飛颺的燕子\" enabled=\"true\" visible=\"false\" x=\"0\" y=\"-80\" width=\"103\" height=\"22\"/>\\n                              <XCUIElementTypeOther type=\"XCUIElementTypeOther\" name=\"  \" label=\"  \" enabled=\"true\" visible=\"false\" x=\"0\" y=\"-80\" width=\"104\" height=\"22\"/>\\n                              <XCUIElementTypeOther type=\"XCUIElementTypeOther\" name=\"分享了直播间\" label=\"分享了直播间\" enabled=\"true\" visible=\"false\" x=\"0\" y=\"-80\" width=\"123\" height=\"28\"/>\\n                            </XCUIElementTypeCell>\\n                            <XCUIElementTypeCell type=\"XCUIElementTypeCell\" enabled=\"true\" visible=\"false\" x=\"0\" y=\"1419\" width=\"1024\" height=\"128\">\\n                              <XCUIElementTypeButton type=\"XCUIElementTypeButton\" enabled=\"true\" visible=\"false\" x=\"0\" y=\"-80\" width=\"47\" height=\"48\">\\n                                <XCUIElementTypeImage type=\"XCUIElementTypeImage\" name=\"live_img_chatheads_default\" enabled=\"true\" visible=\"false\" x=\"0\" y=\"-80\" width=\"47\" height=\"48\"/>\\n                              </XCUIElementTypeButton>\\n                              <XCUIElementTypeImage type=\"XCUIElementTypeImage\" enabled=\"true\" visible=\"false\" x=\"0\" y=\"-80\" width=\"74\" height=\"74\"/>\\n                              <XCUIElementTypeImage type=\"XCUIElementTypeImage\" name=\"me_fans_verifylogo\" enabled=\"true\" visible=\"false\" x=\"0\" y=\"-80\" width=\"16\" height=\"16\"/>\\n                              <XCUIElementTypeOther type=\"XCUIElementTypeOther\" name=\"Star_黄泥\" label=\"Star_黄泥\" enabled=\"true\" visible=\"false\" x=\"0\" y=\"-80\" width=\"66\" height=\"22\"/>\\n                              <XCUIElementTypeOther type=\"XCUIElementTypeOther\" name=\" 主播    \" label=\" 主播    \" enabled=\"true\" visible=\"false\" x=\"0\" y=\"-80\" width=\"102\" height=\"22\"/>\\n                              <XCUIElementTypeOther type=\"XCUIElementTypeOther\" name=\"@逆風飛颺的燕子，好棒！通过分享直播间，我们之间增加了10亲密度～\" label=\"@逆風飛颺的燕子，好棒！通过分享直播间，我们之间增加了10亲密度～\" enabled=\"true\" visible=\"false\" x=\"0\" y=\"-80\" width=\"652\" height=\"28\"/>\\n                            </XCUIElementTypeCell>\\n                            <XCUIElementTypeCell type=\"XCUIElementTypeCell\" enabled=\"true\" visible=\"false\" x=\"0\" y=\"1547\" width=\"1024\" height=\"128\">\\n                              <XCUIElementTypeButton type=\"XCUIElementTypeButton\" enabled=\"true\" visible=\"false\" x=\"0\" y=\"-80\" width=\"47\" height=\"48\">\\n                                <XCUIElementTypeImage type=\"XCUIElementTypeImage\" name=\"live_img_chatheads_default\" enabled=\"true\" visible=\"false\" x=\"0\" y=\"-80\" width=\"47\" height=\"48\"/>\\n                              </XCUIElementTypeButton>\\n                              <XCUIElementTypeOther type=\"XCUIElementTypeOther\" name=\"逆風飛颺的燕子\" label=\"逆風飛颺的燕子\" enabled=\"true\" visible=\"false\" x=\"0\" y=\"-80\" width=\"103\" height=\"22\"/>\\n                              <XCUIElementTypeOther type=\"XCUIElementTypeOther\" name=\"  \" label=\"  \" enabled=\"true\" visible=\"false\" x=\"0\" y=\"-80\" width=\"104\" height=\"22\"/>\\n                              <XCUIElementTypeOther type=\"XCUIElementTypeOther\" name=\"分享了直播间\" label=\"分享了直播间\" enabled=\"true\" visible=\"false\" x=\"0\" y=\"-80\" width=\"123\" height=\"28\"/>\\n                            </XCUIElementTypeCell>\\n                            <XCUIElementTypeCell type=\"XCUIElementTypeCell\" enabled=\"true\" visible=\"false\" x=\"0\" y=\"1675\" width=\"1024\" height=\"128\">\\n                              <XCUIElementTypeButton type=\"XCUIElementTypeButton\" enabled=\"true\" visible=\"false\" x=\"0\" y=\"-80\" width=\"47\" height=\"48\">\\n                                <XCUIElementTypeImage type=\"XCUIElementTypeImage\" name=\"live_img_chatheads_default\" enabled=\"true\" visible=\"false\" x=\"0\" y=\"-80\" width=\"47\" height=\"48\"/>\\n                              </XCUIElementTypeButton>\\n                              <XCUIElementTypeImage type=\"XCUIElementTypeImage\" enabled=\"true\" visible=\"false\" x=\"0\" y=\"-80\" width=\"74\" height=\"74\"/>\\n                              <XCUIElementTypeImage type=\"XCUIElementTypeImage\" name=\"me_fans_verifylogo\" enabled=\"true\" visible=\"false\" x=\"0\" y=\"-80\" width=\"16\" height=\"16\"/>\\n                              <XCUIElementTypeOther type=\"XCUIElementTypeOther\" name=\"Star_黄泥\" label=\"Star_黄泥\" enabled=\"true\" visible=\"false\" x=\"0\" y=\"-80\" width=\"66\" height=\"22\"/>\\n                              <XCUIElementTypeOther type=\"XCUIElementTypeOther\" name=\" 主播    \" label=\" 主播    \" enabled=\"true\" visible=\"false\" x=\"0\" y=\"-80\" width=\"102\" height=\"22\"/>\\n                              <XCUIElementTypeOther type=\"XCUIElementTypeOther\" name=\"@逆風飛颺的燕子，好棒！通过分享直播间，我们之间增加了10亲密度～\" label=\"@逆風飛颺的燕子，好棒！通过分享直播间，我们之间增加了10亲密度～\" enabled=\"true\" visible=\"false\" x=\"0\" y=\"-80\" width=\"652\" height=\"28\"/>\\n                            </XCUIElementTypeCell>\\n                            <XCUIElementTypeCell type=\"XCUIElementTypeCell\" enabled=\"true\" visible=\"false\" x=\"0\" y=\"1803\" width=\"1024\" height=\"128\">\\n                              <XCUIElementTypeButton type=\"XCUIElementTypeButton\" enabled=\"true\" visible=\"false\" x=\"0\" y=\"-80\" width=\"47\" height=\"48\">\\n                                <XCUIElementTypeImage type=\"XCUIElementTypeImage\" name=\"live_img_chatheads_default\" enabled=\"true\" visible=\"false\" x=\"0\" y=\"-80\" width=\"47\" height=\"48\"/>\\n                              </XCUIElementTypeButton>\\n                              <XCUIElementTypeImage type=\"XCUIElementTypeImage\" enabled=\"true\" visible=\"false\" x=\"0\" y=\"-80\" width=\"74\" height=\"74\"/>\\n                              <XCUIElementTypeImage type=\"XCUIElementTypeImage\" name=\"me_fans_verifylogo\" enabled=\"true\" visible=\"false\" x=\"0\" y=\"-80\" width=\"16\" height=\"16\"/>\\n                              <XCUIElementTypeOther type=\"XCUIElementTypeOther\" name=\"Star_黄泥\" label=\"Star_黄泥\" enabled=\"true\" visible=\"false\" x=\"0\" y=\"-80\" width=\"66\" height=\"22\"/>\\n                              <XCUIElementTypeOther type=\"XCUIElementTypeOther\" name=\" 主播    \" label=\" 主播    \" enabled=\"true\" visible=\"false\" x=\"0\" y=\"-80\" width=\"102\" height=\"22\"/>\\n                              <XCUIElementTypeOther type=\"XCUIElementTypeOther\" name=\"@逆風飛颺的燕子，好棒！通过收听直播，我们之间增加了5亲密度～\" label=\"@逆風飛颺的燕子，好棒！通过收听直播，我们之间增加了5亲密度～\" enabled=\"true\" visible=\"false\" x=\"0\" y=\"-80\" width=\"623\" height=\"28\"/>\\n                            </XCUIElementTypeCell>\\n                            <XCUIElementTypeCell type=\"XCUIElementTypeCell\" enabled=\"true\" visible=\"false\" x=\"0\" y=\"1931\" width=\"1024\" height=\"134\">\\n                              <XCUIElementTypeButton type=\"XCUIElementTypeButton\" enabled=\"true\" visible=\"false\" x=\"0\" y=\"-80\" width=\"47\" height=\"48\">\\n                                <XCUIElementTypeImage type=\"XCUIElementTypeImage\" name=\"live_img_chatheads_default\" enabled=\"true\" visible=\"false\" x=\"0\" y=\"-80\" width=\"47\" height=\"48\"/>\\n                              </XCUIElementTypeButton>\\n                              <XCUIElementTypeImage type=\"XCUIElementTypeImage\" name=\"me_fans_verifylogo\" enabled=\"true\" visible=\"false\" x=\"0\" y=\"-80\" width=\"16\" height=\"16\"/>\\n                              <XCUIElementTypeOther type=\"XCUIElementTypeOther\" name=\"Star泥_简爱\" label=\"Star泥_简爱\" enabled=\"true\" visible=\"false\" x=\"0\" y=\"-80\" width=\"80\" height=\"22\"/>\\n                              <XCUIElementTypeOther type=\"XCUIElementTypeOther\" name=\" 管    \" label=\" 管    \" enabled=\"true\" visible=\"false\" x=\"0\" y=\"-80\" width=\"128\" height=\"22\"/>\\n                              <XCUIElementTypeOther type=\"XCUIElementTypeOther\" name=\"送出 粉红小猪  x 1\" label=\"送出 粉红小猪  x 1\" enabled=\"true\" visible=\"false\" x=\"0\" y=\"-80\" width=\"195\" height=\"33\"/>\\n                            </XCUIElementTypeCell>\\n                            <XCUIElementTypeCell type=\"XCUIElementTypeCell\" enabled=\"true\" visible=\"false\" x=\"0\" y=\"2064\" width=\"1024\" height=\"134\">\\n                              <XCUIElementTypeButton type=\"XCUIElementTypeButton\" enabled=\"true\" visible=\"false\" x=\"0\" y=\"-80\" width=\"47\" height=\"48\">\\n                                <XCUIElementTypeImage type=\"XCUIElementTypeImage\" name=\"live_img_chatheads_default\" enabled=\"true\" visible=\"false\" x=\"0\" y=\"-80\" width=\"47\" height=\"48\"/>\\n                              </XCUIElementTypeButton>\\n                              <XCUIElementTypeOther type=\"XCUIElementTypeOther\" name=\"Star泥_颖儿\" label=\"Star泥_颖儿\" enabled=\"true\" visible=\"false\" x=\"0\" y=\"-80\" width=\"80\" height=\"22\"/>\\n                              <XCUIElementTypeOther type=\"XCUIElementTypeOther\" name=\"  \" label=\"  \" enabled=\"true\" visible=\"false\" x=\"0\" y=\"-80\" width=\"104\" height=\"22\"/>\\n                              <XCUIElementTypeOther type=\"XCUIElementTypeOther\" name=\"送出 粉红小猪  x 1\" label=\"送出 粉红小猪  x 1\" enabled=\"true\" visible=\"false\" x=\"0\" y=\"-80\" width=\"195\" height=\"33\"/>\\n                            </XCUIElementTypeCell>\\n                            <XCUIElementTypeCell type=\"XCUIElementTypeCell\" enabled=\"true\" visible=\"false\" x=\"0\" y=\"2197\" width=\"1024\" height=\"134\">\\n                              <XCUIElementTypeButton type=\"XCUIElementTypeButton\" enabled=\"true\" visible=\"false\" x=\"0\" y=\"-80\" width=\"47\" height=\"48\">\\n                                <XCUIElementTypeImage type=\"XCUIElementTypeImage\" name=\"live_img_chatheads_default\" enabled=\"true\" visible=\"false\" x=\"0\" y=\"-80\" width=\"47\" height=\"48\"/>\\n                              </XCUIElementTypeButton>\\n                              <XCUIElementTypeOther type=\"XCUIElementTypeOther\" name=\"Star泥_悠悠\" label=\"Star泥_悠悠\" enabled=\"true\" visible=\"false\" x=\"0\" y=\"-80\" width=\"80\" height=\"22\"/>\\n                              <XCUIElementTypeOther type=\"XCUIElementTypeOther\" name=\"  \" label=\"  \" enabled=\"true\" visible=\"false\" x=\"0\" y=\"-80\" width=\"104\" height=\"22\"/>\\n                              <XCUIElementTypeOther type=\"XCUIElementTypeOther\" name=\"送出 粉红小猪  x 1\" label=\"送出 粉红小猪  x 1\" enabled=\"true\" visible=\"false\" x=\"0\" y=\"-80\" width=\"195\" height=\"33\"/>\\n                            </XCUIElementTypeCell>\\n                            <XCUIElementTypeCell type=\"XCUIElementTypeCell\" enabled=\"true\" visible=\"false\" x=\"0\" y=\"2331\" width=\"1024\" height=\"134\">\\n                              <XCUIElementTypeButton type=\"XCUIElementTypeButton\" enabled=\"true\" visible=\"false\" x=\"0\" y=\"-80\" width=\"47\" height=\"48\">\\n                                <XCUIElementTypeImage type=\"XCUIElementTypeImage\" name=\"live_img_chatheads_default\" enabled=\"true\" visible=\"false\" x=\"0\" y=\"-80\" width=\"47\" height=\"48\"/>\\n                              </XCUIElementTypeButton>\\n                              <XCUIElementTypeOther type=\"XCUIElementTypeOther\" name=\"Star泥_爱泥\" label=\"Star泥_爱泥\" enabled=\"true\" visible=\"false\" x=\"0\" y=\"-80\" width=\"80\" height=\"22\"/>\\n                              <XCUIElementTypeOther type=\"XCUIElementTypeOther\" name=\"  \" label=\"  \" enabled=\"true\" visible=\"false\" x=\"0\" y=\"-80\" width=\"104\" height=\"22\"/>\\n                              <XCUIElementTypeOther type=\"XCUIElementTypeOther\" name=\"送出 粉红小猪  x 1\" label=\"送出 粉红小猪  x 1\" enabled=\"true\" visible=\"false\" x=\"0\" y=\"-80\" width=\"195\" height=\"33\"/>\\n                            </XCUIElementTypeCell>\\n                            <XCUIElementTypeCell type=\"XCUIElementTypeCell\" enabled=\"true\" visible=\"false\" x=\"0\" y=\"2464\" width=\"1024\" height=\"134\">\\n                              <XCUIElementTypeButton type=\"XCUIElementTypeButton\" enabled=\"true\" visible=\"false\" x=\"0\" y=\"-80\" width=\"47\" height=\"48\">\\n                                <XCUIElementTypeImage type=\"XCUIElementTypeImage\" name=\"live_img_chatheads_default\" enabled=\"true\" visible=\"false\" x=\"0\" y=\"-80\" width=\"47\" height=\"48\"/>\\n                              </XCUIElementTypeButton>\\n                              <XCUIElementTypeOther type=\"XCUIElementTypeOther\" name=\"HN_唯依\" label=\"HN_唯依\" enabled=\"true\" visible=\"false\" x=\"0\" y=\"-80\" width=\"59\" height=\"22\"/>\\n                              <XCUIElementTypeOther type=\"XCUIElementTypeOther\" name=\"  \" label=\"  \" enabled=\"true\" visible=\"false\" x=\"0\" y=\"-80\" width=\"104\" height=\"22\"/>\\n                              <XCUIElementTypeOther type=\"XCUIElementTypeOther\" name=\"送出 粉红小猪  x 1\" label=\"送出 粉红小猪  x 1\" enabled=\"true\" visible=\"false\" x=\"0\" y=\"-80\" width=\"195\" height=\"33\"/>\\n                            </XCUIElementTypeCell>\\n                          </XCUIElementTypeTable>\\n                        </XCUIElementTypeOther>\\n                        <XCUIElementTypeOther type=\"XCUIElementTypeOther\" enabled=\"true\" visible=\"false\" x=\"824\" y=\"1169\" width=\"200\" height=\"121\">\\n                          <XCUIElementTypeOther type=\"XCUIElementTypeOther\" enabled=\"true\" visible=\"false\" x=\"824\" y=\"1169\" width=\"200\" height=\"121\">\\n                            <XCUIElementTypeOther type=\"XCUIElementTypeOther\" enabled=\"true\" visible=\"false\" x=\"957\" y=\"1209\" width=\"61\" height=\"81\">\\n                              <XCUIElementTypeScrollView type=\"XCUIElementTypeScrollView\" enabled=\"true\" visible=\"false\" x=\"957\" y=\"1209\" width=\"61\" height=\"68\">\\n                                <XCUIElementTypeImage type=\"XCUIElementTypeImage\" enabled=\"true\" visible=\"false\" x=\"957\" y=\"1209\" width=\"61\" height=\"68\"/>\\n                              </XCUIElementTypeScrollView>\\n                            </XCUIElementTypeOther>\\n                          </XCUIElementTypeOther>\\n                        </XCUIElementTypeOther>\\n                      </XCUIElementTypeOther>\\n                      <XCUIElementTypeOther type=\"XCUIElementTypeOther\" enabled=\"true\" visible=\"false\" x=\"890\" y=\"1023\" width=\"134\" height=\"134\">\\n                        <XCUIElementTypeOther type=\"XCUIElementTypeOther\" enabled=\"true\" visible=\"false\" x=\"890\" y=\"1023\" width=\"134\" height=\"134\">\\n                          <XCUIElementTypeImage type=\"XCUIElementTypeImage\" name=\"backgroundRocket\" enabled=\"true\" visible=\"false\" x=\"905\" y=\"1040\" width=\"105\" height=\"99\"/>\\n                          <XCUIElementTypeImage type=\"XCUIElementTypeImage\" enabled=\"true\" visible=\"false\" x=\"880\" y=\"1107\" width=\"155\" height=\"99\"/>\\n                          <XCUIElementTypeImage type=\"XCUIElementTypeImage\" enabled=\"true\" visible=\"false\" x=\"903\" y=\"1107\" width=\"114\" height=\"120\"/>\\n                        </XCUIElementTypeOther>\\n                        <XCUIElementTypeImage type=\"XCUIElementTypeImage\" enabled=\"true\" visible=\"false\" x=\"909\" y=\"1023\" width=\"97\" height=\"134\"/>\\n                        <XCUIElementTypeImage type=\"XCUIElementTypeImage\" name=\"backgroundRing\" enabled=\"true\" visible=\"false\" x=\"930\" y=\"1063\" width=\"54\" height=\"54\"/>\\n                        <XCUIElementTypeImage type=\"XCUIElementTypeImage\" name=\"forcegroundRing\" enabled=\"true\" visible=\"false\" x=\"930\" y=\"1063\" width=\"54\" height=\"54\"/>\\n                        <XCUIElementTypeImage type=\"XCUIElementTypeImage\" name=\"backgroundCircle\" enabled=\"true\" visible=\"false\" x=\"937\" y=\"1069\" width=\"41\" height=\"41\"/>\\n                        <XCUIElementTypeStaticText type=\"XCUIElementTypeStaticText\" value=\"0%\" name=\"0%\" label=\"0%\" enabled=\"true\" visible=\"false\" x=\"937\" y=\"1069\" width=\"41\" height=\"41\"/>\\n                      </XCUIElementTypeOther>\\n                      <XCUIElementTypeOther type=\"XCUIElementTypeOther\" enabled=\"true\" visible=\"false\" x=\"0\" y=\"1289\" width=\"1024\" height=\"77\">\\n                        <XCUIElementTypeOther type=\"XCUIElementTypeOther\" enabled=\"true\" visible=\"false\" x=\"0\" y=\"1289\" width=\"1024\" height=\"77\">\\n                          <XCUIElementTypeButton type=\"XCUIElementTypeButton\" name=\"说点什么...\" label=\"说点什么...\" enabled=\"true\" visible=\"false\" x=\"13\" y=\"1304\" width=\"758\" height=\"47\"/>\\n                          <XCUIElementTypeButton type=\"XCUIElementTypeButton\" name=\"连麦\" label=\"连麦\" enabled=\"true\" visible=\"false\" x=\"784\" y=\"1304\" width=\"47\" height=\"47\"/>\\n                          <XCUIElementTypeButton type=\"XCUIElementTypeButton\" name=\"分享\" label=\"分享\" enabled=\"true\" visible=\"false\" x=\"844\" y=\"1304\" width=\"47\" height=\"47\"/>\\n                          <XCUIElementTypeButton type=\"XCUIElementTypeButton\" name=\"红包\" label=\"红包\" enabled=\"true\" visible=\"false\" x=\"904\" y=\"1304\" width=\"47\" height=\"47\"/>\\n                          <XCUIElementTypeButton type=\"XCUIElementTypeButton\" name=\"礼物\" label=\"礼物\" enabled=\"true\" visible=\"false\" x=\"964\" y=\"1304\" width=\"47\" height=\"47\"/>\\n                          <XCUIElementTypeImage type=\"XCUIElementTypeImage\" name=\"live_btn_gift\" enabled=\"true\" visible=\"false\" x=\"964\" y=\"1304\" width=\"47\" height=\"47\"/>\\n                        </XCUIElementTypeOther>\\n                      </XCUIElementTypeOther>\\n                    </XCUIElementTypeOther>\\n                  </XCUIElementTypeOther>\\n                </XCUIElementTypeScrollView>\\n              </XCUIElementTypeOther>\\n              <XCUIElementTypeOther type=\"XCUIElementTypeOther\" enabled=\"true\" visible=\"true\" x=\"0\" y=\"0\" width=\"1024\" height=\"1366\">\\n                <XCUIElementTypeOther type=\"XCUIElementTypeOther\" enabled=\"true\" visible=\"true\" x=\"0\" y=\"0\" width=\"1024\" height=\"1366\"/>\\n                <XCUIElementTypeOther type=\"XCUIElementTypeOther\" enabled=\"true\" visible=\"true\" x=\"0\" y=\"845\" width=\"1024\" height=\"521\">\\n                  <XCUIElementTypeButton type=\"XCUIElementTypeButton\" enabled=\"true\" visible=\"true\" x=\"458\" y=\"847\" width=\"108\" height=\"107\"/>\\n                  <XCUIElementTypeStaticText type=\"XCUIElementTypeStaticText\" value=\"凡鲁\" name=\"凡鲁\" label=\"凡鲁\" enabled=\"true\" visible=\"true\" x=\"488\" y=\"987\" width=\"49\" height=\"28\"/>\\n                  <XCUIElementTypeOther type=\"XCUIElementTypeOther\" enabled=\"true\" visible=\"true\" x=\"492\" y=\"1021\" width=\"40\" height=\"48\">\\n                    <XCUIElementTypeStaticText type=\"XCUIElementTypeStaticText\" value=\"1粉丝\" name=\"1粉丝\" label=\"1粉丝\" enabled=\"true\" visible=\"true\" x=\"492\" y=\"1033\" width=\"40\" height=\"24\"/>\\n                  </XCUIElementTypeOther>\\n                  <XCUIElementTypeStaticText type=\"XCUIElementTypeStaticText\" value=\"TA有点懒哦，没写简介呢\" name=\"TA有点懒哦，没写简介呢\" label=\"TA有点懒哦，没写简介呢\" enabled=\"true\" visible=\"true\" x=\"40\" y=\"1068\" width=\"944\" height=\"67\"/>\\n                  <XCUIElementTypeOther type=\"XCUIElementTypeOther\" enabled=\"true\" visible=\"true\" x=\"0\" y=\"1135\" width=\"1024\" height=\"72\">\\n                    <XCUIElementTypeOther type=\"XCUIElementTypeOther\" enabled=\"true\" visible=\"true\" x=\"442\" y=\"1141\" width=\"140\" height=\"60\">\\n                      <XCUIElementTypeOther type=\"XCUIElementTypeOther\" enabled=\"true\" visible=\"true\" x=\"442\" y=\"1141\" width=\"140\" height=\"60\">\\n                        <XCUIElementTypeImage type=\"XCUIElementTypeImage\" enabled=\"true\" visible=\"false\" x=\"442\" y=\"1141\" width=\"140\" height=\"60\"/>\\n                        <XCUIElementTypeStaticText type=\"XCUIElementTypeStaticText\" value=\"财富等级\" name=\"财富等级\" label=\"财富等级\" enabled=\"true\" visible=\"true\" x=\"500\" y=\"1145\" width=\"54\" height=\"20\"/>\\n                        <XCUIElementTypeStaticText type=\"XCUIElementTypeStaticText\" value=\"6\" name=\"6\" label=\"6\" enabled=\"true\" visible=\"true\" x=\"500\" y=\"1164\" width=\"82\" height=\"29\"/>\\n                      </XCUIElementTypeOther>\\n                    </XCUIElementTypeOther>\\n                  </XCUIElementTypeOther>\\n                  <XCUIElementTypeOther type=\"XCUIElementTypeOther\" enabled=\"true\" visible=\"true\" x=\"0\" y=\"1207\" width=\"1024\" height=\"86\">\\n                    <XCUIElementTypeButton type=\"XCUIElementTypeButton\" name=\"live medal bg image\" label=\"live medal bg image\" enabled=\"true\" visible=\"true\" x=\"37\" y=\"1213\" width=\"950\" height=\"73\"/>\\n                  </XCUIElementTypeOther>\\n                  <XCUIElementTypeOther type=\"XCUIElementTypeOther\" enabled=\"true\" visible=\"true\" x=\"0\" y=\"1299\" width=\"1024\" height=\"67\">\\n                    <XCUIElementTypeOther type=\"XCUIElementTypeOther\" enabled=\"true\" visible=\"true\" x=\"0\" y=\"1299\" width=\"1024\" height=\"2\"/>\\n                    <XCUIElementTypeButton type=\"XCUIElementTypeButton\" name=\"未关注\" label=\"未关注\" enabled=\"false\" visible=\"true\" x=\"0\" y=\"1299\" width=\"256\" height=\"67\"/>\\n                    <XCUIElementTypeButton type=\"XCUIElementTypeButton\" name=\" 主页 \" label=\" 主页 \" enabled=\"false\" visible=\"true\" x=\"256\" y=\"1299\" width=\"256\" height=\"67\"/>\\n                    <XCUIElementTypeButton type=\"XCUIElementTypeButton\" name=\" ta \" label=\" ta \" enabled=\"false\" visible=\"true\" x=\"512\" y=\"1299\" width=\"256\" height=\"67\"/>\\n                    <XCUIElementTypeButton type=\"XCUIElementTypeButton\" name=\" 私信 \" label=\" 私信 \" enabled=\"false\" visible=\"true\" x=\"768\" y=\"1299\" width=\"256\" height=\"67\"/>\\n                    <XCUIElementTypeOther type=\"XCUIElementTypeOther\" enabled=\"true\" visible=\"true\" x=\"256\" y=\"1320\" width=\"2\" height=\"25\"/>\\n                    <XCUIElementTypeOther type=\"XCUIElementTypeOther\" enabled=\"true\" visible=\"true\" x=\"512\" y=\"1320\" width=\"2\" height=\"25\"/>\\n                    <XCUIElementTypeOther type=\"XCUIElementTypeOther\" enabled=\"true\" visible=\"true\" x=\"768\" y=\"1320\" width=\"2\" height=\"25\"/>\\n                  </XCUIElementTypeOther>\\n                </XCUIElementTypeOther>\\n                <XCUIElementTypeOther type=\"XCUIElementTypeOther\" enabled=\"true\" visible=\"false\" x=\"0\" y=\"899\" width=\"1024\" height=\"467\"/>\\n              </XCUIElementTypeOther>\\n            </XCUIElementTypeOther>\\n          </XCUIElementTypeOther>\\n        </XCUIElementTypeOther>\\n      </XCUIElementTypeOther>\\n    </XCUIElementTypeOther>\\n  </XCUIElementTypeWindow>\\n  <XCUIElementTypeWindow type=\"XCUIElementTypeWindow\" enabled=\"true\" visible=\"false\" x=\"1024\" y=\"0\" width=\"1024\" height=\"1366\"/>\\n  <XCUIElementTypeWindow type=\"XCUIElementTypeWindow\" enabled=\"true\" visible=\"true\" x=\"0\" y=\"0\" width=\"1024\" height=\"1366\">\\n    <XCUIElementTypeOther type=\"XCUIElementTypeOther\" enabled=\"true\" visible=\"true\" x=\"0\" y=\"0\" width=\"1024\" height=\"1366\">\\n      <XCUIElementTypeOther type=\"XCUIElementTypeOther\" enabled=\"true\" visible=\"false\" x=\"0\" y=\"1365\" width=\"1024\" height=\"397\"/>\\n    </XCUIElementTypeOther>\\n  </XCUIElementTypeWindow>\\n  <XCUIElementTypeWindow type=\"XCUIElementTypeWindow\" enabled=\"true\" visible=\"true\" x=\"0\" y=\"0\" width=\"1024\" height=\"1366\">\\n    <XCUIElementTypeStatusBar type=\"XCUIElementTypeStatusBar\" enabled=\"true\" visible=\"true\" x=\"0\" y=\"0\" width=\"1024\" height=\"28\">\\n      <XCUIElementTypeOther type=\"XCUIElementTypeOther\" enabled=\"true\" visible=\"true\" x=\"0\" y=\"0\" width=\"1024\" height=\"28\">\\n        <XCUIElementTypeOther type=\"XCUIElementTypeOther\" enabled=\"true\" visible=\"true\" x=\"0\" y=\"0\" width=\"1024\" height=\"28\">\\n          <XCUIElementTypeStaticText type=\"XCUIElementTypeStaticText\" value=\"上午7:43\" name=\"上午7:43\" label=\"上午7:43\" enabled=\"true\" visible=\"true\" x=\"8\" y=\"3\" width=\"68\" height=\"21\"/>\\n          <XCUIElementTypeOther type=\"XCUIElementTypeOther\" enabled=\"true\" visible=\"true\" x=\"8\" y=\"5\" width=\"500\" height=\"15\"/>\\n          <XCUIElementTypeStaticText type=\"XCUIElementTypeStaticText\" value=\"3月19日 周二\" name=\"3月19日 周二\" label=\"3月19日 周二\" enabled=\"true\" visible=\"true\" x=\"89\" y=\"3\" width=\"99\" height=\"21\"/>\\n          <XCUIElementTypeOther type=\"XCUIElementTypeOther\" enabled=\"true\" visible=\"true\" x=\"518\" y=\"5\" width=\"500\" height=\"15\"/>\\n          <XCUIElementTypeOther type=\"XCUIElementTypeOther\" value=\"SSID, 3 格（共 3 格 Wi-Fi 信号）\" name=\"3 格（共 3 格 Wi-Fi 信号）\" enabled=\"true\" visible=\"true\" x=\"890\" y=\"7\" width=\"19\" height=\"14\"/>\\n          <XCUIElementTypeImage type=\"XCUIElementTypeImage\" name=\"位置跟踪已打开\" label=\"位置跟踪已打开\" enabled=\"true\" visible=\"true\" x=\"915\" y=\"6\" width=\"14\" height=\"16\"/>\\n          <XCUIElementTypeStaticText type=\"XCUIElementTypeStaticText\" value=\"100%\" name=\"100%\" label=\"100%\" enabled=\"true\" visible=\"false\" x=\"935\" y=\"3\" width=\"43\" height=\"21\"/>\\n          <XCUIElementTypeOther type=\"XCUIElementTypeOther\" value=\"正在充电\" name=\"电池电量：100%\" label=\"电池电量：100%\" enabled=\"true\" visible=\"true\" x=\"935\" y=\"3\" width=\"83\" height=\"21\"/>\\n        </XCUIElementTypeOther>\\n      </XCUIElementTypeOther>\\n    </XCUIElementTypeStatusBar>\\n  </XCUIElementTypeWindow>\\n  <XCUIElementTypeWindow type=\"XCUIElementTypeWindow\" enabled=\"true\" visible=\"true\" x=\"0\" y=\"0\" width=\"1024\" height=\"1366\">\\n    <XCUIElementTypeOther type=\"XCUIElementTypeOther\" enabled=\"true\" visible=\"true\" x=\"0\" y=\"0\" width=\"1024\" height=\"1366\"/>\\n  </XCUIElementTypeWindow>\\n</XCUIElementTypeApplication>\\n'"
      ]
     },
     "execution_count": 90,
     "metadata": {},
     "output_type": "execute_result"
    }
   ],
   "source": [
    "c.source() #xml\n",
    "# dic_data = c.source(accessible=True) # default false, format JSON"
   ]
  },
  {
   "cell_type": "code",
   "execution_count": 54,
   "metadata": {},
   "outputs": [
    {
     "ename": "TypeError",
     "evalue": "'module' object is not callable",
     "output_type": "error",
     "traceback": [
      "\u001b[0;31m---------------------------------------------------------------------------\u001b[0m",
      "\u001b[0;31mTypeError\u001b[0m                                 Traceback (most recent call last)",
      "\u001b[0;32m<ipython-input-54-047d3331b17c>\u001b[0m in \u001b[0;36m<module>\u001b[0;34m\u001b[0m\n\u001b[0;32m----> 1\u001b[0;31m \u001b[0mjson\u001b[0m\u001b[0;34m.\u001b[0m\u001b[0mdecoder\u001b[0m\u001b[0;34m(\u001b[0m\u001b[0mdic_data\u001b[0m\u001b[0;34m)\u001b[0m\u001b[0;34m\u001b[0m\u001b[0;34m\u001b[0m\u001b[0m\n\u001b[0m",
      "\u001b[0;31mTypeError\u001b[0m: 'module' object is not callable"
     ]
    }
   ],
   "source": []
  },
  {
   "cell_type": "code",
   "execution_count": null,
   "metadata": {},
   "outputs": [],
   "source": []
  },
  {
   "cell_type": "code",
   "execution_count": null,
   "metadata": {},
   "outputs": [],
   "source": []
  },
  {
   "cell_type": "code",
   "execution_count": null,
   "metadata": {},
   "outputs": [],
   "source": []
  },
  {
   "cell_type": "code",
   "execution_count": null,
   "metadata": {},
   "outputs": [],
   "source": []
  },
  {
   "cell_type": "code",
   "execution_count": null,
   "metadata": {},
   "outputs": [],
   "source": []
  },
  {
   "cell_type": "code",
   "execution_count": null,
   "metadata": {},
   "outputs": [],
   "source": []
  },
  {
   "cell_type": "code",
   "execution_count": null,
   "metadata": {},
   "outputs": [],
   "source": []
  },
  {
   "cell_type": "code",
   "execution_count": null,
   "metadata": {},
   "outputs": [],
   "source": []
  },
  {
   "cell_type": "code",
   "execution_count": null,
   "metadata": {},
   "outputs": [],
   "source": []
  },
  {
   "cell_type": "code",
   "execution_count": 5,
   "metadata": {},
   "outputs": [],
   "source": [
    "text_box = s(name='说点什么...') #定义输入栏\n",
    "send_text_button = s(className='Button',label=\"发送\") #定义发送按钮\n",
    "minimize_button = s(className='Button', name='最小化') #定义最小化按钮\n",
    "leave_button = s(name='live audience btn close') #定义离开按钮\n",
    "global_play_button = s(name=\"全局播放器\") #定义全局播放器按钮\n",
    "\n",
    "position_dic = {'退出':(980,60), '最小化':(520,800), '全局播放器':(500,1330),'发送文本':(950, 1200), '@ta':(550,1330)}"
   ]
  },
  {
   "cell_type": "code",
   "execution_count": 6,
   "metadata": {},
   "outputs": [],
   "source": [
    "# s.click(*position_dic[\"最小化\"])"
   ]
  },
  {
   "cell_type": "code",
   "execution_count": 7,
   "metadata": {},
   "outputs": [],
   "source": [
    "# 版本一：返回名字或None （核心程序）\n",
    "def get_name():\n",
    "    name_str = s(nameContains=' 进入直播间')\n",
    "    #     print(name_str.exists) #打印是否存在\n",
    "    if name_str.exists: #用exists 检查是否存在，这个速度很快\n",
    "\n",
    "        raw_str = name_str.text #提取text，速度慢\n",
    "        if raw_str:\n",
    "            name = raw_str[:-6]\n",
    "            return name\n",
    "        return None\n"
   ]
  },
  {
   "cell_type": "code",
   "execution_count": 8,
   "metadata": {},
   "outputs": [],
   "source": [
    "# 版本二：包含try的版本，返回名字或None （核心程序）\n",
    "def get_name_with_try():\n",
    "    name_str = s(nameContains=' 进入直播间')\n",
    "    #     print(name_str.exists) #打印是否存在\n",
    "    if name_str.exists: #用exists 检查是否存在，这个速度很快\n",
    "\n",
    "        try: #这里有时候会出问题，所以用个try\n",
    "            raw_str = name_str.text #提取text，速度慢\n",
    "            if raw_str:\n",
    "                name = raw_str[:-6]\n",
    "                return name\n",
    "            return None\n",
    "        except:\n",
    "            pass"
   ]
  },
  {
   "cell_type": "code",
   "execution_count": 9,
   "metadata": {},
   "outputs": [],
   "source": [
    "# 退出房间再进入房间（用来减少缓存）\n",
    "def out_and_reenter_room():\n",
    "    s.tap(*position_dic['退出'])\n",
    "    s.tap(*position_dic['最小化'])\n",
    "    s.tap(*position_dic['全局播放器'])\n"
   ]
  },
  {
   "cell_type": "code",
   "execution_count": 10,
   "metadata": {},
   "outputs": [],
   "source": [
    "# 发送信息\n",
    "def send_text(text_content):\n",
    "    text_box.set_text(text_content) \n",
    "    s.tap(*position_dic['发送文本']) #按下发送按钮\n",
    "    s.tap(*position_dic['最小化'])"
   ]
  },
  {
   "cell_type": "code",
   "execution_count": 11,
   "metadata": {},
   "outputs": [],
   "source": [
    "# 循环回复别人的@\n",
    "\n",
    "def continue_repy_at():\n",
    "    while True:\n",
    "        at_name = '凡鲁'\n",
    "        element_list = s(nameContains='@'+at_name).find_elements()\n",
    "        for e in element_list:\n",
    "            if e.displayed:\n",
    "                print(e.text)\n",
    "                rect = e.bounds\n",
    "                s.tap(rect.x/2,rect.y-25) \n",
    "                s.tap(*position_dic['@ta']) #点开@ ta\n",
    "                reply_thread = threading.Thread(target = send_text, arg=input('回复：'),)\n",
    "                reply_thread.start()\n",
    "                reply_thread.join()"
   ]
  },
  {
   "cell_type": "code",
   "execution_count": 12,
   "metadata": {},
   "outputs": [],
   "source": [
    "# 打印别人的@\n",
    "def show_at():\n",
    "    while True:\n",
    "        at_name = '凡鲁'\n",
    "        element_list = s(nameContains='@'+at_name).find_elements()\n",
    "        for e in element_list:\n",
    "            if e.displayed:\n",
    "                print(e.text)\n",
    "                rect = e.bounds\n",
    "                s.tap(rect.x/2,rect.y-25) \n",
    "                s.tap(*position_dic['@ta']) #点开@ ta\n",
    "                reply_thread = threading.Thread(target = send_text, arg=input('回复：'),)\n",
    "                reply_thread.start()\n",
    "                reply_thread.join()"
   ]
  },
  {
   "cell_type": "code",
   "execution_count": 13,
   "metadata": {},
   "outputs": [],
   "source": [
    "# 发送我输入的文字\n",
    "def continue_input_text():\n",
    "    while True:\n",
    "        send_text(input('输入要说的话：'))\n",
    "        print('发送成功')"
   ]
  },
  {
   "cell_type": "code",
   "execution_count": 14,
   "metadata": {},
   "outputs": [],
   "source": [
    "# send_input_text()"
   ]
  },
  {
   "cell_type": "code",
   "execution_count": 15,
   "metadata": {},
   "outputs": [],
   "source": [
    "# 禁止名单,遇到这些人，会直接continue循环,不会对这些人打招呼\n",
    "banned_list = ['凡鲁']"
   ]
  },
  {
   "cell_type": "code",
   "execution_count": 28,
   "metadata": {
    "scrolled": true
   },
   "outputs": [
    {
     "name": "stdout",
     "output_type": "stream",
     "text": [
      "1868595gejf\n",
      "10.734290838241577 \n",
      "\n",
      "12.375375032424927 \n",
      "\n",
      "盖光层层\n",
      "5.1002678871154785 \n",
      "\n",
      "10.707144260406494 \n",
      "\n",
      "泡jiojio女孩\n"
     ]
    },
    {
     "ename": "KeyboardInterrupt",
     "evalue": "",
     "output_type": "error",
     "traceback": [
      "\u001b[0;31m---------------------------------------------------------------------------\u001b[0m",
      "\u001b[0;31mTypeError\u001b[0m                                 Traceback (most recent call last)",
      "\u001b[0;32m~/anaconda3/lib/python3.7/site-packages/urllib3/connectionpool.py\u001b[0m in \u001b[0;36m_make_request\u001b[0;34m(self, conn, method, url, timeout, chunked, **httplib_request_kw)\u001b[0m\n\u001b[1;32m    376\u001b[0m             \u001b[0;32mtry\u001b[0m\u001b[0;34m:\u001b[0m  \u001b[0;31m# Python 2.7, use buffering of HTTP responses\u001b[0m\u001b[0;34m\u001b[0m\u001b[0;34m\u001b[0m\u001b[0m\n\u001b[0;32m--> 377\u001b[0;31m                 \u001b[0mhttplib_response\u001b[0m \u001b[0;34m=\u001b[0m \u001b[0mconn\u001b[0m\u001b[0;34m.\u001b[0m\u001b[0mgetresponse\u001b[0m\u001b[0;34m(\u001b[0m\u001b[0mbuffering\u001b[0m\u001b[0;34m=\u001b[0m\u001b[0;32mTrue\u001b[0m\u001b[0;34m)\u001b[0m\u001b[0;34m\u001b[0m\u001b[0;34m\u001b[0m\u001b[0m\n\u001b[0m\u001b[1;32m    378\u001b[0m             \u001b[0;32mexcept\u001b[0m \u001b[0mTypeError\u001b[0m\u001b[0;34m:\u001b[0m  \u001b[0;31m# Python 3\u001b[0m\u001b[0;34m\u001b[0m\u001b[0;34m\u001b[0m\u001b[0m\n",
      "\u001b[0;31mTypeError\u001b[0m: getresponse() got an unexpected keyword argument 'buffering'",
      "\nDuring handling of the above exception, another exception occurred:\n",
      "\u001b[0;31mKeyboardInterrupt\u001b[0m                         Traceback (most recent call last)",
      "\u001b[0;32m<ipython-input-28-504ecb5c2430>\u001b[0m in \u001b[0;36m<module>\u001b[0;34m\u001b[0m\n\u001b[1;32m     17\u001b[0m             \u001b[0;32mcontinue\u001b[0m\u001b[0;34m\u001b[0m\u001b[0;34m\u001b[0m\u001b[0m\n\u001b[1;32m     18\u001b[0m         \u001b[0mtext_content\u001b[0m \u001b[0;34m=\u001b[0m \u001b[0;34m'欢迎～～'\u001b[0m\u001b[0;34m+\u001b[0m \u001b[0mname\u001b[0m \u001b[0;31m#在这里输入你要发送的\u001b[0m\u001b[0;34m\u001b[0m\u001b[0;34m\u001b[0m\u001b[0m\n\u001b[0;32m---> 19\u001b[0;31m         \u001b[0msend_text\u001b[0m\u001b[0;34m(\u001b[0m\u001b[0mtext_content\u001b[0m\u001b[0;34m)\u001b[0m\u001b[0;34m\u001b[0m\u001b[0;34m\u001b[0m\u001b[0m\n\u001b[0m\u001b[1;32m     20\u001b[0m         \u001b[0msend_time\u001b[0m \u001b[0;34m=\u001b[0m \u001b[0mtime\u001b[0m\u001b[0;34m.\u001b[0m\u001b[0mtime\u001b[0m\u001b[0;34m(\u001b[0m\u001b[0;34m)\u001b[0m\u001b[0;34m-\u001b[0m\u001b[0msend_time_begin\u001b[0m \u001b[0;31m#这里计算发送信息花的时间\u001b[0m\u001b[0;34m\u001b[0m\u001b[0;34m\u001b[0m\u001b[0m\n\u001b[1;32m     21\u001b[0m         \u001b[0mprint\u001b[0m\u001b[0;34m(\u001b[0m\u001b[0msend_time\u001b[0m\u001b[0;34m,\u001b[0m\u001b[0;34m'\\n'\u001b[0m\u001b[0;34m)\u001b[0m\u001b[0;34m\u001b[0m\u001b[0;34m\u001b[0m\u001b[0m\n",
      "\u001b[0;32m<ipython-input-10-7129c82289d5>\u001b[0m in \u001b[0;36msend_text\u001b[0;34m(text_content)\u001b[0m\n\u001b[1;32m      2\u001b[0m \u001b[0;32mdef\u001b[0m \u001b[0msend_text\u001b[0m\u001b[0;34m(\u001b[0m\u001b[0mtext_content\u001b[0m\u001b[0;34m)\u001b[0m\u001b[0;34m:\u001b[0m\u001b[0;34m\u001b[0m\u001b[0;34m\u001b[0m\u001b[0m\n\u001b[1;32m      3\u001b[0m     \u001b[0mtext_box\u001b[0m\u001b[0;34m.\u001b[0m\u001b[0mset_text\u001b[0m\u001b[0;34m(\u001b[0m\u001b[0mtext_content\u001b[0m\u001b[0;34m)\u001b[0m\u001b[0;34m\u001b[0m\u001b[0;34m\u001b[0m\u001b[0m\n\u001b[0;32m----> 4\u001b[0;31m     \u001b[0ms\u001b[0m\u001b[0;34m.\u001b[0m\u001b[0mtap\u001b[0m\u001b[0;34m(\u001b[0m\u001b[0;34m*\u001b[0m\u001b[0mposition_dic\u001b[0m\u001b[0;34m[\u001b[0m\u001b[0;34m'发送文本'\u001b[0m\u001b[0;34m]\u001b[0m\u001b[0;34m)\u001b[0m \u001b[0;31m#按下发送按钮\u001b[0m\u001b[0;34m\u001b[0m\u001b[0;34m\u001b[0m\u001b[0m\n\u001b[0m\u001b[1;32m      5\u001b[0m     \u001b[0ms\u001b[0m\u001b[0;34m.\u001b[0m\u001b[0mtap\u001b[0m\u001b[0;34m(\u001b[0m\u001b[0;34m*\u001b[0m\u001b[0mposition_dic\u001b[0m\u001b[0;34m[\u001b[0m\u001b[0;34m'最小化'\u001b[0m\u001b[0;34m]\u001b[0m\u001b[0;34m)\u001b[0m\u001b[0;34m\u001b[0m\u001b[0;34m\u001b[0m\u001b[0m\n",
      "\u001b[0;32m~/anaconda3/lib/python3.7/site-packages/wda/__init__.py\u001b[0m in \u001b[0;36mtap\u001b[0;34m(self, x, y)\u001b[0m\n\u001b[1;32m    427\u001b[0m \u001b[0;34m\u001b[0m\u001b[0m\n\u001b[1;32m    428\u001b[0m     \u001b[0;32mdef\u001b[0m \u001b[0mtap\u001b[0m\u001b[0;34m(\u001b[0m\u001b[0mself\u001b[0m\u001b[0;34m,\u001b[0m \u001b[0mx\u001b[0m\u001b[0;34m,\u001b[0m \u001b[0my\u001b[0m\u001b[0;34m)\u001b[0m\u001b[0;34m:\u001b[0m\u001b[0;34m\u001b[0m\u001b[0;34m\u001b[0m\u001b[0m\n\u001b[0;32m--> 429\u001b[0;31m         \u001b[0;32mreturn\u001b[0m \u001b[0mself\u001b[0m\u001b[0;34m.\u001b[0m\u001b[0mhttp\u001b[0m\u001b[0;34m.\u001b[0m\u001b[0mpost\u001b[0m\u001b[0;34m(\u001b[0m\u001b[0;34m'/wda/tap/0'\u001b[0m\u001b[0;34m,\u001b[0m \u001b[0mdict\u001b[0m\u001b[0;34m(\u001b[0m\u001b[0mx\u001b[0m\u001b[0;34m=\u001b[0m\u001b[0mx\u001b[0m\u001b[0;34m,\u001b[0m \u001b[0my\u001b[0m\u001b[0;34m=\u001b[0m\u001b[0my\u001b[0m\u001b[0;34m)\u001b[0m\u001b[0;34m)\u001b[0m\u001b[0;34m\u001b[0m\u001b[0;34m\u001b[0m\u001b[0m\n\u001b[0m\u001b[1;32m    430\u001b[0m \u001b[0;34m\u001b[0m\u001b[0m\n\u001b[1;32m    431\u001b[0m     \u001b[0;32mdef\u001b[0m \u001b[0m_percent2pos\u001b[0m\u001b[0;34m(\u001b[0m\u001b[0mself\u001b[0m\u001b[0;34m,\u001b[0m \u001b[0mpx\u001b[0m\u001b[0;34m,\u001b[0m \u001b[0mpy\u001b[0m\u001b[0;34m)\u001b[0m\u001b[0;34m:\u001b[0m\u001b[0;34m\u001b[0m\u001b[0;34m\u001b[0m\u001b[0m\n",
      "\u001b[0;32m~/anaconda3/lib/python3.7/site-packages/wda/__init__.py\u001b[0m in \u001b[0;36mfetch\u001b[0;34m(self, method, url, data)\u001b[0m\n\u001b[1;32m    106\u001b[0m \u001b[0;34m\u001b[0m\u001b[0m\n\u001b[1;32m    107\u001b[0m     \u001b[0;32mdef\u001b[0m \u001b[0mfetch\u001b[0m\u001b[0;34m(\u001b[0m\u001b[0mself\u001b[0m\u001b[0;34m,\u001b[0m \u001b[0mmethod\u001b[0m\u001b[0;34m,\u001b[0m \u001b[0murl\u001b[0m\u001b[0;34m,\u001b[0m \u001b[0mdata\u001b[0m\u001b[0;34m=\u001b[0m\u001b[0;32mNone\u001b[0m\u001b[0;34m)\u001b[0m\u001b[0;34m:\u001b[0m\u001b[0;34m\u001b[0m\u001b[0;34m\u001b[0m\u001b[0m\n\u001b[0;32m--> 108\u001b[0;31m         \u001b[0;32mreturn\u001b[0m \u001b[0mself\u001b[0m\u001b[0;34m.\u001b[0m\u001b[0m_fetch_no_alert\u001b[0m\u001b[0;34m(\u001b[0m\u001b[0mmethod\u001b[0m\u001b[0;34m,\u001b[0m \u001b[0murl\u001b[0m\u001b[0;34m,\u001b[0m \u001b[0mdata\u001b[0m\u001b[0;34m)\u001b[0m\u001b[0;34m\u001b[0m\u001b[0;34m\u001b[0m\u001b[0m\n\u001b[0m\u001b[1;32m    109\u001b[0m         \u001b[0;31m# return httpdo(urljoin(self.address, url), method, data)\u001b[0m\u001b[0;34m\u001b[0m\u001b[0;34m\u001b[0m\u001b[0;34m\u001b[0m\u001b[0m\n\u001b[1;32m    110\u001b[0m \u001b[0;34m\u001b[0m\u001b[0m\n",
      "\u001b[0;32m~/anaconda3/lib/python3.7/site-packages/wda/__init__.py\u001b[0m in \u001b[0;36m_fetch_no_alert\u001b[0;34m(self, method, url, data, depth)\u001b[0m\n\u001b[1;32m    112\u001b[0m         \u001b[0mtarget_url\u001b[0m \u001b[0;34m=\u001b[0m \u001b[0murljoin\u001b[0m\u001b[0;34m(\u001b[0m\u001b[0mself\u001b[0m\u001b[0;34m.\u001b[0m\u001b[0maddress\u001b[0m\u001b[0;34m,\u001b[0m \u001b[0murl\u001b[0m\u001b[0;34m)\u001b[0m\u001b[0;34m\u001b[0m\u001b[0;34m\u001b[0m\u001b[0m\n\u001b[1;32m    113\u001b[0m         \u001b[0;32mtry\u001b[0m\u001b[0;34m:\u001b[0m\u001b[0;34m\u001b[0m\u001b[0;34m\u001b[0m\u001b[0m\n\u001b[0;32m--> 114\u001b[0;31m             \u001b[0;32mreturn\u001b[0m \u001b[0mhttpdo\u001b[0m\u001b[0;34m(\u001b[0m\u001b[0mtarget_url\u001b[0m\u001b[0;34m,\u001b[0m \u001b[0mmethod\u001b[0m\u001b[0;34m,\u001b[0m \u001b[0mdata\u001b[0m\u001b[0;34m)\u001b[0m\u001b[0;34m\u001b[0m\u001b[0;34m\u001b[0m\u001b[0m\n\u001b[0m\u001b[1;32m    115\u001b[0m         \u001b[0;32mexcept\u001b[0m \u001b[0mWDAError\u001b[0m \u001b[0;32mas\u001b[0m \u001b[0merr\u001b[0m\u001b[0;34m:\u001b[0m\u001b[0;34m\u001b[0m\u001b[0;34m\u001b[0m\u001b[0m\n\u001b[1;32m    116\u001b[0m             \u001b[0;32mif\u001b[0m \u001b[0mdepth\u001b[0m \u001b[0;34m>=\u001b[0m \u001b[0;36m10\u001b[0m\u001b[0;34m:\u001b[0m\u001b[0;34m\u001b[0m\u001b[0;34m\u001b[0m\u001b[0m\n",
      "\u001b[0;32m~/anaconda3/lib/python3.7/site-packages/wda/__init__.py\u001b[0m in \u001b[0;36mhttpdo\u001b[0;34m(url, method, data)\u001b[0m\n\u001b[1;32m     69\u001b[0m \u001b[0;34m\u001b[0m\u001b[0m\n\u001b[1;32m     70\u001b[0m     \u001b[0;32mtry\u001b[0m\u001b[0;34m:\u001b[0m\u001b[0;34m\u001b[0m\u001b[0;34m\u001b[0m\u001b[0m\n\u001b[0;32m---> 71\u001b[0;31m         \u001b[0mresponse\u001b[0m \u001b[0;34m=\u001b[0m \u001b[0mrequests\u001b[0m\u001b[0;34m.\u001b[0m\u001b[0mrequest\u001b[0m\u001b[0;34m(\u001b[0m\u001b[0mmethod\u001b[0m\u001b[0;34m,\u001b[0m \u001b[0murl\u001b[0m\u001b[0;34m,\u001b[0m \u001b[0mdata\u001b[0m\u001b[0;34m=\u001b[0m\u001b[0mdata\u001b[0m\u001b[0;34m,\u001b[0m \u001b[0mtimeout\u001b[0m\u001b[0;34m=\u001b[0m\u001b[0mHTTP_TIMEOUT\u001b[0m\u001b[0;34m)\u001b[0m\u001b[0;34m\u001b[0m\u001b[0;34m\u001b[0m\u001b[0m\n\u001b[0m\u001b[1;32m     72\u001b[0m     \u001b[0;32mexcept\u001b[0m \u001b[0;34m(\u001b[0m\u001b[0mrequests\u001b[0m\u001b[0;34m.\u001b[0m\u001b[0mexceptions\u001b[0m\u001b[0;34m.\u001b[0m\u001b[0mConnectionError\u001b[0m\u001b[0;34m,\u001b[0m \u001b[0mrequests\u001b[0m\u001b[0;34m.\u001b[0m\u001b[0mexceptions\u001b[0m\u001b[0;34m.\u001b[0m\u001b[0mReadTimeout\u001b[0m\u001b[0;34m)\u001b[0m\u001b[0;34m:\u001b[0m\u001b[0;34m\u001b[0m\u001b[0;34m\u001b[0m\u001b[0m\n\u001b[1;32m     73\u001b[0m         \u001b[0;31m# retry again\u001b[0m\u001b[0;34m\u001b[0m\u001b[0;34m\u001b[0m\u001b[0;34m\u001b[0m\u001b[0m\n",
      "\u001b[0;32m~/anaconda3/lib/python3.7/site-packages/requests/api.py\u001b[0m in \u001b[0;36mrequest\u001b[0;34m(method, url, **kwargs)\u001b[0m\n\u001b[1;32m     58\u001b[0m     \u001b[0;31m# cases, and look like a memory leak in others.\u001b[0m\u001b[0;34m\u001b[0m\u001b[0;34m\u001b[0m\u001b[0;34m\u001b[0m\u001b[0m\n\u001b[1;32m     59\u001b[0m     \u001b[0;32mwith\u001b[0m \u001b[0msessions\u001b[0m\u001b[0;34m.\u001b[0m\u001b[0mSession\u001b[0m\u001b[0;34m(\u001b[0m\u001b[0;34m)\u001b[0m \u001b[0;32mas\u001b[0m \u001b[0msession\u001b[0m\u001b[0;34m:\u001b[0m\u001b[0;34m\u001b[0m\u001b[0;34m\u001b[0m\u001b[0m\n\u001b[0;32m---> 60\u001b[0;31m         \u001b[0;32mreturn\u001b[0m \u001b[0msession\u001b[0m\u001b[0;34m.\u001b[0m\u001b[0mrequest\u001b[0m\u001b[0;34m(\u001b[0m\u001b[0mmethod\u001b[0m\u001b[0;34m=\u001b[0m\u001b[0mmethod\u001b[0m\u001b[0;34m,\u001b[0m \u001b[0murl\u001b[0m\u001b[0;34m=\u001b[0m\u001b[0murl\u001b[0m\u001b[0;34m,\u001b[0m \u001b[0;34m**\u001b[0m\u001b[0mkwargs\u001b[0m\u001b[0;34m)\u001b[0m\u001b[0;34m\u001b[0m\u001b[0;34m\u001b[0m\u001b[0m\n\u001b[0m\u001b[1;32m     61\u001b[0m \u001b[0;34m\u001b[0m\u001b[0m\n\u001b[1;32m     62\u001b[0m \u001b[0;34m\u001b[0m\u001b[0m\n",
      "\u001b[0;32m~/anaconda3/lib/python3.7/site-packages/requests/sessions.py\u001b[0m in \u001b[0;36mrequest\u001b[0;34m(self, method, url, params, data, headers, cookies, files, auth, timeout, allow_redirects, proxies, hooks, stream, verify, cert, json)\u001b[0m\n\u001b[1;32m    531\u001b[0m         }\n\u001b[1;32m    532\u001b[0m         \u001b[0msend_kwargs\u001b[0m\u001b[0;34m.\u001b[0m\u001b[0mupdate\u001b[0m\u001b[0;34m(\u001b[0m\u001b[0msettings\u001b[0m\u001b[0;34m)\u001b[0m\u001b[0;34m\u001b[0m\u001b[0;34m\u001b[0m\u001b[0m\n\u001b[0;32m--> 533\u001b[0;31m         \u001b[0mresp\u001b[0m \u001b[0;34m=\u001b[0m \u001b[0mself\u001b[0m\u001b[0;34m.\u001b[0m\u001b[0msend\u001b[0m\u001b[0;34m(\u001b[0m\u001b[0mprep\u001b[0m\u001b[0;34m,\u001b[0m \u001b[0;34m**\u001b[0m\u001b[0msend_kwargs\u001b[0m\u001b[0;34m)\u001b[0m\u001b[0;34m\u001b[0m\u001b[0;34m\u001b[0m\u001b[0m\n\u001b[0m\u001b[1;32m    534\u001b[0m \u001b[0;34m\u001b[0m\u001b[0m\n\u001b[1;32m    535\u001b[0m         \u001b[0;32mreturn\u001b[0m \u001b[0mresp\u001b[0m\u001b[0;34m\u001b[0m\u001b[0;34m\u001b[0m\u001b[0m\n",
      "\u001b[0;32m~/anaconda3/lib/python3.7/site-packages/requests/sessions.py\u001b[0m in \u001b[0;36msend\u001b[0;34m(self, request, **kwargs)\u001b[0m\n\u001b[1;32m    644\u001b[0m \u001b[0;34m\u001b[0m\u001b[0m\n\u001b[1;32m    645\u001b[0m         \u001b[0;31m# Send the request\u001b[0m\u001b[0;34m\u001b[0m\u001b[0;34m\u001b[0m\u001b[0;34m\u001b[0m\u001b[0m\n\u001b[0;32m--> 646\u001b[0;31m         \u001b[0mr\u001b[0m \u001b[0;34m=\u001b[0m \u001b[0madapter\u001b[0m\u001b[0;34m.\u001b[0m\u001b[0msend\u001b[0m\u001b[0;34m(\u001b[0m\u001b[0mrequest\u001b[0m\u001b[0;34m,\u001b[0m \u001b[0;34m**\u001b[0m\u001b[0mkwargs\u001b[0m\u001b[0;34m)\u001b[0m\u001b[0;34m\u001b[0m\u001b[0;34m\u001b[0m\u001b[0m\n\u001b[0m\u001b[1;32m    647\u001b[0m \u001b[0;34m\u001b[0m\u001b[0m\n\u001b[1;32m    648\u001b[0m         \u001b[0;31m# Total elapsed time of the request (approximately)\u001b[0m\u001b[0;34m\u001b[0m\u001b[0;34m\u001b[0m\u001b[0;34m\u001b[0m\u001b[0m\n",
      "\u001b[0;32m~/anaconda3/lib/python3.7/site-packages/requests/adapters.py\u001b[0m in \u001b[0;36msend\u001b[0;34m(self, request, stream, timeout, verify, cert, proxies)\u001b[0m\n\u001b[1;32m    447\u001b[0m                     \u001b[0mdecode_content\u001b[0m\u001b[0;34m=\u001b[0m\u001b[0;32mFalse\u001b[0m\u001b[0;34m,\u001b[0m\u001b[0;34m\u001b[0m\u001b[0;34m\u001b[0m\u001b[0m\n\u001b[1;32m    448\u001b[0m                     \u001b[0mretries\u001b[0m\u001b[0;34m=\u001b[0m\u001b[0mself\u001b[0m\u001b[0;34m.\u001b[0m\u001b[0mmax_retries\u001b[0m\u001b[0;34m,\u001b[0m\u001b[0;34m\u001b[0m\u001b[0;34m\u001b[0m\u001b[0m\n\u001b[0;32m--> 449\u001b[0;31m                     \u001b[0mtimeout\u001b[0m\u001b[0;34m=\u001b[0m\u001b[0mtimeout\u001b[0m\u001b[0;34m\u001b[0m\u001b[0;34m\u001b[0m\u001b[0m\n\u001b[0m\u001b[1;32m    450\u001b[0m                 )\n\u001b[1;32m    451\u001b[0m \u001b[0;34m\u001b[0m\u001b[0m\n",
      "\u001b[0;32m~/anaconda3/lib/python3.7/site-packages/urllib3/connectionpool.py\u001b[0m in \u001b[0;36murlopen\u001b[0;34m(self, method, url, body, headers, retries, redirect, assert_same_host, timeout, pool_timeout, release_conn, chunked, body_pos, **response_kw)\u001b[0m\n\u001b[1;32m    598\u001b[0m                                                   \u001b[0mtimeout\u001b[0m\u001b[0;34m=\u001b[0m\u001b[0mtimeout_obj\u001b[0m\u001b[0;34m,\u001b[0m\u001b[0;34m\u001b[0m\u001b[0;34m\u001b[0m\u001b[0m\n\u001b[1;32m    599\u001b[0m                                                   \u001b[0mbody\u001b[0m\u001b[0;34m=\u001b[0m\u001b[0mbody\u001b[0m\u001b[0;34m,\u001b[0m \u001b[0mheaders\u001b[0m\u001b[0;34m=\u001b[0m\u001b[0mheaders\u001b[0m\u001b[0;34m,\u001b[0m\u001b[0;34m\u001b[0m\u001b[0;34m\u001b[0m\u001b[0m\n\u001b[0;32m--> 600\u001b[0;31m                                                   chunked=chunked)\n\u001b[0m\u001b[1;32m    601\u001b[0m \u001b[0;34m\u001b[0m\u001b[0m\n\u001b[1;32m    602\u001b[0m             \u001b[0;31m# If we're going to release the connection in ``finally:``, then\u001b[0m\u001b[0;34m\u001b[0m\u001b[0;34m\u001b[0m\u001b[0;34m\u001b[0m\u001b[0m\n",
      "\u001b[0;32m~/anaconda3/lib/python3.7/site-packages/urllib3/connectionpool.py\u001b[0m in \u001b[0;36m_make_request\u001b[0;34m(self, conn, method, url, timeout, chunked, **httplib_request_kw)\u001b[0m\n\u001b[1;32m    378\u001b[0m             \u001b[0;32mexcept\u001b[0m \u001b[0mTypeError\u001b[0m\u001b[0;34m:\u001b[0m  \u001b[0;31m# Python 3\u001b[0m\u001b[0;34m\u001b[0m\u001b[0;34m\u001b[0m\u001b[0m\n\u001b[1;32m    379\u001b[0m                 \u001b[0;32mtry\u001b[0m\u001b[0;34m:\u001b[0m\u001b[0;34m\u001b[0m\u001b[0;34m\u001b[0m\u001b[0m\n\u001b[0;32m--> 380\u001b[0;31m                     \u001b[0mhttplib_response\u001b[0m \u001b[0;34m=\u001b[0m \u001b[0mconn\u001b[0m\u001b[0;34m.\u001b[0m\u001b[0mgetresponse\u001b[0m\u001b[0;34m(\u001b[0m\u001b[0;34m)\u001b[0m\u001b[0;34m\u001b[0m\u001b[0;34m\u001b[0m\u001b[0m\n\u001b[0m\u001b[1;32m    381\u001b[0m                 \u001b[0;32mexcept\u001b[0m \u001b[0mException\u001b[0m \u001b[0;32mas\u001b[0m \u001b[0me\u001b[0m\u001b[0;34m:\u001b[0m\u001b[0;34m\u001b[0m\u001b[0;34m\u001b[0m\u001b[0m\n\u001b[1;32m    382\u001b[0m                     \u001b[0;31m# Remove the TypeError from the exception chain in Python 3;\u001b[0m\u001b[0;34m\u001b[0m\u001b[0;34m\u001b[0m\u001b[0;34m\u001b[0m\u001b[0m\n",
      "\u001b[0;32m~/anaconda3/lib/python3.7/http/client.py\u001b[0m in \u001b[0;36mgetresponse\u001b[0;34m(self)\u001b[0m\n\u001b[1;32m   1319\u001b[0m         \u001b[0;32mtry\u001b[0m\u001b[0;34m:\u001b[0m\u001b[0;34m\u001b[0m\u001b[0;34m\u001b[0m\u001b[0m\n\u001b[1;32m   1320\u001b[0m             \u001b[0;32mtry\u001b[0m\u001b[0;34m:\u001b[0m\u001b[0;34m\u001b[0m\u001b[0;34m\u001b[0m\u001b[0m\n\u001b[0;32m-> 1321\u001b[0;31m                 \u001b[0mresponse\u001b[0m\u001b[0;34m.\u001b[0m\u001b[0mbegin\u001b[0m\u001b[0;34m(\u001b[0m\u001b[0;34m)\u001b[0m\u001b[0;34m\u001b[0m\u001b[0;34m\u001b[0m\u001b[0m\n\u001b[0m\u001b[1;32m   1322\u001b[0m             \u001b[0;32mexcept\u001b[0m \u001b[0mConnectionError\u001b[0m\u001b[0;34m:\u001b[0m\u001b[0;34m\u001b[0m\u001b[0;34m\u001b[0m\u001b[0m\n\u001b[1;32m   1323\u001b[0m                 \u001b[0mself\u001b[0m\u001b[0;34m.\u001b[0m\u001b[0mclose\u001b[0m\u001b[0;34m(\u001b[0m\u001b[0;34m)\u001b[0m\u001b[0;34m\u001b[0m\u001b[0;34m\u001b[0m\u001b[0m\n",
      "\u001b[0;32m~/anaconda3/lib/python3.7/http/client.py\u001b[0m in \u001b[0;36mbegin\u001b[0;34m(self)\u001b[0m\n\u001b[1;32m    294\u001b[0m         \u001b[0;31m# read until we get a non-100 response\u001b[0m\u001b[0;34m\u001b[0m\u001b[0;34m\u001b[0m\u001b[0;34m\u001b[0m\u001b[0m\n\u001b[1;32m    295\u001b[0m         \u001b[0;32mwhile\u001b[0m \u001b[0;32mTrue\u001b[0m\u001b[0;34m:\u001b[0m\u001b[0;34m\u001b[0m\u001b[0;34m\u001b[0m\u001b[0m\n\u001b[0;32m--> 296\u001b[0;31m             \u001b[0mversion\u001b[0m\u001b[0;34m,\u001b[0m \u001b[0mstatus\u001b[0m\u001b[0;34m,\u001b[0m \u001b[0mreason\u001b[0m \u001b[0;34m=\u001b[0m \u001b[0mself\u001b[0m\u001b[0;34m.\u001b[0m\u001b[0m_read_status\u001b[0m\u001b[0;34m(\u001b[0m\u001b[0;34m)\u001b[0m\u001b[0;34m\u001b[0m\u001b[0;34m\u001b[0m\u001b[0m\n\u001b[0m\u001b[1;32m    297\u001b[0m             \u001b[0;32mif\u001b[0m \u001b[0mstatus\u001b[0m \u001b[0;34m!=\u001b[0m \u001b[0mCONTINUE\u001b[0m\u001b[0;34m:\u001b[0m\u001b[0;34m\u001b[0m\u001b[0;34m\u001b[0m\u001b[0m\n\u001b[1;32m    298\u001b[0m                 \u001b[0;32mbreak\u001b[0m\u001b[0;34m\u001b[0m\u001b[0;34m\u001b[0m\u001b[0m\n",
      "\u001b[0;32m~/anaconda3/lib/python3.7/http/client.py\u001b[0m in \u001b[0;36m_read_status\u001b[0;34m(self)\u001b[0m\n\u001b[1;32m    255\u001b[0m \u001b[0;34m\u001b[0m\u001b[0m\n\u001b[1;32m    256\u001b[0m     \u001b[0;32mdef\u001b[0m \u001b[0m_read_status\u001b[0m\u001b[0;34m(\u001b[0m\u001b[0mself\u001b[0m\u001b[0;34m)\u001b[0m\u001b[0;34m:\u001b[0m\u001b[0;34m\u001b[0m\u001b[0;34m\u001b[0m\u001b[0m\n\u001b[0;32m--> 257\u001b[0;31m         \u001b[0mline\u001b[0m \u001b[0;34m=\u001b[0m \u001b[0mstr\u001b[0m\u001b[0;34m(\u001b[0m\u001b[0mself\u001b[0m\u001b[0;34m.\u001b[0m\u001b[0mfp\u001b[0m\u001b[0;34m.\u001b[0m\u001b[0mreadline\u001b[0m\u001b[0;34m(\u001b[0m\u001b[0m_MAXLINE\u001b[0m \u001b[0;34m+\u001b[0m \u001b[0;36m1\u001b[0m\u001b[0;34m)\u001b[0m\u001b[0;34m,\u001b[0m \u001b[0;34m\"iso-8859-1\"\u001b[0m\u001b[0;34m)\u001b[0m\u001b[0;34m\u001b[0m\u001b[0;34m\u001b[0m\u001b[0m\n\u001b[0m\u001b[1;32m    258\u001b[0m         \u001b[0;32mif\u001b[0m \u001b[0mlen\u001b[0m\u001b[0;34m(\u001b[0m\u001b[0mline\u001b[0m\u001b[0;34m)\u001b[0m \u001b[0;34m>\u001b[0m \u001b[0m_MAXLINE\u001b[0m\u001b[0;34m:\u001b[0m\u001b[0;34m\u001b[0m\u001b[0;34m\u001b[0m\u001b[0m\n\u001b[1;32m    259\u001b[0m             \u001b[0;32mraise\u001b[0m \u001b[0mLineTooLong\u001b[0m\u001b[0;34m(\u001b[0m\u001b[0;34m\"status line\"\u001b[0m\u001b[0;34m)\u001b[0m\u001b[0;34m\u001b[0m\u001b[0;34m\u001b[0m\u001b[0m\n",
      "\u001b[0;32m~/anaconda3/lib/python3.7/socket.py\u001b[0m in \u001b[0;36mreadinto\u001b[0;34m(self, b)\u001b[0m\n\u001b[1;32m    587\u001b[0m         \u001b[0;32mwhile\u001b[0m \u001b[0;32mTrue\u001b[0m\u001b[0;34m:\u001b[0m\u001b[0;34m\u001b[0m\u001b[0;34m\u001b[0m\u001b[0m\n\u001b[1;32m    588\u001b[0m             \u001b[0;32mtry\u001b[0m\u001b[0;34m:\u001b[0m\u001b[0;34m\u001b[0m\u001b[0;34m\u001b[0m\u001b[0m\n\u001b[0;32m--> 589\u001b[0;31m                 \u001b[0;32mreturn\u001b[0m \u001b[0mself\u001b[0m\u001b[0;34m.\u001b[0m\u001b[0m_sock\u001b[0m\u001b[0;34m.\u001b[0m\u001b[0mrecv_into\u001b[0m\u001b[0;34m(\u001b[0m\u001b[0mb\u001b[0m\u001b[0;34m)\u001b[0m\u001b[0;34m\u001b[0m\u001b[0;34m\u001b[0m\u001b[0m\n\u001b[0m\u001b[1;32m    590\u001b[0m             \u001b[0;32mexcept\u001b[0m \u001b[0mtimeout\u001b[0m\u001b[0;34m:\u001b[0m\u001b[0;34m\u001b[0m\u001b[0;34m\u001b[0m\u001b[0m\n\u001b[1;32m    591\u001b[0m                 \u001b[0mself\u001b[0m\u001b[0;34m.\u001b[0m\u001b[0m_timeout_occurred\u001b[0m \u001b[0;34m=\u001b[0m \u001b[0;32mTrue\u001b[0m\u001b[0;34m\u001b[0m\u001b[0;34m\u001b[0m\u001b[0m\n",
      "\u001b[0;31mKeyboardInterrupt\u001b[0m: "
     ]
    }
   ],
   "source": [
    "# ------主程序------\n",
    "\n",
    "\n",
    "\n",
    "\n",
    "last_time = time.time()\n",
    "send_time = 0\n",
    "\n",
    "while True:\n",
    "    name = get_name_with_try() #获取进入房间的人的名字\n",
    "    if name:\n",
    "        send_time_begin = time.time()\n",
    "        print(name)\n",
    "        if name in banned_list:\n",
    "            continue\n",
    "        text_content = '欢迎～～'+ name #在这里输入你要发送的\n",
    "        send_text(text_content)\n",
    "        send_time = time.time()-send_time_begin #这里计算发送信息花的时间\n",
    "        print(send_time,'\\n')\n",
    "        time.sleep(10)\n",
    "\n",
    "\n",
    "\n",
    "#     break #如果只想发送一次，就打开这个break\n",
    "# 计算使用的时间，如果时间过长，出房间再进房间\n",
    "    use_time = time.time()-last_time - send_time #除去发送，剩下花的时间（循环一次的时间）\n",
    "\n",
    "    if use_time > 3:\n",
    "        print(use_time,'\\n')\n",
    "        out_and_reenter_room()\n",
    "\n",
    "    last_time = time.time()\n",
    "    send_time = 0"
   ]
  },
  {
   "cell_type": "code",
   "execution_count": null,
   "metadata": {},
   "outputs": [],
   "source": []
  },
  {
   "cell_type": "code",
   "execution_count": null,
   "metadata": {},
   "outputs": [],
   "source": []
  }
 ],
 "metadata": {
  "kernelspec": {
   "display_name": "Python 3",
   "language": "python",
   "name": "python3"
  },
  "language_info": {
   "codemirror_mode": {
    "name": "ipython",
    "version": 3
   },
   "file_extension": ".py",
   "mimetype": "text/x-python",
   "name": "python",
   "nbconvert_exporter": "python",
   "pygments_lexer": "ipython3",
   "version": "3.7.1"
  }
 },
 "nbformat": 4,
 "nbformat_minor": 2
}
