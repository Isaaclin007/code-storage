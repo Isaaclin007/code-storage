{
 "cells": [
  {
   "cell_type": "code",
   "execution_count": 1,
   "metadata": {},
   "outputs": [
    {
     "name": "stdout",
     "output_type": "stream",
     "text": [
      "Populating the interactive namespace from numpy and matplotlib\n"
     ]
    }
   ],
   "source": [
    "import pandas as pd\n",
    "%pylab inline"
   ]
  },
  {
   "cell_type": "code",
   "execution_count": 2,
   "metadata": {},
   "outputs": [],
   "source": [
    "df_bcom_raw = pd.read_excel('bcom index since 1969.xlsx', skiprows=[0,1,2,3,4,5], parse_dates=['Date'], index_col=0)\n",
    "df_spx_raw = pd.read_excel('spx index since1969.xlsx', skiprows=[0,1,2,3,4,5], parse_dates=['Date'], index_col=0)\n"
   ]
  },
  {
   "cell_type": "code",
   "execution_count": 3,
   "metadata": {},
   "outputs": [],
   "source": [
    "df_bcom_close = df_bcom_raw.PX_LAST\n",
    "df_spx_close = df_spx_raw.PX_LAST"
   ]
  },
  {
   "cell_type": "code",
   "execution_count": 4,
   "metadata": {},
   "outputs": [],
   "source": [
    "# index从小到大排列\n",
    "\n",
    "df_bcom_close = df_bcom_close.sort_index(ascending=True)\n",
    "df_spx_close = df_spx_close.sort_index(ascending=True)"
   ]
  },
  {
   "cell_type": "code",
   "execution_count": 5,
   "metadata": {},
   "outputs": [
    {
     "data": {
      "text/plain": [
       "Date\n",
       "1969-12-04    91.95\n",
       "1969-12-05    91.73\n",
       "1969-12-08    90.63\n",
       "1969-12-09    90.55\n",
       "1969-12-10    90.48\n",
       "Name: PX_LAST, dtype: float64"
      ]
     },
     "execution_count": 5,
     "metadata": {},
     "output_type": "execute_result"
    }
   ],
   "source": [
    "df_spx_close.head()"
   ]
  },
  {
   "cell_type": "code",
   "execution_count": 11,
   "metadata": {},
   "outputs": [
    {
     "data": {
      "text/html": [
       "<div>\n",
       "<style scoped>\n",
       "    .dataframe tbody tr th:only-of-type {\n",
       "        vertical-align: middle;\n",
       "    }\n",
       "\n",
       "    .dataframe tbody tr th {\n",
       "        vertical-align: top;\n",
       "    }\n",
       "\n",
       "    .dataframe thead th {\n",
       "        text-align: right;\n",
       "    }\n",
       "</style>\n",
       "<table border=\"1\" class=\"dataframe\">\n",
       "  <thead>\n",
       "    <tr style=\"text-align: right;\">\n",
       "      <th></th>\n",
       "      <th>spx_close</th>\n",
       "      <th>bcom_close</th>\n",
       "    </tr>\n",
       "    <tr>\n",
       "      <th>Date</th>\n",
       "      <th></th>\n",
       "      <th></th>\n",
       "    </tr>\n",
       "  </thead>\n",
       "  <tbody>\n",
       "    <tr>\n",
       "      <th>1969-12-04</th>\n",
       "      <td>91.95</td>\n",
       "      <td>16.1145</td>\n",
       "    </tr>\n",
       "    <tr>\n",
       "      <th>1969-12-05</th>\n",
       "      <td>91.73</td>\n",
       "      <td>16.1675</td>\n",
       "    </tr>\n",
       "    <tr>\n",
       "      <th>1969-12-08</th>\n",
       "      <td>90.63</td>\n",
       "      <td>16.1626</td>\n",
       "    </tr>\n",
       "    <tr>\n",
       "      <th>1969-12-09</th>\n",
       "      <td>90.55</td>\n",
       "      <td>16.0815</td>\n",
       "    </tr>\n",
       "    <tr>\n",
       "      <th>1969-12-10</th>\n",
       "      <td>90.48</td>\n",
       "      <td>16.0250</td>\n",
       "    </tr>\n",
       "  </tbody>\n",
       "</table>\n",
       "</div>"
      ],
      "text/plain": [
       "            spx_close  bcom_close\n",
       "Date                             \n",
       "1969-12-04      91.95     16.1145\n",
       "1969-12-05      91.73     16.1675\n",
       "1969-12-08      90.63     16.1626\n",
       "1969-12-09      90.55     16.0815\n",
       "1969-12-10      90.48     16.0250"
      ]
     },
     "execution_count": 11,
     "metadata": {},
     "output_type": "execute_result"
    }
   ],
   "source": [
    "close_df = pd.DataFrame({'spx_close':df_spx_close , 'bcom_close':df_bcom_close})\n",
    "close_df.head()"
   ]
  },
  {
   "cell_type": "code",
   "execution_count": 12,
   "metadata": {},
   "outputs": [],
   "source": [
    "close_df = close_df[1:]"
   ]
  },
  {
   "cell_type": "code",
   "execution_count": 13,
   "metadata": {},
   "outputs": [],
   "source": [
    "close_df.dropna(inplace=True)"
   ]
  },
  {
   "cell_type": "code",
   "execution_count": 15,
   "metadata": {},
   "outputs": [],
   "source": [
    "close_df['spx_close'].to_excel('spx_close.xlsx')\n",
    "close_df['bcom_close'].to_excel('bcom_close.xlsx')"
   ]
  },
  {
   "cell_type": "code",
   "execution_count": 41,
   "metadata": {},
   "outputs": [
    {
     "data": {
      "text/plain": [
       "<matplotlib.axes._subplots.AxesSubplot at 0x1255062e8>"
      ]
     },
     "execution_count": 41,
     "metadata": {},
     "output_type": "execute_result"
    }
   ],
   "source": [
    "sample.pct_change().plot()"
   ]
  },
  {
   "cell_type": "code",
   "execution_count": 15,
   "metadata": {},
   "outputs": [],
   "source": [
    "spx_close = close_df['spx_close']\n",
    "bcom_close = close_df['bcom_close']"
   ]
  },
  {
   "cell_type": "code",
   "execution_count": 16,
   "metadata": {},
   "outputs": [],
   "source": [
    "spx_close.to_excel('spx_close.xlsx')\n",
    "bcom_close.to_excel('bcom_close.xlsx')\n"
   ]
  },
  {
   "cell_type": "code",
   "execution_count": 17,
   "metadata": {},
   "outputs": [],
   "source": [
    "spx_close[:300].to_excel('spx_close_300sample.xlsx')\n",
    "bcom_close[:300].to_excel('bcom_close_300sample.xlsx')"
   ]
  },
  {
   "cell_type": "code",
   "execution_count": 50,
   "metadata": {},
   "outputs": [],
   "source": [
    "sample_spx_close = close_df['2010']['spx_close']\n",
    "sample_bcom_close = close_df['2010']['bcom_close']"
   ]
  },
  {
   "cell_type": "code",
   "execution_count": 51,
   "metadata": {},
   "outputs": [],
   "source": [
    "sample_spx_close.to_excel('spx300.xlsx')\n",
    "sample_bcom_close.to_excel('bcom300.xlsx')"
   ]
  },
  {
   "cell_type": "code",
   "execution_count": 29,
   "metadata": {},
   "outputs": [
    {
     "data": {
      "text/html": [
       "<div>\n",
       "<style scoped>\n",
       "    .dataframe tbody tr th:only-of-type {\n",
       "        vertical-align: middle;\n",
       "    }\n",
       "\n",
       "    .dataframe tbody tr th {\n",
       "        vertical-align: top;\n",
       "    }\n",
       "\n",
       "    .dataframe thead th {\n",
       "        text-align: right;\n",
       "    }\n",
       "</style>\n",
       "<table border=\"1\" class=\"dataframe\">\n",
       "  <thead>\n",
       "    <tr style=\"text-align: right;\">\n",
       "      <th></th>\n",
       "      <th>spx_close</th>\n",
       "      <th>bcom_close</th>\n",
       "    </tr>\n",
       "  </thead>\n",
       "  <tbody>\n",
       "    <tr>\n",
       "      <th>spx_close</th>\n",
       "      <td>1.000000</td>\n",
       "      <td>0.821009</td>\n",
       "    </tr>\n",
       "    <tr>\n",
       "      <th>bcom_close</th>\n",
       "      <td>0.821009</td>\n",
       "      <td>1.000000</td>\n",
       "    </tr>\n",
       "  </tbody>\n",
       "</table>\n",
       "</div>"
      ],
      "text/plain": [
       "            spx_close  bcom_close\n",
       "spx_close    1.000000    0.821009\n",
       "bcom_close   0.821009    1.000000"
      ]
     },
     "execution_count": 29,
     "metadata": {},
     "output_type": "execute_result"
    }
   ],
   "source": [
    "close_df['2010'].corr()"
   ]
  },
  {
   "cell_type": "code",
   "execution_count": null,
   "metadata": {},
   "outputs": [],
   "source": []
  },
  {
   "cell_type": "code",
   "execution_count": null,
   "metadata": {},
   "outputs": [],
   "source": []
  },
  {
   "cell_type": "code",
   "execution_count": null,
   "metadata": {},
   "outputs": [],
   "source": []
  },
  {
   "cell_type": "code",
   "execution_count": null,
   "metadata": {},
   "outputs": [],
   "source": []
  },
  {
   "cell_type": "code",
   "execution_count": null,
   "metadata": {},
   "outputs": [],
   "source": []
  }
 ],
 "metadata": {
  "kernelspec": {
   "display_name": "Python 3",
   "language": "python",
   "name": "python3"
  },
  "language_info": {
   "codemirror_mode": {
    "name": "ipython",
    "version": 3
   },
   "file_extension": ".py",
   "mimetype": "text/x-python",
   "name": "python",
   "nbconvert_exporter": "python",
   "pygments_lexer": "ipython3",
   "version": "3.7.1"
  }
 },
 "nbformat": 4,
 "nbformat_minor": 2
}
