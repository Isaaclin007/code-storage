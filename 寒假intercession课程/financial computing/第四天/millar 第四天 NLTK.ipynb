{
 "cells": [
  {
   "cell_type": "code",
   "execution_count": 1,
   "metadata": {},
   "outputs": [],
   "source": [
    "import nltk"
   ]
  },
  {
   "cell_type": "code",
   "execution_count": 2,
   "metadata": {},
   "outputs": [
    {
     "name": "stdout",
     "output_type": "stream",
     "text": [
      "showing info https://raw.githubusercontent.com/nltk/nltk_data/gh-pages/index.xml\n"
     ]
    },
    {
     "data": {
      "text/plain": [
       "True"
      ]
     },
     "execution_count": 2,
     "metadata": {},
     "output_type": "execute_result"
    }
   ],
   "source": [
    "nltk.download()"
   ]
  },
  {
   "cell_type": "code",
   "execution_count": 3,
   "metadata": {},
   "outputs": [
    {
     "name": "stdout",
     "output_type": "stream",
     "text": [
      "*** Introductory Examples for the NLTK Book ***\n",
      "Loading text1, ..., text9 and sent1, ..., sent9\n",
      "Type the name of the text or sentence to view it.\n",
      "Type: 'texts()' or 'sents()' to list the materials.\n",
      "text1: Moby Dick by Herman Melville 1851\n",
      "text2: Sense and Sensibility by Jane Austen 1811\n",
      "text3: The Book of Genesis\n",
      "text4: Inaugural Address Corpus\n",
      "text5: Chat Corpus\n",
      "text6: Monty Python and the Holy Grail\n",
      "text7: Wall Street Journal\n",
      "text8: Personals Corpus\n",
      "text9: The Man Who Was Thursday by G . K . Chesterton 1908\n"
     ]
    }
   ],
   "source": [
    "from nltk.book import *"
   ]
  },
  {
   "cell_type": "code",
   "execution_count": 4,
   "metadata": {},
   "outputs": [
    {
     "data": {
      "text/plain": [
       "<Text: Wall Street Journal>"
      ]
     },
     "execution_count": 4,
     "metadata": {},
     "output_type": "execute_result"
    }
   ],
   "source": [
    "text7"
   ]
  },
  {
   "cell_type": "code",
   "execution_count": 5,
   "metadata": {},
   "outputs": [
    {
     "data": {
      "text/plain": [
       "nltk.text.Text"
      ]
     },
     "execution_count": 5,
     "metadata": {},
     "output_type": "execute_result"
    }
   ],
   "source": [
    "type(text7)"
   ]
  },
  {
   "cell_type": "code",
   "execution_count": 6,
   "metadata": {},
   "outputs": [
    {
     "data": {
      "text/plain": [
       "100676"
      ]
     },
     "execution_count": 6,
     "metadata": {},
     "output_type": "execute_result"
    }
   ],
   "source": [
    "len(text7)"
   ]
  },
  {
   "cell_type": "code",
   "execution_count": 7,
   "metadata": {},
   "outputs": [
    {
     "name": "stdout",
     "output_type": "stream",
     "text": [
      "['Pierre', 'Vinken', ',', '61', 'years', 'old', ',', 'will', 'join', 'the', 'board', 'as', 'a', 'nonexecutive', 'director', 'Nov.', '29', '.', 'Mr.', 'Vinken', 'is', 'chairman', 'of', 'Elsevier', 'N.V.', ',', 'the', 'Dutch', 'publishing', 'group', '.', 'Rudolph', 'Agnew', ',', '55', 'years', 'old', 'and', 'former', 'chairman', 'of', 'Consolidated', 'Gold', 'Fields', 'PLC', ',', 'was', 'named', '*-1', 'a', 'nonexecutive', 'director', 'of', 'this', 'British', 'industrial', 'conglomerate', '.', 'A', 'form', 'of', 'asbestos', 'once', 'used', '*', '*', 'to', 'make', 'Kent', 'cigarette', 'filters', 'has', 'caused', 'a', 'high', 'percentage', 'of', 'cancer', 'deaths', 'among', 'a', 'group', 'of', 'workers', 'exposed', '*', 'to', 'it', 'more', 'than', '30', 'years', 'ago', ',', 'researchers', 'reported', '0', '*T*-1', '.', 'The']\n"
     ]
    }
   ],
   "source": [
    "print(text7[:100])"
   ]
  },
  {
   "cell_type": "code",
   "execution_count": 8,
   "metadata": {},
   "outputs": [
    {
     "name": "stdout",
     "output_type": "stream",
     "text": [
      "Displaying 25 of 45 matches:\n",
      "hers said 0 *T*-1 . `` The morbidity rate is a striking finding among those of\n",
      "e lowered its guaranteed circulation rate base for 1990 while *-1 not increasi\n",
      " lower circulation base , Time 's ad rate *ICH*-2 will be effectively 7.5 % hi\n",
      "fact that New England proposed lower rate increases -- 4.8 % *U* over seven ye\n",
      "consumer groups to the commission 's rate increase and found the rates illegal\n",
      "month , Judge Curry set the interest rate on the refund at 9 % . Commonwealth \n",
      "ordered refund on its summer\\/winter rate differential collections that the Il\n",
      "set a precedent for a second nuclear rate case involving Commonwealth Edison '\n",
      "s seeking about $ 245 million *U* in rate increases 0 *T*-1 to pay for Braidwo\n",
      "ed * to the London interbank offered rate -- offer two key advantages to Japan\n",
      "eir purchases are growing at a rapid rate . They also have become large purcha\n",
      "nstruction spending ran at an annual rate of $ 415.6 billion *U* , not signifi\n",
      " % *ICH*-3 in September to an annual rate of $ 191.9 billion *U* . David Berso\n",
      "struction was off 2.6 % to an annual rate of $ 99.1 billion *U* with no sector\n",
      "70 into fixed-rate U.S. dollars at a rate 0 the company said 0 *T*-1 is less t\n",
      "ample , no state has posted a higher rate of improvement on the Scholastic Apt\n",
      "measured * on the CAT test -- *-1 to rate the closeness of test preparatives t\n",
      "Market Deposits-a 6.21 % a - Average rate paid * yesterday by 100 large banks \n",
      "itan areas as * compiled *-2 by Bank Rate Monitor . b - Current annual yield .\n",
      "hs , there has been a slowing in the rate of new orders from the computer sect\n",
      "ity -LRB- or so perceived * , at any rate -RRB- , and with exceedingly high pr\n",
      "d cut the key federal funds interest rate by about 0.25 percentage point to 8.\n",
      " likely *-1 to move at the drop of a rate . The more accounts 0 customers have\n",
      "ommon wisdom suggests a single-digit rate of growth , reflecting a weakening i\n",
      " the next 12 months -- vs. a `` cash rate of return '' of perhaps 7 % or 8 % *\n"
     ]
    }
   ],
   "source": [
    "text7.concordance('rate')"
   ]
  },
  {
   "cell_type": "code",
   "execution_count": 11,
   "metadata": {},
   "outputs": [
    {
     "name": "stdout",
     "output_type": "stream",
     "text": [
      "number question yield head of form percentage unit year type billion\n",
      "total kind president force maker time return ministry cost\n"
     ]
    }
   ],
   "source": [
    "text7.similar('rate')"
   ]
  },
  {
   "cell_type": "code",
   "execution_count": 12,
   "metadata": {},
   "outputs": [],
   "source": [
    "import numpy, matplotlib"
   ]
  },
  {
   "cell_type": "code",
   "execution_count": 14,
   "metadata": {},
   "outputs": [
    {
     "data": {
      "image/png": "[encoded data removed]",
      "text/plain": [
       "<Figure size 432x288 with 1 Axes>"
      ]
     },
     "metadata": {
      "needs_background": "light"
     },
     "output_type": "display_data"
    }
   ],
   "source": [
    "text7.dispersion_plot(['rate', 'interest','supply', 'demand','money'])"
   ]
  },
  {
   "cell_type": "code",
   "execution_count": 15,
   "metadata": {},
   "outputs": [
    {
     "data": {
      "text/plain": [
       "100676"
      ]
     },
     "execution_count": 15,
     "metadata": {},
     "output_type": "execute_result"
    }
   ],
   "source": [
    "len(text7)"
   ]
  },
  {
   "cell_type": "code",
   "execution_count": 18,
   "metadata": {},
   "outputs": [
    {
     "data": {
      "text/plain": [
       "12408"
      ]
     },
     "execution_count": 18,
     "metadata": {},
     "output_type": "execute_result"
    }
   ],
   "source": [
    "len(set(text7)) #the number of unique tokens"
   ]
  },
  {
   "cell_type": "code",
   "execution_count": 19,
   "metadata": {},
   "outputs": [
    {
     "name": "stdout",
     "output_type": "stream",
     "text": [
      "['!', '#', '$', '%', '&', \"'\", \"''\", \"'30s\", \"'40s\", \"'50s\", \"'80s\", \"'82\", \"'86\", \"'S\", \"'d\", \"'ll\", \"'m\", \"'re\", \"'s\", \"'ve\", '*', '*-1', '*-10', '*-100', '*-101', '*-102', '*-103', '*-104', '*-105', '*-106', '*-107', '*-108', '*-109', '*-11', '*-110', '*-111', '*-112', '*-113', '*-114', '*-115', '*-116', '*-117', '*-118', '*-119', '*-12', '*-120', '*-121', '*-122', '*-123', '*-124', '*-125', '*-126', '*-127', '*-128', '*-129', '*-13', '*-130', '*-131', '*-132', '*-133', '*-134', '*-135', '*-136', '*-137', '*-138', '*-139', '*-14', '*-140', '*-141', '*-142', '*-144', '*-145', '*-146', '*-147', '*-149', '*-15', '*-150', '*-151', '*-152', '*-153', '*-154', '*-155', '*-156', '*-157', '*-158', '*-159', '*-16', '*-160', '*-161', '*-162', '*-163', '*-164', '*-165', '*-166', '*-17', '*-18', '*-19', '*-2', '*-20', '*-21', '*-22', '*-23', '*-24', '*-25', '*-26', '*-27', '*-28', '*-29', '*-3', '*-30', '*-31', '*-32', '*-33', '*-34', '*-35', '*-36', '*-37', '*-38', '*-39', '*-4', '*-40', '*-41', '*-42', '*-43', '*-44', '*-45', '*-46', '*-47', '*-48', '*-49', '*-5', '*-50', '*-51', '*-52', '*-53', '*-54', '*-55', '*-56', '*-57', '*-58', '*-59', '*-6', '*-60', '*-61', '*-62', '*-63', '*-64', '*-66', '*-67', '*-68', '*-69', '*-7', '*-70', '*-71', '*-72', '*-73', '*-74', '*-75', '*-76', '*-77', '*-78', '*-79', '*-8', '*-80', '*-81', '*-82', '*-83', '*-84', '*-85', '*-86', '*-87', '*-88', '*-89', '*-9', '*-90', '*-91', '*-92', '*-93', '*-94', '*-95', '*-96', '*-97', '*-98', '*-99', '*?*', '*EXP*-1', '*EXP*-2', '*EXP*-3', '*ICH*-1', '*ICH*-2', '*ICH*-3', '*ICH*-4', '*NOT*', '*PPA*-1', '*PPA*-2', '*PPA*-3', '*RNR*-1', '*RNR*-2', '*RNR*-4', '*T*-1', '*T*-10', '*T*-100', '*T*-101', '*T*-102', '*T*-103', '*T*-104', '*T*-105', '*T*-106', '*T*-107', '*T*-108', '*T*-109', '*T*-11', '*T*-110', '*T*-111', '*T*-112', '*T*-113', '*T*-114', '*T*-115', '*T*-116', '*T*-117', '*T*-118', '*T*-119', '*T*-12', '*T*-120', '*T*-121', '*T*-122', '*T*-123', '*T*-124', '*T*-125', '*T*-126', '*T*-127', '*T*-128', '*T*-129', '*T*-13', '*T*-130', '*T*-131', '*T*-132', '*T*-133', '*T*-134', '*T*-135', '*T*-136', '*T*-137', '*T*-138', '*T*-139', '*T*-14', '*T*-140', '*T*-141', '*T*-142', '*T*-143', '*T*-144', '*T*-145', '*T*-146', '*T*-147', '*T*-148', '*T*-149', '*T*-15', '*T*-150', '*T*-151', '*T*-152', '*T*-153', '*T*-154', '*T*-155', '*T*-156', '*T*-157', '*T*-158', '*T*-159', '*T*-16', '*T*-160', '*T*-161', '*T*-162', '*T*-163', '*T*-164', '*T*-165', '*T*-166', '*T*-167', '*T*-168', '*T*-169', '*T*-17', '*T*-170', '*T*-171', '*T*-172', '*T*-173', '*T*-174', '*T*-175', '*T*-176', '*T*-177', '*T*-178', '*T*-179', '*T*-18', '*T*-180', '*T*-181', '*T*-182', '*T*-183', '*T*-184', '*T*-185', '*T*-186', '*T*-187', '*T*-188', '*T*-189', '*T*-19', '*T*-190', '*T*-191', '*T*-192', '*T*-193', '*T*-194', '*T*-195', '*T*-196', '*T*-197', '*T*-198', '*T*-199', '*T*-2', '*T*-20', '*T*-200', '*T*-201', '*T*-202', '*T*-203', '*T*-204', '*T*-205', '*T*-206', '*T*-207', '*T*-208', '*T*-21', '*T*-210', '*T*-211', '*T*-212', '*T*-213', '*T*-214', '*T*-215', '*T*-216', '*T*-217', '*T*-218', '*T*-219', '*T*-22', '*T*-220', '*T*-221', '*T*-222', '*T*-223', '*T*-224', '*T*-225', '*T*-226', '*T*-227', '*T*-228', '*T*-229', '*T*-23', '*T*-230', '*T*-231', '*T*-232', '*T*-233', '*T*-234', '*T*-235', '*T*-236', '*T*-237', '*T*-238', '*T*-239', '*T*-24', '*T*-240', '*T*-241', '*T*-242', '*T*-243', '*T*-244', '*T*-245', '*T*-246', '*T*-247', '*T*-248', '*T*-249', '*T*-25', '*T*-250', '*T*-251', '*T*-252', '*T*-253', '*T*-254', '*T*-255', '*T*-256', '*T*-257', '*T*-258', '*T*-259', '*T*-26', '*T*-260', '*T*-27', '*T*-28', '*T*-29', '*T*-3', '*T*-30', '*T*-31', '*T*-32', '*T*-33', '*T*-34', '*T*-35', '*T*-36', '*T*-37', '*T*-38', '*T*-39', '*T*-4', '*T*-40', '*T*-41', '*T*-42', '*T*-43', '*T*-44', '*T*-45', '*T*-46', '*T*-47', '*T*-48', '*T*-49', '*T*-5', '*T*-50', '*T*-51', '*T*-52', '*T*-53', '*T*-54', '*T*-55', '*T*-56', '*T*-57', '*T*-58', '*T*-59', '*T*-6', '*T*-60', '*T*-61', '*T*-62', '*T*-63', '*T*-64', '*T*-65', '*T*-66', '*T*-67', '*T*-68', '*T*-69', '*T*-7', '*T*-70', '*T*-71', '*T*-72', '*T*-73', '*T*-74', '*T*-75', '*T*-76', '*T*-77', '*T*-78', '*T*-79', '*T*-8', '*T*-80', '*T*-81', '*T*-82', '*T*-83', '*T*-84', '*T*-85', '*T*-86', '*T*-87', '*T*-88', '*T*-89', '*T*-9', '*T*-90', '*T*-91', '*T*-92', '*T*-93', '*T*-94', '*T*-95', '*T*-96', '*T*-97', '*T*-98', '*T*-99', '*U*', ',', '-', '--', '-LCB-', '-LRB-', '-RCB-', '-RRB-', '.', '...', '0', '0.0085', '0.05', '0.1', '0.16', '0.2', '0.25', '0.28', '0.3', '0.4', '0.5', '0.50', '0.54', '0.56', '0.60', '0.7', '0.82', '0.84', '0.9', '0.95', '0.99', '1', '1,000', '1,050,000', '1,100', '1,200', '1,298', '1,400', '1,460', '1,500', '1,570', '1,620', '1,880', '1.01', '1.1', '1.125', '1.14', '1.1650', '1.17', '1.18', '1.19', '1.2', '1.20', '1.24', '1.25', '1.26', '1.28', '1.35', '1.39', '1.4', '1.457', '1.46', '1.49', '1.5', '1.50', '1.55', '1.56', '1.5755', '1.5805', '1.6', '1.61', '1.637', '1.64', '1.65', '1.7', '1.75', '1.76', '1.8', '1.82', '1.8415', '1.85', '1.8500', '1.9', '1.916', '1.92', '10', '10,000', '10-day', '10-lap', '10-year', '10.19', '10.2', '10.5', '100', '100,000', '100,980', '100-megabyte', '100-share', '101', '102', '103', '105', '106', '107', '107.03', '107.9', '108', '109.73', '10th', '11', '11,000', '11,390,000', '11,762', '11-month-old', '11.10', '11.5', '11.57', '11.6', '11.72', '11.95', '110', '111', '112.9', '113.2', '114', '115', '116.3', '116.4', '116.7', '116.9', '118', '118.6', '119', '11\\\\/16', '11th', '12', '12,252', '12-member', '12-point', '12-year', '12.09', '12.5', '12.52', '12.68', '12.7', '12.82', '12.97', '120', '120,000', '120-a-share', '120.7', '1206.26', '121.6', '125', '126,000', '126.1', '126.15', '127.03', '128', '129.91', '12\\\\/32', '13', '13,056', '13.1', '13.15', '13.5', '13.50', '13.625', '13.65', '13.73', '13.8', '13.90', '130', '130.6', '130.7', '131.01', '132', '132,000', '132.9', '133', '133.7', '133.8', '135', '138', '139', '13\\\\/16', '14', '14,821', '14-hour', '14.', '14.00', '14.13', '14.26', '14.28', '14.43', '14.5', '14.53', '14.54', '14.6', '14.75', '14.99', '140', '141.9', '142.84', '142.85', '143.08', '143.80', '143.93', '144', '145', '148', '148.9', '149', '149.9', '14\\\\/32', '15', '15,000', '15-day', '15.5', '150', '150,000', '150-point', '150.00', '152,000', '153.3', '154,240,000', '154.2', '155', '158,666', '16', '16,000', '16,072', '16.05', '16.09', '16.125', '16.2', '16.5', '16.68', '16.7', '16.9', '160', '1614', '1637', '169.9', '16\\\\/32', '17', '17-year-old', '17.3', '17.4', '17.5', '17.95', '170', '170,000', '170,262', '1738.1', '175', '176', '176.1', '177', '1787', '179', '18', '18,000', '18,444', '18-a-share', '18-year-old', '18.3', '18.6', '18.95', '180', '184', '185.9', '187', '188', '188.84', '19', '19-month-old', '19.3', '19.50', '19.6', '19.94', '19.95', '190', '190-point', '1901', '1903', '191.9', '1917', '1920s', '1925', '1928-33', '1929', '1933', '1934', '1937-40', '1940s', '1948', '195', '1950s', '1953', '1955', '1956', '1960s', '1961', '1965', '1966', '1967', '1968', '1969', '1970', '1970s', '1971', '1972', '1973', '1973-75', '1975', '1976', '1977', '1979', '198', '1980', '1980s', '1981', '1982', '1983', '1983-85', '1984', '1985', '1986', '1986-87', '1987', '1987-88', '1988', '1988-89', '1989', '1989-90', '1990', '1990-91', '1990s', '1991', '1991-1999', '1991-2000', '1992', '1992-1999', '1993', '1994', '1995', '1996', '1997', '1998', '1999', '1:30', '1\\\\/10th', '1\\\\/2', '1\\\\/4', '1\\\\/8', '1st', '2', '2,000', '2,050-passenger', '2,099', '2,303,328', '2,410', '2,500', '2,700', '2-3', '2-8', '2.07', '2.1', '2.15', '2.19', '2.2', '2.25', '2.29', '2.3', '2.30', '2.35', '2.375', '2.4', '2.42', '2.44', '2.46', '2.47', '2.5', '2.50', '2.6', '2.62', '2.65', '2.7', '2.75', '2.8', '2.80', '2.87', '2.875', '2.9', '2.95', '20', '20,000', '20-point', '20-stock', '20.07', '20.5', '200', '200,000', '2000', '2003\\\\/2007', '2005', '2009', '2017', '2019', '2029', '203', '20s', '21', '21,000', '21-month', '21.1', '21.9', '210', '210,000', '212', '214', '2141.7', '2160.1', '2163.2', '22', '22.75', '220', '220.45', '221.4', '225', '225,000', '225.6', '226,570,380', '227', '228', '22\\\\/32', '23', '23,000', '23,403', '23.25', '23.4', '23.5', '23.72', '230-215', '234.4', '235', '236.74', '236.79', '237-seat', '238,000-circulation', '24', '24,000', '24.95', '240', '240,000', '240-page', '241', '244,000', '245', '25', '25,000', '25-year-old', '25.50', '25.6', '250', '250,000', '251.2', '257', '26', '26,000', '26,956', '26.2', '26.5', '26.8', '260', '263.07', '2645.90', '266', '2691.19', '27', '27-year', '27.1', '27.4', '270', '271,124', '271-147', '273.5', '274', '275', '278.7', '28', '28.25', '28.36', '28.4', '28.5', '28.53', '28.6', '280', '282', '286', '29', '29.3', '29.4', '29.9', '292.32', '295', '29year', '2\\\\/32', '3', '3,040,000', '3,250,000', '3,288,453', '3,500', '3,600', '3-4', '3.01', '3.04', '3.1', '3.16', '3.18', '3.19', '3.2', '3.20', '3.23', '3.253', '3.28', '3.3', '3.35', '3.375', '3.4', '3.42', '3.43', '3.5', '3.55', '3.6', '3.61', '3.625', '3.7', '3.75', '3.8', '3.80']\n"
     ]
    }
   ],
   "source": [
    "print(sorted(set(text7))[:1000])"
   ]
  },
  {
   "cell_type": "code",
   "execution_count": 20,
   "metadata": {},
   "outputs": [],
   "source": [
    "# 只要英文字母，不要数字，都小写\n",
    "\n",
    "wordvocab = set(word.lower() for word in text7 if word.isalpha())"
   ]
  },
  {
   "cell_type": "code",
   "execution_count": 21,
   "metadata": {},
   "outputs": [
    {
     "data": {
      "text/plain": [
       "9109"
      ]
     },
     "execution_count": 21,
     "metadata": {},
     "output_type": "execute_result"
    }
   ],
   "source": [
    "len(wordvocab)"
   ]
  },
  {
   "cell_type": "code",
   "execution_count": 22,
   "metadata": {},
   "outputs": [
    {
     "name": "stdout",
     "output_type": "stream",
     "text": [
      "['a', 'aba', 'abandon', 'abandoned', 'abating', 'abbey', 'abbot', 'abide', 'ability', 'able', 'aboard', 'abolishing', 'abortion', 'abortionist', 'abortions', 'abounding', 'about', 'above', 'abridging', 'abroad', 'abrupt', 'absolute', 'absolutely', 'absorbed', 'absurd', 'absurdity', 'abuse', 'abuzz', 'academic', 'academically', 'academics', 'acceded', 'accelerated', 'acceleration', 'accept', 'acceptance', 'acceptances', 'accepted', 'accepting', 'access', 'accessories', 'accident', 'accidentally', 'accidents', 'accommodate', 'accommodations', 'accompany', 'accomplishments', 'accord', 'accordance']\n"
     ]
    }
   ],
   "source": [
    "print(sorted(wordvocab)[:50])"
   ]
  },
  {
   "cell_type": "code",
   "execution_count": 23,
   "metadata": {},
   "outputs": [],
   "source": [
    "fdist = FreqDist(text7)"
   ]
  },
  {
   "cell_type": "code",
   "execution_count": 24,
   "metadata": {},
   "outputs": [
    {
     "data": {
      "text/plain": [
       "2"
      ]
     },
     "execution_count": 24,
     "metadata": {},
     "output_type": "execute_result"
    }
   ],
   "source": [
    "fdist['Trump']"
   ]
  },
  {
   "cell_type": "code",
   "execution_count": 25,
   "metadata": {},
   "outputs": [
    {
     "name": "stdout",
     "output_type": "stream",
     "text": [
      "[(',', 4885), ('the', 4045), ('.', 3828), ('of', 2319), ('to', 2164), ('a', 1878), ('in', 1572), ('and', 1511), ('*-1', 1123), ('0', 1099), ('*', 965), (\"'s\", 864), ('for', 817), ('that', 807), ('*T*-1', 806), ('*U*', 744), ('$', 718), ('The', 717), ('``', 702), (\"''\", 684), ('is', 671), ('said', 628), ('on', 490), ('it', 476), ('%', 446), ('by', 429), ('at', 402), ('with', 387), ('from', 386), ('as', 385), ('million', 383), ('Mr.', 375), ('*-2', 372), ('are', 369), ('was', 367), ('be', 356), ('*T*-2', 345), ('has', 339), ('its', 332), (\"n't\", 325), ('have', 323), ('an', 316), ('or', 291), ('will', 281), ('company', 260), ('--', 230), ('he', 230), ('which', 225), ('U.S.', 221), ('year', 212), ('they', 210), ('says', 210), ('would', 209), ('about', 206), ('more', 198), ('were', 197), ('In', 197), ('this', 184), ('their', 181), ('than', 180), ('market', 176), (';', 171), ('New', 165), ('had', 165), ('who', 163), ('new', 162), ('trading', 162), ('billion', 159), ('But', 158), ('up', 153), ('but', 151), ('been', 150), ('also', 147), (':', 142), ('stock', 136), ('other', 134), ('president', 133), ('not', 133), ('one', 132), ('*-3', 130), ('program', 127), ('some', 122), ('his', 121), ('could', 120), ('share', 119), ('because', 118), ('Corp.', 117), ('years', 115), ('I', 115), ('shares', 114), ('-RRB-', 112), ('A', 110), ('York', 107), ('-LRB-', 106), ('any', 105), ('all', 103), ('two', 103), ('It', 100), ('Inc.', 97), ('*T*-3', 97)]\n"
     ]
    }
   ],
   "source": [
    "print(fdist.most_common(100))"
   ]
  },
  {
   "cell_type": "code",
   "execution_count": 28,
   "metadata": {},
   "outputs": [
    {
     "data": {
      "image/png": "[encoded data removed]",
      "text/plain": [
       "<Figure size 432x288 with 1 Axes>"
      ]
     },
     "metadata": {
      "needs_background": "light"
     },
     "output_type": "display_data"
    }
   ],
   "source": [
    "fdist.plot(100, cumulative=True)"
   ]
  },
  {
   "cell_type": "code",
   "execution_count": 29,
   "metadata": {},
   "outputs": [],
   "source": [
    "# hapax 表示只出现过一次的词\n",
    "hapaxlist = fdist.hapaxes()"
   ]
  },
  {
   "cell_type": "code",
   "execution_count": 30,
   "metadata": {},
   "outputs": [
    {
     "data": {
      "text/plain": [
       "6463"
      ]
     },
     "execution_count": 30,
     "metadata": {},
     "output_type": "execute_result"
    }
   ],
   "source": [
    "len(hapaxlist)"
   ]
  },
  {
   "cell_type": "code",
   "execution_count": 38,
   "metadata": {},
   "outputs": [
    {
     "data": {
      "text/plain": [
       "['intellectual-property',\n",
       " 'Bridgestone\\\\/Firestone',\n",
       " 'Trockenbeerenauslesen',\n",
       " 'collective-bargaining',\n",
       " 'marketing-communications',\n",
       " 'weapons-modernization',\n",
       " 'most-likely-successor',\n",
       " 'industrial-production',\n",
       " 'anti-morning-sickness',\n",
       " 'computer-system-design',\n",
       " 'Macmillan\\\\/McGraw-Hill',\n",
       " 'telephone-information']"
      ]
     },
     "execution_count": 38,
     "metadata": {},
     "output_type": "execute_result"
    }
   ],
   "source": [
    "# quiz 找text7 里面长度大于20的词:\n",
    "[w for w in set(text7) if len(w)>20]"
   ]
  },
  {
   "cell_type": "code",
   "execution_count": 39,
   "metadata": {},
   "outputs": [
    {
     "name": "stdout",
     "output_type": "stream",
     "text": [
      "Displaying 1 of 1 matches:\n",
      "wines -LRB- Chateau Yquem or Trockenbeerenauslesen Rieslings from Germany , and\n"
     ]
    }
   ],
   "source": [
    "text7.concordance('Trockenbeerenauslesen')"
   ]
  },
  {
   "cell_type": "code",
   "execution_count": 40,
   "metadata": {},
   "outputs": [
    {
     "data": {
      "text/plain": [
       "[('Pierre', 'Vinken'),\n",
       " ('Vinken', ','),\n",
       " (',', '61'),\n",
       " ('61', 'years'),\n",
       " ('years', 'old'),\n",
       " ('old', ','),\n",
       " (',', 'will'),\n",
       " ('will', 'join'),\n",
       " ('join', 'the'),\n",
       " ('the', 'board')]"
      ]
     },
     "execution_count": 40,
     "metadata": {},
     "output_type": "execute_result"
    }
   ],
   "source": [
    "list(list(bigrams(text7))[:10])\n",
    "# bigram 可以把文本里面前后相连的pair都找出来"
   ]
  },
  {
   "cell_type": "code",
   "execution_count": 42,
   "metadata": {},
   "outputs": [
    {
     "name": "stdout",
     "output_type": "stream",
     "text": [
      "[(('.', 'The'), 620), (('of', 'the'), 485), (('*-1', 'to'), 481), (('said', '0'), 471), (('*', 'to'), 371), (('in', 'the'), 362), ((',', 'the'), 337), (('million', '*U*'), 297), (('.', '``'), 282), ((',', \"''\"), 262), (('*T*-1', '.'), 232), (('.', \"''\"), 220), ((',', 'a'), 210), ((',', 'and'), 197), (('0', '*T*-1'), 177), (('.', 'In'), 176), (('for', 'the'), 171), ((',', 'which'), 170), (('*-2', 'to'), 170), (('to', 'the'), 169), (('0', 'it'), 157), (('0', 'the'), 149), (('on', 'the'), 149), (('.', 'But'), 142), (('billion', '*U*'), 127), (('the', 'company'), 120), (('*U*', ','), 118), (('*U*', '.'), 113), (('says', '0'), 111), (('that', 'the'), 108), (('*T*-2', '.'), 107), (('New', 'York'), 107), (('the', 'U.S.'), 105), ((',', 'but'), 105), (('.', 'Mr.'), 103), (('to', 'be'), 101), (('*T*-1', ','), 100), ((',', 'or'), 99), (('and', 'the'), 97), (('0', '*T*-2'), 94), (('by', 'the'), 91), (('a', 'share'), 90), (('of', 'a'), 84), (('of', '$'), 83), (('in', 'a'), 82), ((',', 'said'), 81), (('.', 'A'), 80), ((',', '*-1'), 80), (('that', '*T*-1'), 79), (('from', 'the'), 79)]\n"
     ]
    }
   ],
   "source": [
    "# 50 个最常见的相连的词\n",
    "print(FreqDist(bigrams(text7)).most_common(50))"
   ]
  },
  {
   "cell_type": "code",
   "execution_count": 43,
   "metadata": {},
   "outputs": [
    {
     "name": "stdout",
     "output_type": "stream",
     "text": [
      "million *U*; New York; billion *U*; Wall Street; program trading; Mrs.\n",
      "Yeargin; vice president; Stock Exchange; Big Board; Georgia Gulf;\n",
      "chief executive; Dow Jones; S&P 500; says *T*-1; York Stock; last\n",
      "year; Sea Containers; South Korea; American Express; San Francisco;\n",
      "years ago; executive officer; net income; billion yen; Los Angeles;\n",
      "six months; Scoring High; common shares; Commonwealth Edison; Cray\n",
      "Research; year earlier; Mr. Hahn; President Bush; South Carolina;\n",
      "Learning Materials; interest rates; 15,000 *U*; stock-index futures;\n",
      "Random House; composite trading; company said; said *T*-1; index\n",
      "arbitrage; shares outstanding; White House; New England; Mrs. Ward;\n",
      "line-item veto; Supreme Court; expected *-1\n"
     ]
    }
   ],
   "source": [
    "text7.collocations(50)"
   ]
  },
  {
   "cell_type": "code",
   "execution_count": 49,
   "metadata": {},
   "outputs": [
    {
     "data": {
      "text/plain": [
       "[(3, 16993),\n",
       " (2, 14856),\n",
       " (1, 14821),\n",
       " (4, 13068),\n",
       " (5, 10573),\n",
       " (7, 8245),\n",
       " (6, 7198),\n",
       " (8, 5237),\n",
       " (9, 4027),\n",
       " (10, 2466),\n",
       " (11, 1392),\n",
       " (12, 791),\n",
       " (13, 445),\n",
       " (14, 246),\n",
       " (15, 131),\n",
       " (16, 85),\n",
       " (18, 35),\n",
       " (17, 35),\n",
       " (21, 12),\n",
       " (19, 8),\n",
       " (22, 6),\n",
       " (20, 5),\n",
       " (24, 1)]"
      ]
     },
     "execution_count": 49,
     "metadata": {},
     "output_type": "execute_result"
    }
   ],
   "source": [
    "# quiz：找出最常见的单词长度\n",
    "FreqDist(len(w) for w in text7).most_common()"
   ]
  },
  {
   "cell_type": "code",
   "execution_count": 50,
   "metadata": {},
   "outputs": [
    {
     "name": "stdout",
     "output_type": "stream",
     "text": [
      "{'antitrust', 'antitrust-law', 'anti-drug', 'anti-abortion', 'anti-program', 'anticipating', 'anticipated', 'anti-abortionists', 'anti-China', 'anticipates', 'anti-programmers', 'anti-morning-sickness', 'anticipation', 'anti-miscarriage', 'anti-takeover', 'anti-dumping'}\n"
     ]
    }
   ],
   "source": [
    "print(set(w for w in text7 if w.startswith('anti')))"
   ]
  },
  {
   "cell_type": "code",
   "execution_count": 51,
   "metadata": {},
   "outputs": [
    {
     "name": "stdout",
     "output_type": "stream",
     "text": [
      "Displaying 1 of 1 matches:\n",
      "66 is rallying other CEOs to the anti-program trading cause , says 0 he has re\n"
     ]
    }
   ],
   "source": [
    "# 找这个词在文中是怎么用的\n",
    "text7.concordance('anti-program')"
   ]
  },
  {
   "cell_type": "code",
   "execution_count": 52,
   "metadata": {},
   "outputs": [
    {
     "data": {
      "image/png": "[encoded data removed]",
      "text/plain": [
       "<Figure size 432x288 with 1 Axes>"
      ]
     },
     "metadata": {
      "needs_background": "light"
     },
     "output_type": "display_data"
    }
   ],
   "source": [
    "text7.dispersion_plot(['program', 'trading', 'program-trading', 'traders', 'anti-program', 'anti-programmers'])"
   ]
  },
  {
   "cell_type": "code",
   "execution_count": null,
   "metadata": {},
   "outputs": [],
   "source": []
  },
  {
   "cell_type": "code",
   "execution_count": null,
   "metadata": {},
   "outputs": [],
   "source": []
  },
  {
   "cell_type": "code",
   "execution_count": 53,
   "metadata": {},
   "outputs": [],
   "source": [
    "from nltk.corpus import reuters"
   ]
  },
  {
   "cell_type": "code",
   "execution_count": 54,
   "metadata": {},
   "outputs": [
    {
     "data": {
      "text/plain": [
       "10788"
      ]
     },
     "execution_count": 54,
     "metadata": {},
     "output_type": "execute_result"
    }
   ],
   "source": [
    "len(reuters.fileids())"
   ]
  },
  {
   "cell_type": "code",
   "execution_count": 55,
   "metadata": {},
   "outputs": [
    {
     "name": "stdout",
     "output_type": "stream",
     "text": [
      "['test/14826', 'test/14828', 'test/14829', 'test/14832', 'test/14833', 'test/14839', 'test/14840', 'test/14841', 'test/14842', 'test/14843']\n"
     ]
    }
   ],
   "source": [
    "print(reuters.fileids()[:10])"
   ]
  },
  {
   "cell_type": "code",
   "execution_count": 56,
   "metadata": {},
   "outputs": [
    {
     "name": "stdout",
     "output_type": "stream",
     "text": [
      "['training/9982', 'training/9984', 'training/9985', 'training/9988', 'training/9989', 'training/999', 'training/9992', 'training/9993', 'training/9994', 'training/9995']\n"
     ]
    }
   ],
   "source": [
    "print(reuters.fileids()[-10:])"
   ]
  },
  {
   "cell_type": "code",
   "execution_count": 57,
   "metadata": {},
   "outputs": [],
   "source": [
    "article = reuters.words('test/14826')"
   ]
  },
  {
   "cell_type": "code",
   "execution_count": 58,
   "metadata": {},
   "outputs": [
    {
     "data": {
      "text/plain": [
       "899"
      ]
     },
     "execution_count": 58,
     "metadata": {},
     "output_type": "execute_result"
    }
   ],
   "source": [
    "len(article)"
   ]
  },
  {
   "cell_type": "code",
   "execution_count": 59,
   "metadata": {},
   "outputs": [
    {
     "name": "stdout",
     "output_type": "stream",
     "text": [
      "['ASIAN', 'EXPORTERS', 'FEAR', 'DAMAGE', 'FROM', 'U', '.', 'S', '.-', 'JAPAN', 'RIFT', 'Mounting', 'trade', 'friction', 'between', 'the', 'U', '.', 'S', '.', 'And', 'Japan', 'has', 'raised', 'fears', 'among', 'many', 'of', 'Asia', \"'\", 's', 'exporting', 'nations', 'that', 'the', 'row', 'could', 'inflict', 'far', '-', 'reaching', 'economic', 'damage', ',', 'businessmen', 'and', 'officials', 'said', '.', 'They', 'told', 'Reuter', 'correspondents', 'in', 'Asian', 'capitals', 'a', 'U', '.', 'S', '.', 'Move', 'against', 'Japan', 'might', 'boost', 'protectionist', 'sentiment', 'in', 'the', 'U', '.', 'S', '.', 'And', 'lead', 'to', 'curbs', 'on', 'American', 'imports', 'of', 'their', 'products', '.', 'But', 'some', 'exporters', 'said', 'that', 'while', 'the', 'conflict', 'would', 'hurt', 'them', 'in', 'the', 'long', '-', 'run', ',', 'in', 'the', 'short', '-', 'term', 'Tokyo', \"'\", 's', 'loss', 'might', 'be', 'their', 'gain', '.', 'The', 'U', '.', 'S', '.', 'Has', 'said', 'it', 'will', 'impose', '300', 'mln', 'dlrs', 'of', 'tariffs', 'on', 'imports', 'of', 'Japanese', 'electronics', 'goods', 'on', 'April', '17', ',', 'in', 'retaliation', 'for', 'Japan', \"'\", 's', 'alleged', 'failure', 'to']\n"
     ]
    }
   ],
   "source": [
    "print(article[:150])"
   ]
  },
  {
   "cell_type": "code",
   "execution_count": 60,
   "metadata": {},
   "outputs": [
    {
     "name": "stdout",
     "output_type": "stream",
     "text": [
      "['acq', 'alum', 'barley', 'bop', 'carcass', 'castor-oil', 'cocoa', 'coconut', 'coconut-oil', 'coffee', 'copper', 'copra-cake', 'corn', 'cotton', 'cotton-oil', 'cpi', 'cpu', 'crude', 'dfl', 'dlr', 'dmk', 'earn', 'fuel', 'gas', 'gnp', 'gold', 'grain', 'groundnut', 'groundnut-oil', 'heat', 'hog', 'housing', 'income', 'instal-debt', 'interest', 'ipi', 'iron-steel', 'jet', 'jobs', 'l-cattle', 'lead', 'lei', 'lin-oil', 'livestock', 'lumber', 'meal-feed', 'money-fx', 'money-supply', 'naphtha', 'nat-gas', 'nickel', 'nkr', 'nzdlr', 'oat', 'oilseed', 'orange', 'palladium', 'palm-oil', 'palmkernel', 'pet-chem', 'platinum', 'potato', 'propane', 'rand', 'rape-oil', 'rapeseed', 'reserves', 'retail', 'rice', 'rubber', 'rye', 'ship', 'silver', 'sorghum', 'soy-meal', 'soy-oil', 'soybean', 'strategic-metal', 'sugar', 'sun-meal', 'sun-oil', 'sunseed', 'tea', 'tin', 'trade', 'veg-oil', 'wheat', 'wpi', 'yen', 'zinc']\n"
     ]
    }
   ],
   "source": [
    "print(reuters.categories())"
   ]
  },
  {
   "cell_type": "code",
   "execution_count": 63,
   "metadata": {},
   "outputs": [
    {
     "name": "stdout",
     "output_type": "stream",
     "text": [
      "['trade']\n",
      "['crude', 'nat-gas']\n"
     ]
    }
   ],
   "source": [
    "print(reuters.categories('test/14826'))\n",
    "print(reuters.categories('test/14829'))"
   ]
  },
  {
   "cell_type": "code",
   "execution_count": 64,
   "metadata": {},
   "outputs": [],
   "source": [
    "zinc_word_set = set(word.lower() for word in reuters.words(categories='zinc') if word.isalpha())"
   ]
  },
  {
   "cell_type": "code",
   "execution_count": 65,
   "metadata": {},
   "outputs": [
    {
     "name": "stdout",
     "output_type": "stream",
     "text": [
      "['a', 'able', 'abms', 'about', 'abroad', 'acceptable', 'acceptance', 'account', 'accounts', 'acid', 'acquisition', 'activities', 'activity', 'added', 'addition', 'additional', 'additions', 'administration', 'admiralty', 'advantageous', 'affecting', 'africa', 'african', 'after', 'against', 'agency', 'ago', 'agreed', 'agreement', 'agucha', 'ahead', 'alaska', 'all', 'allocated', 'alloy', 'alloyed', 'alloys', 'along', 'also', 'aluminium', 'aluminum', 'amax', 'america', 'american', 'amselco', 'an', 'and', 'andes', 'andre', 'announced', 'annual', 'any', 'apparent', 'appeared', 'approach', 'approached', 'approvals', 'april', 'are', 'arm', 'around', 'arrived', 'as', 'asia', 'assay', 'assayed', 'assaying', 'assays', 'assessing', 'associated', 'asturiana', 'at', 'attacking', 'attributed', 'august', 'austmet', 'australasia', 'australia', 'australian', 'authorities', 'average', 'averaged', 'aviles', 'awarded', 'awards', 'b', 'back', 'ball', 'bargaining', 'base', 'based', 'basic', 'basis', 'bay', 'be', 'because', 'been', 'began', 'being', 'below', 'better', 'between', 'biggest', 'bismuth', 'black', 'blanks', 'blast', 'bll', 'bloc', 'body', 'both', 'bp', 'brackets', 'brand', 'bring', 'britain', 'british', 'brunswick', 'budget', 'bulk', 'bulletin', 'bureau', 'business', 'but', 'buy', 'buyers', 'by', 'c', 'cadmium', 'cajamarquilla', 'calendar', 'callao', 'called', 'calls', 'came', 'can', 'canada', 'canadian', 'capacity', 'capital', 'cash', 'cathodes', 'cause', 'caused', 'cent', 'central', 'centres', 'cents', 'chacapalca', 'chaneriya', 'changed', 'check', 'chief', 'china', 'clash', 'classifications', 'clearing', 'closing', 'closures', 'clt', 'co', 'coal', 'cobalt', 'columbia', 'comercial', 'comes', 'cominco', 'commercial', 'commission', 'commissioned', 'commissions', 'committees', 'community', 'companies', 'company', 'compared', 'competition', 'complex', 'concentrate', 'concentrates', 'conditions', 'connecticut', 'consolidated', 'constitute', 'consumer', 'consumption', 'contained', 'containing', 'content', 'continuous', 'contract', 'contracts', 'control', 'controlled', 'contruction', 'copper', 'corp', 'corrected', 'corrects', 'corresponding', 'cost', 'costs', 'could', 'countries', 'country', 'cover', 'credit', 'creek', 'crews', 'csx', 'ct', 'cts', 'cumulative', 'currently', 'cut', 'cuts', 'damaged', 'damages', 'date', 'davy', 'day', 'days', 'de', 'dec', 'december', 'declaration', 'declare', 'decline', 'declined', 'delivered', 'deliveries', 'delivery', 'denver', 'department', 'deposits', 'derailed', 'design', 'designed', 'details', 'determined', 'develop', 'developing', 'development', 'diamond', 'did', 'disbursed', 'discovery', 'division', 'dlr', 'dlrs', 'domestic', 'dominion', 'down', 'drew', 'drifting', 'drilled', 'drilling', 'dropped', 'due', 'during', 'dyecast', 'dynamite', 'each', 'earn', 'earnings', 'east', 'eastern', 'ec', 'economic', 'economies', 'effective', 'eighty', 'elect', 'end', 'ended', 'engineering', 'envisage', 'envisaged', 'envisaging', 'equity', 'est', 'established', 'estimated', 'estimates', 'europe', 'european', 'evaluation', 'exaias', 'except', 'exchange', 'excluding', 'exclusive', 'exercise', 'existing', 'expanded', 'expansion', 'expected', 'expects', 'expired', 'expires', 'exploration', 'explosion', 'export', 'exported', 'exporter', 'exporting', 'exports', 'extensive', 'extracted', 'fall', 'falls', 'feasability', 'february', 'fell', 'fields', 'fighting', 'figures', 'finance', 'firm', 'firms', 'first', 'fish', 'five', 'following', 'follows', 'foot', 'for', 'force', 'foreign', 'formal', 'formed', 'formerly', 'forms', 'fortier', 'four', 'fourth', 'francisco', 'from', 'ft', 'full', 'fuming', 'fund', 'funded', 'funds', 'further', 'gallium', 'galvanizing', 'generated', 'generating', 'germanium', 'get', 'give', 'gold', 'good', 'goods', 'goverment', 'government', 'grade', 'grades', 'grams', 'grant', 'grants', 'greeneville', 'greens', 'greenville', 'group', 'groups', 'guerrillas', 'had', 'half', 'halted', 'handled', 'has', 'have', 'he', 'hecla', 'held', 'helena', 'help', 'here', 'high', 'higher', 'highest', 'hindustan', 'hl', 'holders', 'holds', 'holes', 'honor', 'hoped', 'hopeful', 'hostel', 'houston', 'however', 'hrs', 'hudson', 'idea', 'ill', 'ilzsg', 'immediately', 'improved', 'in', 'inc', 'included', 'including', 'income', 'increase', 'increased', 'increases', 'increasing', 'increments', 'independent', 'index', 'india', 'indian', 'indicate', 'indigenous', 'indium', 'individual', 'industries', 'industry', 'inflation', 'informally', 'information', 'ingot', 'ingots', 'initial', 'injured', 'institute', 'intends', 'interest', 'internally', 'international', 'interrupt', 'interrupting', 'interruption', 'into', 'invented', 'investigation', 'investment', 'is', 'island', 'issued', 'issues', 'it', 'its', 'jan', 'january', 'japan', 'job', 'johannesburg', 'joint', 'journal', 'judge', 'july', 'june', 'k', 'keep', 'killed', 'kimberley', 'kind', 'km', 'kms', 'knives', 'korea', 'kwacha', 'l', 'laden', 'large', 'largest', 'lasalle', 'last', 'late', 'later', 'latest', 'lb', 'lbs', 'lead', 'less', 'level', 'levels', 'lifted', 'lifts', 'lima', 'limited', 'line', 'lines', 'linking', 'links', 'listed', 'living', 'lme', 'local', 'locals', 'located', 'locomotives', 'london', 'long', 'longwall', 'loosening', 'loss', 'losses', 'lower', 'lowest', 'lt', 'ltd', 'lynch', 'machetes', 'made', 'main', 'maintenance', 'majeire', 'majeure', 'major', 'majority', 'manufactured', 'maoist', 'march', 'market', 'marketing', 'may', 'mckee', 'means', 'meanwhile', 'mechanised', 'meet', 'meeting', 'melted', 'membership', 'merrill', 'met', 'metal', 'metallurgical', 'metals', 'method', 'metres', 'miles', 'mill', 'milling', 'mills', 'mine', 'mineral', 'minerals', 'minero', 'mineroperu', 'miners', 'mines', 'minging', 'minimum', 'mining', 'ministry', 'minpeco', 'mint', 'mints', 'minutes', 'mln', 'monday', 'monopolises', 'mont', 'montana', 'months', 'most', 'myra', 'n', 'name', 'near', 'nearly', 'negotiated', 'negotiations', 'net', 'new', 'newly', 'next', 'nickel', 'night', 'nil', 'nine', 'no', 'noranda', 'north', 'northern', 'not', 'notably', 'noted', 'now', 'number', 'o', 'oecd', 'of', 'offer', 'offered', 'offers', 'office', 'official', 'officially', 'offtake', 'on', 'one', 'ongoing', 'open', 'operate', 'operating', 'operation', 'operations', 'optimum', 'option', 'or', 'ordinary', 'ore', 'ores', 'organization', 'original', 'other', 'ounce', 'ounces', 'out', 'output', 'over', 'overseas', 'own', 'owned', 'oz', 'pace', 'package', 'pact', 'padaeng', 'parallel', 'part', 'partnership', 'past', 'pay', 'payback', 'paying', 'payment', 'payments', 'pct', 'pegasus', 'penny', 'per', 'period', 'peru', 'peruvian', 'petroleum', 'pgul', 'pgulf', 'phase', 'philadelphia', 'philippines', 'pit', 'plan', 'plans', 'plant', 'plants', 'plated', 'plc', 'plus', 'point', 'police', 'port', 'positive', 'possible', 'potential', 'pound', 'pounds', 'precious', 'preliminary', 'prepare', 'preproduction', 'pressed', 'previous', 'price', 'priced', 'prices', 'primary', 'prime', 'probably', 'problems', 'proceed', 'process', 'processed', 'processes', 'processing', 'produce', 'produced', 'producer', 'producers', 'producing', 'production', 'productive', 'products', 'profit', 'profits', 'program', 'programme', 'project', 'projected', 'proposal', 'proposed', 'provide', 'provided', 'provisional', 'purchase', 'pyrotech', 'quantities', 'quarter', 'queen', 'quelled', 'query', 'railway', 'raise', 'raises', 'rajastan', 'rajasthan', 'rampura', 'ranges', 'rate', 're', 'reach', 'reaction', 'receive', 'recently', 'recovered', 'recoveries', 'recovery', 'recruited', 'reduction', 'refined', 'refinery', 'regulatory', 'rehabilitation', 'rejected', 'rejects', 'remaining', 'reopening', 'repairing', 'replied', 'reported', 'represent', 'representative', 'representing', 'requested', 'resolved', 'resources', 'respectively', 'restore', 'result', 'results', 'retain', 'returned', 'revenue', 'revenues', 'reviewing', 'revised', 'richard', 'rise', 'rises', 'rising', 'roaster', 'rolling', 'rose', 'route', 'royalty', 'rules', 's', 'sa', 'said', 'sales', 'same', 'samples', 'sampling', 'san', 'sands', 'saturday', 'says', 'scale', 'schedule', 'scheduled', 'scrap', 'sector', 'securities', 'security', 'seeking', 'seeks', 'sees', 'selling', 'separate', 'services', 'session', 'set', 'sets', 'settle', 'seven', 'share', 'ship', 'shipments', 'shipped', 'shipping', 'short', 'should', 'show', 'showed', 'shut', 'signed', 'significant', 'silver', 'similar', 'since', 'singapore', 'siromelt', 'sites', 'situation', 'six', 'slab', 'small', 'smelter', 'smelters', 'smelting', 'sold', 'sole', 'some', 'sound', 'sources', 'south', 'spain', 'special', 'spokane', 'spokesman', 'sponsored', 'staff', 'stake', 'stamford', 'standard', 'start', 'started', 'starts', 'state', 'statement', 'statistics', 'steel', 'steelworkers', 'stg', 'sticks', 'still', 'stocks', 'stockton', 'stoppage', 'strike', 'striking', 'structure', 'study', 'subject', 'submitting', 'subsidiary', 'sullivan', 'sulphuric', 'supply', 'supplying', 'taiwan', 'taking', 'talks', 'taxes', 'technical', 'technology', 'tenn', 'tentative', 'term', 'tests', 'thai', 'thailand', 'than', 'that', 'the', 'then', 'there', 'they', 'this', 'three', 'through', 'tied', 'time', 'to', 'today', 'told', 'ton', 'tonne', 'tonnes', 'tons', 'total', 'totaled', 'totalled', 'trackless', 'tracks', 'trade', 'trader', 'traders', 'trading', 'traffic', 'trail', 'train', 'transfer', 'troy', 'tuesday', 'tunnels', 'turnover', 'turnovers', 'two', 'u', 'unable', 'under', 'underground', 'underpin', 'undertaken', 'underway', 'union', 'unionized', 'unit', 'united', 'until', 'up', 'using', 'usmx', 'valuation', 'values', 'vancouver', 'vein', 'venture', 'voluntary', 'vote', 'voted', 'voting', 'wage', 'wagons', 'was', 'wash', 'wbms', 'we', 'week', 'weeks', 'weighted', 'went', 'were', 'west', 'western', 'westmin', 'when', 'where', 'whether', 'which', 'whichever', 'while', 'who', 'wholly', 'whose', 'will', 'wins', 'wire', 'with', 'within', 'without', 'work', 'workers', 'world', 'worldwide', 'worth', 'would', 'wrecked', 'year', 'years', 'yes', 'yesterday', 'yielded', 'yields', 'yugoslavia', 'zambia', 'zambian', 'zccm', 'zinc', 'zincor']\n"
     ]
    }
   ],
   "source": [
    "print(sorted(zinc_word_set))"
   ]
  },
  {
   "cell_type": "code",
   "execution_count": 67,
   "metadata": {},
   "outputs": [
    {
     "name": "stdout",
     "output_type": "stream",
     "text": [
      "236736 <class 'list'>\n"
     ]
    }
   ],
   "source": [
    "wordlist = nltk.corpus.words.words()\n",
    "print(len(wordlist), type(wordlist))\n"
   ]
  },
  {
   "cell_type": "code",
   "execution_count": 68,
   "metadata": {},
   "outputs": [],
   "source": [
    "# 交集用&符号\n",
    "zinc_word_set = zinc_word_set & set(wordlist)"
   ]
  },
  {
   "cell_type": "code",
   "execution_count": 69,
   "metadata": {},
   "outputs": [
    {
     "name": "stdout",
     "output_type": "stream",
     "text": [
      "['a', 'able', 'about', 'abroad', 'acceptable', 'acceptance', 'account', 'acid', 'acquisition', 'activity', 'added', 'addition', 'additional', 'administration', 'admiralty', 'advantageous', 'affecting', 'after', 'against', 'agency', 'ago', 'agreed', 'agreement', 'ahead', 'all', 'alloy', 'along', 'also', 'aluminium', 'aluminum', 'an', 'and', 'annual', 'any', 'apparent', 'approach', 'are', 'arm', 'around', 'as', 'assay', 'assaying', 'associated', 'at', 'august', 'average', 'b', 'back', 'ball', 'base', 'based', 'basic', 'basis', 'bay', 'be', 'because', 'been', 'being', 'below', 'better', 'between', 'biggest', 'bismuth', 'black', 'blast', 'bloc', 'body', 'both', 'brand', 'bring', 'brunswick', 'budget', 'bulk', 'bulletin', 'bureau', 'business', 'but', 'buy', 'by', 'c', 'cadmium', 'calendar', 'came', 'can', 'canada', 'capacity', 'capital', 'cash', 'cause', 'cent', 'central', 'check', 'chief', 'china', 'clash', 'clearing', 'coal', 'cobalt', 'comes', 'commercial', 'commission', 'community', 'company', 'competition', 'complex', 'concentrate', 'consolidated', 'constitute', 'consumer', 'consumption', 'content', 'continuous', 'contract', 'control', 'copper', 'corp', 'corrected', 'corresponding', 'cost', 'could', 'country', 'cover', 'credit', 'creek', 'cumulative', 'currently', 'cut', 'damages', 'date', 'davy', 'day', 'days', 'de', 'declaration', 'declare', 'decline', 'declined', 'delivery', 'department', 'design', 'designed', 'determined', 'develop', 'development', 'diamond', 'did', 'discovery', 'division', 'domestic', 'dominion', 'down', 'drew', 'drifting', 'drilling', 'due', 'during', 'dynamite', 'each', 'earn', 'earnings', 'east', 'eastern', 'economic', 'effective', 'eighty', 'elect', 'end', 'ended', 'engineering', 'envisage', 'equity', 'established', 'evaluation', 'except', 'exchange', 'excluding', 'exclusive', 'exercise', 'expanded', 'expansion', 'exploration', 'explosion', 'export', 'exporter', 'extensive', 'extracted', 'fall', 'fell', 'fighting', 'finance', 'firm', 'first', 'fish', 'five', 'following', 'foot', 'for', 'force', 'foreign', 'formal', 'formed', 'formerly', 'four', 'fourth', 'from', 'full', 'fuming', 'fund', 'funded', 'funds', 'further', 'gallium', 'generating', 'germanium', 'get', 'give', 'gold', 'good', 'goods', 'government', 'grade', 'grant', 'group', 'had', 'half', 'handled', 'have', 'he', 'help', 'here', 'high', 'higher', 'highest', 'honor', 'hoped', 'hopeful', 'hostel', 'however', 'idea', 'ill', 'immediately', 'in', 'included', 'income', 'increase', 'increasing', 'independent', 'index', 'indicate', 'indigenous', 'indium', 'individual', 'industry', 'inflation', 'informally', 'information', 'ingot', 'initial', 'injured', 'institute', 'interest', 'internally', 'international', 'interrupt', 'interrupting', 'interruption', 'into', 'investigation', 'investment', 'is', 'island', 'it', 'its', 'japan', 'job', 'joint', 'journal', 'judge', 'june', 'k', 'keep', 'kind', 'l', 'laden', 'large', 'last', 'late', 'later', 'latest', 'lead', 'less', 'level', 'limited', 'line', 'linking', 'links', 'listed', 'living', 'local', 'long', 'loss', 'lower', 'lynch', 'made', 'main', 'maintenance', 'major', 'majority', 'march', 'market', 'marketing', 'may', 'meanwhile', 'meet', 'meeting', 'melted', 'membership', 'met', 'metal', 'metallurgical', 'method', 'mill', 'milling', 'mine', 'mineral', 'mines', 'minimum', 'mining', 'ministry', 'mint', 'montana', 'most', 'n', 'name', 'near', 'nearly', 'net', 'new', 'newly', 'next', 'nickel', 'night', 'nil', 'nine', 'no', 'north', 'northern', 'not', 'notably', 'noted', 'now', 'number', 'o', 'of', 'offer', 'office', 'official', 'officially', 'offtake', 'on', 'one', 'ongoing', 'open', 'operate', 'operating', 'operation', 'optimum', 'option', 'or', 'ordinary', 'ore', 'organization', 'original', 'other', 'ounce', 'out', 'output', 'over', 'overseas', 'own', 'pace', 'package', 'pact', 'parallel', 'part', 'partnership', 'past', 'pay', 'paying', 'payment', 'penny', 'per', 'period', 'petroleum', 'phase', 'pit', 'plan', 'plant', 'plated', 'plus', 'point', 'police', 'port', 'positive', 'possible', 'potential', 'pound', 'precious', 'preliminary', 'prepare', 'previous', 'price', 'priced', 'primary', 'prime', 'probably', 'proceed', 'process', 'produce', 'produced', 'producer', 'production', 'productive', 'profit', 'program', 'project', 'proposal', 'provide', 'provided', 'provisional', 'purchase', 'quarter', 'queen', 'query', 'railway', 'raise', 'rate', 're', 'reach', 'reaction', 'receive', 'recently', 'recovery', 'reduction', 'refined', 'refinery', 'regulatory', 'rehabilitation', 'represent', 'representative', 'resolved', 'respectively', 'restore', 'result', 'retain', 'returned', 'revenue', 'rise', 'rising', 'roaster', 'rolling', 'rose', 'route', 'royalty', 's', 'sa', 'said', 'same', 'sampling', 'san', 'scale', 'schedule', 'scrap', 'sector', 'security', 'seeking', 'selling', 'separate', 'session', 'set', 'settle', 'seven', 'share', 'ship', 'shipped', 'shipping', 'short', 'should', 'show', 'shut', 'significant', 'silver', 'similar', 'since', 'situation', 'six', 'slab', 'small', 'smelter', 'sold', 'sole', 'some', 'sound', 'south', 'special', 'spokesman', 'staff', 'stake', 'standard', 'start', 'state', 'statement', 'statistics', 'steel', 'sticks', 'still', 'stocks', 'stoppage', 'strike', 'striking', 'structure', 'study', 'subject', 'subsidiary', 'sulphuric', 'supply', 'taking', 'technical', 'technology', 'tentative', 'term', 'than', 'that', 'the', 'then', 'there', 'they', 'this', 'three', 'through', 'tied', 'time', 'to', 'today', 'told', 'ton', 'total', 'trackless', 'trade', 'trader', 'trading', 'traffic', 'trail', 'train', 'transfer', 'troy', 'turnover', 'two', 'u', 'unable', 'under', 'underground', 'underpin', 'underway', 'union', 'unit', 'united', 'until', 'up', 'valuation', 'vein', 'venture', 'voluntary', 'vote', 'voting', 'wage', 'was', 'wash', 'we', 'week', 'weighted', 'went', 'were', 'west', 'western', 'when', 'where', 'whether', 'which', 'whichever', 'while', 'who', 'wholly', 'whose', 'will', 'wire', 'with', 'within', 'without', 'work', 'world', 'worth', 'would', 'year', 'yes', 'yesterday', 'zinc']\n"
     ]
    }
   ],
   "source": [
    "print(sorted(zinc_word_set))"
   ]
  },
  {
   "cell_type": "code",
   "execution_count": 70,
   "metadata": {},
   "outputs": [],
   "source": [
    "# stopword 介绍 : 出现频率高的词 如 the, of"
   ]
  },
  {
   "cell_type": "code",
   "execution_count": 71,
   "metadata": {},
   "outputs": [],
   "source": [
    "from nltk.corpus import stopwords"
   ]
  },
  {
   "cell_type": "code",
   "execution_count": 73,
   "metadata": {},
   "outputs": [
    {
     "name": "stdout",
     "output_type": "stream",
     "text": [
      "['a', 'about', 'above', 'after', 'again', 'against', 'ain', 'all', 'am', 'an', 'and', 'any', 'are', 'aren', \"aren't\", 'as', 'at', 'be', 'because', 'been', 'before', 'being', 'below', 'between', 'both', 'but', 'by', 'can', 'couldn', \"couldn't\", 'd', 'did', 'didn', \"didn't\", 'do', 'does', 'doesn', \"doesn't\", 'doing', 'don', \"don't\", 'down', 'during', 'each', 'few', 'for', 'from', 'further', 'had', 'hadn', \"hadn't\", 'has', 'hasn', \"hasn't\", 'have', 'haven', \"haven't\", 'having', 'he', 'her', 'here', 'hers', 'herself', 'him', 'himself', 'his', 'how', 'i', 'if', 'in', 'into', 'is', 'isn', \"isn't\", 'it', \"it's\", 'its', 'itself', 'just', 'll', 'm', 'ma', 'me', 'mightn', \"mightn't\", 'more', 'most', 'mustn', \"mustn't\", 'my', 'myself', 'needn', \"needn't\", 'no', 'nor', 'not', 'now', 'o', 'of', 'off', 'on', 'once', 'only', 'or', 'other', 'our', 'ours', 'ourselves', 'out', 'over', 'own', 're', 's', 'same', 'shan', \"shan't\", 'she', \"she's\", 'should', \"should've\", 'shouldn', \"shouldn't\", 'so', 'some', 'such', 't', 'than', 'that', \"that'll\", 'the', 'their', 'theirs', 'them', 'themselves', 'then', 'there', 'these', 'they', 'this', 'those', 'through', 'to', 'too', 'under', 'until', 'up', 've', 'very', 'was', 'wasn', \"wasn't\", 'we', 'were', 'weren', \"weren't\", 'what', 'when', 'where', 'which', 'while', 'who', 'whom', 'why', 'will', 'with', 'won', \"won't\", 'wouldn', \"wouldn't\", 'y', 'you', \"you'd\", \"you'll\", \"you're\", \"you've\", 'your', 'yours', 'yourself', 'yourselves']\n"
     ]
    }
   ],
   "source": [
    "stopwords_set = set(stopwords.words('english'))\n",
    "print(sorted(stopwords_set))"
   ]
  },
  {
   "cell_type": "code",
   "execution_count": 76,
   "metadata": {},
   "outputs": [
    {
     "name": "stdout",
     "output_type": "stream",
     "text": [
      "{'trading', 'mining', 'precious', 'reaction', 'kind', 'receive', 'earn', 'plus', 'similar', 'notably', 'quarter', 'program', 'could', 'production', 'payment', 'associated', 'living', 'method', 'approach', 'addition', 'extensive', 'c', 'ingot', 'silver', 'slab', 'k', 'bulletin', 'individual', 'recently', 'due', 'prepare', 'underpin', 'canada', 'bring', 'cut', 'technology', 'n', 'high', 'regulatory', 'transfer', 'exporter', 'budget', 'primary', 'department', 'mill', 'told', 'interest', 'sold', 'decline', 'wage', 'term', 'base', 'island', 'near', 'train', 'limited', 'interruption', 'structure', 'schedule', 'acceptance', 'rolling', 'refinery', 'foreign', 'unable', 'membership', 'elect', 'division', 'ministry', 'settle', 'initial', 'acquisition', 'east', 'clash', 'whether', 'sole', 'advantageous', 'brunswick', 'interrupting', 'montana', 'selling', 'tied', 'steel', 'account', 'government', 'west', 'parallel', 'exercise', 'shut', 'nickel', 'corrected', 'copper', 'melted', 'technical', 'latest', 'lower', 'corresponding', 'metal', 'wholly', 'meet', 'gold', 'officially', 'job', 'day', 'aluminum', 'formed', 'except', 'probably', 'increase', 'level', 'potential', 'would', 'biggest', 'yes', 'pit', 'study', 'evaluation', 'may', 'declined', 'investment', 'investigation', 'majority', 'black', 'mines', 'police', 'option', 'strike', 'ordinary', 'pact', 'week', 'institute', 'plan', 'highest', 'yesterday', 'partnership', 'arm', 'roaster', 'part', 'listed', 'internally', 'abroad', 'process', 'provisional', 'apparent', 'preliminary', 'additional', 'mine', 'cadmium', 'prime', 'metallurgical', 'injured', 'extracted', 'reduction', 'ongoing', 'zinc', 'good', 'following', 'went', 'queen', 'tentative', 'agreed', 'delivery', 'small', 'damages', 'last', 'set', 'total', 'pound', 'route', 'next', 'subject', 'independent', 'separate', 'formal', 'activity', 'spokesman', 'noted', 'full', 'export', 'development', 'vein', 'complex', 'union', 'interrupt', 'annual', 'later', 'however', 'blast', 'b', 'traffic', 'consolidated', 'rose', 'gallium', 'give', 'late', 'agreement', 'added', 'stocks', 'operation', 'marketing', 'organization', 'produce', 'seven', 'trader', 'along', 'envisage', 'troy', 'rehabilitation', 'restore', 'new', 'plant', 'petroleum', 'country', 'excluding', 'provide', 'u', 'judge', 'clearing', 'group', 'price', 'made', 'six', 'still', 'cent', 'positive', 'recovery', 'drew', 'smelter', 'immediately', 'four', 'constitute', 'fall', 'bureau', 'offer', 'grade', 'funded', 'stake', 'show', 'operating', 'northern', 'produced', 'wire', 'domestic', 'office', 'returned', 'buy', 'calendar', 'joint', 'chief', 'package', 'state', 'five', 'rising', 'rise', 'two', 'past', 'meeting', 'cover', 'mint', 'august', 'stoppage', 'fish', 'less', 'credit', 'basic', 'body', 'expanded', 'days', 'statistics', 'north', 'established', 'brand', 'vote', 'taking', 'share', 'company', 'end', 'project', 'based', 'long', 'valuation', 'possible', 'bloc', 'admiralty', 'exploration', 'sector', 'represent', 'maintenance', 'period', 'engineering', 'included', 'world', 'capital', 'aluminium', 'productive', 'ended', 'check', 'hoped', 'refined', 'help', 'local', 'large', 'indigenous', 'producer', 'original', 'funds', 'scale', 'journal', 'foot', 'lead', 'paying', 'agency', 'informally', 'said', 'average', 'nine', 'earnings', 'develop', 'lynch', 'trackless', 'shipped', 'declaration', 'one', 'offtake', 'ore', 'china', 'fell', 'plated', 'industry', 'de', 'bulk', 'ill', 'fund', 'business', 'market', 'sampling', 'per', 'scrap', 'goods', 'representative', 'date', 'pace', 'ago', 'dynamite', 'sticks', 'western', 'linking', 'index', 'within', 'worth', 'designed', 'open', 'query', 'wash', 'underway', 'japan', 'previous', 'community', 'march', 'ship', 'staff', 'comes', 'purchase', 'indium', 'currently', 'declare', 'sa', 'bay', 'indicate', 'pay', 'priced', 'supply', 'idea', 'came', 'venture', 'statement', 'economic', 'determined', 'dominion', 'generating', 'content', 'san', 'cobalt', 'start', 'subsidiary', 'income', 'special', 'cash', 'eighty', 'significant', 'work', 'around', 'germanium', 'revenue', 'railway', 'result', 'voluntary', 'effective', 'sound', 'nearly', 'assaying', 'basis', 'today', 'cumulative', 'links', 'formerly', 'since', 'consumer', 'voting', 'central', 'drifting', 'provided', 'better', 'night', 'trail', 'cost', 'whose', 'fighting', 'three', 'net', 'l', 'met', 'force', 'capacity', 'davy', 'design', 'back', 'exclusive', 'resolved', 'sulphuric', 'phase', 'proceed', 'international', 'control', 'also', 'ounce', 'year', 'raise', 'ton', 'cause', 'underground', 'hopeful', 'without', 'concentrate', 'handled', 'ahead', 'assay', 'information', 'creek', 'fourth', 'first', 'penny', 'retain', 'eastern', 'half', 'honor', 'corp', 'standard', 'able', 'get', 'coal', 'bismuth', 'session', 'short', 'seeking', 'turnover', 'acceptable', 'weighted', 'competition', 'june', 'proposal', 'meanwhile', 'explosion', 'alloy', 'laden', 'acid', 'situation', 'optimum', 'commission', 'name', 'trade', 'inflation', 'continuous', 'rate', 'finance', 'official', 'south', 'minimum', 'striking', 'united', 'royalty', 'diamond', 'nil', 'expansion', 'drilling', 'unit', 'exchange', 'discovery', 'number', 'milling', 'point', 'profit', 'mineral', 'loss', 'increasing', 'grant', 'time', 'affecting', 'newly', 'whichever', 'equity', 'line', 'commercial', 'firm', 'security', 'fuming', 'main', 'overseas', 'keep', 'major', 'consumption', 'hostel', 'ball', 'operate', 'administration', 'reach', 'port', 'respectively', 'higher', 'shipping', 'contract', 'output'}\n"
     ]
    }
   ],
   "source": [
    "zinc_word_set -= stopwords_set\n",
    "print(zinc_word_set)"
   ]
  },
  {
   "cell_type": "code",
   "execution_count": 77,
   "metadata": {},
   "outputs": [],
   "source": [
    "from nltk.corpus import wordnet"
   ]
  },
  {
   "cell_type": "code",
   "execution_count": 78,
   "metadata": {},
   "outputs": [
    {
     "data": {
      "text/plain": [
       "[Synset('money.n.01'), Synset('money.n.02'), Synset('money.n.03')]"
      ]
     },
     "execution_count": 78,
     "metadata": {},
     "output_type": "execute_result"
    }
   ],
   "source": [
    "wordnet.synsets('money')"
   ]
  },
  {
   "cell_type": "code",
   "execution_count": 85,
   "metadata": {},
   "outputs": [
    {
     "name": "stdout",
     "output_type": "stream",
     "text": [
      "the most common medium of exchange; functions as legal tender ['we tried to collect the money he owed us']\n"
     ]
    }
   ],
   "source": [
    "# 解释单词意思, word sense disambiguation\n",
    "print(\n",
    "wordnet.synset('money.n.01').definition(),\n",
    "wordnet.synset('money.n.01').examples()\n",
    ")"
   ]
  },
  {
   "cell_type": "code",
   "execution_count": 86,
   "metadata": {},
   "outputs": [
    {
     "name": "stdout",
     "output_type": "stream",
     "text": [
      "wealth reckoned in terms of money ['all his money is in real estate']\n"
     ]
    }
   ],
   "source": [
    "print(\n",
    "wordnet.synset('money.n.02').definition(),\n",
    "wordnet.synset('money.n.02').examples()\n",
    ")"
   ]
  },
  {
   "cell_type": "code",
   "execution_count": 87,
   "metadata": {},
   "outputs": [
    {
     "name": "stdout",
     "output_type": "stream",
     "text": [
      "the official currency issued by a government or national bank ['he changed his money into francs']\n"
     ]
    }
   ],
   "source": [
    "print(\n",
    "wordnet.synset('money.n.03').definition(),\n",
    "wordnet.synset('money.n.03').examples()\n",
    ")"
   ]
  },
  {
   "cell_type": "code",
   "execution_count": 92,
   "metadata": {},
   "outputs": [
    {
     "data": {
      "text/plain": [
       "[Synset('unsecured_bond.n.01'), Synset('debenture.n.02')]"
      ]
     },
     "execution_count": 92,
     "metadata": {},
     "output_type": "execute_result"
    }
   ],
   "source": [
    "wordnet.synsets('debenture')"
   ]
  },
  {
   "cell_type": "code",
   "execution_count": 94,
   "metadata": {},
   "outputs": [
    {
     "data": {
      "text/plain": [
       "['unsecured_bond', 'debenture', 'debenture_bond']"
      ]
     },
     "execution_count": 94,
     "metadata": {},
     "output_type": "execute_result"
    }
   ],
   "source": [
    "wordnet.synset('unsecured_bond.n.01').lemma_names()"
   ]
  },
  {
   "cell_type": "code",
   "execution_count": 95,
   "metadata": {},
   "outputs": [
    {
     "data": {
      "text/plain": [
       "[Synset('bond.n.02')]"
      ]
     },
     "execution_count": 95,
     "metadata": {},
     "output_type": "execute_result"
    }
   ],
   "source": [
    "# hypernyms 上位词\n",
    "\n",
    "wordnet.synset('unsecured_bond.n.01').hypernyms()"
   ]
  },
  {
   "cell_type": "code",
   "execution_count": 96,
   "metadata": {},
   "outputs": [
    {
     "data": {
      "text/plain": [
       "[Synset('debt_instrument.n.01'), Synset('security.n.04')]"
      ]
     },
     "execution_count": 96,
     "metadata": {},
     "output_type": "execute_result"
    }
   ],
   "source": [
    "wordnet.synset('bond.n.02').hypernyms()"
   ]
  },
  {
   "cell_type": "code",
   "execution_count": 97,
   "metadata": {},
   "outputs": [],
   "source": [
    "# 如何没有其他hypernyms了, 那么就是root_hypernums \n",
    "# 可以用 .root_hypernyms()"
   ]
  },
  {
   "cell_type": "code",
   "execution_count": 99,
   "metadata": {},
   "outputs": [],
   "source": [
    "import requests, re"
   ]
  },
  {
   "cell_type": "code",
   "execution_count": null,
   "metadata": {},
   "outputs": [],
   "source": [
    "from bs4 import BeautifulSoup"
   ]
  }
 ],
 "metadata": {
  "celltoolbar": "Raw Cell Format",
  "kernelspec": {
   "display_name": "Python 3",
   "language": "python",
   "name": "python3"
  },
  "language_info": {
   "codemirror_mode": {
    "name": "ipython",
    "version": 3
   },
   "file_extension": ".py",
   "mimetype": "text/x-python",
   "name": "python",
   "nbconvert_exporter": "python",
   "pygments_lexer": "ipython3",
   "version": "3.7.1"
  }
 },
 "nbformat": 4,
 "nbformat_minor": 2
}
