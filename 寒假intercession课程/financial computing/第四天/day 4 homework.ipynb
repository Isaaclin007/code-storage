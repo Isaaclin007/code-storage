{
 "cells": [
  {
   "cell_type": "code",
   "execution_count": 2,
   "metadata": {},
   "outputs": [],
   "source": [
    "import re"
   ]
  },
  {
   "cell_type": "markdown",
   "metadata": {},
   "source": [
    "(1)\n",
    "takes a string as input,\n",
    "searches the string for all occurrences of a word starting with a capital letter and has only lower case letters after that, and outputs a list of pairs (start,end) giving the span of each word. (Here, for example in the string  “My Maryland is a great state.” would give as output [(0,2),(3,11)]."
   ]
  },
  {
   "cell_type": "code",
   "execution_count": 73,
   "metadata": {},
   "outputs": [
    {
     "data": {
      "text/plain": [
       "[(0, 2), (5, 13)]"
      ]
     },
     "execution_count": 73,
     "metadata": {},
     "output_type": "execute_result"
    }
   ],
   "source": [
    "# 利用finditer（）生成迭代器\n",
    "\n",
    "test_str = 'My M Maryland is a great state.'\n",
    "\n",
    "def one(text):\n",
    "    pattern = '[A-Z][a-z]{1,}'\n",
    "    res = re.finditer(pattern, text)\n",
    "    return [i.span() for i in res]\n",
    "\n",
    "one(test_str)"
   ]
  },
  {
   "cell_type": "markdown",
   "metadata": {},
   "source": [
    "(2)\n",
    "Write a program that\n",
    "takes a string as input,\n",
    "searches the string for occurrence of multiple spaces next to each other,\n",
    "replaces every multiple space pattern by a single space, and\n",
    "outputs the modified string."
   ]
  },
  {
   "cell_type": "code",
   "execution_count": 34,
   "metadata": {},
   "outputs": [
    {
     "data": {
      "text/plain": [
       "'My M Maryland is a great state.'"
      ]
     },
     "execution_count": 34,
     "metadata": {},
     "output_type": "execute_result"
    }
   ],
   "source": [
    "text = 'My    M Maryland is a great state.'\n",
    "def two(text):\n",
    "    return re.sub(' {2,}', ' ', text) \n",
    "\n",
    "two(text)"
   ]
  },
  {
   "cell_type": "markdown",
   "metadata": {},
   "source": [
    "(3)\n",
    "\n",
    "Write a program that takes a string as input,searches the string for every pattern of the form “xxxxxxxxx(.yyyy)” where x is any character appearing any number of times, y is any character appearing any number of times, and the ., the (, and ) characters literally appear, removes the opening and closing parentheses whenever such a pattern appears, and outputs the modified string."
   ]
  },
  {
   "cell_type": "code",
   "execution_count": 46,
   "metadata": {},
   "outputs": [
    {
     "name": "stdout",
     "output_type": "stream",
     "text": [
      "xxxx.yyyhjkhkddd.fff\n"
     ]
    }
   ],
   "source": [
    "text = 'xxxx(.yyy)hjkhkddd(.fff)'\n",
    "pattern = r'(.)\\1{1,}\\(\\.(.)\\2{1,}\\)'\n",
    "\n",
    "generator = re.finditer(pattern, text)\n",
    "dirt = [i.group() for i in generator]\n",
    "for i in dirt:\n",
    "    text = text.replace(i,i[:-1].replace('(.', '.'))\n",
    "print(text)"
   ]
  },
  {
   "cell_type": "code",
   "execution_count": null,
   "metadata": {},
   "outputs": [],
   "source": []
  },
  {
   "cell_type": "code",
   "execution_count": 52,
   "metadata": {},
   "outputs": [
    {
     "name": "stdout",
     "output_type": "stream",
     "text": [
      "xxxx.yyyhjkhkddd.fff\n"
     ]
    }
   ],
   "source": [
    "text = 'xxxx(.yyy)hjkhkddd(.fff)'\n",
    "def fun(match):\n",
    "    return match.group()[:-1].replace('(.', '.')\n",
    "def four(text):\n",
    "    pattern = r'(.)\\1{1,}\\(\\.(.)\\2{1,}\\)'\n",
    "    return re.sub(pattern, fun, text)\n",
    "\n",
    "print(four(text))"
   ]
  },
  {
   "cell_type": "code",
   "execution_count": null,
   "metadata": {},
   "outputs": [],
   "source": []
  },
  {
   "cell_type": "markdown",
   "metadata": {},
   "source": [
    "(4)\n",
    "Write a program that\n",
    "Takes two arguments – a string of alphabetic characters and punctuation marks, and a positive integer n,\n",
    "Removes all punctuation marks. When a hyphen appears, as in “meta-character” it removes the hyphen.\n",
    "Removes all words in the string of length less than n, and outputs a list of the words that remain."
   ]
  },
  {
   "cell_type": "code",
   "execution_count": 55,
   "metadata": {},
   "outputs": [
    {
     "data": {
      "text/plain": [
       "['jjhk', 'xxxxy', 'yyyhjk', 'hk']"
      ]
     },
     "execution_count": 55,
     "metadata": {},
     "output_type": "execute_result"
    }
   ],
   "source": [
    "text = 'jjhk xxxx(.y yyy)hjk hk'\n",
    "\n",
    "def four(text, n):\n",
    "    new_text = re.sub('[^a-zA-Z ]', '',text)\n",
    "    return [w for w in new_text.split() if len(w)>=n]\n",
    "\n",
    "\n",
    "four(text, 2)"
   ]
  },
  {
   "cell_type": "code",
   "execution_count": null,
   "metadata": {},
   "outputs": [],
   "source": []
  }
 ],
 "metadata": {
  "kernelspec": {
   "display_name": "Python 3",
   "language": "python",
   "name": "python3"
  },
  "language_info": {
   "codemirror_mode": {
    "name": "ipython",
    "version": 3
   },
   "file_extension": ".py",
   "mimetype": "text/x-python",
   "name": "python",
   "nbconvert_exporter": "python",
   "pygments_lexer": "ipython3",
   "version": "3.7.1"
  }
 },
 "nbformat": 4,
 "nbformat_minor": 2
}
