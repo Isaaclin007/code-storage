{
 "cells": [
  {
   "cell_type": "code",
   "execution_count": 5,
   "metadata": {},
   "outputs": [],
   "source": [
    "import requests\n",
    "from bs4 import BeautifulSoup as bs"
   ]
  },
  {
   "cell_type": "code",
   "execution_count": 6,
   "metadata": {},
   "outputs": [],
   "source": [
    "req=requests.get(\"https://www.sec.gov/cgi-bin/browse-edgar?CIK=S000058563&action=getcompany&scd=filings\")\n",
    "text = req.text"
   ]
  },
  {
   "cell_type": "code",
   "execution_count": 7,
   "metadata": {},
   "outputs": [],
   "source": [
    "soup=bs(text)"
   ]
  },
  {
   "cell_type": "code",
   "execution_count": 34,
   "metadata": {},
   "outputs": [],
   "source": [
    "tr_lists =list(soup.find_all('tr'))"
   ]
  },
  {
   "cell_type": "code",
   "execution_count": 69,
   "metadata": {},
   "outputs": [
    {
     "name": "stdout",
     "output_type": "stream",
     "text": [
      "['https://www.sec.gov/Archives/edgar/data/1444822/000119312518334046/0001193125-18-334046-index.htm', 'https://www.sec.gov/Archives/edgar/data/1444822/000119312518174854/0001193125-18-174854-index.htm', 'https://www.sec.gov/Archives/edgar/data/1444822/000119312517355327/0001193125-17-355327-index.htm']\n"
     ]
    }
   ],
   "source": [
    "url_list = []\n",
    "\n",
    "for tr in tr_lists:\n",
    "    if tr.td and tr.td.text=='N-Q':\n",
    "        td_list = list(tr)\n",
    "        part_of_url = str(td_list[3].a.attrs['href'])\n",
    "        url_list.append('https://www.sec.gov'+part_of_url)\n",
    "\n",
    "print(url_list)\n",
    "        "
   ]
  },
  {
   "cell_type": "code",
   "execution_count": 110,
   "metadata": {},
   "outputs": [
    {
     "name": "stdout",
     "output_type": "stream",
     "text": [
      "['https://www.sec.gov/Archives/edgar/data/1444822/000119312518334046/d628509dnq.htm', 'https://www.sec.gov/Archives/edgar/data/1444822/000119312518174854/d555199dnq.htm', 'https://www.sec.gov/Archives/edgar/data/1444822/000119312517355327/d486756dnq.htm']\n"
     ]
    }
   ],
   "source": [
    "new_url_list = []\n",
    "\n",
    "for url in url_list:\n",
    "    req=requests.get(url)\n",
    "    text = req.text\n",
    "    soup=bs(text)\n",
    "    lis = soup.find(text='AQR FUNDS')\n",
    "    new_url_list.append('https://www.sec.gov'+ lis.next.next.a.attrs['href'])\n",
    "    \n",
    "print(new_url_list)\n",
    "\n"
   ]
  },
  {
   "cell_type": "code",
   "execution_count": null,
   "metadata": {},
   "outputs": [],
   "source": []
  }
 ],
 "metadata": {
  "kernelspec": {
   "display_name": "Python 3",
   "language": "python",
   "name": "python3"
  },
  "language_info": {
   "codemirror_mode": {
    "name": "ipython",
    "version": 3
   },
   "file_extension": ".py",
   "mimetype": "text/x-python",
   "name": "python",
   "nbconvert_exporter": "python",
   "pygments_lexer": "ipython3",
   "version": "3.7.1"
  }
 },
 "nbformat": 4,
 "nbformat_minor": 2
}
