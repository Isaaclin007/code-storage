{
 "cells": [
  {
   "cell_type": "markdown",
   "metadata": {},
   "source": [
    " 1.The inputs of the models should only include user-related features, e.g. number of twits the user has posted, etc. Any inputs related with a single twit are not valid inputs. You should create suitable features for promising prediction.\n",
    " \n",
    "2.You cannot use the follower number itself as a feature.\n",
    " \n",
    "3.You should re-manage the twits data-set from http://www.ams.jhu.edu/~dan/stock_twits/twits.txt, and split the whole dataset so that 3/4 of the user data are used for training while rest for testing.\n",
    "\n",
    "4.You finally your should print two confusion matrices as outputs.\n",
    "\n",
    "5.OPTIONAL: You can apply random forest models on this problem and compare it with naive bayes and logistic regression\n"
   ]
  },
  {
   "cell_type": "markdown",
   "metadata": {},
   "source": [
    "# 获取数据"
   ]
  },
  {
   "cell_type": "code",
   "execution_count": 277,
   "metadata": {},
   "outputs": [],
   "source": [
    "import requests\n",
    "import json\n",
    "import time\n",
    "import numpy as np"
   ]
  },
  {
   "cell_type": "code",
   "execution_count": 169,
   "metadata": {},
   "outputs": [],
   "source": [
    "req = requests.get('http://www.ams.jhu.edu/~dan/stock_twits/twits.txt')\n",
    "# 最后一个不要，因为是空的\n",
    "text_list = req.text.split('\\n')[:-1]"
   ]
  },
  {
   "cell_type": "markdown",
   "metadata": {},
   "source": [
    "# 清洗数据"
   ]
  },
  {
   "cell_type": "code",
   "execution_count": 170,
   "metadata": {},
   "outputs": [
    {
     "data": {
      "text/plain": [
       "2288"
      ]
     },
     "execution_count": 170,
     "metadata": {},
     "output_type": "execute_result"
    }
   ],
   "source": [
    "len(text_list)"
   ]
  },
  {
   "cell_type": "code",
   "execution_count": 171,
   "metadata": {},
   "outputs": [],
   "source": [
    "json_list = [json.loads(i) for i in text_list]"
   ]
  },
  {
   "cell_type": "code",
   "execution_count": 172,
   "metadata": {},
   "outputs": [
    {
     "data": {
      "text/plain": [
       "30"
      ]
     },
     "execution_count": 172,
     "metadata": {},
     "output_type": "execute_result"
    }
   ],
   "source": [
    "len(json_list[0]['messages'])"
   ]
  },
  {
   "cell_type": "code",
   "execution_count": 173,
   "metadata": {},
   "outputs": [],
   "source": [
    "twit_list = []\n",
    "\n",
    "for json in json_list:\n",
    "    twit_list.extend(json['messages'])\n"
   ]
  },
  {
   "cell_type": "code",
   "execution_count": 174,
   "metadata": {},
   "outputs": [],
   "source": [
    "id_list = []\n",
    "clean_twit_list = []\n",
    "\n",
    "for i in range(len(twit_list)):\n",
    "    twit = twit_list.pop()\n",
    "    if twit['id'] not in id_list:\n",
    "        id_list.append(twit['id'])\n",
    "        clean_twit_list.append(twit)\n"
   ]
  },
  {
   "cell_type": "code",
   "execution_count": 178,
   "metadata": {},
   "outputs": [],
   "source": [
    "sorted_twit_list = sorted(clean_twit_list, key=lambda x:x['user']['followers'])"
   ]
  },
  {
   "cell_type": "code",
   "execution_count": 179,
   "metadata": {},
   "outputs": [
    {
     "data": {
      "text/plain": [
       "4964"
      ]
     },
     "execution_count": 179,
     "metadata": {},
     "output_type": "execute_result"
    }
   ],
   "source": [
    "len(sorted_twit_list)"
   ]
  },
  {
   "cell_type": "code",
   "execution_count": null,
   "metadata": {},
   "outputs": [],
   "source": []
  },
  {
   "cell_type": "code",
   "execution_count": 176,
   "metadata": {},
   "outputs": [],
   "source": [
    "clean_user_list = []\n",
    "user_id_list = []\n",
    "for twit in clean_twit_list:\n",
    "    if twit['user']['id'] not in user_id_list:\n",
    "        user_id_list.append(twit['user']['id'])\n",
    "        clean_user_list.append(twit['user'])"
   ]
  },
  {
   "cell_type": "code",
   "execution_count": 177,
   "metadata": {},
   "outputs": [
    {
     "data": {
      "text/plain": [
       "1561"
      ]
     },
     "execution_count": 177,
     "metadata": {},
     "output_type": "execute_result"
    }
   ],
   "source": [
    "len(clean_user_list)"
   ]
  },
  {
   "cell_type": "code",
   "execution_count": 180,
   "metadata": {},
   "outputs": [],
   "source": [
    "sorted_user_list = sorted(clean_user_list, key=lambda x:x['followers'])"
   ]
  },
  {
   "cell_type": "code",
   "execution_count": 188,
   "metadata": {},
   "outputs": [
    {
     "data": {
      "text/plain": [
       "{'avatar_url_ssl': 'https://avatars.stocktwits.com/production/170/thumb-1537898606.png',\n",
       " 'join_date': '2009-08-31',\n",
       " 'username': 'StockTwits',\n",
       " 'identity': 'Official',\n",
       " 'following': 10000,\n",
       " 'official': True,\n",
       " 'like_count': 49109,\n",
       " 'name': 'StockTwits',\n",
       " 'id': 170,\n",
       " 'followers': 489995,\n",
       " 'watchlist_stocks_count': 18,\n",
       " 'ideas': 74125,\n",
       " 'avatar_url': 'https://avatars.stocktwits.com/production/170/thumb-1537898606.png',\n",
       " 'classification': ['suggested', 'official']}"
      ]
     },
     "execution_count": 188,
     "metadata": {},
     "output_type": "execute_result"
    }
   ],
   "source": [
    "sorted_user_list[-1]"
   ]
  },
  {
   "cell_type": "code",
   "execution_count": 288,
   "metadata": {},
   "outputs": [],
   "source": [
    "# 时间字符串转数字\n",
    "def time_to_int(time_str):\n",
    "    timeArray = time.strptime(time_str, \"%Y-%m-%d\")\n",
    "    return int(time.mktime(timeArray))"
   ]
  },
  {
   "cell_type": "code",
   "execution_count": 305,
   "metadata": {},
   "outputs": [
    {
     "data": {
      "text/plain": [
       "28"
      ]
     },
     "execution_count": 305,
     "metadata": {},
     "output_type": "execute_result"
    }
   ],
   "source": [
    "# followers 中位数\n",
    "median = sorted_user_list[781]['followers']"
   ]
  },
  {
   "cell_type": "markdown",
   "metadata": {},
   "source": [
    "\n",
    "\n",
    "创建array:sorted_user_array\n",
    "\n",
    "一共6个列：包含5 x个参数 和 1 个y结果\n",
    "join_date, following, like_count, ideas, classification\n"
   ]
  },
  {
   "cell_type": "code",
   "execution_count": 296,
   "metadata": {},
   "outputs": [
    {
     "name": "stdout",
     "output_type": "stream",
     "text": [
      "[[0. 0. 0. 0. 0. 0.]\n",
      " [0. 0. 0. 0. 0. 0.]\n",
      " [0. 0. 0. 0. 0. 0.]\n",
      " ...\n",
      " [0. 0. 0. 0. 0. 0.]\n",
      " [0. 0. 0. 0. 0. 0.]\n",
      " [0. 0. 0. 0. 0. 0.]]\n"
     ]
    }
   ],
   "source": [
    "sorted_user_array = np.zeros((len(sorted_user_list),6))\n",
    "print(sorted_user_array)"
   ]
  },
  {
   "cell_type": "code",
   "execution_count": 336,
   "metadata": {},
   "outputs": [],
   "source": [
    "for row in range(len(sorted_user_list)):\n",
    "    sorted_user_array[row][0] = time_to_int(sorted_user_list[row]['join_date'])\n",
    "    sorted_user_array[row][1] = sorted_user_list[row]['following'] if sorted_user_list[row]['following']>=0 else 0\n",
    "    sorted_user_array[row][2] = sorted_user_list[row]['like_count']\n",
    "    sorted_user_array[row][3] = sorted_user_list[row]['ideas']\n",
    "    sorted_user_array[row][4] = len(sorted_user_list[row]['classification'])\n",
    "    sorted_user_array[row][5] = 1 if sorted_user_list[row]['followers'] >28 else 0\n"
   ]
  },
  {
   "cell_type": "code",
   "execution_count": 386,
   "metadata": {},
   "outputs": [
    {
     "data": {
      "text/plain": [
       "array([2, 4, 3])"
      ]
     },
     "execution_count": 386,
     "metadata": {},
     "output_type": "execute_result"
    }
   ],
   "source": [
    "len(sorted_user_array)/4*3\n",
    "np.random.choice(range(5),3,replace=True)"
   ]
  },
  {
   "cell_type": "code",
   "execution_count": 364,
   "metadata": {},
   "outputs": [],
   "source": [
    "test_array = sorted_user_array[::4]\n",
    "train_array = np.array([sorted_user_array[i] for i in range(len(sorted_user_array)) if i%4!=0 ])"
   ]
  },
  {
   "cell_type": "markdown",
   "metadata": {},
   "source": [
    "# 分析数据"
   ]
  },
  {
   "cell_type": "code",
   "execution_count": 342,
   "metadata": {},
   "outputs": [
    {
     "data": {
      "text/plain": [
       "{'large': [3, 20, 1, 0, 138, 0, 19, 0, 0, 18],\n",
       " 'little': [29, 99, 19, 3, 0, 2, 24, 9, 1, 2]}"
      ]
     },
     "execution_count": 342,
     "metadata": {},
     "output_type": "execute_result"
    }
   ],
   "source": [
    "def fun(attr):\n",
    "    res = {}\n",
    "    res['large'] = [i[attr] for i in sorted_user_list[-10:]]\n",
    "    res['little'] = [i[attr] for i in sorted_user_list[:10]]\n",
    "    return res\n",
    "    \n",
    "fun('watchlist_stocks_count')"
   ]
  },
  {
   "cell_type": "markdown",
   "metadata": {},
   "source": [
    "这些是我的参数：join_date, identity, following, like_count, ideas, classification"
   ]
  },
  {
   "cell_type": "markdown",
   "metadata": {},
   "source": [
    "### naive_bayes"
   ]
  },
  {
   "cell_type": "code",
   "execution_count": 379,
   "metadata": {},
   "outputs": [
    {
     "data": {
      "text/plain": [
       "array([[194,   2],\n",
       "       [100,  95]])"
      ]
     },
     "execution_count": 379,
     "metadata": {},
     "output_type": "execute_result"
    }
   ],
   "source": [
    "from sklearn.naive_bayes import MultinomialNB\n",
    "from sklearn.metrics import confusion_matrix\n",
    "clf = MultinomialNB()\n",
    "clf.fit(train_array[:, :5], train_array[: ,5])\n",
    "\n",
    "y_predict=clf.predict(test_array[:, :5])\n",
    "confusion_matrix(test_array[: ,5], y_predict)"
   ]
  },
  {
   "cell_type": "markdown",
   "metadata": {},
   "source": [
    "### Logistic Regression"
   ]
  },
  {
   "cell_type": "code",
   "execution_count": 382,
   "metadata": {},
   "outputs": [
    {
     "name": "stderr",
     "output_type": "stream",
     "text": [
      "/Users/flu16/anaconda3/lib/python3.7/site-packages/sklearn/linear_model/logistic.py:433: FutureWarning: Default solver will be changed to 'lbfgs' in 0.22. Specify a solver to silence this warning.\n",
      "  FutureWarning)\n"
     ]
    },
    {
     "data": {
      "text/plain": [
       "array([[193,   3],\n",
       "       [ 75, 120]])"
      ]
     },
     "execution_count": 382,
     "metadata": {},
     "output_type": "execute_result"
    }
   ],
   "source": [
    "from sklearn.linear_model import LogisticRegression\n",
    "clf = LogisticRegression()\n",
    "clf.fit(train_array[:, :5], train_array[: ,5])\n",
    "y_predict=clf.predict(test_array[:, :5])\n",
    "confusion_matrix(test_array[: ,5], y_predict)"
   ]
  },
  {
   "cell_type": "markdown",
   "metadata": {},
   "source": [
    "### Decision tree"
   ]
  },
  {
   "cell_type": "code",
   "execution_count": 383,
   "metadata": {},
   "outputs": [
    {
     "data": {
      "text/plain": [
       "array([[159,  37],\n",
       "       [ 49, 146]])"
      ]
     },
     "execution_count": 383,
     "metadata": {},
     "output_type": "execute_result"
    }
   ],
   "source": [
    "from sklearn import tree\n",
    "clf = tree.DecisionTreeClassifier()\n",
    "clf = clf.fit(train_array[:, :5], train_array[: ,5])8\n",
    "y_predict=clf.predict(test_array[:, :5])\n",
    "confusion_matrix(test_array[: ,5], y_predict)"
   ]
  },
  {
   "cell_type": "code",
   "execution_count": 378,
   "metadata": {},
   "outputs": [],
   "source": []
  },
  {
   "cell_type": "code",
   "execution_count": null,
   "metadata": {},
   "outputs": [],
   "source": []
  }
 ],
 "metadata": {
  "kernelspec": {
   "display_name": "Python 3",
   "language": "python",
   "name": "python3"
  },
  "language_info": {
   "codemirror_mode": {
    "name": "ipython",
    "version": 3
   },
   "file_extension": ".py",
   "mimetype": "text/x-python",
   "name": "python",
   "nbconvert_exporter": "python",
   "pygments_lexer": "ipython3",
   "version": "3.7.1"
  }
 },
 "nbformat": 4,
 "nbformat_minor": 2
}
