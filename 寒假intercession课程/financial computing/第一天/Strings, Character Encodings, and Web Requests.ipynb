{
 "cells": [
  {
   "cell_type": "markdown",
   "metadata": {},
   "source": [
    "# Strings in Python"
   ]
  },
  {
   "cell_type": "markdown",
   "metadata": {},
   "source": [
    "The material in this notebook might seem overly pedantic, but it turns out to be  very important to get these ideas straight before we begin trying to do any sort of text processing in Python. In fact, if you read the documentation fo the re (regular expressions) package in Python, one of the very first comments is about mixing unicode strings and bytes objects."
   ]
  },
  {
   "cell_type": "markdown",
   "metadata": {},
   "source": [
    "It used to be the case that text for computers was handled using a very small character set called the American Standard Code for Information Interchange (ASCII) set. This consisted of 128 characters (represented using 7 bits).\n",
    "Dealing with text and computers was simpler (well, for people who used this particular set of characters) back in those days but it became apparent eventually that more characters were needed. Unicode was created to remedy this. In Python, strings can represent the entire collection of unicode characters (there are around 1.1 million possible characters - with most possibilities unused at this point).\n",
    "\n",
    "http://www.asciitable.com/"
   ]
  },
  {
   "cell_type": "markdown",
   "metadata": {},
   "source": [
    "In Python, a distinction is made between unicode strings (strings of unicode characters by default using the utf-8 encoding) and bytes object (byte strings). A bytes object consists of a sequence of 8 bit bytes. A unicode string consists of unicode characters. Let's review some information about strings in Python.\n",
    "\n",
    "First, we can define a string using quotes."
   ]
  },
  {
   "cell_type": "code",
   "execution_count": 3,
   "metadata": {},
   "outputs": [],
   "source": [
    "mystring=\"This is a string\""
   ]
  },
  {
   "cell_type": "markdown",
   "metadata": {},
   "source": [
    "We can refer to specific characters in the string by number."
   ]
  },
  {
   "cell_type": "code",
   "execution_count": 5,
   "metadata": {},
   "outputs": [
    {
     "data": {
      "text/plain": [
       "'i'"
      ]
     },
     "execution_count": 5,
     "metadata": {},
     "output_type": "execute_result"
    }
   ],
   "source": [
    "mystring[5]"
   ]
  },
  {
   "cell_type": "markdown",
   "metadata": {},
   "source": [
    "We can slice using a range."
   ]
  },
  {
   "cell_type": "code",
   "execution_count": 6,
   "metadata": {},
   "outputs": [
    {
     "data": {
      "text/plain": [
       "'is'"
      ]
     },
     "execution_count": 6,
     "metadata": {},
     "output_type": "execute_result"
    }
   ],
   "source": [
    "mystring[2:4]"
   ]
  },
  {
   "cell_type": "markdown",
   "metadata": {},
   "source": [
    "Strings are \"iterables\""
   ]
  },
  {
   "cell_type": "code",
   "execution_count": 8,
   "metadata": {},
   "outputs": [
    {
     "name": "stdout",
     "output_type": "stream",
     "text": [
      "T\n",
      "h\n",
      "i\n",
      "s\n",
      " \n",
      "i\n"
     ]
    }
   ],
   "source": [
    "ctr=0\n",
    "for c in mystring:\n",
    "    if ctr>5:\n",
    "        break\n",
    "    print(c)\n",
    "    ctr=ctr+1"
   ]
  },
  {
   "cell_type": "markdown",
   "metadata": {},
   "source": [
    "We can concatenate strings using +."
   ]
  },
  {
   "cell_type": "code",
   "execution_count": 10,
   "metadata": {},
   "outputs": [
    {
     "name": "stdout",
     "output_type": "stream",
     "text": [
      "my dog is Sasha\n"
     ]
    }
   ],
   "source": [
    "mystring1=\"my dog is\"\n",
    "mystring2=\" Sasha\"\n",
    "mystring=mystring1+mystring2\n",
    "print(mystring)"
   ]
  },
  {
   "cell_type": "markdown",
   "metadata": {},
   "source": [
    "We can test for whether a string contains a substring."
   ]
  },
  {
   "cell_type": "code",
   "execution_count": 12,
   "metadata": {},
   "outputs": [
    {
     "name": "stdout",
     "output_type": "stream",
     "text": [
      "True\n",
      "False\n"
     ]
    }
   ],
   "source": [
    "res1=\"Sas\" in mystring\n",
    "res2=\"DOG\" in mystring\n",
    "print(res1)\n",
    "print(res2)\n"
   ]
  },
  {
   "cell_type": "markdown",
   "metadata": {},
   "source": [
    "Strings in Python are immutable. We can't change a string. "
   ]
  },
  {
   "cell_type": "code",
   "execution_count": 14,
   "metadata": {},
   "outputs": [
    {
     "name": "stdout",
     "output_type": "stream",
     "text": [
      "my dog is Sasha\n"
     ]
    }
   ],
   "source": [
    "mystring.replace(\"dog\",\"cat\")\n",
    "print(mystring)"
   ]
  },
  {
   "cell_type": "markdown",
   "metadata": {},
   "source": [
    "However, we can define a new string with the same name, which over-writes the old one."
   ]
  },
  {
   "cell_type": "code",
   "execution_count": 15,
   "metadata": {},
   "outputs": [
    {
     "name": "stdout",
     "output_type": "stream",
     "text": [
      "My cat is Sasha\n"
     ]
    }
   ],
   "source": [
    "mystring=\"My dog is Sasha\"\n",
    "mystring=mystring.replace(\"dog\",\"cat\")\n",
    "print(mystring)"
   ]
  },
  {
   "cell_type": "markdown",
   "metadata": {},
   "source": [
    "# Unicode characters\n",
    "\n",
    "Python strings by default allow for more general characteres, referred to as unicode characters\n",
    "\n",
    "We will talk more soon about how this all works specifically. The key issue to be aware of for now is that the standard ascii character set only allows for 128 possible characters. Unicode allows for many, many more characters, one for every decimal in the range 0,1,....,n-1, where n = 1,114,112.\n",
    "\n",
    "Some characters are white-space characters, i.e. we can't actually see them. These include the space character, the tab character and the line feed character. If we want one of these to be put into a string, we can use various methods. One method is to use the backslash as an escape."
   ]
  },
  {
   "cell_type": "code",
   "execution_count": 90,
   "metadata": {},
   "outputs": [
    {
     "name": "stdout",
     "output_type": "stream",
     "text": [
      "My dog is adorable.\n",
      "How is your dog?\n"
     ]
    }
   ],
   "source": [
    "string1=\"My dog is adorable.\\nHow is your dog?\"\n",
    "print(string1)"
   ]
  },
  {
   "cell_type": "markdown",
   "metadata": {},
   "source": [
    "We can specify a unicode character by a decimal referred to as a \"code point\".  The chr function takes an integer code point and returns its corresponding unicode character. This mapping extends the ascii table beyond the 128 entries."
   ]
  },
  {
   "cell_type": "code",
   "execution_count": 92,
   "metadata": {},
   "outputs": [
    {
     "name": "stdout",
     "output_type": "stream",
     "text": [
      "My dog is adorable.\n",
      "How is your dog?\n",
      "True\n"
     ]
    }
   ],
   "source": [
    "string2=\"My dog is adorable.\"+chr(10)+\"How is your dog\" + chr(63)\n",
    "print(string2)\n",
    "print(string1==string2)"
   ]
  },
  {
   "cell_type": "markdown",
   "metadata": {},
   "source": [
    "In the following we create a string of all of the non whitespace ascii characters, which are the characters whose codes are in the range 32,...,127."
   ]
  },
  {
   "cell_type": "code",
   "execution_count": 83,
   "metadata": {},
   "outputs": [
    {
     "name": "stdout",
     "output_type": "stream",
     "text": [
      "  !\"#$%&'()*+,-./0123456789:;<=>?@ABCDEFGHIJKLMNOPQRSTUVWXYZ[\\]^_`abcdefghijklmnopqrstuvwxyz{|}~\n"
     ]
    }
   ],
   "source": [
    "s=chr(32)\n",
    "for i in range(32,128):\n",
    "    s=s+chr(i)\n",
    "print(s)"
   ]
  },
  {
   "cell_type": "markdown",
   "metadata": {},
   "source": [
    "But we can get so many more characters using chr. Here is an interesting exercise. Write an expression in chinese and find its unicode representation. Take an expression in english, translate it into chinese using Google translate, then copy the characters to this site\n",
    "\n",
    "    https://www.chinese-tools.com/tools/converter-unicode.html\n",
    "\n",
    "to get the unicode. \n",
    "\n",
    "I translated \"computing is fun\" to chinese (simplified) to obtain 计算很有趣  then I copied this to the site above to get this output:\n",
    "\n",
    "&#35745;&#31639;&#24456;&#26377;&#36259;\n"
   ]
  },
  {
   "cell_type": "code",
   "execution_count": 105,
   "metadata": {},
   "outputs": [
    {
     "name": "stdout",
     "output_type": "stream",
     "text": [
      "计算很有趣\n"
     ]
    },
    {
     "data": {
      "text/plain": [
       "'计算很有趣'"
      ]
     },
     "execution_count": 105,
     "metadata": {},
     "output_type": "execute_result"
    }
   ],
   "source": [
    "message=chr(35745)+chr(31639)+chr(24456)+chr(26377)+chr(36259)\n",
    "print(message)\n",
    "message"
   ]
  },
  {
   "cell_type": "markdown",
   "metadata": {},
   "source": [
    "For a better understanding of how unicode coding allows us to go from bytes to characters, check out this YouTube video:\n",
    "\n",
    "    https://www.youtube.com/watch?v=MijmeoH9LT4&t=488s\n"
   ]
  },
  {
   "cell_type": "markdown",
   "metadata": {},
   "source": [
    "The inverse function to chr is the ord function."
   ]
  },
  {
   "cell_type": "code",
   "execution_count": 111,
   "metadata": {},
   "outputs": [
    {
     "name": "stdout",
     "output_type": "stream",
     "text": [
      "计\n",
      "35745\n"
     ]
    }
   ],
   "source": [
    "c=chr(35745)\n",
    "print(c)\n",
    "n=ord(c)\n",
    "print(n)"
   ]
  },
  {
   "cell_type": "markdown",
   "metadata": {},
   "source": [
    "# Writing strings to a file\n",
    "\n",
    "To write strings consisting of ascii characters to a file we open the file, use the write method then close it."
   ]
  },
  {
   "cell_type": "code",
   "execution_count": 132,
   "metadata": {},
   "outputs": [],
   "source": [
    "str1=\"My dog is so cool.\"\n",
    "str2=\"How about your dog?\"\n",
    "str3=\"Oh, you don't have a dog!\"\n",
    "fout=open(\"output.txt\",\"w\")\n",
    "fout.write(str1+\"\\n\")\n",
    "fout.write(str2+\"\\n\")\n",
    "fout.write(str3+\"\\n\")\n",
    "fout.close()"
   ]
  },
  {
   "cell_type": "code",
   "execution_count": 154,
   "metadata": {},
   "outputs": [
    {
     "name": "stdout",
     "output_type": "stream",
     "text": [
      "This is a string with an extended ascii characterã\n"
     ]
    }
   ],
   "source": [
    "str4=\"This is a string with an extended ascii character\" + chr(227)\n",
    "print(str4)\n",
    "fout=open(\"output.txt3\",\"w\")\n",
    "fout.write(str1+\"\\n\")\n",
    "fout.write(str2+\"\\n\")\n",
    "fout.write(str3+\"\\n\")\n",
    "fout.close()"
   ]
  },
  {
   "cell_type": "markdown",
   "metadata": {},
   "source": [
    "Things are not so clear when it comes to writing strings with characters that are not among the extended ascii characters."
   ]
  },
  {
   "cell_type": "code",
   "execution_count": 204,
   "metadata": {},
   "outputs": [
    {
     "name": "stdout",
     "output_type": "stream",
     "text": [
      "This is a string with a non extended ascii character Ŋ\n"
     ]
    },
    {
     "ename": "UnicodeEncodeError",
     "evalue": "'charmap' codec can't encode character '\\u014a' in position 53: character maps to <undefined>",
     "output_type": "error",
     "traceback": [
      "\u001b[1;31m---------------------------------------------------------------------------\u001b[0m",
      "\u001b[1;31mUnicodeEncodeError\u001b[0m                        Traceback (most recent call last)",
      "\u001b[1;32m<ipython-input-204-7b3fd4a7e124>\u001b[0m in \u001b[0;36m<module>\u001b[1;34m()\u001b[0m\n\u001b[0;32m      2\u001b[0m \u001b[0mprint\u001b[0m\u001b[1;33m(\u001b[0m\u001b[0mmessage\u001b[0m\u001b[1;33m)\u001b[0m\u001b[1;33m\u001b[0m\u001b[0m\n\u001b[0;32m      3\u001b[0m \u001b[0mfout\u001b[0m\u001b[1;33m=\u001b[0m\u001b[0mopen\u001b[0m\u001b[1;33m(\u001b[0m\u001b[1;34m\"output4.txt\"\u001b[0m\u001b[1;33m,\u001b[0m\u001b[1;34m\"w\"\u001b[0m\u001b[1;33m)\u001b[0m\u001b[1;33m\u001b[0m\u001b[0m\n\u001b[1;32m----> 4\u001b[1;33m \u001b[0mfout\u001b[0m\u001b[1;33m.\u001b[0m\u001b[0mwrite\u001b[0m\u001b[1;33m(\u001b[0m\u001b[0mmessage\u001b[0m\u001b[1;33m)\u001b[0m\u001b[1;33m\u001b[0m\u001b[0m\n\u001b[0m\u001b[0;32m      5\u001b[0m \u001b[0mfout\u001b[0m\u001b[1;33m.\u001b[0m\u001b[0mclose\u001b[0m\u001b[1;33m(\u001b[0m\u001b[1;33m)\u001b[0m\u001b[1;33m\u001b[0m\u001b[0m\n",
      "\u001b[1;32m~\\Anaconda3\\lib\\encodings\\cp1252.py\u001b[0m in \u001b[0;36mencode\u001b[1;34m(self, input, final)\u001b[0m\n\u001b[0;32m     17\u001b[0m \u001b[1;32mclass\u001b[0m \u001b[0mIncrementalEncoder\u001b[0m\u001b[1;33m(\u001b[0m\u001b[0mcodecs\u001b[0m\u001b[1;33m.\u001b[0m\u001b[0mIncrementalEncoder\u001b[0m\u001b[1;33m)\u001b[0m\u001b[1;33m:\u001b[0m\u001b[1;33m\u001b[0m\u001b[0m\n\u001b[0;32m     18\u001b[0m     \u001b[1;32mdef\u001b[0m \u001b[0mencode\u001b[0m\u001b[1;33m(\u001b[0m\u001b[0mself\u001b[0m\u001b[1;33m,\u001b[0m \u001b[0minput\u001b[0m\u001b[1;33m,\u001b[0m \u001b[0mfinal\u001b[0m\u001b[1;33m=\u001b[0m\u001b[1;32mFalse\u001b[0m\u001b[1;33m)\u001b[0m\u001b[1;33m:\u001b[0m\u001b[1;33m\u001b[0m\u001b[0m\n\u001b[1;32m---> 19\u001b[1;33m         \u001b[1;32mreturn\u001b[0m \u001b[0mcodecs\u001b[0m\u001b[1;33m.\u001b[0m\u001b[0mcharmap_encode\u001b[0m\u001b[1;33m(\u001b[0m\u001b[0minput\u001b[0m\u001b[1;33m,\u001b[0m\u001b[0mself\u001b[0m\u001b[1;33m.\u001b[0m\u001b[0merrors\u001b[0m\u001b[1;33m,\u001b[0m\u001b[0mencoding_table\u001b[0m\u001b[1;33m)\u001b[0m\u001b[1;33m[\u001b[0m\u001b[1;36m0\u001b[0m\u001b[1;33m]\u001b[0m\u001b[1;33m\u001b[0m\u001b[0m\n\u001b[0m\u001b[0;32m     20\u001b[0m \u001b[1;33m\u001b[0m\u001b[0m\n\u001b[0;32m     21\u001b[0m \u001b[1;32mclass\u001b[0m \u001b[0mIncrementalDecoder\u001b[0m\u001b[1;33m(\u001b[0m\u001b[0mcodecs\u001b[0m\u001b[1;33m.\u001b[0m\u001b[0mIncrementalDecoder\u001b[0m\u001b[1;33m)\u001b[0m\u001b[1;33m:\u001b[0m\u001b[1;33m\u001b[0m\u001b[0m\n",
      "\u001b[1;31mUnicodeEncodeError\u001b[0m: 'charmap' codec can't encode character '\\u014a' in position 53: character maps to <undefined>"
     ]
    }
   ],
   "source": [
    "message=\"This is a string with a non extended ascii character \" + chr(330)\n",
    "print(message)\n",
    "fout=open(\"output4.txt\",\"w\")\n",
    "fout.write(message)\n",
    "fout.close()"
   ]
  },
  {
   "cell_type": "markdown",
   "metadata": {},
   "source": [
    "# Reading lines from a text file. "
   ]
  },
  {
   "cell_type": "code",
   "execution_count": 135,
   "metadata": {},
   "outputs": [
    {
     "name": "stdout",
     "output_type": "stream",
     "text": [
      "['My dog is so cool.\\n', 'How about your dog?\\n', \"Oh, you don't have a dog!\\n\"]\n"
     ]
    }
   ],
   "source": [
    "fin=open(\"output.txt\",\"r\")\n",
    "L=[]\n",
    "for line in fin:\n",
    "    L.append(line)\n",
    "fin.close()\n",
    "print(L)"
   ]
  },
  {
   "cell_type": "markdown",
   "metadata": {},
   "source": [
    "# Byte strings and byte objects"
   ]
  },
  {
   "cell_type": "markdown",
   "metadata": {},
   "source": [
    "On the one hand, when we read data from a file or a web page, those data are transmitted as streams of bytes. When we view a file on the computer screen in a file editor, the editor does some interpretation of the bytes in that file to render them human-readable. Similarly, when we view an html file (which is made up of bytes) in a web browser, the bytes are being interpreted for us. \n",
    "\n",
    "Since we will be obtaining data from web sites and related sources, we will need to understand how to process sequences of bytes. Python has objects for storing sequences of strings which we can refer to as byte objects and byte arrays. These are similar objects except that byte arrays are mutable (try the reverse method on one), and bytes objects are not.\n",
    "\n",
    "In the example below, we create a bytearray using hexadecmial characters. Each byte is represented using \\x followed by two hexadecimal characters. (The $2^4 = 16$ possible hexadecimal characters are 0,1,....,9,a,b,c,d,e,f,  so specifying a single one uses 4 bits, a pair is 8 bits.)\n",
    "\n",
    "When we print a byte on the screen, we see the hexadecimal value associated with that byte except in some cases we see the ascii character represented by the byte.\n",
    "\n",
    "Here we create a byte array consisting of bytes specified using two hexadecimal characters (0,1,...,A,B,C,D,E,F) and we reverse it, demonstrating that it is mutable."
   ]
  },
  {
   "cell_type": "code",
   "execution_count": 158,
   "metadata": {},
   "outputs": [
    {
     "name": "stdout",
     "output_type": "stream",
     "text": [
      "bytearray(b'\\x01\\x02\\x03\\x04\\xabab\\x99')\n",
      "bytearray(b'\\x99ba\\xab\\x04\\x03\\x02\\x01')\n"
     ]
    },
    {
     "data": {
      "text/plain": [
       "bytearray(b'\\x99ba\\xab\\x04\\x03\\x02\\x01')"
      ]
     },
     "execution_count": 158,
     "metadata": {},
     "output_type": "execute_result"
    }
   ],
   "source": [
    "b1=bytearray(b'\\x01\\x02\\x03\\x04\\xAB\\x61\\x62\\x99')\n",
    "type(b1)\n",
    "print(b1)\n",
    "b1.reverse()\n",
    "print(b1)\n",
    "b1"
   ]
  },
  {
   "cell_type": "markdown",
   "metadata": {},
   "source": [
    "There is also a function for converting integers to bytes. Here we illustrate converting integers to bytes of length 2"
   ]
  },
  {
   "cell_type": "code",
   "execution_count": 175,
   "metadata": {},
   "outputs": [
    {
     "data": {
      "text/plain": [
       "b'\\x00\\x01\\x00\\x02\\x00\\x03\\x00\\x04\\x00\\xab\\x00a\\x00b\\x00\\x99'"
      ]
     },
     "execution_count": 175,
     "metadata": {},
     "output_type": "execute_result"
    }
   ],
   "source": [
    "L=[1,2,3,4,171,97,98,153]\n",
    "B=[x.to_bytes(length=2,byteorder='big') for x in L]\n",
    "b''.join(x for x in B)"
   ]
  },
  {
   "cell_type": "markdown",
   "metadata": {},
   "source": [
    "Byte arrays behave like character strings in that we have similar operations (slicing, concatenating)."
   ]
  },
  {
   "cell_type": "code",
   "execution_count": 119,
   "metadata": {},
   "outputs": [
    {
     "data": {
      "text/plain": [
       "bytearray(b'\\x03\\x02')"
      ]
     },
     "execution_count": 119,
     "metadata": {},
     "output_type": "execute_result"
    }
   ],
   "source": [
    "b1[2:4]"
   ]
  },
  {
   "cell_type": "code",
   "execution_count": 123,
   "metadata": {},
   "outputs": [
    {
     "name": "stdout",
     "output_type": "stream",
     "text": [
      "bytearray(b'\\x01\\x02\\x03\\x04\\x05SOME ASCII CHARACTERS')\n",
      "bytearray(b'SOME MORE STUFF \\x08\\t')\n",
      "bytearray(b'\\x01\\x02\\x03\\x04\\x05SOME ASCII CHARACTERSSOME MORE STUFF \\x08\\t')\n"
     ]
    }
   ],
   "source": [
    "b3=bytearray(b'\\x01\\x02\\x03\\x04\\x05SOME ASCII CHARACTERS')\n",
    "print(b3)\n",
    "b4=bytearray(b'SOME MORE STUFF \\x08\\x09')\n",
    "print(b4)\n",
    "b5=b3+b4\n",
    "print(b5)"
   ]
  },
  {
   "cell_type": "markdown",
   "metadata": {},
   "source": [
    "We can create a bytes object using the b'....' construct. We can also convert a byte array to a byte object. The two sequences can be considered equal even though they are diffferent types."
   ]
  },
  {
   "cell_type": "code",
   "execution_count": 180,
   "metadata": {},
   "outputs": [
    {
     "data": {
      "text/plain": [
       "True"
      ]
     },
     "execution_count": 180,
     "metadata": {},
     "output_type": "execute_result"
    }
   ],
   "source": [
    "b6=b'\\xe2\\x84\\x99\\xc6\\xb4\\xe2\\x98\\x82\\xe2\\x84\\x8c\\xc3\\xb8\\xe1\\xbc\\xa4'\n",
    "b1=bytearray(b6)\n",
    "b1==b6"
   ]
  },
  {
   "cell_type": "markdown",
   "metadata": {},
   "source": [
    "However, b6 is immutable, so the replace function does not have an effect on the object."
   ]
  },
  {
   "cell_type": "code",
   "execution_count": 186,
   "metadata": {},
   "outputs": [
    {
     "name": "stdout",
     "output_type": "stream",
     "text": [
      "b'\\xe3\\x84\\x99\\xc6\\xb4\\xe3\\x98\\x82\\xe3\\x84\\x8c\\xc3\\xb8\\xe1\\xbc\\xa4'\n",
      "b'\\xe2\\x84\\x99\\xc6\\xb4\\xe2\\x98\\x82\\xe2\\x84\\x8c\\xc3\\xb8\\xe1\\xbc\\xa4'\n"
     ]
    }
   ],
   "source": [
    "print(b6.replace(b'\\xe2',b'\\xe3'))\n",
    "print(b6)"
   ]
  },
  {
   "cell_type": "markdown",
   "metadata": {},
   "source": [
    "Here is a good reference for some of the many things one would typically like to  do with byte objects:\n",
    "\n",
    "https://www.w3resource.com/python/python-bytes.php"
   ]
  },
  {
   "cell_type": "markdown",
   "metadata": {},
   "source": [
    "# Writing bytes to a file\n",
    "\n",
    "When writing bytes to a file we need to open the file as a binary type file (as opposed to a text file). Here we use the \"wb\" in the second argument of the open method meaning we are opening the file to write to as a binary file."
   ]
  },
  {
   "cell_type": "code",
   "execution_count": 193,
   "metadata": {},
   "outputs": [],
   "source": [
    "mybytes_object=b'\\xe2\\x84\\x99\\xc6\\xb4\\xe2\\x98\\x82\\xe2\\x84\\x8c\\xc3\\xb8\\xe1\\xbc\\xa4'\n",
    "fout=open(\"sample_bytes\",\"wb\")\n",
    "fout.write(mybytes_object)\n",
    "fout.close()"
   ]
  },
  {
   "cell_type": "markdown",
   "metadata": {},
   "source": [
    "It is instructive to look at the resulting file in an editor. We can open it in a hex viewer  (I use HxD, a windows application). Interestingly, my text editor (notepad++) interprets the bytes as unicode characters."
   ]
  },
  {
   "cell_type": "markdown",
   "metadata": {},
   "source": [
    "# Reading bytes from a file\n",
    "\n",
    "We can read an entire binary file into a bytes object as shown here."
   ]
  },
  {
   "cell_type": "code",
   "execution_count": 208,
   "metadata": {},
   "outputs": [
    {
     "name": "stdout",
     "output_type": "stream",
     "text": [
      "b'\\xe2\\x84\\x99\\xc6\\xb4\\xe2\\x98\\x82\\xe2\\x84\\x8c\\xc3\\xb8\\xe1\\xbc\\xa4'\n"
     ]
    },
    {
     "data": {
      "text/plain": [
       "bytes"
      ]
     },
     "execution_count": 208,
     "metadata": {},
     "output_type": "execute_result"
    }
   ],
   "source": [
    "fin=open(\"sample_bytes\",\"rb\")\n",
    "b=fin.read()\n",
    "fin.close()\n",
    "print(b)\n",
    "type(b)"
   ]
  },
  {
   "cell_type": "markdown",
   "metadata": {},
   "source": [
    "At the moment, we just get a sequence of bytes."
   ]
  },
  {
   "cell_type": "markdown",
   "metadata": {},
   "source": [
    "# Some more information about unicode"
   ]
  },
  {
   "cell_type": "markdown",
   "metadata": {},
   "source": [
    "Unicode code characters can be obtained from **certain** byte sequences using a scheme referred to as \"utf-8\" enccoding. \n",
    "\n",
    "To encode a character we use a first byte that tells how many optional addition bytes will be used \n",
    "to represent that character.\n",
    "\n",
    "If the first byte is of the form 0xxxxxxx (zero following by any sequence of 7 bits), \n",
    "then the byte represents an ascii character using the 7 bits (making 128 possibilities), and this single byte is the only one used to represent a character.\n",
    "\n",
    "If the byte has a leading bit of 1, this signals that there are additional bytes that will follow\n",
    "the first one that are used in the character's representation. \n",
    "\n",
    "Each additional byte is of the form 10xxxxxx.\n",
    "\n",
    "The number of additional bytes is determined as follows. \n",
    "\n",
    "110xxxxx means that there are two bytes used, i.e. this first byte and one additional byte. Thus, we have 5+6=11 bits available for us for determining the character leading to the capability for encoding $2^{11}=2,048$ possible characters.\n",
    "\n",
    "\n",
    "1110xxxx means that there are three bytes used, i.e. this first byte and two additional bytes Thus, we have 4+6+6=16 bits available for us for determining the character leading to the capability for encoding $2^{16}=65,536$ possible characters.\n",
    "\n",
    "11110xxx means that there are four bytes used, i.e. this first byte and three additional bytes Thus, we have 3+6+6+6=21 bits available for us for determining the character leading to the capability for encoding $2^{21}=2,097,152$ possible characters.\n",
    "\n",
    "The image in the next cell comes from the utf-8 Wikipedia page: https://en.wikipedia.org/wiki/UTF-8"
   ]
  },
  {
   "cell_type": "code",
   "execution_count": 196,
   "metadata": {},
   "outputs": [
    {
     "data": {
      "image/png": "[encoded data removed]",
      "text/plain": [
       "<IPython.core.display.Image object>"
      ]
     },
     "execution_count": 196,
     "metadata": {},
     "output_type": "execute_result"
    }
   ],
   "source": [
    "from IPython.display import Image\n",
    "Image(\"utf8_figure.png\")"
   ]
  },
  {
   "cell_type": "markdown",
   "metadata": {},
   "source": [
    "The bits of our byte sequence are as follows:\n",
    "\n",
    "E2 = 1110 0010\n",
    "84 = 1000 0100\n",
    "99 = 1001 1001\n",
    "\n",
    "C6 = 1100 0110\n",
    "B4 = 1011 0100\n",
    "\n",
    "E2 = 1110 0010\n",
    "98 = 1001 1000\n",
    "82 = 1000 0010\n",
    "\n",
    "E2 = 1110 0010\n",
    "84 = 1000 0100\n",
    "86 = 1000 0110\n",
    "\n",
    "C3 = 1100 0011\n",
    "B8 = 1011 1000\n",
    "\n",
    "E1 = 1110 0001\n",
    "BC = 1011 1100\n",
    "A4 = 1010 0100\n"
   ]
  },
  {
   "cell_type": "markdown",
   "metadata": {},
   "source": [
    "A unicode string is a sequence of unicode characters. To convert from a byte object to a unicode string we decode (the default decoding is utf-8). When we print that string on the screen, it gets interpreted for us in human-readable form."
   ]
  },
  {
   "cell_type": "code",
   "execution_count": 200,
   "metadata": {},
   "outputs": [
    {
     "name": "stdout",
     "output_type": "stream",
     "text": [
      "ℙƴ☂ℌøἤ\n"
     ]
    }
   ],
   "source": [
    "unicode_string=mybytes_object.decode()\n",
    "print(unicode_string)"
   ]
  },
  {
   "cell_type": "markdown",
   "metadata": {},
   "source": [
    "Going in the other direction, we can encode our string."
   ]
  },
  {
   "cell_type": "code",
   "execution_count": 203,
   "metadata": {},
   "outputs": [
    {
     "data": {
      "text/plain": [
       "b'\\xe2\\x84\\x99\\xc6\\xb4\\xe2\\x98\\x82\\xe2\\x84\\x8c\\xc3\\xb8\\xe1\\xbc\\xa4'"
      ]
     },
     "execution_count": 203,
     "metadata": {},
     "output_type": "execute_result"
    }
   ],
   "source": [
    "bnew=unicode_string.encode()\n",
    "bnew"
   ]
  },
  {
   "cell_type": "markdown",
   "metadata": {},
   "source": [
    "Going in the other direction, if we have a unicode string we can encode it as a bytes object."
   ]
  },
  {
   "cell_type": "code",
   "execution_count": 5,
   "metadata": {},
   "outputs": [
    {
     "data": {
      "text/plain": [
       "True"
      ]
     },
     "execution_count": 5,
     "metadata": {},
     "output_type": "execute_result"
    }
   ],
   "source": [
    "bytes_object2=unicode_string.encode('utf-8')\n",
    "bytes_object2==bytes_object"
   ]
  },
  {
   "cell_type": "markdown",
   "metadata": {},
   "source": [
    "To summarize:\n",
    "\n",
    "    bytes -> unicode is \"decoding\"\n",
    "    \n",
    "    unicode -> bytes is \"encoding\"\n"
   ]
  },
  {
   "cell_type": "markdown",
   "metadata": {},
   "source": [
    "This page gives a big list of unicode character encodings:\n",
    "\n",
    "    https://en.wikipedia.org/wiki/List_of_Unicode_characters"
   ]
  },
  {
   "cell_type": "markdown",
   "metadata": {},
   "source": [
    "As indicated above, if we want to write a unicode string to a file, we need to be careful since the file will consist of bytes. The following generates an error. "
   ]
  },
  {
   "cell_type": "code",
   "execution_count": 6,
   "metadata": {},
   "outputs": [
    {
     "ename": "UnicodeEncodeError",
     "evalue": "'charmap' codec can't encode characters in position 0-3: character maps to <undefined>",
     "output_type": "error",
     "traceback": [
      "\u001b[1;31m---------------------------------------------------------------------------\u001b[0m",
      "\u001b[1;31mUnicodeEncodeError\u001b[0m                        Traceback (most recent call last)",
      "\u001b[1;32m<ipython-input-6-ac0cc6be150f>\u001b[0m in \u001b[0;36m<module>\u001b[1;34m()\u001b[0m\n\u001b[0;32m      1\u001b[0m \u001b[0mfout\u001b[0m\u001b[1;33m=\u001b[0m\u001b[0mopen\u001b[0m\u001b[1;33m(\u001b[0m\u001b[1;34m\"string.txt\"\u001b[0m\u001b[1;33m,\u001b[0m\u001b[1;34m\"w\"\u001b[0m\u001b[1;33m)\u001b[0m\u001b[1;33m\u001b[0m\u001b[0m\n\u001b[1;32m----> 2\u001b[1;33m \u001b[0mfout\u001b[0m\u001b[1;33m.\u001b[0m\u001b[0mwrite\u001b[0m\u001b[1;33m(\u001b[0m\u001b[0municode_string\u001b[0m\u001b[1;33m)\u001b[0m\u001b[1;33m\u001b[0m\u001b[0m\n\u001b[0m\u001b[0;32m      3\u001b[0m \u001b[0mfout\u001b[0m\u001b[1;33m.\u001b[0m\u001b[0mclose\u001b[0m\u001b[1;33m(\u001b[0m\u001b[1;33m)\u001b[0m\u001b[1;33m\u001b[0m\u001b[0m\n",
      "\u001b[1;32m~\\AppData\\Local\\Continuum\\anaconda3\\lib\\encodings\\cp1252.py\u001b[0m in \u001b[0;36mencode\u001b[1;34m(self, input, final)\u001b[0m\n\u001b[0;32m     17\u001b[0m \u001b[1;32mclass\u001b[0m \u001b[0mIncrementalEncoder\u001b[0m\u001b[1;33m(\u001b[0m\u001b[0mcodecs\u001b[0m\u001b[1;33m.\u001b[0m\u001b[0mIncrementalEncoder\u001b[0m\u001b[1;33m)\u001b[0m\u001b[1;33m:\u001b[0m\u001b[1;33m\u001b[0m\u001b[0m\n\u001b[0;32m     18\u001b[0m     \u001b[1;32mdef\u001b[0m \u001b[0mencode\u001b[0m\u001b[1;33m(\u001b[0m\u001b[0mself\u001b[0m\u001b[1;33m,\u001b[0m \u001b[0minput\u001b[0m\u001b[1;33m,\u001b[0m \u001b[0mfinal\u001b[0m\u001b[1;33m=\u001b[0m\u001b[1;32mFalse\u001b[0m\u001b[1;33m)\u001b[0m\u001b[1;33m:\u001b[0m\u001b[1;33m\u001b[0m\u001b[0m\n\u001b[1;32m---> 19\u001b[1;33m         \u001b[1;32mreturn\u001b[0m \u001b[0mcodecs\u001b[0m\u001b[1;33m.\u001b[0m\u001b[0mcharmap_encode\u001b[0m\u001b[1;33m(\u001b[0m\u001b[0minput\u001b[0m\u001b[1;33m,\u001b[0m\u001b[0mself\u001b[0m\u001b[1;33m.\u001b[0m\u001b[0merrors\u001b[0m\u001b[1;33m,\u001b[0m\u001b[0mencoding_table\u001b[0m\u001b[1;33m)\u001b[0m\u001b[1;33m[\u001b[0m\u001b[1;36m0\u001b[0m\u001b[1;33m]\u001b[0m\u001b[1;33m\u001b[0m\u001b[0m\n\u001b[0m\u001b[0;32m     20\u001b[0m \u001b[1;33m\u001b[0m\u001b[0m\n\u001b[0;32m     21\u001b[0m \u001b[1;32mclass\u001b[0m \u001b[0mIncrementalDecoder\u001b[0m\u001b[1;33m(\u001b[0m\u001b[0mcodecs\u001b[0m\u001b[1;33m.\u001b[0m\u001b[0mIncrementalDecoder\u001b[0m\u001b[1;33m)\u001b[0m\u001b[1;33m:\u001b[0m\u001b[1;33m\u001b[0m\u001b[0m\n",
      "\u001b[1;31mUnicodeEncodeError\u001b[0m: 'charmap' codec can't encode characters in position 0-3: character maps to <undefined>"
     ]
    }
   ],
   "source": [
    "fout=open(\"string.txt\",\"w\")\n",
    "fout.write(unicode_string)\n",
    "fout.close()"
   ]
  },
  {
   "cell_type": "markdown",
   "metadata": {},
   "source": [
    "In any case, to write out unicode string to a file and avoid the error above, we open up a binary file to write to, and encode the unicode string as a bytes object."
   ]
  },
  {
   "cell_type": "code",
   "execution_count": 9,
   "metadata": {
    "collapsed": true
   },
   "outputs": [],
   "source": [
    "fout=open(\"string.txt\",\"wb\")\n",
    "fout.write(unicode_string.encode('utf-8'))\n",
    "fout.close()"
   ]
  },
  {
   "cell_type": "markdown",
   "metadata": {},
   "source": [
    "# Web requests"
   ]
  },
  {
   "cell_type": "markdown",
   "metadata": {},
   "source": [
    "We typically use the requests package to download a web page."
   ]
  },
  {
   "cell_type": "code",
   "execution_count": 209,
   "metadata": {},
   "outputs": [
    {
     "name": "stdout",
     "output_type": "stream",
     "text": [
      "200\n"
     ]
    }
   ],
   "source": [
    "import requests\n",
    "req=requests.get(\"https://news.google.com/news/?ned=us&gl=US&hl=en\")\n",
    "print(req.status_code)"
   ]
  },
  {
   "cell_type": "markdown",
   "metadata": {},
   "source": [
    "The status code of 200 indicates success."
   ]
  },
  {
   "cell_type": "markdown",
   "metadata": {},
   "source": [
    "The content of a web page is a byte object."
   ]
  },
  {
   "cell_type": "code",
   "execution_count": 212,
   "metadata": {},
   "outputs": [
    {
     "name": "stdout",
     "output_type": "stream",
     "text": [
      "<class 'bytes'>\n",
      "1089823\n",
      "b'<!doctype html><html lang=\"en\" dir=\"ltr\"><head><base href=\"https://news.google.com/\"><meta name=\"referrer\" content=\"origin\"><link rel=\"canonical\" href=\"https://news.google.com/\"><meta name=\"viewport\" content=\"width=device-width,initial-scale=1,minimum-scale=1,maximum-scale=1,user-scalable=no,minimal-ui\"><meta name=\"apple-itunes-app\" content=\"app-id=459182288\"><link rel=\"shortcut icon\" href=\"https://lh3.googleusercontent.com/-Ywb4dKmVqHQJnSvbou08pw78G-XvfVk4xp-6zrBgHE8aTCfugOeLqXJPhDOic6JeKL0LHYbUw=w16\" sizes=\"16x16\"><link rel=\"shortcut icon\" href=\"https://lh3.googleusercontent.com/-Ywb4dKmVqHQJnSvbou08pw78G-XvfVk4xp-6zrBgHE8aTCfugOeLqXJPhDOic6JeKL0LHYbUw=w24\" sizes=\"24x24\"><link rel=\"shortcut icon\" href=\"https://lh3.googleusercontent.com/-Ywb4dKmVqHQJnSvbou08pw78G-XvfVk4xp-6zrBgHE8aTCfugOeLqXJPhDOic6JeKL0LHYbUw=w32\" sizes=\"32x32\"><link rel=\"shortcut icon\" href=\"https://lh3.googleusercontent.com/-Ywb4dKmVqHQJnSvbou08pw78G-XvfVk4xp-6zrBgHE8aTCfugOeLqXJPhDOic6JeKL0LHYbUw=w48\" sizes=\"48x48'\n"
     ]
    }
   ],
   "source": [
    "import requests\n",
    "req=requests.get(\"https://news.google.com/news/?ned=us&gl=US&hl=en\")\n",
    "bo=req.content\n",
    "print(type(bo))\n",
    "print(len(bo))\n",
    "print(bo[0:1000])"
   ]
  },
  {
   "cell_type": "markdown",
   "metadata": {},
   "source": [
    "To make a text string out of this, we decode it."
   ]
  },
  {
   "cell_type": "code",
   "execution_count": 213,
   "metadata": {},
   "outputs": [
    {
     "name": "stdout",
     "output_type": "stream",
     "text": [
      "1089720\n",
      "<!doctype html><html lang=\"en\" dir=\"ltr\"><head><base href=\"https://news.google.com/\"><meta name=\"referrer\" content=\"origin\"><link rel=\"canonical\" href=\"https://news.google.com/\"><meta name=\"viewport\" content=\"width=device-width,initial-scale=1,minimum-scale=1,maximum-scale=1,user-scalable=no,minimal-ui\"><meta name=\"apple-itunes-app\" content=\"app-id=459182288\"><link rel=\"shortcut icon\" href=\"https://lh3.googleusercontent.com/-Ywb4dKmVqHQJnSvbou08pw78G-XvfVk4xp-6zrBgHE8aTCfugOeLqXJPhDOic6JeKL0LHYbUw=w16\" sizes=\"16x16\"><link rel=\"shortcut icon\" href=\"https://lh3.googleusercontent.com/-Ywb4dKmVqHQJnSvbou08pw78G-XvfVk4xp-6zrBgHE8aTCfugOeLqXJPhDOic6JeKL0LHYbUw=w24\" sizes=\"24x24\"><link rel=\"shortcut icon\" href=\"https://lh3.googleusercontent.com/-Ywb4dKmVqHQJnSvbou08pw78G-XvfVk4xp-6zrBgHE8aTCfugOeLqXJPhDOic6JeKL0LHYbUw=w32\" sizes=\"32x32\"><link rel=\"shortcut icon\" href=\"https://lh3.googleusercontent.com/-Ywb4dKmVqHQJnSvbou08pw78G-XvfVk4xp-6zrBgHE8aTCfugOeLqXJPhDOic6JeKL0LHYbUw=w48\" sizes=\"48x48\n"
     ]
    }
   ],
   "source": [
    "text=bo.decode()\n",
    "print(len(text))\n",
    "print(text[0:1000])"
   ]
  },
  {
   "cell_type": "markdown",
   "metadata": {},
   "source": [
    "More directly, we can get the text out using .text"
   ]
  },
  {
   "cell_type": "code",
   "execution_count": 214,
   "metadata": {},
   "outputs": [
    {
     "name": "stdout",
     "output_type": "stream",
     "text": [
      "<!doctype html><html lang=\"en\" dir=\"ltr\"><head><base href=\"https://news.google.com/\"><meta name=\"referrer\" content=\"origin\"><link rel=\"canonical\" href=\"https://news.google.com/\"><meta name=\"viewport\" content=\"width=device-width,initial-scale=1,minimum-scale=1,maximum-scale=1,user-scalable=no,minimal-ui\"><meta name=\"apple-itunes-app\" content=\"app-id=459182288\"><link rel=\"shortcut icon\" href=\"https://lh3.googleusercontent.com/-Ywb4dKmVqHQJnSvbou08pw78G-XvfVk4xp-6zrBgHE8aTCfugOeLqXJPhDOic6JeKL0LHYbUw=w16\" sizes=\"16x16\"><link rel=\"shortcut icon\" href=\"https://lh3.googleusercontent.com/-Ywb4dKmVqHQJnSvbou08pw78G-XvfVk4xp-6zrBgHE8aTCfugOeLqXJPhDOic6JeKL0LHYbUw=w24\" sizes=\"24x24\"><link rel=\"shortcut icon\" href=\"https://lh3.googleusercontent.com/-Ywb4dKmVqHQJnSvbou08pw78G-XvfVk4xp-6zrBgHE8aTCfugOeLqXJPhDOic6JeKL0LHYbUw=w32\" sizes=\"32x32\"><link rel=\"shortcut icon\" href=\"https://lh3.googleusercontent.com/-Ywb4dKmVqHQJnSvbou08pw78G-XvfVk4xp-6zrBgHE8aTCfugOeLqXJPhDOic6JeKL0LHYbUw=w48\" sizes=\"48x48\n"
     ]
    }
   ],
   "source": [
    "import requests\n",
    "req=requests.get(\"https://news.google.com/news/?ned=us&gl=US&hl=en\")\n",
    "text=req.text\n",
    "print(text[0:1000])"
   ]
  },
  {
   "cell_type": "markdown",
   "metadata": {},
   "source": [
    "Here is an example of something that can arise when we try to extract the contents of web pages. If we open the url below in our browser, we see chinese characters."
   ]
  },
  {
   "cell_type": "code",
   "execution_count": 218,
   "metadata": {},
   "outputs": [
    {
     "data": {
      "text/plain": [
       "True"
      ]
     },
     "execution_count": 218,
     "metadata": {},
     "output_type": "execute_result"
    }
   ],
   "source": [
    "import webbrowser\n",
    "\n",
    "# generate an URL\n",
    "url=\"http://www.ams.jhu.edu/~dan/FinancialComputingWorkshop/somehtml.html\"\n",
    "webbrowser.open(url)"
   ]
  },
  {
   "cell_type": "markdown",
   "metadata": {},
   "source": [
    "How are these special characters encoded in the html file. To see this we need to see what the source file looks like. (We can also do this in the browser by doing a \"view source\".)"
   ]
  },
  {
   "cell_type": "code",
   "execution_count": 216,
   "metadata": {},
   "outputs": [
    {
     "name": "stdout",
     "output_type": "stream",
     "text": [
      "<class 'str'>\n",
      "d>\n",
      "<body>\n",
      "<h1>An Illustration of Character Encoding.</h1>\n",
      "<p>\n",
      "Here is a message written in english using english characters.\n",
      "</p>\n",
      "<p>\n",
      "What follows is another message written in chinese using chinese characters.\n",
      "</p>\n",
      "<p>\n",
      "&#36825;&#26159;&#19968;&#20123;&#29992;&#33521;&#25991;&#20889;&#30340;&#25991;&#23383;&#12290;&#25105;&#24819;&#27426;&#36814;&#20320;&#26469;&#36825;&#20010;&#29677;&#12290;&#25105;&#24076;&#26395;&#20320;&#33021;&#20174;&#20013;&#24471;&#21040;&#24456;&#22810;&#12290;\n",
      "</p>\n",
      "</body>\n",
      "</html>\n",
      "\n"
     ]
    }
   ],
   "source": [
    "import requests\n",
    "url=\"http://www.ams.jhu.edu/~dan/FinancialComputingWorkshop/somehtml.html\"\n",
    "req=requests.get(url)\n",
    "text=req.text\n",
    "print(type(text))\n",
    "print(text)"
   ]
  },
  {
   "cell_type": "markdown",
   "metadata": {},
   "source": [
    "What we see is html tags as well as text, but there are also a bunch of expressions of the form &#...; These expressions represent encodings of non-ascii characters. \n",
    "\n",
    "These are referred to as html character references.\n",
    "\n",
    "https://en.wikipedia.org/wiki/Character_encodings_in_HTML\n",
    "\n",
    "We can see what this page looks like in a browser."
   ]
  },
  {
   "cell_type": "code",
   "execution_count": null,
   "metadata": {
    "collapsed": true
   },
   "outputs": [],
   "source": [
    "In a web page, unicode encodings can be used for many, many special characters.\n",
    "Python can convert to unicode encoding."
   ]
  },
  {
   "cell_type": "code",
   "execution_count": 219,
   "metadata": {},
   "outputs": [
    {
     "name": "stdout",
     "output_type": "stream",
     "text": [
      "到\n",
      "<class 'str'>\n"
     ]
    }
   ],
   "source": [
    "import html\n",
    "answer=html.unescape('&#21040;')\n",
    "print(answer)\n",
    "print(type(answer))\n"
   ]
  },
  {
   "cell_type": "code",
   "execution_count": 221,
   "metadata": {},
   "outputs": [
    {
     "name": "stdout",
     "output_type": "stream",
     "text": [
      "<html>\n",
      "<body>\n",
      "<h1>An Illustration of Character Encoding.</h1>\n",
      "<p>\n",
      "Here is a message written in english using english characters.\n",
      "</p>\n",
      "<p>\n",
      "What follows is another message written in chinese using chinese characters.\n",
      "</p>\n",
      "<p>\n",
      "这是一些用英文写的文字。我想欢迎你来这个班。我希望你能从中得到很多。\n",
      "</p>\n",
      "</body>\n",
      "</html>\n",
      "\n"
     ]
    }
   ],
   "source": [
    "import requests\n",
    "import html\n",
    "url=\"http://www.ams.jhu.edu/~dan/FinancialComputingWorkshop/somehtml.html\"\n",
    "req=requests.get(url)\n",
    "text=req.text\n",
    "print(html.unescape(text))"
   ]
  },
  {
   "cell_type": "code",
   "execution_count": 27,
   "metadata": {},
   "outputs": [
    {
     "name": "stdout",
     "output_type": "stream",
     "text": [
      "这是一些用英文写的文字。我想欢迎你来这个班。我希望你能从中得到很多。\n",
      "34\n"
     ]
    }
   ],
   "source": [
    "text2=text[231:502]\n",
    "text3=html.unescape(text2)\n",
    "print(text3)\n",
    "type(text3)\n",
    "print(len(text3))"
   ]
  },
  {
   "cell_type": "code",
   "execution_count": 28,
   "metadata": {},
   "outputs": [
    {
     "data": {
      "text/plain": [
       "b'\\xe8\\xbf\\x99\\xe6\\x98\\xaf\\xe4\\xb8\\x80\\xe4\\xba\\x9b\\xe7\\x94\\xa8\\xe8\\x8b\\xb1\\xe6\\x96\\x87\\xe5\\x86\\x99\\xe7\\x9a\\x84\\xe6\\x96\\x87\\xe5\\xad\\x97\\xe3\\x80\\x82\\xe6\\x88\\x91\\xe6\\x83\\xb3\\xe6\\xac\\xa2\\xe8\\xbf\\x8e\\xe4\\xbd\\xa0\\xe6\\x9d\\xa5\\xe8\\xbf\\x99\\xe4\\xb8\\xaa\\xe7\\x8f\\xad\\xe3\\x80\\x82\\xe6\\x88\\x91\\xe5\\xb8\\x8c\\xe6\\x9c\\x9b\\xe4\\xbd\\xa0\\xe8\\x83\\xbd\\xe4\\xbb\\x8e\\xe4\\xb8\\xad\\xe5\\xbe\\x97\\xe5\\x88\\xb0\\xe5\\xbe\\x88\\xe5\\xa4\\x9a\\xe3\\x80\\x82'"
      ]
     },
     "execution_count": 28,
     "metadata": {},
     "output_type": "execute_result"
    }
   ],
   "source": [
    "text3.encode('utf-8')"
   ]
  },
  {
   "cell_type": "code",
   "execution_count": 29,
   "metadata": {
    "collapsed": true
   },
   "outputs": [],
   "source": [
    "fout=open(\"chinese.txt\",\"wb\")\n",
    "fout.write(text3.encode('utf-8'))\n",
    "fout.close()"
   ]
  },
  {
   "cell_type": "markdown",
   "metadata": {},
   "source": [
    "We can now view the file in a text editor and see the byte encodings of the unicode characters. "
   ]
  },
  {
   "cell_type": "code",
   "execution_count": 133,
   "metadata": {
    "scrolled": true
   },
   "outputs": [
    {
     "data": {
      "text/plain": [
       "b'\\xe8\\xbf\\x99\\xe6\\x98\\xaf\\xe4\\xb8\\x80\\xe4\\xba\\x9b\\xe7\\x94\\xa8\\xe8\\x8b\\xb1\\xe6\\x96\\x87\\xe5\\x86\\x99\\xe7\\x9a\\x84\\xe6\\x96\\x87\\xe5\\xad\\x97\\xe3\\x80\\x82\\xe6\\x88\\x91\\xe6\\x83\\xb3\\xe6\\xac\\xa2\\xe8\\xbf\\x8e\\xe4\\xbd\\xa0\\xe6\\x9d\\xa5\\xe8\\xbf\\x99\\xe4\\xb8\\xaa\\xe7\\x8f\\xad\\xe3\\x80\\x82\\xe6\\x88\\x91\\xe5\\xb8\\x8c\\xe6\\x9c\\x9b\\xe4\\xbd\\xa0\\xe8\\x83\\xbd\\xe4\\xbb\\x8e\\xe4\\xb8\\xad\\xe5\\xbe\\x97\\xe5\\x88\\xb0\\xe5\\xbe\\x88\\xe5\\xa4\\x9a\\xe3\\x80\\x82'"
      ]
     },
     "execution_count": 133,
     "metadata": {},
     "output_type": "execute_result"
    }
   ],
   "source": [
    "text3.encode('utf-8')"
   ]
  },
  {
   "cell_type": "markdown",
   "metadata": {},
   "source": [
    "The way that unicode allows for additional bytes and still be backward compatible with ASCII is explained very enthusiastically in this YouTube video:\n",
    "\n",
    "https://www.youtube.com/watch?v=MijmeoH9LT4&feature=youtu.be&t=372"
   ]
  },
  {
   "cell_type": "markdown",
   "metadata": {},
   "source": [
    "Once we know what the unicode code point for a character, we can convert that code point into a unicode character using the chr function. Here is an example. We start with a list of code points expressed in decimal."
   ]
  },
  {
   "cell_type": "code",
   "execution_count": 139,
   "metadata": {
    "collapsed": true
   },
   "outputs": [],
   "source": [
    "L=[27426, 36814, 22238, 26469, 12290, 25105, 24076, 26395, 20320, \n",
    "   20241, 24687, 19968, 19979, 12290, 29616, \n",
    "   22312, 35753, 25105, 20204, 22238, 21435, 24037, 20316, 65292, 25105, \n",
    "   20204, 20570, 30340, 26368, 22909, 30340, 20107, 24773, 12290]\n",
    "mystr=\"\"\n",
    "for p in L:\n",
    "    mystr=mystr+chr(p)"
   ]
  },
  {
   "cell_type": "code",
   "execution_count": 140,
   "metadata": {},
   "outputs": [
    {
     "data": {
      "text/plain": [
       "'欢迎回来。我希望你休息一下。现在让我们回去工作，我们做的最好的事情。'"
      ]
     },
     "execution_count": 140,
     "metadata": {},
     "output_type": "execute_result"
    }
   ],
   "source": [
    "mystr"
   ]
  },
  {
   "cell_type": "markdown",
   "metadata": {
    "collapsed": true
   },
   "source": [
    "# Removing non-ascii characters from a unicode string"
   ]
  },
  {
   "cell_type": "markdown",
   "metadata": {},
   "source": [
    "When we process text from an web site, lots of non ascii characters can end up in our strings, and we typically would want to remove them. How to do it? Given a character in a string, it represents an ascii character if and only if its ord() value is < 128."
   ]
  },
  {
   "cell_type": "code",
   "execution_count": 19,
   "metadata": {},
   "outputs": [
    {
     "name": "stdout",
     "output_type": "stream",
     "text": [
      "Welcome to the details of ℙƴ☂ℌøἤ. Are we having fun?\n"
     ]
    }
   ],
   "source": [
    "fout=open(\"sample_bytes\",\"rb\")\n",
    "bytes_object=fout.read()\n",
    "fout.close()\n",
    "unicode_str=bytes_object.decode('utf-8')\n",
    "unicode_str=\"Welcome to the details of \" + unicode_str + \". Are we having fun?\"\n",
    "print(unicode_str)"
   ]
  },
  {
   "cell_type": "code",
   "execution_count": 20,
   "metadata": {},
   "outputs": [
    {
     "data": {
      "text/plain": [
       "'Welcome to the details of . Are we having fun?'"
      ]
     },
     "execution_count": 20,
     "metadata": {},
     "output_type": "execute_result"
    }
   ],
   "source": [
    "\"\".join([ch for ch in unicode_str if ord(ch)<128])"
   ]
  },
  {
   "cell_type": "markdown",
   "metadata": {},
   "source": [
    "By the way, there is an amazing collection of characters that can be put in an html document:\n",
    "\n",
    "    https://www.w3schools.com/charsets/ref_utf_symbols.asp\n",
    "    \n",
    "It is informative to view the page source of this page."
   ]
  }
 ],
 "metadata": {
  "kernelspec": {
   "display_name": "Python 3",
   "language": "python",
   "name": "python3"
  },
  "language_info": {
   "codemirror_mode": {
    "name": "ipython",
    "version": 3
   },
   "file_extension": ".py",
   "mimetype": "text/x-python",
   "name": "python",
   "nbconvert_exporter": "python",
   "pygments_lexer": "ipython3",
   "version": "3.7.1"
  }
 },
 "nbformat": 4,
 "nbformat_minor": 2
}
