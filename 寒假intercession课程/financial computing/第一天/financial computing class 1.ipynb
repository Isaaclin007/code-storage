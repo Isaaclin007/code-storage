{
 "cells": [
  {
   "cell_type": "code",
   "execution_count": 1,
   "metadata": {},
   "outputs": [
    {
     "name": "stdout",
     "output_type": "stream",
     "text": [
      "200\n"
     ]
    }
   ],
   "source": [
    "import requests\n",
    "req = requests.get('https://news.google.com/?hl=en-US&gl=US&ceid=US:en')\n",
    "print(req.status_code)"
   ]
  },
  {
   "cell_type": "code",
   "execution_count": 2,
   "metadata": {},
   "outputs": [],
   "source": [
    "bo = req.content"
   ]
  },
  {
   "cell_type": "code",
   "execution_count": 4,
   "metadata": {},
   "outputs": [
    {
     "name": "stdout",
     "output_type": "stream",
     "text": [
      "<class 'bytes'> 2243260 b'<!doctype html><html lang=\"en\" dir=\"ltr\"><head><base href=\"https://news.google.com/\"><meta name=\"referrer\" content=\"origin\"><link rel=\"canonical\" href=\"https://news.google.com/\"><meta name=\"viewport\" content=\"width=device-width,initial-scale=1,minimum-scale=1,maximum-scale=1,user-scalable=no,minimal-ui\"><meta name=\"apple-itunes-app\" content=\"app-id=459182288\"><link rel=\"shortcut icon\" href=\"https://lh3.googleusercontent.com/-Ywb4dKmVqHQJnSvbou08pw78G-XvfVk4xp-6zrBgHE8aTCfugOeLqXJPhDOic6JeKL0LHYbUw=w16\" sizes=\"16x16\"><link rel=\"shortcut icon\" href=\"https://lh3.googleusercontent.com/-Ywb4dKmVqHQJnSvbou08pw78G-XvfVk4xp-6zrBgHE8aTCfugOeLqXJPhDOic6JeKL0LHYbUw=w24\" sizes=\"24x24\"><link rel=\"shortcut icon\" href=\"https://lh3.googleusercontent.com/-Ywb4dKmVqHQJnSvbou08pw78G-XvfVk4xp-6zrBgHE8aTCfugOeLqXJPhDOic6JeKL0LHYbUw=w32\" sizes=\"32x32\"><link rel=\"shortcut icon\" href=\"https://lh3.googleusercontent.com/-Ywb4dKmVqHQJnSvbou08pw78G-XvfVk4xp-6zrBgHE8aTCfugOeLqXJPhDOic6JeKL0LHYbUw=w48\" sizes=\"48x48'\n"
     ]
    }
   ],
   "source": [
    "print(type(bo), len(bo), bo[:1000])"
   ]
  },
  {
   "cell_type": "code",
   "execution_count": 5,
   "metadata": {},
   "outputs": [],
   "source": [
    "text = bo.decode()"
   ]
  },
  {
   "cell_type": "code",
   "execution_count": 7,
   "metadata": {},
   "outputs": [],
   "source": [
    "import webbrowser"
   ]
  },
  {
   "cell_type": "code",
   "execution_count": null,
   "metadata": {},
   "outputs": [],
   "source": []
  }
 ],
 "metadata": {
  "kernelspec": {
   "display_name": "Python 3",
   "language": "python",
   "name": "python3"
  },
  "language_info": {
   "codemirror_mode": {
    "name": "ipython",
    "version": 3
   },
   "file_extension": ".py",
   "mimetype": "text/x-python",
   "name": "python",
   "nbconvert_exporter": "python",
   "pygments_lexer": "ipython3",
   "version": "3.7.1"
  }
 },
 "nbformat": 4,
 "nbformat_minor": 2
}
