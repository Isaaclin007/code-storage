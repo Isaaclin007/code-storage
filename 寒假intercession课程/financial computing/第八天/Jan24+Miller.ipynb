{
 "cells": [
  {
   "cell_type": "code",
   "execution_count": 2,
   "metadata": {},
   "outputs": [],
   "source": [
    "fin=open(\"glove.6B/glove.6B.50d.txt\",\"r\",encoding=\"utf-8\")"
   ]
  },
  {
   "cell_type": "code",
   "execution_count": 3,
   "metadata": {},
   "outputs": [
    {
     "data": {
      "text/plain": [
       "400000"
      ]
     },
     "execution_count": 3,
     "metadata": {},
     "output_type": "execute_result"
    }
   ],
   "source": [
    "lines=fin.readlines()\n",
    "fin.close\n",
    "len(lines)"
   ]
  },
  {
   "cell_type": "code",
   "execution_count": 4,
   "metadata": {},
   "outputs": [],
   "source": [
    "import numpy as np"
   ]
  },
  {
   "cell_type": "code",
   "execution_count": 5,
   "metadata": {},
   "outputs": [],
   "source": [
    "word2vec={}"
   ]
  },
  {
   "cell_type": "code",
   "execution_count": 6,
   "metadata": {},
   "outputs": [],
   "source": [
    "for line in lines:\n",
    "    splitLine = line.split(\" \")\n",
    "    word = splitLine[0]\n",
    "    vector = np.array([float(x) for x in splitLine[1:51]])\n",
    "    word2vec[word] = vector   "
   ]
  },
  {
   "cell_type": "code",
   "execution_count": 7,
   "metadata": {},
   "outputs": [
    {
     "name": "stdout",
     "output_type": "stream",
     "text": [
      "[0.418, 0.24968, -0.41242, 0.1217, 0.34527, -0.044457, -0.49688, -0.17862, -0.00066023, -0.6566, 0.27843, -0.14767, -0.55677, 0.14658, -0.0095095, 0.011658, 0.10204, -0.12792, -0.8443, -0.12181, -0.016801, -0.33279, -0.1552, -0.23131, -0.19181, -1.8823, -0.76746, 0.099051, -0.42125, -0.19526, 4.0071, -0.18594, -0.52287, -0.31681, 0.00059213, 0.0074449, 0.17778, -0.15897, 0.012041, -0.054223, -0.29871, -0.15749, -0.34758, -0.045637, -0.44251, 0.18785, 0.0027849, -0.18411, -0.11514, -0.78581]\n"
     ]
    }
   ],
   "source": [
    "print(list(word2vec['the']))"
   ]
  },
  {
   "cell_type": "code",
   "execution_count": 8,
   "metadata": {},
   "outputs": [
    {
     "data": {
      "text/plain": [
       "4.9678269047049"
      ]
     },
     "execution_count": 8,
     "metadata": {},
     "output_type": "execute_result"
    }
   ],
   "source": [
    "np.linalg.norm(word2vec['the'])"
   ]
  },
  {
   "cell_type": "code",
   "execution_count": 19,
   "metadata": {},
   "outputs": [],
   "source": [
    "def cosDist(v1,v2):\n",
    "    cosine=np.dot(v1,v2)/(np.linalg.norm(v1)*np.linalg.norm(v2))\n",
    "    return(cosine)\n",
    "def wordDist(w1,w2):\n",
    "    v1=word2vec[w1]\n",
    "    v2=word2vec[w2]\n",
    "    cosine=cosDist(v1,v2)\n",
    "    return(cosine)"
   ]
  },
  {
   "cell_type": "code",
   "execution_count": 10,
   "metadata": {},
   "outputs": [
    {
     "data": {
      "text/plain": [
       "0.2859484438999423"
      ]
     },
     "execution_count": 10,
     "metadata": {},
     "output_type": "execute_result"
    }
   ],
   "source": [
    "wordDist(\"computer\",\"banana\")"
   ]
  },
  {
   "cell_type": "code",
   "execution_count": 11,
   "metadata": {},
   "outputs": [
    {
     "data": {
      "text/plain": [
       "1.4204391331650053"
      ]
     },
     "execution_count": 11,
     "metadata": {},
     "output_type": "execute_result"
    }
   ],
   "source": [
    "wordDist(\"apple\",\"banana\")"
   ]
  },
  {
   "cell_type": "code",
   "execution_count": 12,
   "metadata": {},
   "outputs": [
    {
     "data": {
      "text/plain": [
       "1.7938632343382526"
      ]
     },
     "execution_count": 12,
     "metadata": {},
     "output_type": "execute_result"
    }
   ],
   "source": [
    "wordDist(\"computer\",\"apple\")"
   ]
  },
  {
   "cell_type": "code",
   "execution_count": 26,
   "metadata": {},
   "outputs": [
    {
     "name": "stdout",
     "output_type": "stream",
     "text": [
      "0.6757718666324486\n",
      "0.440908893106959\n",
      "0.1505738416811099\n",
      "-0.07746374002723982\n"
     ]
    }
   ],
   "source": [
    "print(wordDist('beyonce','gaga'))\n",
    "print(wordDist('beyonce','jay'))\n",
    "print(wordDist('gaga','jay'))\n",
    "print(wordDist('beyonce','naiman'))"
   ]
  },
  {
   "cell_type": "code",
   "execution_count": 20,
   "metadata": {},
   "outputs": [],
   "source": [
    "cosineDict = {w:wordDist('king',w) for w in word2vec}"
   ]
  },
  {
   "cell_type": "code",
   "execution_count": 22,
   "metadata": {},
   "outputs": [
    {
     "data": {
      "text/plain": [
       "0.82361796933357"
      ]
     },
     "execution_count": 22,
     "metadata": {},
     "output_type": "execute_result"
    }
   ],
   "source": [
    "cosineDict['prince']"
   ]
  },
  {
   "cell_type": "code",
   "execution_count": 28,
   "metadata": {},
   "outputs": [
    {
     "data": {
      "text/plain": [
       "[(1.0000000000000002, 'king'),\n",
       " (0.82361796933357, 'prince'),\n",
       " (0.7839043010964117, 'queen'),\n",
       " (0.7746230030635107, 'ii'),\n",
       " (0.7736247624872923, 'emperor'),\n",
       " (0.7667193954606586, 'son'),\n",
       " (0.7627150944065074, 'uncle'),\n",
       " (0.7542161124008465, 'kingdom'),\n",
       " (0.7539914268281644, 'throne'),\n",
       " (0.7492411846124971, 'brother')]"
      ]
     },
     "execution_count": 28,
     "metadata": {},
     "output_type": "execute_result"
    }
   ],
   "source": [
    "sorted([(value, key) for (key,value) in cosineDict.items()], reverse=True)[:10]"
   ]
  },
  {
   "cell_type": "code",
   "execution_count": 29,
   "metadata": {},
   "outputs": [],
   "source": [
    "v = word2vec['king'] - word2vec['man'] + word2vec['woman']"
   ]
  },
  {
   "cell_type": "code",
   "execution_count": 30,
   "metadata": {},
   "outputs": [],
   "source": [
    "cosineDict = {w:cosDist(v, word2vec[w]) for w in word2vec}"
   ]
  },
  {
   "cell_type": "code",
   "execution_count": 31,
   "metadata": {},
   "outputs": [
    {
     "data": {
      "text/plain": [
       "[(0.8859834623625932, 'king'),\n",
       " (0.8609581258578943, 'queen'),\n",
       " (0.768451180089547, 'daughter'),\n",
       " (0.764069959135472, 'prince'),\n",
       " (0.7634970756412144, 'throne'),\n",
       " (0.7512728447426918, 'princess'),\n",
       " (0.750648883691072, 'elizabeth'),\n",
       " (0.7314496957870618, 'father'),\n",
       " (0.7296158352285126, 'kingdom'),\n",
       " (0.72800103246748, 'mother')]"
      ]
     },
     "execution_count": 31,
     "metadata": {},
     "output_type": "execute_result"
    }
   ],
   "source": [
    "sorted([(value, key) for (key,value) in cosineDict.items()], reverse=True)[:10]"
   ]
  },
  {
   "cell_type": "code",
   "execution_count": 32,
   "metadata": {},
   "outputs": [],
   "source": [
    "v = word2vec['teacher'] - word2vec['school'] + word2vec['church']"
   ]
  },
  {
   "cell_type": "code",
   "execution_count": 33,
   "metadata": {},
   "outputs": [
    {
     "data": {
      "text/plain": [
       "[(0.8092078966752569, 'priest'),\n",
       " (0.804460582009797, 'church'),\n",
       " (0.7725253836901849, 'orthodox'),\n",
       " (0.7700323232560122, 'catholic'),\n",
       " (0.7411272859589869, 'congregation'),\n",
       " (0.7331976241792783, 'pastor'),\n",
       " (0.7090660804573764, 'christian'),\n",
       " (0.6940143018853606, 'clergyman'),\n",
       " (0.6935899138284772, 'roman'),\n",
       " (0.6829545665503904, 'faith')]"
      ]
     },
     "execution_count": 33,
     "metadata": {},
     "output_type": "execute_result"
    }
   ],
   "source": [
    "cosineDict = {w:cosDist(v, word2vec[w]) for w in word2vec}\n",
    "sorted([(value, key) for (key,value) in cosineDict.items()], reverse=True)[:10]"
   ]
  },
  {
   "cell_type": "code",
   "execution_count": null,
   "metadata": {},
   "outputs": [],
   "source": []
  }
 ],
 "metadata": {
  "kernelspec": {
   "display_name": "Python 3",
   "language": "python",
   "name": "python3"
  },
  "language_info": {
   "codemirror_mode": {
    "name": "ipython",
    "version": 3
   },
   "file_extension": ".py",
   "mimetype": "text/x-python",
   "name": "python",
   "nbconvert_exporter": "python",
   "pygments_lexer": "ipython3",
   "version": "3.7.1"
  }
 },
 "nbformat": 4,
 "nbformat_minor": 2
}
