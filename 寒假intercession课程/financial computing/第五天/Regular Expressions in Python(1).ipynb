{
 "cells": [
  {
   "cell_type": "markdown",
   "metadata": {},
   "source": [
    "## Introduction to Regular Expressions (regex's)"
   ]
  },
  {
   "cell_type": "markdown",
   "metadata": {},
   "source": [
    "There is a nice basic regular expressions tutorial here \n",
    "\n",
    "https://regexone.com/references/python (click on Interactive Tutorial)\n",
    "\n",
    "The Python 3 documentation:\n",
    "\n",
    "https://docs.python.org/3/library/re.html\n",
    "\n",
    "This is also a nice helpful tutorial:\n",
    "\n",
    "https://www.tutorialspoint.com/python3/python_reg_expressions.htm\n",
    "\n",
    "One more:\n",
    "\n",
    "https://docs.python.org/3.6/howto/regex.html\n",
    "\n",
    "And there is a link to a book\n",
    "\n",
    "https://www.princeton.edu/~mlovett/reference/Regular-Expressions.pdf"
   ]
  },
  {
   "cell_type": "markdown",
   "metadata": {},
   "source": [
    "Some of the most common tasks for regex's are:\n",
    "\n",
    "1) determine whether a certain pattern of text matches some substring of a string starting at the beginning of the string - and return the size of the substring that matches the pattern\n",
    "\n",
    "2) determine whether a pattern matches some substring anywhere in the string, and return the location of the match in the string\n",
    "\n",
    "3) find all locations in a string where a pattern mathes"
   ]
  },
  {
   "cell_type": "markdown",
   "metadata": {},
   "source": [
    "A regular expression consists of ordinary characters and special characters. The simplest form of regular expression consists of a single (non-special) character.\n",
    "\n",
    "We can combine regular expressions by concatenating them. Thus, if A is a regular expression and B is a regular expression, so is AB.\n",
    "\n",
    "For example, an ordinary character is a regular expression, so \"d\" is a regular expression. So is \"a\" and so is \"n\", so \"dan\" is a regular expression."
   ]
  },
  {
   "cell_type": "markdown",
   "metadata": {},
   "source": [
    "Here is a simple example of regular expression matching i.e. determining whether the initial portion of a string matches the pattern. If we get a match, we print a message confirming it and provide some range information.\n",
    "\n",
    "We use \"match\" to do the match. When we get a match, the function returns a pair that gives the \"span\" of the match, i.e. the start and end positions."
   ]
  },
  {
   "cell_type": "code",
   "execution_count": 25,
   "metadata": {},
   "outputs": [
    {
     "name": "stdout",
     "output_type": "stream",
     "text": [
      "matches\n",
      "0\n",
      "2\n",
      "(0, 2)\n",
      "Is\n"
     ]
    }
   ],
   "source": [
    "import re\n",
    "pattern='Is'\n",
    "string=\"Is there a match?\"\n",
    "m=re.match(pattern,string)\n",
    "if m:\n",
    "    print(\"matches\")\n",
    "    print(m.start())\n",
    "    print(m.end())\n",
    "    print(m.span())\n",
    "    print(string[m.start():m.end()])\n",
    "else:\n",
    "    print(\"doesn't match\")"
   ]
  },
  {
   "cell_type": "markdown",
   "metadata": {},
   "source": [
    "We can also use re to match byte objects. However, when we do that, we have to use byte objects to match byte objects. We can't mix the two types of strings."
   ]
  },
  {
   "cell_type": "code",
   "execution_count": 101,
   "metadata": {},
   "outputs": [
    {
     "name": "stdout",
     "output_type": "stream",
     "text": [
      "matches\n",
      "0\n",
      "3\n",
      "(0, 3)\n",
      "b' 0@'\n"
     ]
    }
   ],
   "source": [
    "import re\n",
    "pattern=b'\\x20\\x30\\x40'\n",
    "string=b'\\x20\\x30\\x40\\x20\\x30\\x40'\n",
    "m=re.match(pattern,string)\n",
    "if m:\n",
    "    print(\"matches\")\n",
    "    print(m.start())\n",
    "    print(m.end())\n",
    "    print(m.span())\n",
    "    print(string[m.start():m.end()])\n",
    "else:\n",
    "    print(\"doesn't match\")"
   ]
  },
  {
   "cell_type": "markdown",
   "metadata": {},
   "source": [
    "For a match the pattern is required to match the initial portion of the string."
   ]
  },
  {
   "cell_type": "code",
   "execution_count": 27,
   "metadata": {},
   "outputs": [
    {
     "name": "stdout",
     "output_type": "stream",
     "text": [
      "doesn't match\n"
     ]
    }
   ],
   "source": [
    "import re\n",
    "pattern='match'\n",
    "string=\"A match must occur with the initial portion of the string.\"\n",
    "m=re.match(pattern,string)\n",
    "if m:\n",
    "    print(\"matches\")\n",
    "    print(m.start())\n",
    "    print(m.end())\n",
    "    print(m.span())\n",
    "    print(string[m.start():m.end()])\n",
    "else:\n",
    "    print(\"doesn't match\")"
   ]
  },
  {
   "cell_type": "code",
   "execution_count": 30,
   "metadata": {},
   "outputs": [
    {
     "name": "stdout",
     "output_type": "stream",
     "text": [
      "doesn't match\n"
     ]
    }
   ],
   "source": [
    "import re\n",
    "pattern='m'\n",
    "string=\"Matches are case-sensitive by default.\"\n",
    "m=re.match(pattern,string)\n",
    "if m:\n",
    "    print(\"matches\")\n",
    "    print(m.start())\n",
    "    print(m.end())\n",
    "    print(m.span())\n",
    "    print(string[m.start():m.end()])\n",
    "else:\n",
    "    print(\"doesn't match\")"
   ]
  },
  {
   "cell_type": "markdown",
   "metadata": {},
   "source": [
    "We can turn off case-sensitivity using the \"I\" flag."
   ]
  },
  {
   "cell_type": "code",
   "execution_count": 119,
   "metadata": {},
   "outputs": [
    {
     "name": "stdout",
     "output_type": "stream",
     "text": [
      "matches\n",
      "0\n",
      "1\n",
      "(0, 1)\n",
      "M\n"
     ]
    }
   ],
   "source": [
    "import re\n",
    "pattern='m'\n",
    "string=\"Matches are case-sensitive by default.\"\n",
    "m=re.match(pattern,string,re.I)\n",
    "if m:\n",
    "    print(\"matches\")\n",
    "    print(m.start())\n",
    "    print(m.end())\n",
    "    print(m.span())\n",
    "    print(string[m.start():m.end()])\n",
    "else:\n",
    "    print(\"doesn't match\")"
   ]
  },
  {
   "cell_type": "markdown",
   "metadata": {},
   "source": [
    "On the other hand, we can **search** for a pattern appearing in any position in text using \"search\"."
   ]
  },
  {
   "cell_type": "code",
   "execution_count": 177,
   "metadata": {},
   "outputs": [
    {
     "name": "stdout",
     "output_type": "stream",
     "text": [
      "pattern found\n",
      "3\n",
      "6\n",
      "(3, 6)\n",
      "dog\n"
     ]
    }
   ],
   "source": [
    "import re\n",
    "pattern=\"dog\"\n",
    "string=\"My dog is named Sasha\"\n",
    "s=re.search(pattern,string)\n",
    "if s:\n",
    "    print(\"pattern found\")\n",
    "    print(s.start())\n",
    "    print(s.end())\n",
    "    print(s.span())\n",
    "    print(string[s.start():s.end()])\n",
    "else:\n",
    "    print(\"doesn't match\")"
   ]
  },
  {
   "cell_type": "markdown",
   "metadata": {},
   "source": [
    "When we get no match, the value returned is None."
   ]
  },
  {
   "cell_type": "code",
   "execution_count": 31,
   "metadata": {},
   "outputs": [
    {
     "name": "stdout",
     "output_type": "stream",
     "text": [
      "no match\n",
      "None\n",
      "we get none\n"
     ]
    }
   ],
   "source": [
    "import re\n",
    "text=\"My name is Joan.\"\n",
    "pattern=\"John\"\n",
    "s=re.search(pattern,text)\n",
    "if s:\n",
    "    print(\"found a match\")\n",
    "else:\n",
    "    print(\"no match\")\n",
    "    print(m)\n",
    "if s==None:\n",
    "    print(\"we get none\")"
   ]
  },
  {
   "cell_type": "markdown",
   "metadata": {},
   "source": [
    "When we use the search method, the information we get back is about the first match."
   ]
  },
  {
   "cell_type": "code",
   "execution_count": 32,
   "metadata": {},
   "outputs": [
    {
     "name": "stdout",
     "output_type": "stream",
     "text": [
      "found a match\n",
      "<class 're.Match'>\n",
      "<re.Match object; span=(11, 15), match='John'>\n",
      "John\n"
     ]
    }
   ],
   "source": [
    "import re\n",
    "text=\"My name is John. Are you also John?\"\n",
    "pattern=\"John\"\n",
    "s=re.search(pattern,text)\n",
    "if s:\n",
    "    print(\"pattern found\")\n",
    "    print(text[s.start():s.end()])\n",
    "else:\n",
    "    print(\"no match\")"
   ]
  },
  {
   "cell_type": "markdown",
   "metadata": {},
   "source": [
    "We can also search for special characters."
   ]
  },
  {
   "cell_type": "code",
   "execution_count": 20,
   "metadata": {},
   "outputs": [
    {
     "name": "stdout",
     "output_type": "stream",
     "text": [
      "found a match\n",
      "<class '_sre.SRE_Match'>\n",
      "<_sre.SRE_Match object; span=(18, 19), match='\\n'>\n",
      "\n",
      "\n"
     ]
    }
   ],
   "source": [
    "import re\n",
    "text=\"What is your name?\\n\\r My name is John.\"\n",
    "pattern=\"\\n\"\n",
    "m=re.search(pattern,text)\n",
    "if m:\n",
    "    print(\"found a match\")\n",
    "    print(type(m))\n",
    "    print(m)\n",
    "    print(text[m.start():m.end()])\n",
    "else:\n",
    "    print(\"no match\")"
   ]
  },
  {
   "cell_type": "markdown",
   "metadata": {},
   "source": [
    "# Some simple functions\n",
    "\n",
    "Instead of repeating the same code over and over, let's create a couple of functions that do what we did in the above examples."
   ]
  },
  {
   "cell_type": "code",
   "execution_count": 5,
   "metadata": {},
   "outputs": [
    {
     "name": "stdout",
     "output_type": "stream",
     "text": [
      "no match\n",
      "pattern Mmatches from 0 to 1 with substring = M\n",
      "pattern matches from 3 to 6 with substring = dog\n"
     ]
    }
   ],
   "source": [
    "def check_match(pattern, string): \n",
    "    m=re.match(pattern,string)\n",
    "    if m:\n",
    "        pos0=m.start()\n",
    "        pos1=m.end()\n",
    "        print(\"pattern \" + pattern + \n",
    "              \"matches from \" + str(pos0) + \" to \" \n",
    "              + str(pos1) + \" with substring = \" \n",
    "              + string[m.start():m.end()])\n",
    "    else:\n",
    "        print(\"no match\")   \n",
    "check_match(\"dog\",\"My dog\")\n",
    "check_match(\"M\",\"My dog\")\n",
    "\n",
    "def check_search(pattern, string): \n",
    "    s=re.search(pattern,string)\n",
    "    if s:\n",
    "        pos0=s.start()\n",
    "        pos1=s.end()\n",
    "        print(\"pattern matches from \" + str(pos0) + \" to \" + str(pos1) + \" with substring = \" \n",
    "              + string[s.start():s.end()])\n",
    "    else:\n",
    "        print(\"no match\")   \n",
    "check_search(\"dog\",\"My dog at my homework.\")"
   ]
  },
  {
   "cell_type": "markdown",
   "metadata": {},
   "source": [
    "# Iterating over lists"
   ]
  },
  {
   "cell_type": "code",
   "execution_count": 52,
   "metadata": {},
   "outputs": [
    {
     "name": "stdout",
     "output_type": "stream",
     "text": [
      "What a beautiful day to be learning regex.\n",
      "pattern matches from 21 to 23 with substring = to\n",
      "\n",
      "\n",
      "I feel so fortunate to have Dr. Miller as a mentor.\n",
      "pattern matches from 20 to 22 with substring = to\n",
      "\n",
      "\n",
      "What a powerful thing, to be able to match patterns in strings!\n",
      "pattern matches from 23 to 25 with substring = to\n",
      "\n",
      "\n"
     ]
    }
   ],
   "source": [
    "strings=[\"What a beautiful day to be learning regex.\", \n",
    "         \"I feel so fortunate to have Dr. Miller as a mentor.\", \n",
    "         \"What a powerful thing, to be able to match patterns in strings!\"]\n",
    "p=\"to\"\n",
    "for s in strings:\n",
    "    print(s)\n",
    "    check_search(p,s)\n",
    "    print(\"\\n\")"
   ]
  },
  {
   "cell_type": "markdown",
   "metadata": {},
   "source": [
    "## Special characters"
   ]
  },
  {
   "cell_type": "markdown",
   "metadata": {},
   "source": [
    "Asou can imagine, without further tools this is rather limited in what can be done. Additional functionality is obtained using  characters with special meanings in our patterns. \n",
    "\n",
    "These special characters are referred to as meta-characters. Here is a list of them:\n",
    "\n",
    ". ^ $ * + ? { } [ ] \\ | ( )\n",
    "\n",
    "We will proceed to describe the uses of these characters in patterns."
   ]
  },
  {
   "cell_type": "markdown",
   "metadata": {},
   "source": [
    "# The dot/period: ."
   ]
  },
  {
   "cell_type": "markdown",
   "metadata": {},
   "source": [
    "By default, the period (.) means any single character except newline \"\\n\" by default."
   ]
  },
  {
   "cell_type": "code",
   "execution_count": 60,
   "metadata": {},
   "outputs": [
    {
     "name": "stdout",
     "output_type": "stream",
     "text": [
      "searching for pattern d.n in string = dan\n",
      "pattern matches from 0 to 3 with substring = dan\n",
      "\n",
      "\n",
      "searching for pattern d.n in string = don\n",
      "pattern matches from 0 to 3 with substring = don\n",
      "\n",
      "\n",
      "searching for pattern d.n in string = dn\n",
      "no match\n",
      "\n",
      "\n",
      "searching for pattern d.n in string = d\n",
      "n\n",
      "no match\n",
      "\n",
      "\n"
     ]
    }
   ],
   "source": [
    "import re\n",
    "p=\"d.n\"\n",
    "strings=[\"dan\",\"don\",\"dn\",\"d\\nn\"]\n",
    "for s in strings:\n",
    "    print(\"searching for pattern \" + p + \" in string = \" + s)\n",
    "    check_search(p,s)\n",
    "    print(\"\\n\")"
   ]
  },
  {
   "cell_type": "markdown",
   "metadata": {},
   "source": [
    "If we want \".\" to be interpreted as any single character, including the \n",
    "newline character, we use the DOTALL flag. So in the following example, \n",
    "we do indeed get a match."
   ]
  },
  {
   "cell_type": "code",
   "execution_count": 62,
   "metadata": {},
   "outputs": [
    {
     "name": "stdout",
     "output_type": "stream",
     "text": [
      "found!\n"
     ]
    }
   ],
   "source": [
    "import re\n",
    "p=\"d.n\"\n",
    "string=\"d\\nn\"\n",
    "if re.search(p,string,re.DOTALL):\n",
    "    print(\"found!\")"
   ]
  },
  {
   "cell_type": "markdown",
   "metadata": {},
   "source": [
    "# The circumflex character: ^"
   ]
  },
  {
   "cell_type": "markdown",
   "metadata": {},
   "source": [
    "The ^ character is used to indicate that the pattern must appear in the start of a string."
   ]
  },
  {
   "cell_type": "code",
   "execution_count": 67,
   "metadata": {},
   "outputs": [
    {
     "name": "stdout",
     "output_type": "stream",
     "text": [
      "string = John, are you home?\n",
      "pattern matches from 0 to 4 with substring = John\n",
      "\n",
      "\n",
      "string = Joan, are you home?\n",
      "pattern matches from 0 to 4 with substring = Joan\n",
      "\n",
      "\n",
      "string = Hey, has anybody seen John or Joan around?\n",
      "no match\n",
      "\n",
      "\n"
     ]
    }
   ],
   "source": [
    "import re\n",
    "p=\"^Jo.n\"\n",
    "strings=[\"John, are you home?\",\"Joan, are you home?\",\"Hey, has anybody seen John or Joan around?\"]\n",
    "for s in strings:\n",
    "    print(\"string = \" + s)\n",
    "    check_search(p,s)\n",
    "    print(\"\\n\")"
   ]
  },
  {
   "cell_type": "markdown",
   "metadata": {},
   "source": [
    "# The dollar-sign: $\n",
    "\n",
    "$ matches the end of the string, or just before the new line at the end of the string."
   ]
  },
  {
   "cell_type": "code",
   "execution_count": 73,
   "metadata": {},
   "outputs": [
    {
     "name": "stdout",
     "output_type": "stream",
     "text": [
      "string = Is that my dog?\n",
      "pattern matches from 11 to 15 with substring = dog?\n",
      "\n",
      "\n",
      "string = My dog seems to be missing.\n",
      "no match\n",
      "\n",
      "\n",
      "string = Hey, look at my dog.\n",
      "pattern matches from 16 to 20 with substring = dog.\n",
      "\n",
      "\n"
     ]
    }
   ],
   "source": [
    "import re\n",
    "p=\"dog.$\"\n",
    "strings=[\"Is that my dog?\", \"My dog seems to be missing.\",\"Hey, look at my dog.\"]\n",
    "for s in strings:\n",
    "    print(\"string = \" + s)\n",
    "    check_search(p,s)\n",
    "    print(\"\\n\")\n"
   ]
  },
  {
   "cell_type": "markdown",
   "metadata": {},
   "source": [
    "The \\ can be used to tell the engine that we want a literal period rather than as a meta-characer."
   ]
  },
  {
   "cell_type": "code",
   "execution_count": 178,
   "metadata": {},
   "outputs": [
    {
     "name": "stdout",
     "output_type": "stream",
     "text": [
      "string = Is that my dog?\n",
      "no match\n",
      "\n",
      "\n",
      "string = My dog seems to be missing.\n",
      "no match\n",
      "\n",
      "\n",
      "string = Hey, look at my dog.\n",
      "pattern matches from 16 to 20 with substring = dog.\n",
      "\n",
      "\n"
     ]
    }
   ],
   "source": [
    "import re\n",
    "p=\"dog\\.$\"\n",
    "strings=[\"Is that my dog?\", \"My dog seems to be missing.\",\"Hey, look at my dog.\"]\n",
    "for s in strings:\n",
    "    print(\"string = \" + s)\n",
    "    check_search(p,s)\n",
    "    print(\"\\n\")\n"
   ]
  },
  {
   "cell_type": "markdown",
   "metadata": {},
   "source": [
    "# The asterisk: *"
   ]
  },
  {
   "cell_type": "markdown",
   "metadata": {},
   "source": [
    "The * makes the preceding regular expression appear as many times as possible and looks for the most repeitions possible.  In the following, the preceding regular expression is the letter \"a\". Note that search continues until the first match start is found, but the search finds the largest match starting at that point. \n",
    "\n",
    "This is what is meant by regex searching being greedy. It looks for a match starting as early as possible in a string, but it looks for the string that is as long as possible and still matches.\n",
    "\n",
    "In the following, the pattern matches the first appearance of \"dan\" but the whole string from that first \"dan\" to the end also gives a match, so that is the one produced by re.search()."
   ]
  },
  {
   "cell_type": "code",
   "execution_count": 179,
   "metadata": {},
   "outputs": [
    {
     "name": "stdout",
     "output_type": "stream",
     "text": [
      "string = Hi Doris!\n",
      "pattern matches from 3 to 6 with substring = Dor\n",
      "\n",
      "\n",
      "string = Are you a Dr.?\n",
      "pattern matches from 10 to 12 with substring = Dr\n",
      "\n",
      "\n",
      "string = Doors should not be left opened.\n",
      "pattern matches from 0 to 4 with substring = Door\n",
      "\n",
      "\n",
      "string = Dooooooomed!\n",
      "no match\n",
      "\n",
      "\n"
     ]
    }
   ],
   "source": [
    "import re\n",
    "p=\"Do*r\"\n",
    "strings=[\"Hi Doris!\",\"Are you a Dr.?\",\"Doors should not be left opened.\",\"Dooooooomed!\"]\n",
    "for s in strings:\n",
    "    print(\"string = \" + s)\n",
    "    check_search(p,s)\n",
    "    print(\"\\n\")\n"
   ]
  },
  {
   "cell_type": "markdown",
   "metadata": {},
   "source": [
    "What happens if we end our expression with o's?"
   ]
  },
  {
   "cell_type": "code",
   "execution_count": 181,
   "metadata": {},
   "outputs": [
    {
     "name": "stdout",
     "output_type": "stream",
     "text": [
      "string = We are dooooooomed!\n",
      "pattern matches from 7 to 15 with substring = dooooooo\n",
      "\n",
      "\n"
     ]
    }
   ],
   "source": [
    "import re\n",
    "p=\"do*\"\n",
    "strings=[\"We are dooooooomed! Really dooooooooooomed!!!!\"]\n",
    "for s in strings:\n",
    "    print(\"string = \" + s)\n",
    "    check_search(p,s)\n",
    "    print(\"\\n\")\n"
   ]
  },
  {
   "cell_type": "markdown",
   "metadata": {},
   "source": [
    "# The plus sign: +\n",
    "\n",
    "The + symbol means match 1 or more repetitions of the preceding expression, so unlike the *, we need to have the preceding expression appear at least once to get a match."
   ]
  },
  {
   "cell_type": "code",
   "execution_count": 89,
   "metadata": {},
   "outputs": [
    {
     "name": "stdout",
     "output_type": "stream",
     "text": [
      "string = Cats are not like dogs!\n",
      "pattern matches from 0 to 2 with substring = Ca\n",
      "\n",
      "\n",
      "string = Could you come here?\n",
      "no match\n",
      "\n",
      "\n",
      "string = Caanan is spoken about in the bible\n",
      "pattern matches from 0 to 3 with substring = Caa\n",
      "\n",
      "\n"
     ]
    }
   ],
   "source": [
    "import re\n",
    "p=\"Ca+\"\n",
    "strings=[\"Cats are not like dogs!\",\"Could you come here?\",\"Caanan is spoken about in the bible\"]\n",
    "for s in strings:\n",
    "    print(\"string = \" + s)\n",
    "    check_search(p,s)\n",
    "    print(\"\\n\")\n",
    "\n"
   ]
  },
  {
   "cell_type": "markdown",
   "metadata": {},
   "source": [
    "# The question mark: ?\n",
    "\n",
    "One use of the ? character is obtained by putting it after a regular expession, which means match exactly 0 or 1 repetitions of that expression.  In other words, it indicates that the expression is optional. For an example of its use, english spellings in the U.K. can differ from english spellings in the U.S.. For example, in the U.S. we would use \"humor\" and in  the U.K. they would write \"humour\". We can test for either word matching using this:"
   ]
  },
  {
   "cell_type": "code",
   "execution_count": 182,
   "metadata": {},
   "outputs": [
    {
     "name": "stdout",
     "output_type": "stream",
     "text": [
      "string = Americans are known for their great sense of humor\n",
      "pattern matches from 45 to 50 with substring = humor\n",
      "\n",
      "\n",
      "string = British people generally lack a sense of humour\n",
      "pattern matches from 41 to 47 with substring = humour\n",
      "\n",
      "\n"
     ]
    }
   ],
   "source": [
    "import re\n",
    "p=\"humou?r\"\n",
    "strings=[\"Americans are known for their great sense of humor\",\n",
    "         \"British people generally lack a sense of humour\"]\n",
    "for s in strings:\n",
    "    print(\"string = \" + s)\n",
    "    check_search(p,s)\n",
    "    print(\"\\n\")"
   ]
  },
  {
   "cell_type": "markdown",
   "metadata": {},
   "source": [
    "Another use of the ? character is in creating a lazy instead of greedy attempt at matching, as discussed below."
   ]
  },
  {
   "cell_type": "markdown",
   "metadata": {},
   "source": [
    "# Use of braces: {}\n",
    "\n",
    "Braces are used to indicate the number of times an expression appears, or a range of numbers of times.\n",
    "\n",
    "We can use {m,n} to indicate that at least m occurences at most n occurences match.\n",
    "\n",
    "We can also write {,n} to refer to at most n occurences, and {m,} to mean at least m occurences."
   ]
  },
  {
   "cell_type": "code",
   "execution_count": 183,
   "metadata": {},
   "outputs": [
    {
     "name": "stdout",
     "output_type": "stream",
     "text": [
      "string = Hi mama.\n",
      "no match\n",
      "\n",
      "\n",
      "string = When I get heartburn I use maalox.\n",
      "pattern matches from 27 to 30 with substring = maa\n",
      "\n",
      "\n",
      "string = What about maaaaa?\n",
      "pattern matches from 11 to 14 with substring = maa\n",
      "\n",
      "\n"
     ]
    }
   ],
   "source": [
    "import re\n",
    "p=\"ma{2}\"\n",
    "strings=[\"Hi mama.\",\"When I get heartburn I use maalox.\",\n",
    "        \"What about maaaaa?\"]\n",
    "for s in strings:\n",
    "    print(\"string = \" + s)\n",
    "    check_search(p,s)\n",
    "    print(\"\\n\")"
   ]
  },
  {
   "cell_type": "code",
   "execution_count": 184,
   "metadata": {},
   "outputs": [
    {
     "name": "stdout",
     "output_type": "stream",
     "text": [
      "string = ma\n",
      "no match\n",
      "\n",
      "\n",
      "string = maa\n",
      "pattern matches from 0 to 3 with substring = maa\n",
      "\n",
      "\n",
      "string = maaa\n",
      "pattern matches from 0 to 3 with substring = maa\n",
      "\n",
      "\n",
      "string = maaaa\n",
      "pattern matches from 0 to 3 with substring = maa\n",
      "\n",
      "\n"
     ]
    }
   ],
   "source": [
    "import re\n",
    "p=\"ma{2}\"\n",
    "strings=[\"ma\",\"maa\",\"maaa\",\"maaaa\"]\n",
    "for s in strings:\n",
    "    print(\"string = \" + s)\n",
    "    check_search(p,s)\n",
    "    print(\"\\n\")"
   ]
  },
  {
   "cell_type": "code",
   "execution_count": 104,
   "metadata": {},
   "outputs": [
    {
     "name": "stdout",
     "output_type": "stream",
     "text": [
      "string = ma\n",
      "no match\n",
      "\n",
      "\n",
      "string = maa\n",
      "pattern matches from 0 to 3 with substring = maa\n",
      "\n",
      "\n",
      "string = maaa\n",
      "pattern matches from 0 to 4 with substring = maaa\n",
      "\n",
      "\n",
      "string = maaaa\n",
      "pattern matches from 0 to 4 with substring = maaa\n",
      "\n",
      "\n"
     ]
    }
   ],
   "source": [
    "import re\n",
    "p=\"ma{2,3}\"\n",
    "strings=[\"ma\",\"maa\",\"maaa\",\"maaaa\"]\n",
    "for s in strings:\n",
    "    print(\"string = \" + s)\n",
    "    check_search(p,s)\n",
    "    print(\"\\n\")"
   ]
  },
  {
   "cell_type": "code",
   "execution_count": 185,
   "metadata": {},
   "outputs": [
    {
     "name": "stdout",
     "output_type": "stream",
     "text": [
      "string = ma\n",
      "no match\n",
      "\n",
      "\n",
      "string = maa\n",
      "no match\n",
      "\n",
      "\n",
      "string = maaa\n",
      "pattern matches from 0 to 4 with substring = maaa\n",
      "\n",
      "\n",
      "string = maaaa\n",
      "pattern matches from 0 to 5 with substring = maaaa\n",
      "\n",
      "\n"
     ]
    }
   ],
   "source": [
    "import re\n",
    "p=\"ma{3,}\"\n",
    "strings=[\"ma\",\"maa\",\"maaa\",\"maaaa\"]\n",
    "for s in strings:\n",
    "    print(\"string = \" + s)\n",
    "    check_search(p,s)\n",
    "    print(\"\\n\")"
   ]
  },
  {
   "cell_type": "markdown",
   "metadata": {},
   "source": [
    "# Use of parentheses for grouping"
   ]
  },
  {
   "cell_type": "markdown",
   "metadata": {},
   "source": [
    "The *. +, {n}, {m,n} are referred to as *quantifiers*.  By default, a quantified applies to the previous regular expression, which refers to a single ordinary character in a multiple ordinary character expression.  In the following example, the + refers to the \"a\", not to \"ma\".\n",
    "\n"
   ]
  },
  {
   "cell_type": "code",
   "execution_count": 186,
   "metadata": {},
   "outputs": [
    {
     "name": "stdout",
     "output_type": "stream",
     "text": [
      "string = Hi ma.\n",
      "pattern matches from 3 to 5 with substring = ma\n",
      "\n",
      "\n",
      "string = Hi mama.\n",
      "pattern matches from 3 to 5 with substring = ma\n",
      "\n",
      "\n",
      "string = When I get heartburn I use maalox.\n",
      "pattern matches from 27 to 30 with substring = maa\n",
      "\n",
      "\n"
     ]
    }
   ],
   "source": [
    "import re\n",
    "p=\"ma+\"\n",
    "strings=[\"Hi ma.\",\"Hi mama.\",\"When I get heartburn I use maalox.\"]\n",
    "for s in strings:\n",
    "    print(\"string = \" + s)\n",
    "    check_search(p,s)\n",
    "    print(\"\\n\")"
   ]
  },
  {
   "cell_type": "markdown",
   "metadata": {},
   "source": [
    "Parentheses can be used to make the special characters apply to more complex expressions. Here we make the + refer to repetitions of \"ma\"."
   ]
  },
  {
   "cell_type": "code",
   "execution_count": 94,
   "metadata": {},
   "outputs": [
    {
     "name": "stdout",
     "output_type": "stream",
     "text": [
      "string = Hi ma.\n",
      "pattern matches from 3 to 5 with substring = ma\n",
      "\n",
      "\n",
      "string = Hi mama.\n",
      "pattern matches from 3 to 7 with substring = mama\n",
      "\n",
      "\n",
      "string = When I get heartburn I use maalox.\n",
      "pattern matches from 27 to 29 with substring = ma\n",
      "\n",
      "\n"
     ]
    }
   ],
   "source": [
    "import re\n",
    "p=\"(ma)+\"\n",
    "strings=[\"Hi ma.\",\"Hi mama.\",\"When I get heartburn I use maalox.\"]\n",
    "for s in strings:\n",
    "    print(\"string = \" + s)\n",
    "    check_search(p,s)\n",
    "    print(\"\\n\")"
   ]
  },
  {
   "cell_type": "markdown",
   "metadata": {},
   "source": [
    "What is going on in this example?"
   ]
  },
  {
   "cell_type": "code",
   "execution_count": 98,
   "metadata": {},
   "outputs": [
    {
     "name": "stdout",
     "output_type": "stream",
     "text": [
      "string = Don't forget to tell your mama that you took the maalox.\n",
      "pattern matches from 26 to 52 with substring = mama that you took the maa\n",
      "\n",
      "\n"
     ]
    }
   ],
   "source": [
    "import re\n",
    "p=\"(ma).*ma+\"\n",
    "strings=[\"Don't forget to tell your mama that you took the maalox.\"]\n",
    "for s in strings:\n",
    "    print(\"string = \" + s)\n",
    "    check_search(p,s)\n",
    "    print(\"\\n\")"
   ]
  },
  {
   "cell_type": "code",
   "execution_count": 187,
   "metadata": {},
   "outputs": [
    {
     "name": "stdout",
     "output_type": "stream",
     "text": [
      "string = Don't forget to tell your mama that you took the maalox.\n",
      "pattern matches from 26 to 51 with substring = mama that you took the ma\n",
      "\n",
      "\n"
     ]
    }
   ],
   "source": [
    "import re\n",
    "p=\"(ma){2}.*ma\"\n",
    "strings=[\"Don't forget to tell your mama that you took the maalox.\"]\n",
    "for s in strings:\n",
    "    print(\"string = \" + s)\n",
    "    check_search(p,s)\n",
    "    print(\"\\n\")"
   ]
  },
  {
   "cell_type": "code",
   "execution_count": 106,
   "metadata": {},
   "outputs": [
    {
     "name": "stdout",
     "output_type": "stream",
     "text": [
      "string = Don't forget to tell your mama that you took the maalox.\n",
      "no match\n",
      "\n",
      "\n"
     ]
    }
   ],
   "source": [
    "import re\n",
    "p=\"m.*a{3}\"\n",
    "strings=[\"Don't forget to tell your mama that you took the maalox.\"]\n",
    "for s in strings:\n",
    "    print(\"string = \" + s)\n",
    "    check_search(p,s)\n",
    "    print(\"\\n\")"
   ]
  },
  {
   "cell_type": "code",
   "execution_count": 188,
   "metadata": {},
   "outputs": [
    {
     "name": "stdout",
     "output_type": "stream",
     "text": [
      "string = Don't forget to tell your mama that you took the maalox.\n",
      "no match\n",
      "\n",
      "\n"
     ]
    }
   ],
   "source": [
    "import re\n",
    "p=\"(m.*a){3}\"\n",
    "strings=[\"Don't forget to tell your mama that you took the maalox.\"]\n",
    "for s in strings:\n",
    "    print(\"string = \" + s)\n",
    "    check_search(p,s)\n",
    "    print(\"\\n\")"
   ]
  },
  {
   "cell_type": "code",
   "execution_count": 191,
   "metadata": {},
   "outputs": [
    {
     "name": "stdout",
     "output_type": "stream",
     "text": [
      "string = Don't forget to tell your mama that you took the maalox.\n",
      "pattern matches from 26 to 51 with substring = mama that you took the ma\n",
      "\n",
      "\n"
     ]
    }
   ],
   "source": [
    "import re\n",
    "p=\"(m.*a){2}.*ma\"\n",
    "strings=[\"Don't forget to tell your mama that you took the maalox.\"]\n",
    "for s in strings:\n",
    "    print(\"string = \" + s)\n",
    "    check_search(p,s)\n",
    "    print(\"\\n\")"
   ]
  },
  {
   "cell_type": "code",
   "execution_count": 118,
   "metadata": {},
   "outputs": [
    {
     "name": "stdout",
     "output_type": "stream",
     "text": [
      "string = Don't forget to tell your mama that you took the maalox.\n",
      "pattern matches from 26 to 52 with substring = mama that you took the maa\n",
      "\n",
      "\n"
     ]
    }
   ],
   "source": [
    "import re\n",
    "p=\"(m.*a){2}.*(m.*a)\"\n",
    "strings=[\"Don't forget to tell your mama that you took the maalox.\"]\n",
    "for s in strings:\n",
    "    print(\"string = \" + s)\n",
    "    check_search(p,s)\n",
    "    print(\"\\n\")"
   ]
  },
  {
   "cell_type": "markdown",
   "metadata": {},
   "source": [
    "# Using ? to eliminating greediness encourage laziness."
   ]
  },
  {
   "cell_type": "markdown",
   "metadata": {},
   "source": [
    "In order to ensure that matching is done in a non-greedy fashion, we can use  \\*?. In the following example, we see greediness in action."
   ]
  },
  {
   "cell_type": "code",
   "execution_count": 144,
   "metadata": {},
   "outputs": [
    {
     "name": "stdout",
     "output_type": "stream",
     "text": [
      "string = <item>blah1</item><item>blah2</item>\n",
      "pattern matches from 0 to 36 with substring = <item>blah1</item><item>blah2</item>\n",
      "\n",
      "\n"
     ]
    }
   ],
   "source": [
    "import re\n",
    "p=\"<item>.*</item>\"\n",
    "strings=[\"<item>blah1</item><item>blah2</item>\"]\n",
    "for s in strings:\n",
    "    print(\"string = \" + s)\n",
    "    check_search(p,s)\n",
    "    print(\"\\n\")"
   ]
  },
  {
   "cell_type": "markdown",
   "metadata": {},
   "source": [
    "But we wanted to stop when we got to the first closing tag. The .\\*? says match any number characters between the two tags, but include a minimal amount to get the match. In other words, we want to stop searching if we match the smallest portion of the string that gives a match."
   ]
  },
  {
   "cell_type": "code",
   "execution_count": 192,
   "metadata": {
    "scrolled": true
   },
   "outputs": [
    {
     "name": "stdout",
     "output_type": "stream",
     "text": [
      "string = <item>blah1</item><item>blah2</item>\n",
      "pattern matches from 0 to 18 with substring = <item>blah1</item>\n",
      "\n",
      "\n"
     ]
    }
   ],
   "source": [
    "import re\n",
    "p=\"<item>(.*?)</item>\"\n",
    "strings=[\"<item>blah1</item><item>blah2</item>\"]\n",
    "for s in strings:\n",
    "    print(\"string = \" + s)\n",
    "    check_search(p,s)\n",
    "    print(\"\\n\")"
   ]
  },
  {
   "cell_type": "code",
   "execution_count": 193,
   "metadata": {},
   "outputs": [
    {
     "name": "stdout",
     "output_type": "stream",
     "text": [
      "string = <item>blah1</item><item>blah2</item>\n",
      "pattern matches from 0 to 18 with substring = <item>blah1</item>\n",
      "\n",
      "\n"
     ]
    }
   ],
   "source": [
    "import re\n",
    "p=\"<item>.*?</item>\"\n",
    "strings=[\"<item>blah1</item><item>blah2</item>\"]\n",
    "for s in strings:\n",
    "    print(\"string = \" + s)\n",
    "    check_search(p,s)\n",
    "    print(\"\\n\")"
   ]
  },
  {
   "cell_type": "markdown",
   "metadata": {},
   "source": [
    "The ? character also works when appearing after the + quantifier. Again, it ensures that at least one match occurs, \n",
    "but makes the seach lazy by minimizing portion needed to match."
   ]
  },
  {
   "cell_type": "code",
   "execution_count": 194,
   "metadata": {},
   "outputs": [
    {
     "name": "stdout",
     "output_type": "stream",
     "text": [
      "string = <item></item>\n",
      "no match\n",
      "\n",
      "\n",
      "string = <item></item><item>some stuff</item>\n",
      "pattern matches from 0 to 36 with substring = <item></item><item>some stuff</item>\n",
      "\n",
      "\n",
      "string = <item>some stuff</item>\n",
      "pattern matches from 0 to 23 with substring = <item>some stuff</item>\n",
      "\n",
      "\n"
     ]
    }
   ],
   "source": [
    "import re\n",
    "p=\"<item>(.+?)</item>\"\n",
    "strings=[\"<item></item>\",\"<item></item><item>some stuff</item>\",\n",
    "         \"<item>some stuff</item>\" ]\n",
    "for s in strings:\n",
    "    print(\"string = \" + s)\n",
    "    check_search(p,s)\n",
    "    print(\"\\n\")"
   ]
  },
  {
   "cell_type": "markdown",
   "metadata": {},
   "source": [
    "Finally ? is not greedy ?? is lazy in the sense that the attempt to match stops after finding the initial pattern without the optional expression."
   ]
  },
  {
   "cell_type": "code",
   "execution_count": 164,
   "metadata": {},
   "outputs": [
    {
     "name": "stdout",
     "output_type": "stream",
     "text": [
      "string = Can I play with your friends?\n",
      "pattern matches from 21 to 28 with substring = friends\n",
      "\n",
      "\n"
     ]
    }
   ],
   "source": [
    "import re\n",
    "p=\"friends?\"\n",
    "strings=[\"Can I play with your friends?\" ]\n",
    "for s in strings:\n",
    "    print(\"string = \" + s)\n",
    "    check_search(p,s)\n",
    "    print(\"\\n\")"
   ]
  },
  {
   "cell_type": "code",
   "execution_count": 195,
   "metadata": {},
   "outputs": [
    {
     "name": "stdout",
     "output_type": "stream",
     "text": [
      "string = Can I play with your friends?\n",
      "pattern matches from 21 to 27 with substring = friend\n",
      "\n",
      "\n"
     ]
    }
   ],
   "source": [
    "import re\n",
    "p=\"friends??\"\n",
    "strings=[\"Can I play with your friends?\" ]\n",
    "for s in strings:\n",
    "    print(\"string = \" + s)\n",
    "    check_search(p,s)\n",
    "    print(\"\\n\")"
   ]
  },
  {
   "cell_type": "markdown",
   "metadata": {},
   "source": [
    "The ? character allows us to create non-greedy versions of the {} patterns."
   ]
  },
  {
   "cell_type": "code",
   "execution_count": 168,
   "metadata": {},
   "outputs": [
    {
     "name": "stdout",
     "output_type": "stream",
     "text": [
      "string = xo i really love you xoxo\n",
      "pattern matches from 21 to 25 with substring = xoxo\n",
      "\n",
      "\n",
      "string = xo i really love you xoxoxox\n",
      "pattern matches from 21 to 27 with substring = xoxoxo\n",
      "\n",
      "\n"
     ]
    }
   ],
   "source": [
    "import re\n",
    "p=\"(xo){2,}\"\n",
    "strings=[\"xo i really love you xoxo\",\n",
    "     \"xo i really love you xoxoxox\"]        \n",
    "for s in strings:\n",
    "    print(\"string = \" + s)\n",
    "    check_search(p,s)\n",
    "    print(\"\\n\")\n"
   ]
  },
  {
   "cell_type": "code",
   "execution_count": 169,
   "metadata": {},
   "outputs": [
    {
     "name": "stdout",
     "output_type": "stream",
     "text": [
      "string = xo i really love you xoxo\n",
      "pattern matches from 21 to 25 with substring = xoxo\n",
      "\n",
      "\n",
      "string = xo i really love you xoxoxox\n",
      "pattern matches from 21 to 25 with substring = xoxo\n",
      "\n",
      "\n"
     ]
    }
   ],
   "source": [
    "import re\n",
    "p=\"(xo){2,}?\"\n",
    "strings=[\"xo i really love you xoxo\",\n",
    "     \"xo i really love you xoxoxox\"]        \n",
    "for s in strings:\n",
    "    print(\"string = \" + s)\n",
    "    check_search(p,s)\n",
    "    print(\"\\n\")\n"
   ]
  },
  {
   "cell_type": "markdown",
   "metadata": {},
   "source": [
    "# Character groups and []'s\n",
    "\n",
    "We use square brackets to define character groups. For example, suppose we want a match for any expression of the form\n",
    "\"p_t\" where the underscore character can be any vowel from among a,e,i, or o. We can define a character group [aeio]."
   ]
  },
  {
   "cell_type": "code",
   "execution_count": 206,
   "metadata": {},
   "outputs": [
    {
     "name": "stdout",
     "output_type": "stream",
     "text": [
      "string = Is that your pet?\n",
      "pattern matches from 13 to 16 with substring = pet\n",
      "\n",
      "\n",
      "string = When I see you I get a funny feeling in the pit of my stomachAre you a pot-smoker?\n",
      "pattern matches from 44 to 47 with substring = pit\n",
      "\n",
      "\n",
      "string = I've got to give you a pat on the back!\n",
      "pattern matches from 23 to 26 with substring = pat\n",
      "\n",
      "\n",
      "string = Is 'pyt' a word?\n",
      "no match\n",
      "\n",
      "\n"
     ]
    }
   ],
   "source": [
    "import re\n",
    "p=\"p[aeio]t?\"\n",
    "strings=[\"Is that your pet?\",\n",
    "     \"When I see you I get a funny feeling in the pit of my stomach\"\n",
    "    \"Are you a pot-smoker?\",\n",
    "    \"I've got to give you a pat on the back!\",\n",
    "        \"Is 'pyt' a word?\"]        \n",
    "for s in strings:\n",
    "    print(\"string = \" + s)\n",
    "    check_search(p,s)\n",
    "    print(\"\\n\")\n"
   ]
  },
  {
   "cell_type": "markdown",
   "metadata": {},
   "source": [
    "To simplify writing down certain character groups, we can use the dash. For example, for all digits 0,1,2,3,4,5,6,7\n",
    "we can use [0-7]."
   ]
  },
  {
   "cell_type": "code",
   "execution_count": 207,
   "metadata": {},
   "outputs": [
    {
     "name": "stdout",
     "output_type": "stream",
     "text": [
      "string = My office phone number is 410-516-7203.\n",
      "pattern matches from 26 to 29 with substring = 410\n",
      "\n",
      "\n",
      "string = My social security number is 897999131.\n",
      "pattern matches from 31 to 32 with substring = 7\n",
      "\n",
      "\n"
     ]
    }
   ],
   "source": [
    "import re\n",
    "p=\"[0-7]+\"\n",
    "strings=[\"My office phone number is 410-516-7203.\",\n",
    "     \"My social security number is 897999131.\"]\n",
    "for s in strings:\n",
    "    print(\"string = \" + s)\n",
    "    check_search(p,s)\n",
    "    print(\"\\n\")\n"
   ]
  },
  {
   "cell_type": "code",
   "execution_count": 209,
   "metadata": {},
   "outputs": [
    {
     "name": "stdout",
     "output_type": "stream",
     "text": [
      "string = My office phone number is 410-516-7203.\n",
      "pattern matches from 4 to 9 with substring = ffice\n",
      "\n",
      "\n",
      "string = My social security number is 897999131.\n",
      "pattern matches from 5 to 8 with substring = cia\n",
      "\n",
      "\n"
     ]
    }
   ],
   "source": [
    "import re\n",
    "p=\"[a-i]+\"\n",
    "strings=[\"My office phone number is 410-516-7203.\",\n",
    "     \"My social security number is 897999131.\"]\n",
    "for s in strings:\n",
    "    print(\"string = \" + s)\n",
    "    check_search(p,s)\n",
    "    print(\"\\n\")"
   ]
  },
  {
   "cell_type": "markdown",
   "metadata": {},
   "source": [
    "# Exercise: \n",
    "\n",
    "Assume a phone number is always of the form: yxx-yxx-xxxx or 1-yxx-yxx-xxxx where the x's are all digits from 0-9, and y's are 1-9\n",
    "\n",
    "Write code to find the first phone number in a string."
   ]
  },
  {
   "cell_type": "code",
   "execution_count": 214,
   "metadata": {},
   "outputs": [
    {
     "name": "stdout",
     "output_type": "stream",
     "text": [
      "string = Is this a phone number 1-234-123-3134 or not\n",
      "pattern matches from 22 to 37 with substring =  1-234-123-3134\n",
      "\n",
      "\n",
      "string = Is this a phone number 456-234-1088 or not\n",
      "pattern matches from 23 to 35 with substring = 456-234-1088\n",
      "\n",
      "\n",
      "string = Is this a phone number 0-131-143-4353 or not\n",
      "pattern matches from 25 to 37 with substring = 131-143-4353\n",
      "\n",
      "\n"
     ]
    }
   ],
   "source": [
    "p=\"(1-)?[1-9]{1}[0-9]{2}-[1-9]{1}[0-9]{2}-[0-9]{4}\"\n",
    "strings=[\"Is this a phone number 1-234-123-3134 or not\",\n",
    "         \"Is this a phone number 456-234-1088 or not\",\n",
    "         \"Is this a phone number 0-131-143-4353 or not\"]\n",
    "for s in strings:\n",
    "    print(\"string = \" + s)\n",
    "    check_search(p,s)\n",
    "    print(\"\\n\")"
   ]
  },
  {
   "cell_type": "code",
   "execution_count": 215,
   "metadata": {},
   "outputs": [
    {
     "name": "stdout",
     "output_type": "stream",
     "text": [
      "string = Is this a phone number 1-234-123-3134 or not\n",
      "pattern matches from 23 to 37 with substring = 1-234-123-3134\n",
      "\n",
      "\n",
      "string = Is this a phone number 456-234-1088 or not\n",
      "pattern matches from 23 to 35 with substring = 456-234-1088\n",
      "\n",
      "\n",
      "string = Is this a phone number 0-131-143-4353 or not\n",
      "pattern matches from 25 to 37 with substring = 131-143-4353\n",
      "\n",
      "\n"
     ]
    }
   ],
   "source": [
    "p=\"(1-)?[1-9][0-9]{2}-[1-9][0-9]{2}-[0-9]{4}\"\n",
    "strings=[\"Is this a phone number 1-234-123-3134 or not\",\n",
    "         \"Is this a phone number 456-234-1088 or not\",\n",
    "         \"Is this a phone number 0-131-143-4353 or not\"]\n",
    "for s in strings:\n",
    "    print(\"string = \" + s)\n",
    "    check_search(p,s)\n",
    "    print(\"\\n\")"
   ]
  },
  {
   "cell_type": "markdown",
   "metadata": {},
   "source": [
    "# Meta-characters  inside square brackets\n",
    "\n",
    "Inside square brackets, there are only some meta-characters that have special meaning. Others are interpreted as literal characters. \n",
    "\n",
    "The ones that do have meaning are the backslash \\\\, the hyphen -, circumflex ^ and the right square bracket (as a closing bracket for the character group).\n",
    "\n",
    "The circumflex only has special meaning when it appears immediately after the \\[ and it means \"not\" among these characters."
   ]
  },
  {
   "cell_type": "code",
   "execution_count": 216,
   "metadata": {},
   "outputs": [
    {
     "name": "stdout",
     "output_type": "stream",
     "text": [
      "string = Is that your pet?\n",
      "no match\n",
      "\n",
      "\n",
      "string = When I see you I get a funny feeling in the pit of my stomachAre you a pot-smoker?\n",
      "no match\n",
      "\n",
      "\n",
      "string = I've got to give you a pat on the back!\n",
      "no match\n",
      "\n",
      "\n",
      "string = Is 'pyt' a word?\n",
      "pattern matches from 4 to 7 with substring = pyt\n",
      "\n",
      "\n"
     ]
    }
   ],
   "source": [
    "import re\n",
    "p=\"p[^aeio]t?\"\n",
    "strings=[\"Is that your pet?\",\n",
    "     \"When I see you I get a funny feeling in the pit of my stomach\"\n",
    "    \"Are you a pot-smoker?\",\n",
    "    \"I've got to give you a pat on the back!\",\n",
    "        \"Is 'pyt' a word?\"]        \n",
    "for s in strings:\n",
    "    print(\"string = \" + s)\n",
    "    check_search(p,s)\n",
    "    print(\"\\n\")"
   ]
  },
  {
   "cell_type": "markdown",
   "metadata": {},
   "source": [
    "# The backslash: \\\n",
    "\n",
    "The backslash character is used to escape a special character in a regex pattern. So, for example, for searching for a +, you would need to do something like the followng."
   ]
  },
  {
   "cell_type": "code",
   "execution_count": 200,
   "metadata": {
    "scrolled": true
   },
   "outputs": [
    {
     "name": "stdout",
     "output_type": "stream",
     "text": [
      "string = 2+5=7\n",
      "pattern matches from 1 to 2 with substring = +\n",
      "\n",
      "\n",
      "string = To add two numbers, we use the '+' sign.\n",
      "pattern matches from 32 to 33 with substring = +\n",
      "\n",
      "\n"
     ]
    }
   ],
   "source": [
    "import re\n",
    "p=\"\\+\"\n",
    "strings=[\"2+5=7\",\"To add two numbers, we use the '+' sign.\"]\n",
    "for s in strings:\n",
    "    print(\"string = \" + s)\n",
    "    check_search(p,s)\n",
    "    print(\"\\n\")\n"
   ]
  },
  {
   "cell_type": "markdown",
   "metadata": {},
   "source": [
    "This ability to escape characters with special meaning inside square brackets applies too.  For example, suppose we want to match an expression like what mathematicians use to represent intervals with endpoints x, and y in the real line.\n",
    "\n",
    "For example, these are all matching expressions:\n",
    "\n",
    "    (x,y), (x,y], [x,y), [x,y]\n",
    "\n",
    "Here, we can use two character groups, one of these consists of ( and \\[, neither of which has any special meaning inside square brackets. The other has a \\] character in it, which needs to be escaped."
   ]
  },
  {
   "cell_type": "code",
   "execution_count": 14,
   "metadata": {},
   "outputs": [
    {
     "name": "stdout",
     "output_type": "stream",
     "text": [
      "string = Consider the open interval [x,y)\n",
      "pattern matches from 27 to 32 with substring = [x,y)\n",
      "\n",
      "\n",
      "string = Consider the closed interval [x,y]\n",
      "pattern matches from 29 to 34 with substring = [x,y]\n",
      "\n",
      "\n",
      "string = Or an interval closed on the left and open on the right like [x,y)\n",
      "pattern matches from 61 to 66 with substring = [x,y)\n",
      "\n",
      "\n"
     ]
    }
   ],
   "source": [
    "import re\n",
    "p=\"[([]x,y[)\\]]\"\n",
    "strings=[\"Consider the open interval [x,y)\",\"Consider the closed interval [x,y]\",\n",
    "         \"Or an interval closed on the left and open on the right like [x,y)\"]\n",
    "for s in strings:\n",
    "    print(\"string = \" + s)\n",
    "    check_search(p,s)\n",
    "    print(\"\\n\")"
   ]
  },
  {
   "cell_type": "markdown",
   "metadata": {},
   "source": [
    "Exercise: How to find all matches of expressions of the form: integer + integer = integer?"
   ]
  },
  {
   "cell_type": "markdown",
   "metadata": {},
   "source": [
    "# The pipe character: |\n",
    "\n",
    "The pipe character is for creating patterns in which one there are choices for matches. Either what is to the left of the | needs to match, or what is to the right of the | needs to match."
   ]
  },
  {
   "cell_type": "code",
   "execution_count": 227,
   "metadata": {},
   "outputs": [
    {
     "name": "stdout",
     "output_type": "stream",
     "text": [
      "string = Do dogs eat cats?\n",
      "pattern matches from 3 to 6 with substring = dog\n",
      "\n",
      "\n",
      "string = Do cats eat dogs?\n",
      "pattern matches from 3 to 6 with substring = cat\n",
      "\n",
      "\n"
     ]
    }
   ],
   "source": [
    "import re\n",
    "p=\"dog|cat\"\n",
    "strings=[\"Do dogs eat cats?\",\"Do cats eat dogs?\"]\n",
    "for s in strings:\n",
    "    print(\"string = \" + s)\n",
    "    check_search(p,s)\n",
    "    print(\"\\n\")\n"
   ]
  },
  {
   "cell_type": "code",
   "execution_count": 228,
   "metadata": {},
   "outputs": [
    {
     "name": "stdout",
     "output_type": "stream",
     "text": [
      "string = Do dogs eat bird?\n",
      "pattern matches from 3 to 6 with substring = dog\n",
      "\n",
      "\n",
      "string = Do birds eat cats?\n",
      "pattern matches from 3 to 7 with substring = bird\n",
      "\n",
      "\n"
     ]
    }
   ],
   "source": [
    "import re\n",
    "p=\"dog|cat|bird\"\n",
    "strings=[\"Do dogs eat bird?\",\"Do birds eat cats?\"]\n",
    "for s in strings:\n",
    "    print(\"string = \" + s)\n",
    "    check_search(p,s)\n",
    "    print(\"\\n\")\n"
   ]
  },
  {
   "cell_type": "markdown",
   "metadata": {},
   "source": [
    "We can do more with parentheses."
   ]
  },
  {
   "cell_type": "code",
   "execution_count": 235,
   "metadata": {},
   "outputs": [
    {
     "name": "stdout",
     "output_type": "stream",
     "text": [
      "string = It's a bird!\n",
      "pattern matches from 7 to 11 with substring = bird\n",
      "\n",
      "\n",
      "string = It's a plane!\n",
      "pattern matches from 7 to 12 with substring = plane\n",
      "\n",
      "\n",
      "string = No! It's superman!\n",
      "no match\n",
      "\n",
      "\n"
     ]
    }
   ],
   "source": [
    "import re\n",
    "p=\"(bird)|(plane)\"\n",
    "strings=[\"It's a bird!\", \"It's a plane!\", \"No! It's superman!\"]\n",
    "for s in strings:\n",
    "    print(\"string = \" + s)\n",
    "    check_search(p,s)\n",
    "    print(\"\\n\")\n"
   ]
  },
  {
   "cell_type": "markdown",
   "metadata": {},
   "source": [
    "How do we try to match any integer that is either 0 or which is expressed without 0 as its first digit?"
   ]
  },
  {
   "cell_type": "code",
   "execution_count": 242,
   "metadata": {},
   "outputs": [
    {
     "name": "stdout",
     "output_type": "stream",
     "text": [
      "string = f0\n",
      "no match\n",
      "\n",
      "\n",
      "string = 0\n",
      "pattern (^0$)|(^[1-9]+[0-9]*$)matches from 0 to 1 with substring = 0\n",
      "\n",
      "\n",
      "string = 035\n",
      "no match\n",
      "\n",
      "\n",
      "string = 1423452520\n",
      "pattern (^0$)|(^[1-9]+[0-9]*$)matches from 0 to 10 with substring = 1423452520\n",
      "\n",
      "\n"
     ]
    }
   ],
   "source": [
    "import re\n",
    "p=\"(^0$)|(^[1-9]+[0-9]*$)\"\n",
    "strings=[\"f0\",\"0\",\"035\",\"1423452520\"]\n",
    "for s in strings:\n",
    "    print(\"string = \" + s)\n",
    "    check_match(p,s)\n",
    "    print(\"\\n\")"
   ]
  },
  {
   "cell_type": "markdown",
   "metadata": {},
   "source": [
    "We have now said something about every meta-character.\n",
    "\n",
    "Progress!!!"
   ]
  },
  {
   "cell_type": "markdown",
   "metadata": {},
   "source": [
    "# How to create a string with a single literal slash?\n",
    "\n",
    "We want to talk about the special status of the backslash character, which we saw above can be used to escape the properties of a meta-character."
   ]
  },
  {
   "cell_type": "code",
   "execution_count": 219,
   "metadata": {},
   "outputs": [
    {
     "name": "stdout",
     "output_type": "stream",
     "text": [
      "\"\n"
     ]
    }
   ],
   "source": [
    "p=\"\\\"\"\n",
    "print(p)"
   ]
  },
  {
   "cell_type": "code",
   "execution_count": 221,
   "metadata": {},
   "outputs": [
    {
     "name": "stdout",
     "output_type": "stream",
     "text": [
      "\\\n"
     ]
    }
   ],
   "source": [
    "p=\"\\\\\"\n",
    "print(p)"
   ]
  },
  {
   "cell_type": "code",
   "execution_count": 223,
   "metadata": {},
   "outputs": [
    {
     "name": "stdout",
     "output_type": "stream",
     "text": [
      "\\\\\n"
     ]
    }
   ],
   "source": [
    "p=\"\\\\\\\\\"\n",
    "print(p)"
   ]
  },
  {
   "cell_type": "code",
   "execution_count": 226,
   "metadata": {},
   "outputs": [
    {
     "name": "stdout",
     "output_type": "stream",
     "text": [
      "\\\\\n",
      "\\n\n"
     ]
    }
   ],
   "source": [
    "p=r'\\\\'\n",
    "print(p)\n",
    "p=r'\\n'\n",
    "print(p)"
   ]
  },
  {
   "cell_type": "markdown",
   "metadata": {},
   "source": [
    "# Backslash Issues\n",
    "In regular expressions, care has to be taken when using a literal backslash (a backslash to be interpreted as a character) in a pattern.\n",
    "\n",
    "Things get a little bit complicated when dealing with the backslash for two reasons:\n",
    "\n",
    "1) it has special status in a pattern to create an escape\n",
    "\n",
    "2) when we put a backslash in a string we need to escape it to make it literal\n",
    "\n",
    "Let's first review how to get a backslash into a string."
   ]
  },
  {
   "cell_type": "markdown",
   "metadata": {},
   "source": [
    "Recall that the backslash is used by Python in various ways in string literals. For example,\n",
    "for new line \"\\n\", or to represent an ascii character using a hexadecimal value."
   ]
  },
  {
   "cell_type": "code",
   "execution_count": 172,
   "metadata": {},
   "outputs": [
    {
     "name": "stdout",
     "output_type": "stream",
     "text": [
      "C\n",
      "A\n",
      "T\n"
     ]
    }
   ],
   "source": [
    "txt=\"\\x43\\n\\x41\\n\\x54\"\n",
    "print(txt)"
   ]
  },
  {
   "cell_type": "markdown",
   "metadata": {},
   "source": [
    "So some care is required when using backslash in a pattern.\n",
    "\n",
    "Getting a backslash character in a string can be a slight challenge. The unicode code point for backslash is 005c (hexadecimal), i.e. 92 in decimal. We can also put a backslash in a string by escaping it with a backslash. We can also try to create a \"raw\" string with a single backslash but that fails because \\\" is interpreted as escaping the \" character. For this we need two backslashes."
   ]
  },
  {
   "cell_type": "code",
   "execution_count": 201,
   "metadata": {},
   "outputs": [
    {
     "name": "stdout",
     "output_type": "stream",
     "text": [
      "\\\n",
      "\\\n"
     ]
    },
    {
     "data": {
      "text/plain": [
       "True"
      ]
     },
     "execution_count": 201,
     "metadata": {},
     "output_type": "execute_result"
    }
   ],
   "source": [
    "str1=\"\\\\\"\n",
    "print(str1)\n",
    "str2=chr(92)\n",
    "print(str2)\n",
    "str1==str2"
   ]
  },
  {
   "cell_type": "markdown",
   "metadata": {},
   "source": [
    "When backslashes appear in patterns, they might be *interpreted* rather than taken literally."
   ]
  },
  {
   "cell_type": "code",
   "execution_count": 1,
   "metadata": {},
   "outputs": [
    {
     "name": "stdout",
     "output_type": "stream",
     "text": [
      "match\n"
     ]
    }
   ],
   "source": [
    "import re\n",
    "pattern=\"\\x43\"\n",
    "text=\"ABCDEF\"\n",
    "if re.search(pattern,text):\n",
    "    print(\"match\")"
   ]
  },
  {
   "cell_type": "markdown",
   "metadata": {},
   "source": [
    "The same goes for backslashes in text."
   ]
  },
  {
   "cell_type": "code",
   "execution_count": 2,
   "metadata": {},
   "outputs": [
    {
     "name": "stdout",
     "output_type": "stream",
     "text": [
      "match\n"
     ]
    }
   ],
   "source": [
    "import re\n",
    "pattern=\"\\x43\"\n",
    "text=\"AB\\x43DEF\"\n",
    "if re.search(pattern,text):\n",
    "    print(\"match\")"
   ]
  },
  {
   "cell_type": "code",
   "execution_count": 179,
   "metadata": {},
   "outputs": [
    {
     "name": "stdout",
     "output_type": "stream",
     "text": [
      "Roses are red,\n",
      "violets are blue,\n",
      "I stink at math\n",
      "How about You?\n"
     ]
    }
   ],
   "source": [
    "mytext=\"Roses are red,\\nviolets are blue,\\nI stink at math\\nHow about You?\"\n",
    "print(mytext)"
   ]
  },
  {
   "cell_type": "markdown",
   "metadata": {},
   "source": [
    "There will be instances in which the backslash needs to be treated literally rather than interpreted. In such cases, we are advised to use *raw* strings."
   ]
  },
  {
   "cell_type": "code",
   "execution_count": 181,
   "metadata": {},
   "outputs": [
    {
     "name": "stdout",
     "output_type": "stream",
     "text": [
      "in this raw string there is a backslash character (i.e. \\) appearing\n",
      "Roses are red,\\nviolets are blue,\\nI stink at math\\nHow about You?\n"
     ]
    }
   ],
   "source": [
    "text=r'in this raw string there is a backslash character (i.e. \\) appearing'\n",
    "print(text)\n",
    "mytext=r'Roses are red,\\nviolets are blue,\\nI stink at math\\nHow about You?'\n",
    "print(mytext)"
   ]
  },
  {
   "cell_type": "markdown",
   "metadata": {},
   "source": [
    "Now what about backslashes in patterns? If we want to search for the position of a period in some text, this won't work."
   ]
  },
  {
   "cell_type": "code",
   "execution_count": 205,
   "metadata": {},
   "outputs": [
    {
     "name": "stdout",
     "output_type": "stream",
     "text": [
      "string = Here is a sentence. Here is another sentence.\n",
      "pattern matches from 0 to 1 with substring = H\n",
      "\n",
      "\n"
     ]
    }
   ],
   "source": [
    "import re\n",
    "strings=[\"Here is a sentence. Here is another sentence.\"]\n",
    "p=\".\"\n",
    "for s in strings:\n",
    "    print(\"string = \" + s)\n",
    "    check_search(p,s)\n",
    "    print(\"\\n\")\n"
   ]
  },
  {
   "cell_type": "markdown",
   "metadata": {},
   "source": [
    "Rememeber that special characters inside []'s are taken as literally, i.e. they are not interpreted as having any special meaning."
   ]
  },
  {
   "cell_type": "code",
   "execution_count": 6,
   "metadata": {
    "scrolled": true
   },
   "outputs": [
    {
     "name": "stdout",
     "output_type": "stream",
     "text": [
      "8*9=72\n",
      "pattern matches from 1 to 2 with substring = *\n",
      "\n",
      "\n"
     ]
    }
   ],
   "source": [
    "import re\n",
    "p=\"[\\/*+]\"\n",
    "strings=[\"8*9=72\"]\n",
    "for s in strings:\n",
    "    print(s)\n",
    "    check_search(p,s)\n",
    "    print(\"\\n\")"
   ]
  },
  {
   "cell_type": "markdown",
   "metadata": {},
   "source": [
    "# Character classes\n",
    "\n",
    "As noted above, we can create our own character classes. There are also standard pre-defined character classes.\n",
    "\n",
    "Here is an example of one of these and the documentation from Python:\n",
    "\n",
    "\\d\n",
    "\n",
    "For Unicode (str) patterns:\n",
    "Matches any Unicode decimal digit (that is, any character in Unicode character category [Nd]). This includes [0-9], and also many other digit characters. If the ASCII flag is used only [0-9] is matched.\n",
    "\n",
    "For 8-bit (bytes) patterns: Matches any decimal digit; this is equivalent to [0-9]."
   ]
  },
  {
   "cell_type": "markdown",
   "metadata": {},
   "source": [
    "Let's see what kinds of matches can occur if we aren't careful. Now that you know all about unicode, you can appreciate what is going on!"
   ]
  },
  {
   "cell_type": "code",
   "execution_count": 14,
   "metadata": {},
   "outputs": [
    {
     "name": "stdout",
     "output_type": "stream",
     "text": [
      "Sometimes he behaves like a 2 year old\n",
      "pattern matches from 28 to 29 with substring = 2\n",
      "\n",
      "\n",
      "Really, because I thought he was actually a ੧ year old\n",
      "pattern matches from 44 to 45 with substring = ੧\n",
      "\n",
      "\n"
     ]
    }
   ],
   "source": [
    "import re\n",
    "b=b'\\xE0\\xA9\\xA7'\n",
    "x=b.decode()\n",
    "p=\"\\d\"\n",
    "strings=[\"Sometimes he behaves like a 2 year old\",\n",
    "        \"Really, because I thought he was actually a \"+x+\" year old\"]\n",
    "for s in strings:\n",
    "    print(s)\n",
    "    check_search(p,s)\n",
    "    print(\"\\n\")"
   ]
  },
  {
   "cell_type": "markdown",
   "metadata": {},
   "source": [
    "We get a match because that special character which we know how to write as a \n",
    "unicode character is considered part of the unicode numerical digit category.\n",
    "\n",
    "https://www.fileformat.info/info/unicode/category/Nd/list.htm"
   ]
  },
  {
   "cell_type": "markdown",
   "metadata": {},
   "source": [
    "If we want to only allow for the ascii characters 0,1,...,9, we need to set a flag."
   ]
  },
  {
   "cell_type": "code",
   "execution_count": 15,
   "metadata": {},
   "outputs": [
    {
     "name": "stdout",
     "output_type": "stream",
     "text": [
      "Sometimes he behaves like a 2 year old\n",
      "match\n",
      "\n",
      "\n",
      "Really, because I thought he was actually a ੧ year old\n",
      "no match\n",
      "\n",
      "\n"
     ]
    }
   ],
   "source": [
    "import re\n",
    "b=b'\\xE0\\xA9\\xA7'\n",
    "x=b.decode()\n",
    "p=\"\\d\"\n",
    "strings=[\"Sometimes he behaves like a 2 year old\",\n",
    "        \"Really, because I thought he was actually a \"+x+\" year old\"]\n",
    "for s in strings:\n",
    "    res=re.search(p,s,re.ASCII)\n",
    "    print(s)\n",
    "    if res:\n",
    "        print(\"match\")\n",
    "    else:\n",
    "        print(\"no match\")\n",
    "    print(\"\\n\")"
   ]
  },
  {
   "cell_type": "markdown",
   "metadata": {},
   "source": [
    "Here is a list of pre-defined character classes provided by the package:\n",
    "\n",
    "\\d Matches any decimal digit; \n",
    "    this is equivalent to the class [0-9].\n",
    "\n",
    "\\D Matches any non-digit character; \n",
    "    this is equivalent to the class [^0-9].\n",
    "\n",
    "\\s Matches any whitespace character; \n",
    "    this is equivalent to the class [ \\t\\n\\r\\f\\v].\n",
    "\n",
    "\\S Matches any non-whitespace character; \n",
    "    this is equivalent to the class [^ \\t\\n\\r\\f\\v].\n",
    "\n",
    "\\w Matches any alphanumeric character; \n",
    "    this is equivalent to the class [a-zA-Z0-9_].\n",
    "\n",
    "\\W Matches any non-alphanumeric character; \n",
    "    this is equivalent to the class [^a-zA-Z0-9_].\n",
    "    \n",
    "   "
   ]
  },
  {
   "cell_type": "markdown",
   "metadata": {},
   "source": [
    "We can put character classes inside of our own groups. So, for example, what does this do?\n",
    "\n",
    "    [\\w. ]+\n",
    "    \n",
    "    \n",
    "Again, we see that \\ retains its status as having special use inside []'s. "
   ]
  },
  {
   "cell_type": "code",
   "execution_count": 45,
   "metadata": {},
   "outputs": [
    {
     "name": "stdout",
     "output_type": "stream",
     "text": [
      "Sometimes he behaves like a 2 year old.\n",
      "pattern matches from 0 to 39 with substring = Sometimes he behaves like a 2 year old.\n",
      "\n",
      "\n",
      "Really, because I thought he was actually a 3 year old\n",
      "pattern matches from 0 to 6 with substring = Really\n",
      "\n",
      "\n"
     ]
    }
   ],
   "source": [
    "import re\n",
    "p=\"[\\w. ]+\"\n",
    "strings=[\"Sometimes he behaves like a 2 year old.\",\n",
    "        \"Really, because I thought he was actually a 3 year old\"]\n",
    "         \n",
    "for s in strings:\n",
    "    print(s)\n",
    "    check_search(p,s)\n",
    "    print(\"\\n\")"
   ]
  },
  {
   "cell_type": "markdown",
   "metadata": {},
   "source": [
    "# Anchors/word boundaries\n",
    "\n",
    "One final special term that can be useful is \\b which is used to say that we have word boundary. A word is a contiguous sequence of alphanumeric characters and its left-hand boundary can be:\n",
    "\n",
    "- no character if the sequence is the start of a string\n",
    "- a non-alphanumeric character\n",
    "\n",
    "and its right-hand boundary can be\n",
    "\n",
    "- no character if the sequence is the end of a string\n",
    "- a non-alphanumeric character\n",
    "\n",
    "Note: When you enter \\b in a Python string, this has special meaning as a backspace. So you need to escape the \\ or use a raw string.\n"
   ]
  },
  {
   "cell_type": "code",
   "execution_count": 50,
   "metadata": {},
   "outputs": [
    {
     "name": "stdout",
     "output_type": "stream",
     "text": [
      "Do you spell Sasha with a capital S?\n",
      "pattern matches from 13 to 18 with substring = Sasha\n",
      "\n",
      "\n",
      "Sasha is 8 years old\n",
      "pattern matches from 0 to 5 with substring = Sasha\n",
      "\n",
      "\n",
      "Do you know Sasha?\n",
      "pattern matches from 12 to 17 with substring = Sasha\n",
      "\n",
      "\n",
      "I know Sasha\n",
      "pattern matches from 7 to 12 with substring = Sasha\n",
      "\n",
      "\n",
      "I met her. Sasha is nice.\n",
      "pattern matches from 11 to 16 with substring = Sasha\n",
      "\n",
      "\n"
     ]
    }
   ],
   "source": [
    "import re\n",
    "p=\"\\\\bSasha\\\\b\"\n",
    "strings=[\"Do you spell Sasha with a capital S?\",\n",
    "        \"Sasha is 8 years old\",\n",
    "        \"Do you know Sasha?\",\n",
    "         \"I know Sasha\",\n",
    "        \"I met her. Sasha is nice.\"]\n",
    "for s in strings:\n",
    "    print(s)\n",
    "    check_search(p,s)\n",
    "    print(\"\\n\")"
   ]
  },
  {
   "cell_type": "markdown",
   "metadata": {},
   "source": [
    "# Named groups\n",
    "\n",
    "There are several advanced features that we won't discuss in detail here, but it is important to be aware of their existence. For example, we can define something to search for, then refer to the pattern found later on.\n",
    "\n",
    "In the following example, we define a group called \"pet\" that matches \"dog\", \"cat\" or \"bird\"\n",
    "\n",
    "(?P<pet>(dog|cat|bird))\n",
    "    \n",
    "and once a match occurs the term (?P=pet) refers to the match previouly found i.e. \"dog\" in the first example, and \"bird\" in the second example.   "
   ]
  },
  {
   "cell_type": "code",
   "execution_count": 36,
   "metadata": {},
   "outputs": [
    {
     "name": "stdout",
     "output_type": "stream",
     "text": [
      "Do you have a dog as a pet? I don't have a dog.\n",
      "pattern matches from 14 to 46 with substring = dog as a pet? I don't have a dog\n",
      "\n",
      "\n",
      "I really am not terribly fond of birds but wish my cat didn't hunt birds!\n",
      "pattern matches from 33 to 71 with substring = birds but wish my cat didn't hunt bird\n",
      "\n",
      "\n"
     ]
    }
   ],
   "source": [
    "import re\n",
    "x=b.decode()\n",
    "p=\"(?P<pet>(dog|cat|bird)).*(?P=pet)\"\n",
    "strings=[\"Do you have a dog as a pet? I don't have a dog.\",\n",
    "        \"I really am not terribly fond of birds but wish my cat didn't hunt birds!\"]\n",
    "for s in strings:\n",
    "    print(s)\n",
    "    check_search(p,s)\n",
    "    print(\"\\n\")"
   ]
  },
  {
   "cell_type": "markdown",
   "metadata": {},
   "source": [
    "# Compiling patterns"
   ]
  },
  {
   "cell_type": "code",
   "execution_count": 66,
   "metadata": {},
   "outputs": [
    {
     "name": "stdout",
     "output_type": "stream",
     "text": [
      "<re.Match object; span=(5, 8), match='dog'>\n",
      "<re.Match object; span=(6, 9), match='dog'>\n",
      "<re.Match object; span=(9, 13), match='bird'>\n"
     ]
    }
   ],
   "source": [
    "import re\n",
    "pattern=\"(dog|cat|bird)\"\n",
    "strings=[\"That dog sure looks like a catbird.\",\n",
    "         \"Whose dog is that anyway?\",\n",
    "         \"Let's go bird-watching with the dog but leave the cat at home.\"]\n",
    "pc=re.compile(pattern)\n",
    "for s in strings:\n",
    "    print(pc.search(s))"
   ]
  },
  {
   "cell_type": "markdown",
   "metadata": {},
   "source": [
    "# Finding all occurences"
   ]
  },
  {
   "cell_type": "markdown",
   "metadata": {},
   "source": [
    "We might want to identify all occurences of a pattern in a string. For this we can use findall."
   ]
  },
  {
   "cell_type": "code",
   "execution_count": 70,
   "metadata": {},
   "outputs": [
    {
     "data": {
      "text/plain": [
       "3"
      ]
     },
     "execution_count": 70,
     "metadata": {},
     "output_type": "execute_result"
    }
   ],
   "source": [
    "import re\n",
    "string=\"Mrs. Smith came home and said hello to Mr. Smith. He said to her,\"\n",
    "string=string+\" 'How did things go at the office today?' But Mrs. Smith did not answer.\"\n",
    "p=re.compile(\"Smith\")\n",
    "res=p.findall(text)\n",
    "len(res)"
   ]
  },
  {
   "cell_type": "markdown",
   "metadata": {},
   "source": [
    "The algorithm finds the first matching string, then tries to find the next match starting at the position after the match found. Do you see what the differences is between the following two examples?"
   ]
  },
  {
   "cell_type": "code",
   "execution_count": 82,
   "metadata": {},
   "outputs": [
    {
     "name": "stdout",
     "output_type": "stream",
     "text": [
      "[\"Mrs. Smith came home and said hello to Mr. Smith. He said to her, 'How did things go at the office today?' But Mrs. Smith\"]\n"
     ]
    }
   ],
   "source": [
    "import re\n",
    "string=\"Mrs. Smith came home and said hello to Mr. Smith. He said to her,\"\n",
    "string=string+\" 'How did things go at the office today?' But Mrs. Smith did not answer.\"\n",
    "p=re.compile(\"Mrs?.*Smith\")\n",
    "res=p.findall(text)\n",
    "len(res)\n",
    "print(res)"
   ]
  },
  {
   "cell_type": "code",
   "execution_count": 83,
   "metadata": {},
   "outputs": [
    {
     "name": "stdout",
     "output_type": "stream",
     "text": [
      "['Mrs. Smith', 'Mr. Smith', 'Mrs. Smith']\n"
     ]
    }
   ],
   "source": [
    "import re\n",
    "string=\"Mrs. Smith came home and said hello to Mr. Smith. He said to her,\"\n",
    "string=string+\" 'How did things go at the office today?' But Mrs. Smith did not answer.\"\n",
    "p=re.compile(\"Mrs?.*?Smith\")\n",
    "res=p.findall(text)\n",
    "len(res)\n",
    "print(res)"
   ]
  },
  {
   "cell_type": "code",
   "execution_count": 90,
   "metadata": {},
   "outputs": [
    {
     "name": "stdout",
     "output_type": "stream",
     "text": [
      "['aaabbb', 'aaabbb', 'abbbb', 'bbbaaaa']\n"
     ]
    }
   ],
   "source": [
    "import re\n",
    "string=\"aaabbb aaabbbabbbb bbbaaaa\"\n",
    "p=re.compile(\"a+b+|b+a+\")\n",
    "res=p.findall(string)\n",
    "len(res)\n",
    "print(res)"
   ]
  },
  {
   "cell_type": "markdown",
   "metadata": {},
   "source": [
    "We can get more information using the finditer function."
   ]
  },
  {
   "cell_type": "code",
   "execution_count": 112,
   "metadata": {},
   "outputs": [
    {
     "name": "stdout",
     "output_type": "stream",
     "text": [
      "position of match = (0, 10)\n",
      "substring = Mrs. Smith\n",
      "position of match = (39, 48)\n",
      "substring = Mr. Smith\n",
      "position of match = (111, 121)\n",
      "substring = Mrs. Smith\n"
     ]
    }
   ],
   "source": [
    "import re\n",
    "string=\"Mrs. Smith came home and said hello to Mr. Smith. He said to her,\"\n",
    "string=string+\" 'How did things go at the office today?' But Mrs. Smith did not answer.\"\n",
    "p=re.compile(\"Mrs?.*?Smith\")\n",
    "res=p.finditer(text)\n",
    "for x in res:\n",
    "    print(\"position of match = \" + str(x.span()))\n",
    "    start=x.span()[0]\n",
    "    end=x.span()[1]\n",
    "    print(\"substring = \" + string[start:end])\n",
    "        "
   ]
  },
  {
   "cell_type": "markdown",
   "metadata": {},
   "source": [
    "# Getting more information"
   ]
  },
  {
   "cell_type": "markdown",
   "metadata": {},
   "source": [
    "When we get a match we can recover the substrings making up groups in the pattern to be matched. Here, group() refers to the entire match."
   ]
  },
  {
   "cell_type": "code",
   "execution_count": 113,
   "metadata": {},
   "outputs": [
    {
     "name": "stdout",
     "output_type": "stream",
     "text": [
      "Students in financial math are smarter than anyone, I think.\n",
      "Students in financial math are smarter than anyone, I think.\n",
      "Students\n",
      "math\n",
      "smarter\n",
      "one\n"
     ]
    }
   ],
   "source": [
    "text = \"Students in financial math are smarter than anyone, I think.\"\n",
    "pattern = \"(St.*ts) .* (math).* are (.*) than .*(one).*\"\n",
    "m = re.match(pattern, text)\n",
    "print(m.group())\n",
    "for i in range(5):\n",
    "    print(m.group(i))"
   ]
  },
  {
   "cell_type": "markdown",
   "metadata": {},
   "source": [
    "We can determine the positions of those groups that match using the *regs* method which gives a tuple of tuples when a match occurs."
   ]
  },
  {
   "cell_type": "code",
   "execution_count": 155,
   "metadata": {},
   "outputs": [
    {
     "name": "stdout",
     "output_type": "stream",
     "text": [
      "((0, 60), (0, 8), (22, 26), (31, 38), (47, 50))\n",
      "<class 'tuple'>\n",
      "<class 'tuple'>\n",
      "Students in financial math are smarter than anyone, I think.\n",
      "Students\n",
      "math\n",
      "smarter\n",
      "one\n"
     ]
    }
   ],
   "source": [
    "text = \"Students in financial math are smarter than anyone, I think.\"\n",
    "pattern = \"(St.*ts) .* (math).* are (.*) than .*(one).*\"\n",
    "m = re.match( pattern, text, re.M|re.I)\n",
    "print(m.regs)\n",
    "print(type(m.regs))\n",
    "print(type(m.regs[2]))\n",
    "for i in range(len(m.regs)):\n",
    "    print(text[m.regs[i][0]:m.regs[i][1]])"
   ]
  },
  {
   "cell_type": "markdown",
   "metadata": {},
   "source": [
    "Similarly, we can use search to find locations of matching portions of a pattern."
   ]
  },
  {
   "cell_type": "code",
   "execution_count": 154,
   "metadata": {},
   "outputs": [
    {
     "name": "stdout",
     "output_type": "stream",
     "text": [
      "<class 'tuple'>\n",
      "<class 'tuple'>\n",
      "students in financial math are smarter than any\n",
      "students\n",
      "math\n",
      "any\n"
     ]
    }
   ],
   "source": [
    "text = \"I believe that students in financial math are smarter than anyone.\"\n",
    "pattern = \"(st.*ts) .* (math) .*(any)\"\n",
    "m = re.search(pattern, text)\n",
    "print(m.group(0))\n",
    "print(m.group(1))\n",
    "print(m.group(2))\n",
    "print(m.group(3))"
   ]
  },
  {
   "cell_type": "markdown",
   "metadata": {},
   "source": [
    "# Spltting strings\n",
    "\n",
    "We can split a line using a regular expression as a delimiter. The result is a list of substrings if there are matches."
   ]
  },
  {
   "cell_type": "code",
   "execution_count": 183,
   "metadata": {},
   "outputs": [
    {
     "data": {
      "text/plain": [
       "['this is th',\n",
       " ' crazi',\n",
       " 'st id',\n",
       " 'a you hav',\n",
       " ' ',\n",
       " 'v',\n",
       " 'r pr',\n",
       " 's',\n",
       " 'nt',\n",
       " 'd in all my y',\n",
       " 'ars']"
      ]
     },
     "execution_count": 183,
     "metadata": {},
     "output_type": "execute_result"
    }
   ],
   "source": [
    "import re\n",
    "text=\"this is the craziest idea you have ever presented in all my years\"\n",
    "pattern=\"e\"\n",
    "re.split(pattern,text)"
   ]
  },
  {
   "cell_type": "markdown",
   "metadata": {},
   "source": [
    "If there are no matches, then the output is a list with the whole string."
   ]
  },
  {
   "cell_type": "code",
   "execution_count": 184,
   "metadata": {},
   "outputs": [
    {
     "data": {
      "text/plain": [
       "['this is the craziest idea you have ever presented in all my years']"
      ]
     },
     "execution_count": 184,
     "metadata": {},
     "output_type": "execute_result"
    }
   ],
   "source": [
    "import re\n",
    "text=\"this is the craziest idea you have ever presented in all my years\"\n",
    "pattern=\"q\"\n",
    "re.split(pattern,text)"
   ]
  },
  {
   "cell_type": "markdown",
   "metadata": {},
   "source": [
    "If the start of the line matches, then the list starts with an empty string."
   ]
  },
  {
   "cell_type": "code",
   "execution_count": 182,
   "metadata": {},
   "outputs": [
    {
     "data": {
      "text/plain": [
       "['',\n",
       " 'Woke up from a dream. ',\n",
       " 'fell back asleep. ',\n",
       " 'woke up and felt refreshed.']"
      ]
     },
     "execution_count": 182,
     "metadata": {},
     "output_type": "execute_result"
    }
   ],
   "source": [
    "import re\n",
    "text=\"5AM: Woke up from a dream. 6AM: fell back asleep. 12PM: woke up and felt refreshed.\"\n",
    "pattern=\"\\d+[AP]M: \"\n",
    "re.split(pattern,text)\n"
   ]
  },
  {
   "cell_type": "markdown",
   "metadata": {
    "collapsed": true
   },
   "source": [
    "Final comments:\n",
    "1) How do we find all the \\newsection in text?\n",
    "2) Greedyness (.* vs .*?)\n",
    "3) Flags\n",
    "4) Compiling regex's"
   ]
  },
  {
   "cell_type": "code",
   "execution_count": 10,
   "metadata": {
    "collapsed": true
   },
   "outputs": [],
   "source": []
  },
  {
   "cell_type": "code",
   "execution_count": 14,
   "metadata": {},
   "outputs": [
    {
     "data": {
      "text/plain": [
       "<_sre.SRE_Match object; span=(0, 50), match='here is some text with \\\\newsection appearing in >"
      ]
     },
     "execution_count": 14,
     "metadata": {},
     "output_type": "execute_result"
    }
   ],
   "source": [
    "text=\"here is some text with \\\\newsection appearing in it\"\n",
    "pattern=\"he.*t\"\n",
    "re.search(pattern,text)"
   ]
  },
  {
   "cell_type": "code",
   "execution_count": 15,
   "metadata": {},
   "outputs": [
    {
     "data": {
      "text/plain": [
       "<_sre.SRE_Match object; span=(0, 14), match='here is some t'>"
      ]
     },
     "execution_count": 15,
     "metadata": {},
     "output_type": "execute_result"
    }
   ],
   "source": [
    "text=\"here is some text with \\\\newsection appearing in it\"\n",
    "pattern=\"he.*?t\"\n",
    "re.search(pattern,text)"
   ]
  },
  {
   "cell_type": "raw",
   "metadata": {},
   "source": [
    "re.search(pattern,text)"
   ]
  },
  {
   "cell_type": "code",
   "execution_count": 1,
   "metadata": {},
   "outputs": [],
   "source": []
  },
  {
   "cell_type": "code",
   "execution_count": 112,
   "metadata": {},
   "outputs": [
    {
     "name": "stdout",
     "output_type": "stream",
     "text": [
      "match\n",
      "0\n",
      "1\n"
     ]
    }
   ],
   "source": [
    "import re\n",
    "string=\"Here is a sentence. Here is another sentence.\"\n",
    "pattern=\".\"\n",
    "s=re.search(pattern, string)\n",
    "if s:\n",
    "    print(\"match\")\n",
    "else:\n",
    "    print(\"no match\")\n",
    "print(s.start())\n",
    "print(s.end())"
   ]
  },
  {
   "cell_type": "markdown",
   "metadata": {},
   "source": [
    "The problem is that the period in a pattern is a wild-card, meaning a match with any character (even a whitespace character).\n",
    "So we need to tell re to use a literal period, not a period with special meaning. We do this by escaping with the backslash."
   ]
  },
  {
   "cell_type": "code",
   "execution_count": 113,
   "metadata": {},
   "outputs": [
    {
     "name": "stdout",
     "output_type": "stream",
     "text": [
      "match\n",
      "18\n",
      "19\n"
     ]
    }
   ],
   "source": [
    "import re\n",
    "string=\"Here is a sentence. Here is another sentence.\"\n",
    "pattern=\"\\.\"\n",
    "s=re.search(pattern, string)\n",
    "if s:\n",
    "    print(\"match\")\n",
    "else:\n",
    "    print(\"no match\")\n",
    "print(s.start())\n",
    "print(s.end())"
   ]
  },
  {
   "cell_type": "markdown",
   "metadata": {},
   "source": [
    "So \\ has a special meaning in a pattern. So how do we search for the \\ character?"
   ]
  },
  {
   "cell_type": "code",
   "execution_count": 127,
   "metadata": {},
   "outputs": [
    {
     "ename": "SyntaxError",
     "evalue": "EOL while scanning string literal (<ipython-input-127-4a9273fc909b>, line 4)",
     "output_type": "error",
     "traceback": [
      "\u001b[1;36m  File \u001b[1;32m\"<ipython-input-127-4a9273fc909b>\"\u001b[1;36m, line \u001b[1;32m4\u001b[0m\n\u001b[1;33m    pattern=\"\\\"\u001b[0m\n\u001b[1;37m               ^\u001b[0m\n\u001b[1;31mSyntaxError\u001b[0m\u001b[1;31m:\u001b[0m EOL while scanning string literal\n"
     ]
    }
   ],
   "source": [
    "import re\n",
    "string=\"Here is a sentence that has a \\ in it. Here is another sentence.\"\n",
    "print(string)\n",
    "pattern=\"\\\"\n",
    "s=re.search(pattern, string)\n",
    "if s:\n",
    "    print(\"match\")\n",
    "else:\n",
    "    print(\"no match\")\n",
    "print(s.start())\n",
    "print(s.end())\n",
    "print(string[s.start()])"
   ]
  },
  {
   "cell_type": "markdown",
   "metadata": {},
   "source": [
    "This fails because the pattern isn't even well-defined as a string. The backslash is  escaping the \" which is what we would use if we wanted a string with a literal quote in it. But the string doesn't have an end quote. To get a string with just \" in it, we need to do this."
   ]
  },
  {
   "cell_type": "code",
   "execution_count": 128,
   "metadata": {},
   "outputs": [
    {
     "name": "stdout",
     "output_type": "stream",
     "text": [
      "\"\n"
     ]
    }
   ],
   "source": [
    "p=\"\\\"\"\n",
    "print(p)"
   ]
  },
  {
   "cell_type": "markdown",
   "metadata": {},
   "source": [
    "WHat about this?"
   ]
  },
  {
   "cell_type": "code",
   "execution_count": 130,
   "metadata": {},
   "outputs": [
    {
     "name": "stdout",
     "output_type": "stream",
     "text": [
      "Here is a sentence that has a \\ in it. Here is another sentence.\n",
      "\\\n"
     ]
    },
    {
     "ename": "error",
     "evalue": "bad escape (end of pattern) at position 0",
     "output_type": "error",
     "traceback": [
      "\u001b[1;31m---------------------------------------------------------------------------\u001b[0m",
      "\u001b[1;31merror\u001b[0m                                     Traceback (most recent call last)",
      "\u001b[1;32m<ipython-input-130-9d26dd61be9d>\u001b[0m in \u001b[0;36m<module>\u001b[1;34m()\u001b[0m\n\u001b[0;32m      4\u001b[0m \u001b[0mpattern\u001b[0m\u001b[1;33m=\u001b[0m\u001b[1;34m\"\\\\\"\u001b[0m\u001b[1;33m\u001b[0m\u001b[0m\n\u001b[0;32m      5\u001b[0m \u001b[0mprint\u001b[0m\u001b[1;33m(\u001b[0m\u001b[0mpattern\u001b[0m\u001b[1;33m)\u001b[0m\u001b[1;33m\u001b[0m\u001b[0m\n\u001b[1;32m----> 6\u001b[1;33m \u001b[0ms\u001b[0m\u001b[1;33m=\u001b[0m\u001b[0mre\u001b[0m\u001b[1;33m.\u001b[0m\u001b[0msearch\u001b[0m\u001b[1;33m(\u001b[0m\u001b[0mpattern\u001b[0m\u001b[1;33m,\u001b[0m \u001b[0mstring\u001b[0m\u001b[1;33m)\u001b[0m\u001b[1;33m\u001b[0m\u001b[0m\n\u001b[0m\u001b[0;32m      7\u001b[0m \u001b[1;32mif\u001b[0m \u001b[0ms\u001b[0m\u001b[1;33m:\u001b[0m\u001b[1;33m\u001b[0m\u001b[0m\n\u001b[0;32m      8\u001b[0m     \u001b[0mprint\u001b[0m\u001b[1;33m(\u001b[0m\u001b[1;34m\"match\"\u001b[0m\u001b[1;33m)\u001b[0m\u001b[1;33m\u001b[0m\u001b[0m\n",
      "\u001b[1;32m~\\Anaconda3\\lib\\re.py\u001b[0m in \u001b[0;36msearch\u001b[1;34m(pattern, string, flags)\u001b[0m\n\u001b[0;32m    181\u001b[0m     \"\"\"Scan through string looking for a match to the pattern, returning\n\u001b[0;32m    182\u001b[0m     a Match object, or None if no match was found.\"\"\"\n\u001b[1;32m--> 183\u001b[1;33m     \u001b[1;32mreturn\u001b[0m \u001b[0m_compile\u001b[0m\u001b[1;33m(\u001b[0m\u001b[0mpattern\u001b[0m\u001b[1;33m,\u001b[0m \u001b[0mflags\u001b[0m\u001b[1;33m)\u001b[0m\u001b[1;33m.\u001b[0m\u001b[0msearch\u001b[0m\u001b[1;33m(\u001b[0m\u001b[0mstring\u001b[0m\u001b[1;33m)\u001b[0m\u001b[1;33m\u001b[0m\u001b[0m\n\u001b[0m\u001b[0;32m    184\u001b[0m \u001b[1;33m\u001b[0m\u001b[0m\n\u001b[0;32m    185\u001b[0m \u001b[1;32mdef\u001b[0m \u001b[0msub\u001b[0m\u001b[1;33m(\u001b[0m\u001b[0mpattern\u001b[0m\u001b[1;33m,\u001b[0m \u001b[0mrepl\u001b[0m\u001b[1;33m,\u001b[0m \u001b[0mstring\u001b[0m\u001b[1;33m,\u001b[0m \u001b[0mcount\u001b[0m\u001b[1;33m=\u001b[0m\u001b[1;36m0\u001b[0m\u001b[1;33m,\u001b[0m \u001b[0mflags\u001b[0m\u001b[1;33m=\u001b[0m\u001b[1;36m0\u001b[0m\u001b[1;33m)\u001b[0m\u001b[1;33m:\u001b[0m\u001b[1;33m\u001b[0m\u001b[0m\n",
      "\u001b[1;32m~\\Anaconda3\\lib\\re.py\u001b[0m in \u001b[0;36m_compile\u001b[1;34m(pattern, flags)\u001b[0m\n\u001b[0;32m    284\u001b[0m     \u001b[1;32mif\u001b[0m \u001b[1;32mnot\u001b[0m \u001b[0msre_compile\u001b[0m\u001b[1;33m.\u001b[0m\u001b[0misstring\u001b[0m\u001b[1;33m(\u001b[0m\u001b[0mpattern\u001b[0m\u001b[1;33m)\u001b[0m\u001b[1;33m:\u001b[0m\u001b[1;33m\u001b[0m\u001b[0m\n\u001b[0;32m    285\u001b[0m         \u001b[1;32mraise\u001b[0m \u001b[0mTypeError\u001b[0m\u001b[1;33m(\u001b[0m\u001b[1;34m\"first argument must be string or compiled pattern\"\u001b[0m\u001b[1;33m)\u001b[0m\u001b[1;33m\u001b[0m\u001b[0m\n\u001b[1;32m--> 286\u001b[1;33m     \u001b[0mp\u001b[0m \u001b[1;33m=\u001b[0m \u001b[0msre_compile\u001b[0m\u001b[1;33m.\u001b[0m\u001b[0mcompile\u001b[0m\u001b[1;33m(\u001b[0m\u001b[0mpattern\u001b[0m\u001b[1;33m,\u001b[0m \u001b[0mflags\u001b[0m\u001b[1;33m)\u001b[0m\u001b[1;33m\u001b[0m\u001b[0m\n\u001b[0m\u001b[0;32m    287\u001b[0m     \u001b[1;32mif\u001b[0m \u001b[1;32mnot\u001b[0m \u001b[1;33m(\u001b[0m\u001b[0mflags\u001b[0m \u001b[1;33m&\u001b[0m \u001b[0mDEBUG\u001b[0m\u001b[1;33m)\u001b[0m\u001b[1;33m:\u001b[0m\u001b[1;33m\u001b[0m\u001b[0m\n\u001b[0;32m    288\u001b[0m         \u001b[1;32mif\u001b[0m \u001b[0mlen\u001b[0m\u001b[1;33m(\u001b[0m\u001b[0m_cache\u001b[0m\u001b[1;33m)\u001b[0m \u001b[1;33m>=\u001b[0m \u001b[0m_MAXCACHE\u001b[0m\u001b[1;33m:\u001b[0m\u001b[1;33m\u001b[0m\u001b[0m\n",
      "\u001b[1;32m~\\Anaconda3\\lib\\sre_compile.py\u001b[0m in \u001b[0;36mcompile\u001b[1;34m(p, flags)\u001b[0m\n\u001b[0;32m    762\u001b[0m     \u001b[1;32mif\u001b[0m \u001b[0misstring\u001b[0m\u001b[1;33m(\u001b[0m\u001b[0mp\u001b[0m\u001b[1;33m)\u001b[0m\u001b[1;33m:\u001b[0m\u001b[1;33m\u001b[0m\u001b[0m\n\u001b[0;32m    763\u001b[0m         \u001b[0mpattern\u001b[0m \u001b[1;33m=\u001b[0m \u001b[0mp\u001b[0m\u001b[1;33m\u001b[0m\u001b[0m\n\u001b[1;32m--> 764\u001b[1;33m         \u001b[0mp\u001b[0m \u001b[1;33m=\u001b[0m \u001b[0msre_parse\u001b[0m\u001b[1;33m.\u001b[0m\u001b[0mparse\u001b[0m\u001b[1;33m(\u001b[0m\u001b[0mp\u001b[0m\u001b[1;33m,\u001b[0m \u001b[0mflags\u001b[0m\u001b[1;33m)\u001b[0m\u001b[1;33m\u001b[0m\u001b[0m\n\u001b[0m\u001b[0;32m    765\u001b[0m     \u001b[1;32melse\u001b[0m\u001b[1;33m:\u001b[0m\u001b[1;33m\u001b[0m\u001b[0m\n\u001b[0;32m    766\u001b[0m         \u001b[0mpattern\u001b[0m \u001b[1;33m=\u001b[0m \u001b[1;32mNone\u001b[0m\u001b[1;33m\u001b[0m\u001b[0m\n",
      "\u001b[1;32m~\\Anaconda3\\lib\\sre_parse.py\u001b[0m in \u001b[0;36mparse\u001b[1;34m(str, flags, pattern)\u001b[0m\n\u001b[0;32m    920\u001b[0m     \u001b[1;31m# parse 're' pattern into list of (opcode, argument) tuples\u001b[0m\u001b[1;33m\u001b[0m\u001b[1;33m\u001b[0m\u001b[0m\n\u001b[0;32m    921\u001b[0m \u001b[1;33m\u001b[0m\u001b[0m\n\u001b[1;32m--> 922\u001b[1;33m     \u001b[0msource\u001b[0m \u001b[1;33m=\u001b[0m \u001b[0mTokenizer\u001b[0m\u001b[1;33m(\u001b[0m\u001b[0mstr\u001b[0m\u001b[1;33m)\u001b[0m\u001b[1;33m\u001b[0m\u001b[0m\n\u001b[0m\u001b[0;32m    923\u001b[0m \u001b[1;33m\u001b[0m\u001b[0m\n\u001b[0;32m    924\u001b[0m     \u001b[1;32mif\u001b[0m \u001b[0mpattern\u001b[0m \u001b[1;32mis\u001b[0m \u001b[1;32mNone\u001b[0m\u001b[1;33m:\u001b[0m\u001b[1;33m\u001b[0m\u001b[0m\n",
      "\u001b[1;32m~\\Anaconda3\\lib\\sre_parse.py\u001b[0m in \u001b[0;36m__init__\u001b[1;34m(self, string)\u001b[0m\n\u001b[0;32m    230\u001b[0m         \u001b[0mself\u001b[0m\u001b[1;33m.\u001b[0m\u001b[0mindex\u001b[0m \u001b[1;33m=\u001b[0m \u001b[1;36m0\u001b[0m\u001b[1;33m\u001b[0m\u001b[0m\n\u001b[0;32m    231\u001b[0m         \u001b[0mself\u001b[0m\u001b[1;33m.\u001b[0m\u001b[0mnext\u001b[0m \u001b[1;33m=\u001b[0m \u001b[1;32mNone\u001b[0m\u001b[1;33m\u001b[0m\u001b[0m\n\u001b[1;32m--> 232\u001b[1;33m         \u001b[0mself\u001b[0m\u001b[1;33m.\u001b[0m\u001b[0m__next\u001b[0m\u001b[1;33m(\u001b[0m\u001b[1;33m)\u001b[0m\u001b[1;33m\u001b[0m\u001b[0m\n\u001b[0m\u001b[0;32m    233\u001b[0m     \u001b[1;32mdef\u001b[0m \u001b[0m__next\u001b[0m\u001b[1;33m(\u001b[0m\u001b[0mself\u001b[0m\u001b[1;33m)\u001b[0m\u001b[1;33m:\u001b[0m\u001b[1;33m\u001b[0m\u001b[0m\n\u001b[0;32m    234\u001b[0m         \u001b[0mindex\u001b[0m \u001b[1;33m=\u001b[0m \u001b[0mself\u001b[0m\u001b[1;33m.\u001b[0m\u001b[0mindex\u001b[0m\u001b[1;33m\u001b[0m\u001b[0m\n",
      "\u001b[1;32m~\\Anaconda3\\lib\\sre_parse.py\u001b[0m in \u001b[0;36m__next\u001b[1;34m(self)\u001b[0m\n\u001b[0;32m    244\u001b[0m             \u001b[1;32mexcept\u001b[0m \u001b[0mIndexError\u001b[0m\u001b[1;33m:\u001b[0m\u001b[1;33m\u001b[0m\u001b[0m\n\u001b[0;32m    245\u001b[0m                 raise error(\"bad escape (end of pattern)\",\n\u001b[1;32m--> 246\u001b[1;33m                             self.string, len(self.string) - 1) from None\n\u001b[0m\u001b[0;32m    247\u001b[0m         \u001b[0mself\u001b[0m\u001b[1;33m.\u001b[0m\u001b[0mindex\u001b[0m \u001b[1;33m=\u001b[0m \u001b[0mindex\u001b[0m \u001b[1;33m+\u001b[0m \u001b[1;36m1\u001b[0m\u001b[1;33m\u001b[0m\u001b[0m\n\u001b[0;32m    248\u001b[0m         \u001b[0mself\u001b[0m\u001b[1;33m.\u001b[0m\u001b[0mnext\u001b[0m \u001b[1;33m=\u001b[0m \u001b[0mchar\u001b[0m\u001b[1;33m\u001b[0m\u001b[0m\n",
      "\u001b[1;31merror\u001b[0m: bad escape (end of pattern) at position 0"
     ]
    }
   ],
   "source": [
    "import re\n",
    "string=\"Here is a sentence that has a \\ in it. Here is another sentence.\"\n",
    "print(string)\n",
    "pattern=\"\\\\\"\n",
    "print(pattern)\n",
    "s=re.search(pattern, string)\n",
    "if s:\n",
    "    print(\"match\")\n",
    "else:\n",
    "    print(\"no match\")\n",
    "print(s.start())\n",
    "print(s.end())\n",
    "print(string[s.start()])"
   ]
  },
  {
   "cell_type": "markdown",
   "metadata": {},
   "source": [
    "This fails because a pattern that just has a \\ in it and \\ has a special meaning in regular expression patterns. So we need to tell re that this character is not meant to be a \"meta\" character. We need to escape this for this purpose, so we actually need to use 4 backslashes. \\\\ for the first literal backslash and \\\\ for the second one.\n",
    "\n",
    "The following works just fine."
   ]
  },
  {
   "cell_type": "code",
   "execution_count": 131,
   "metadata": {},
   "outputs": [
    {
     "name": "stdout",
     "output_type": "stream",
     "text": [
      "Here is a sentence that has a \\ in it. Here is another sentence.\n",
      "\\\\\n",
      "match\n",
      "30\n",
      "31\n",
      "\\\n"
     ]
    }
   ],
   "source": [
    "import re\n",
    "string=\"Here is a sentence that has a \\ in it. Here is another sentence.\"\n",
    "print(string)\n",
    "pattern=\"\\\\\\\\\"\n",
    "print(pattern)\n",
    "s=re.search(pattern, string)\n",
    "if s:\n",
    "    print(\"match\")\n",
    "else:\n",
    "    print(\"no match\")\n",
    "print(s.start())\n",
    "print(s.end())\n",
    "print(string[s.start()])"
   ]
  }
 ],
 "metadata": {
  "kernelspec": {
   "display_name": "Python 3",
   "language": "python",
   "name": "python3"
  },
  "language_info": {
   "codemirror_mode": {
    "name": "ipython",
    "version": 3
   },
   "file_extension": ".py",
   "mimetype": "text/x-python",
   "name": "python",
   "nbconvert_exporter": "python",
   "pygments_lexer": "ipython3",
   "version": "3.7.1"
  }
 },
 "nbformat": 4,
 "nbformat_minor": 2
}
