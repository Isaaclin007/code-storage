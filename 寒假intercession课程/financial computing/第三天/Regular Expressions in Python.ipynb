{
 "cells": [
  {
   "cell_type": "markdown",
   "metadata": {},
   "source": [
    "## Introduction to Regular Expressions (regex's)"
   ]
  },
  {
   "cell_type": "markdown",
   "metadata": {},
   "source": [
    "There is a nice basic regular expressions tutorial here \n",
    "\n",
    "https://regexone.com/references/python (click on Interactive Tutorial)\n",
    "\n",
    "The Python 3 documentation:\n",
    "\n",
    "https://docs.python.org/3/library/re.html\n",
    "\n",
    "This is also a nice helpful tutorial:\n",
    "\n",
    "https://www.tutorialspoint.com/python3/python_reg_expressions.htm\n",
    "\n",
    "One more:\n",
    "\n",
    "https://docs.python.org/3.6/howto/regex.html\n",
    "\n",
    "And there is a link to a book\n",
    "\n",
    "https://www.princeton.edu/~mlovett/reference/Regular-Expressions.pdf"
   ]
  },
  {
   "cell_type": "markdown",
   "metadata": {},
   "source": [
    "Some of the most common tasks for regex's are:\n",
    "\n",
    "1) determine whether a certain pattern of text matches some substring of a string starting at the beginning of the string - and return the size of the substring that matches the pattern\n",
    "\n",
    "2) determine whether a pattern matches some substring anywhere in the string, and return the location of the match in the string\n",
    "\n",
    "3) find all locations in a string where a pattern mathes"
   ]
  },
  {
   "cell_type": "markdown",
   "metadata": {},
   "source": [
    "A regular expression consists of ordinary characters and special characters. The simplest form of regular expression consists of a single (non-special) character.\n",
    "\n",
    "We can combine regular expressions by concatenating them. Thus, if A is a regular expression and B is a regular expression, so is AB.\n",
    "\n",
    "For example, an ordinary character is a regular expression, so \"d\" is a regular expression. So is \"a\" and so is \"n\", so \"dan\" is a regular expression."
   ]
  },
  {
   "cell_type": "markdown",
   "metadata": {},
   "source": [
    "Here is a simple example of regular expression matching i.e. determining whether the initial portion of a string matches the pattern. If we get a match, we print a message confirming it and provide some range information.\n",
    "\n",
    "We use \"match\" to do the match. When we get a match, the function returns a pair that gives the \"span\" of the match, i.e. the start and end positions."
   ]
  },
  {
   "cell_type": "code",
   "execution_count": 48,
   "metadata": {},
   "outputs": [
    {
     "name": "stdout",
     "output_type": "stream",
     "text": [
      "matches\n",
      "0\n",
      "2\n",
      "(0, 2)\n",
      "Is\n"
     ]
    }
   ],
   "source": [
    "import re\n",
    "pattern='Is'\n",
    "string=\"Is there a match?\"\n",
    "m=re.match(pattern,string)\n",
    "if m:\n",
    "    print(\"matches\")\n",
    "    print(m.start())\n",
    "    print(m.end())\n",
    "    print(m.span())\n",
    "    print(string[m.start():m.end()])\n",
    "else:\n",
    "    print(\"doesn't match\")"
   ]
  },
  {
   "cell_type": "markdown",
   "metadata": {},
   "source": [
    "We can also use re to match byte objects. However, when we do that, we have to use byte objects to match byte objects. We can't mix the two types of strings."
   ]
  },
  {
   "cell_type": "code",
   "execution_count": 49,
   "metadata": {},
   "outputs": [
    {
     "name": "stdout",
     "output_type": "stream",
     "text": [
      "matches\n",
      "0\n",
      "3\n",
      "(0, 3)\n",
      "b' 0@'\n"
     ]
    }
   ],
   "source": [
    "import re\n",
    "pattern=b'\\x20\\x30\\x40'\n",
    "string=b'\\x20\\x30\\x40\\x20\\x30\\x40'\n",
    "m=re.match(pattern,string)\n",
    "if m:\n",
    "    print(\"matches\")\n",
    "    print(m.start())\n",
    "    print(m.end())\n",
    "    print(m.span())\n",
    "    print(string[m.start():m.end()])\n",
    "else:\n",
    "    print(\"doesn't match\")"
   ]
  },
  {
   "cell_type": "markdown",
   "metadata": {},
   "source": [
    "For a match the pattern is required to match the initial portion of the string."
   ]
  },
  {
   "cell_type": "code",
   "execution_count": 50,
   "metadata": {},
   "outputs": [
    {
     "name": "stdout",
     "output_type": "stream",
     "text": [
      "doesn't match\n"
     ]
    }
   ],
   "source": [
    "import re\n",
    "pattern='match'\n",
    "string=\"A match must occur with the initial portion of the string.\"\n",
    "m=re.match(pattern,string)\n",
    "if m:\n",
    "    print(\"matches\")\n",
    "    print(m.start())\n",
    "    print(m.end())\n",
    "    print(m.span())\n",
    "    print(string[m.start():m.end()])\n",
    "else:\n",
    "    print(\"doesn't match\")"
   ]
  },
  {
   "cell_type": "code",
   "execution_count": 51,
   "metadata": {},
   "outputs": [
    {
     "name": "stdout",
     "output_type": "stream",
     "text": [
      "doesn't match\n"
     ]
    }
   ],
   "source": [
    "import re\n",
    "pattern='m'\n",
    "string=\"Matches are case-sensitive by default.\"\n",
    "m=re.match(pattern,string)\n",
    "if m:\n",
    "    print(\"matches\")\n",
    "    print(m.start())\n",
    "    print(m.end())\n",
    "    print(m.span())\n",
    "    print(string[m.start():m.end()])\n",
    "else:\n",
    "    print(\"doesn't match\")"
   ]
  },
  {
   "cell_type": "markdown",
   "metadata": {},
   "source": [
    "We can turn off case-sensitivity using the \"I\" flag."
   ]
  },
  {
   "cell_type": "code",
   "execution_count": 52,
   "metadata": {},
   "outputs": [
    {
     "name": "stdout",
     "output_type": "stream",
     "text": [
      "matches\n",
      "0\n",
      "1\n",
      "(0, 1)\n",
      "M\n"
     ]
    }
   ],
   "source": [
    "import re\n",
    "pattern='m'\n",
    "string=\"Matches are case-sensitive by default.\"\n",
    "m=re.match(pattern,string,re.I)\n",
    "if m:\n",
    "    print(\"matches\")\n",
    "    print(m.start())\n",
    "    print(m.end())\n",
    "    print(m.span())\n",
    "    print(string[m.start():m.end()])\n",
    "else:\n",
    "    print(\"doesn't match\")"
   ]
  },
  {
   "cell_type": "markdown",
   "metadata": {},
   "source": [
    "On the other hand, we can **search** for a pattern appearing in any position in text using \"search\"."
   ]
  },
  {
   "cell_type": "code",
   "execution_count": 53,
   "metadata": {},
   "outputs": [
    {
     "name": "stdout",
     "output_type": "stream",
     "text": [
      "pattern found\n",
      "3\n",
      "6\n",
      "(3, 6)\n",
      "dog\n"
     ]
    }
   ],
   "source": [
    "import re\n",
    "pattern=\"dog\"\n",
    "string=\"My dog is named Sasha\"\n",
    "s=re.search(pattern,string)\n",
    "if s:\n",
    "    print(\"pattern found\")\n",
    "    print(s.start())\n",
    "    print(s.end())\n",
    "    print(s.span())\n",
    "    print(string[s.start():s.end()])\n",
    "else:\n",
    "    print(\"doesn't match\")"
   ]
  },
  {
   "cell_type": "markdown",
   "metadata": {},
   "source": [
    "When we get no match, the value returned is None."
   ]
  },
  {
   "cell_type": "code",
   "execution_count": 54,
   "metadata": {},
   "outputs": [
    {
     "name": "stdout",
     "output_type": "stream",
     "text": [
      "no match\n",
      "<re.Match object; span=(0, 1), match='M'>\n",
      "we get none\n"
     ]
    }
   ],
   "source": [
    "import re\n",
    "text=\"My name is Joan.\"\n",
    "pattern=\"John\"\n",
    "s=re.search(pattern,text)\n",
    "if s:\n",
    "    print(\"found a match\")\n",
    "else:\n",
    "    print(\"no match\")\n",
    "    print(m)\n",
    "if s==None:\n",
    "    print(\"we get none\")"
   ]
  },
  {
   "cell_type": "markdown",
   "metadata": {},
   "source": [
    "When we use the search method, the information we get back is about the first match."
   ]
  },
  {
   "cell_type": "code",
   "execution_count": 55,
   "metadata": {},
   "outputs": [
    {
     "name": "stdout",
     "output_type": "stream",
     "text": [
      "pattern found\n",
      "John\n"
     ]
    }
   ],
   "source": [
    "import re\n",
    "text=\"My name is John. Are you also John?\"\n",
    "pattern=\"John\"\n",
    "s=re.search(pattern,text)\n",
    "if s:\n",
    "    print(\"pattern found\")\n",
    "    print(text[s.start():s.end()])\n",
    "else:\n",
    "    print(\"no match\")"
   ]
  },
  {
   "cell_type": "markdown",
   "metadata": {},
   "source": [
    "We can also search for special characters."
   ]
  },
  {
   "cell_type": "code",
   "execution_count": 56,
   "metadata": {},
   "outputs": [
    {
     "name": "stdout",
     "output_type": "stream",
     "text": [
      "found a match\n",
      "<class 're.Match'>\n",
      "<re.Match object; span=(18, 19), match='\\n'>\n",
      "\n",
      "\n"
     ]
    }
   ],
   "source": [
    "import re\n",
    "text=\"What is your name?\\n\\r My name is John.\"\n",
    "pattern=\"\\n\"\n",
    "m=re.search(pattern,text)\n",
    "if m:\n",
    "    print(\"found a match\")\n",
    "    print(type(m))\n",
    "    print(m)\n",
    "    print(text[m.start():m.end()])\n",
    "else:\n",
    "    print(\"no match\")"
   ]
  },
  {
   "cell_type": "markdown",
   "metadata": {},
   "source": [
    "# Some simple functions\n",
    "\n",
    "Instead of repeating the same code over and over, let's create a couple of functions that do what we did in the above examples."
   ]
  },
  {
   "cell_type": "code",
   "execution_count": 57,
   "metadata": {},
   "outputs": [
    {
     "name": "stdout",
     "output_type": "stream",
     "text": [
      "no match\n",
      "pattern Mmatches from 0 to 1 with substring = M\n",
      "pattern matches from 3 to 6 with substring = dog\n"
     ]
    }
   ],
   "source": [
    "def check_match(pattern, string): \n",
    "    m=re.match(pattern,string)\n",
    "    if m:\n",
    "        pos0=m.start()\n",
    "        pos1=m.end()\n",
    "        print(\"pattern \" + pattern + \n",
    "              \"matches from \" + str(pos0) + \" to \" \n",
    "              + str(pos1) + \" with substring = \" \n",
    "              + string[m.start():m.end()])\n",
    "    else:\n",
    "        print(\"no match\")   \n",
    "check_match(\"dog\",\"My dog\")\n",
    "check_match(\"M\",\"My dog\")\n",
    "\n",
    "def check_search(pattern, string): \n",
    "    s=re.search(pattern,string)\n",
    "    if s:\n",
    "        pos0=s.start()\n",
    "        pos1=s.end()\n",
    "        print(\"pattern matches from \" + str(pos0) + \" to \" + str(pos1) + \" with substring = \" \n",
    "              + string[s.start():s.end()])\n",
    "    else:\n",
    "        print(\"no match\")   \n",
    "check_search(\"dog\",\"My dog at my homework.\")"
   ]
  },
  {
   "cell_type": "markdown",
   "metadata": {},
   "source": [
    "# Iterating over lists"
   ]
  },
  {
   "cell_type": "code",
   "execution_count": 58,
   "metadata": {},
   "outputs": [
    {
     "name": "stdout",
     "output_type": "stream",
     "text": [
      "What a beautiful day to be learning regex.\n",
      "pattern matches from 21 to 23 with substring = to\n",
      "\n",
      "\n",
      "I feel so fortunate to have Dr. Miller as a mentor.\n",
      "pattern matches from 20 to 22 with substring = to\n",
      "\n",
      "\n",
      "What a powerful thing, to be able to match patterns in strings!\n",
      "pattern matches from 23 to 25 with substring = to\n",
      "\n",
      "\n"
     ]
    }
   ],
   "source": [
    "strings=[\"What a beautiful day to be learning regex.\", \n",
    "         \"I feel so fortunate to have Dr. Miller as a mentor.\", \n",
    "         \"What a powerful thing, to be able to match patterns in strings!\"]\n",
    "p=\"to\"\n",
    "for s in strings:\n",
    "    print(s)\n",
    "    check_search(p,s)\n",
    "    print(\"\\n\")"
   ]
  },
  {
   "cell_type": "markdown",
   "metadata": {},
   "source": [
    "## Special characters"
   ]
  },
  {
   "cell_type": "markdown",
   "metadata": {},
   "source": [
    "Asou can imagine, without further tools this is rather limited in what can be done. Additional functionality is obtained using  characters with special meanings in our patterns. \n",
    "\n",
    "These special characters are referred to as meta-characters. Here is a list of them:\n",
    "\n",
    ". ^ $ * + ? { } [ ] \\ | ( )\n",
    "\n",
    "We will proceed to describe the uses of these characters in patterns."
   ]
  },
  {
   "cell_type": "markdown",
   "metadata": {},
   "source": [
    "# The dot/period: ."
   ]
  },
  {
   "cell_type": "markdown",
   "metadata": {},
   "source": [
    "By default, the period (.) means any single character except newline \"\\n\" by default."
   ]
  },
  {
   "cell_type": "code",
   "execution_count": 59,
   "metadata": {},
   "outputs": [
    {
     "name": "stdout",
     "output_type": "stream",
     "text": [
      "searching for pattern d.n in string = dan\n",
      "pattern matches from 0 to 3 with substring = dan\n",
      "\n",
      "\n",
      "searching for pattern d.n in string = don\n",
      "pattern matches from 0 to 3 with substring = don\n",
      "\n",
      "\n",
      "searching for pattern d.n in string = dn\n",
      "no match\n",
      "\n",
      "\n",
      "searching for pattern d.n in string = d\n",
      "n\n",
      "no match\n",
      "\n",
      "\n"
     ]
    }
   ],
   "source": [
    "import re\n",
    "p=\"d.n\"\n",
    "strings=[\"dan\",\"don\",\"dn\",\"d\\nn\"]\n",
    "for s in strings:\n",
    "    print(\"searching for pattern \" + p + \" in string = \" + s)\n",
    "    check_search(p,s)\n",
    "    print(\"\\n\")"
   ]
  },
  {
   "cell_type": "markdown",
   "metadata": {},
   "source": [
    "If we want \".\" to be interpreted as any single character, including the \n",
    "newline character, we use the DOTALL flag. So in the following example, \n",
    "we do indeed get a match."
   ]
  },
  {
   "cell_type": "code",
   "execution_count": 60,
   "metadata": {},
   "outputs": [
    {
     "name": "stdout",
     "output_type": "stream",
     "text": [
      "found!\n"
     ]
    }
   ],
   "source": [
    "import re\n",
    "p=\"d.n\"\n",
    "string=\"d\\nn\"\n",
    "if re.search(p,string,re.DOTALL):\n",
    "    print(\"found!\")"
   ]
  },
  {
   "cell_type": "markdown",
   "metadata": {},
   "source": [
    "# The circumflex character: ^"
   ]
  },
  {
   "cell_type": "markdown",
   "metadata": {},
   "source": [
    "The ^ character is used to indicate that the pattern must appear in the start of a string."
   ]
  },
  {
   "cell_type": "code",
   "execution_count": 61,
   "metadata": {},
   "outputs": [
    {
     "name": "stdout",
     "output_type": "stream",
     "text": [
      "string = John, are you home?\n",
      "pattern matches from 0 to 4 with substring = John\n",
      "\n",
      "\n",
      "string = Joan, are you home?\n",
      "pattern matches from 0 to 4 with substring = Joan\n",
      "\n",
      "\n",
      "string = Hey, has anybody seen John or Joan around?\n",
      "no match\n",
      "\n",
      "\n"
     ]
    }
   ],
   "source": [
    "import re\n",
    "p=\"^Jo.n\"\n",
    "strings=[\"John, are you home?\",\"Joan, are you home?\",\"Hey, has anybody seen John or Joan around?\"]\n",
    "for s in strings:\n",
    "    print(\"string = \" + s)\n",
    "    check_search(p,s)\n",
    "    print(\"\\n\")"
   ]
  },
  {
   "cell_type": "markdown",
   "metadata": {},
   "source": [
    "# The dollar-sign: $\n",
    "\n",
    "$ matches the end of the string, or just before the new line at the end of the string."
   ]
  },
  {
   "cell_type": "code",
   "execution_count": 62,
   "metadata": {},
   "outputs": [
    {
     "name": "stdout",
     "output_type": "stream",
     "text": [
      "string = Is that my dog?\n",
      "pattern matches from 11 to 15 with substring = dog?\n",
      "\n",
      "\n",
      "string = My dog seems to be missing.\n",
      "no match\n",
      "\n",
      "\n",
      "string = Hey, look at my dog.\n",
      "pattern matches from 16 to 20 with substring = dog.\n",
      "\n",
      "\n"
     ]
    }
   ],
   "source": [
    "import re\n",
    "p=\"dog.$\"\n",
    "strings=[\"Is that my dog?\", \"My dog seems to be missing.\",\"Hey, look at my dog.\"]\n",
    "for s in strings:\n",
    "    print(\"string = \" + s)\n",
    "    check_search(p,s)\n",
    "    print(\"\\n\")\n"
   ]
  },
  {
   "cell_type": "markdown",
   "metadata": {},
   "source": [
    "# The asterisk: *"
   ]
  },
  {
   "cell_type": "markdown",
   "metadata": {},
   "source": [
    "The * makes the preceding regular expression appear as many times as possible and looks for the most repeitions possible.  In the following, the preceding regular expression is the letter \"a\". Note that search continues until the first match start is found, but the search finds the largest match starting at that point. \n",
    "\n",
    "This is what is meant by regex searching being greedy. It looks for a match starting as early as possible in a string, but it looks for the string that is as long as possible and still matches.\n",
    "\n",
    "In the following, the pattern matches the first appearance of \"dan\" but the whole string from that first \"dan\" to the end also gives a match, so that is the one produced by re.search()."
   ]
  },
  {
   "cell_type": "code",
   "execution_count": 63,
   "metadata": {},
   "outputs": [
    {
     "name": "stdout",
     "output_type": "stream",
     "text": [
      "string = Hi Doris!\n",
      "pattern matches from 3 to 6 with substring = Dor\n",
      "\n",
      "\n",
      "string = Are you a Dr.?\n",
      "pattern matches from 10 to 12 with substring = Dr\n",
      "\n",
      "\n",
      "string = Doors should not be left opened.\n",
      "pattern matches from 0 to 4 with substring = Door\n",
      "\n",
      "\n"
     ]
    }
   ],
   "source": [
    "import re\n",
    "p=\"Do*r\"\n",
    "strings=[\"Hi Doris!\",\"Are you a Dr.?\",\"Doors should not be left opened.\"]\n",
    "for s in strings:\n",
    "    print(\"string = \" + s)\n",
    "    check_search(p,s)\n",
    "    print(\"\\n\")\n"
   ]
  },
  {
   "cell_type": "markdown",
   "metadata": {},
   "source": [
    "# The plus sign: +\n",
    "\n",
    "The + symbol means match 1 or more repetitions of the preceding expression, so unlike the *, we need to have the preceding expression appear at least once to get a match."
   ]
  },
  {
   "cell_type": "code",
   "execution_count": 64,
   "metadata": {},
   "outputs": [
    {
     "name": "stdout",
     "output_type": "stream",
     "text": [
      "string = Cats are not like dogs!\n",
      "pattern matches from 0 to 2 with substring = Ca\n",
      "\n",
      "\n",
      "string = Could you come here?\n",
      "no match\n",
      "\n",
      "\n",
      "string = Caanan is spoken about in the bible\n",
      "pattern matches from 0 to 3 with substring = Caa\n",
      "\n",
      "\n"
     ]
    }
   ],
   "source": [
    "import re\n",
    "p=\"Ca+\"\n",
    "strings=[\"Cats are not like dogs!\",\"Could you come here?\",\"Caanan is spoken about in the bible\"]\n",
    "for s in strings:\n",
    "    print(\"string = \" + s)\n",
    "    check_search(p,s)\n",
    "    print(\"\\n\")\n",
    "\n"
   ]
  },
  {
   "cell_type": "markdown",
   "metadata": {},
   "source": [
    "# The question mark: ?\n",
    "\n",
    "One use of the ? character is obtained by putting it after a regular expession, which means match exactly 0 or 1 repetitions of that expression.  In other words, it indicates that the expression is optional. For an example of its use, english spellings in the U.K. can differ from english spellings in the U.S.. For example, in the U.S. we would use \"humor\" and in  the U.K. they would write \"humour\". We can test for either word matching using this:"
   ]
  },
  {
   "cell_type": "code",
   "execution_count": 65,
   "metadata": {},
   "outputs": [
    {
     "name": "stdout",
     "output_type": "stream",
     "text": [
      "string = Americans are known for their great sense of humor\n",
      "pattern matches from 45 to 50 with substring = humor\n",
      "\n",
      "\n",
      "string = Brish people generally lack a sense of humour\n",
      "pattern matches from 39 to 45 with substring = humour\n",
      "\n",
      "\n"
     ]
    }
   ],
   "source": [
    "import re\n",
    "p=\"humou?r\"\n",
    "strings=[\"Americans are known for their great sense of humor\",\"Brish people generally lack a sense of humour\"]\n",
    "for s in strings:\n",
    "    print(\"string = \" + s)\n",
    "    check_search(p,s)\n",
    "    print(\"\\n\")"
   ]
  },
  {
   "cell_type": "markdown",
   "metadata": {},
   "source": [
    "Another use of the ? character is in creating a lazy instead of greedy attempt at matching, as discussed below."
   ]
  },
  {
   "cell_type": "markdown",
   "metadata": {},
   "source": [
    "# Use of braces: {}\n",
    "\n",
    "Braces are used to indicate the number of times an expression appears, or a range of numbers of times."
   ]
  },
  {
   "cell_type": "code",
   "execution_count": 66,
   "metadata": {},
   "outputs": [
    {
     "name": "stdout",
     "output_type": "stream",
     "text": [
      "string = Hi mama.\n",
      "no match\n",
      "\n",
      "\n",
      "string = When I get heartburn I use maalox.\n",
      "pattern matches from 27 to 30 with substring = maa\n",
      "\n",
      "\n"
     ]
    }
   ],
   "source": [
    "import re\n",
    "p=\"ma{2}\"\n",
    "strings=[\"Hi mama.\",\"When I get heartburn I use maalox.\"]\n",
    "for s in strings:\n",
    "    print(\"string = \" + s)\n",
    "    check_search(p,s)\n",
    "    print(\"\\n\")"
   ]
  },
  {
   "cell_type": "code",
   "execution_count": 67,
   "metadata": {},
   "outputs": [
    {
     "name": "stdout",
     "output_type": "stream",
     "text": [
      "string = ma\n",
      "no match\n",
      "\n",
      "\n",
      "string = maa\n",
      "pattern matches from 0 to 3 with substring = maa\n",
      "\n",
      "\n",
      "string = maaa\n",
      "pattern matches from 0 to 3 with substring = maa\n",
      "\n",
      "\n",
      "string = maaaa\n",
      "pattern matches from 0 to 3 with substring = maa\n",
      "\n",
      "\n"
     ]
    }
   ],
   "source": [
    "import re\n",
    "p=\"ma{2}\"\n",
    "strings=[\"ma\",\"maa\",\"maaa\",\"maaaa\"]\n",
    "for s in strings:\n",
    "    print(\"string = \" + s)\n",
    "    check_search(p,s)\n",
    "    print(\"\\n\")"
   ]
  },
  {
   "cell_type": "code",
   "execution_count": 68,
   "metadata": {},
   "outputs": [
    {
     "name": "stdout",
     "output_type": "stream",
     "text": [
      "string = ma\n",
      "no match\n",
      "\n",
      "\n",
      "string = maa\n",
      "pattern matches from 0 to 3 with substring = maa\n",
      "\n",
      "\n",
      "string = maaa\n",
      "pattern matches from 0 to 4 with substring = maaa\n",
      "\n",
      "\n",
      "string = maaaa\n",
      "pattern matches from 0 to 4 with substring = maaa\n",
      "\n",
      "\n"
     ]
    }
   ],
   "source": [
    "import re\n",
    "p=\"ma{2,3}\"\n",
    "strings=[\"ma\",\"maa\",\"maaa\",\"maaaa\"]\n",
    "for s in strings:\n",
    "    print(\"string = \" + s)\n",
    "    check_search(p,s)\n",
    "    print(\"\\n\")"
   ]
  },
  {
   "cell_type": "markdown",
   "metadata": {},
   "source": [
    "# Use of parentheses for grouping"
   ]
  },
  {
   "cell_type": "markdown",
   "metadata": {},
   "source": [
    "The *. +, {n}, {m,n} are referred to as *quantifiers*.  By default, a quantified applies to the previous regular expression, which refers to a single ordinary character in a multiple ordinary character expression.  In the following example, the + refers to the \"a\", not to \"ma\".\n",
    "\n",
    "We can also write {,n} to refer to at most n occurences, and {m,} to mean at least m occurences."
   ]
  },
  {
   "cell_type": "code",
   "execution_count": 69,
   "metadata": {},
   "outputs": [
    {
     "name": "stdout",
     "output_type": "stream",
     "text": [
      "string = Hi ma.\n",
      "pattern matches from 3 to 5 with substring = ma\n",
      "\n",
      "\n",
      "string = Hi mama.\n",
      "pattern matches from 3 to 5 with substring = ma\n",
      "\n",
      "\n",
      "string = When I get heartburn I use maalox.\n",
      "pattern matches from 27 to 30 with substring = maa\n",
      "\n",
      "\n"
     ]
    }
   ],
   "source": [
    "import re\n",
    "p=\"ma+\"\n",
    "strings=[\"Hi ma.\",\"Hi mama.\",\"When I get heartburn I use maalox.\"]\n",
    "for s in strings:\n",
    "    print(\"string = \" + s)\n",
    "    check_search(p,s)\n",
    "    print(\"\\n\")"
   ]
  },
  {
   "cell_type": "raw",
   "metadata": {},
   "source": [
    "Parentheses can be used to make the special characters apply to more complex expressions. Here we make the + refer to repetitions of \"ma\"."
   ]
  },
  {
   "cell_type": "code",
   "execution_count": 70,
   "metadata": {},
   "outputs": [
    {
     "name": "stdout",
     "output_type": "stream",
     "text": [
      "string = Hi ma.\n",
      "pattern matches from 3 to 5 with substring = ma\n",
      "\n",
      "\n",
      "string = Hi mama.\n",
      "pattern matches from 3 to 7 with substring = mama\n",
      "\n",
      "\n",
      "string = When I get heartburn I use maalox.\n",
      "pattern matches from 27 to 29 with substring = ma\n",
      "\n",
      "\n"
     ]
    }
   ],
   "source": [
    "import re\n",
    "p=\"(ma)+\"\n",
    "strings=[\"Hi ma.\",\"Hi mama.\",\"When I get heartburn I use maalox.\"]\n",
    "for s in strings:\n",
    "    print(\"string = \" + s)\n",
    "    check_search(p,s)\n",
    "    print(\"\\n\")"
   ]
  },
  {
   "cell_type": "markdown",
   "metadata": {},
   "source": [
    "What is going on in this example?"
   ]
  },
  {
   "cell_type": "code",
   "execution_count": 71,
   "metadata": {},
   "outputs": [
    {
     "name": "stdout",
     "output_type": "stream",
     "text": [
      "string = Don't forget to tell your mama that you took the maalox.\n",
      "pattern matches from 26 to 52 with substring = mama that you took the maa\n",
      "\n",
      "\n"
     ]
    }
   ],
   "source": [
    "import re\n",
    "p=\"(ma).*ma+\"\n",
    "strings=[\"Don't forget to tell your mama that you took the maalox.\"]\n",
    "for s in strings:\n",
    "    print(\"string = \" + s)\n",
    "    check_search(p,s)\n",
    "    print(\"\\n\")"
   ]
  },
  {
   "cell_type": "code",
   "execution_count": 72,
   "metadata": {},
   "outputs": [
    {
     "name": "stdout",
     "output_type": "stream",
     "text": [
      "string = Don't forget to tell your mama that you took the maalox.\n",
      "pattern matches from 26 to 51 with substring = mama that you took the ma\n",
      "\n",
      "\n"
     ]
    }
   ],
   "source": [
    "import re\n",
    "p=\"(ma){2}.*ma\"\n",
    "strings=[\"Don't forget to tell your mama that you took the maalox.\"]\n",
    "for s in strings:\n",
    "    print(\"string = \" + s)\n",
    "    check_search(p,s)\n",
    "    print(\"\\n\")"
   ]
  },
  {
   "cell_type": "code",
   "execution_count": 73,
   "metadata": {},
   "outputs": [
    {
     "name": "stdout",
     "output_type": "stream",
     "text": [
      "string = Don't forget to tell your mama that you took the maalox.\n",
      "no match\n",
      "\n",
      "\n"
     ]
    }
   ],
   "source": [
    "import re\n",
    "p=\"m.*a{3}\"\n",
    "strings=[\"Don't forget to tell your mama that you took the maalox.\"]\n",
    "for s in strings:\n",
    "    print(\"string = \" + s)\n",
    "    check_search(p,s)\n",
    "    print(\"\\n\")"
   ]
  },
  {
   "cell_type": "code",
   "execution_count": 74,
   "metadata": {},
   "outputs": [
    {
     "name": "stdout",
     "output_type": "stream",
     "text": [
      "string = Don't forget to tell your mama that you took the maalox.\n",
      "no match\n",
      "\n",
      "\n"
     ]
    }
   ],
   "source": [
    "import re\n",
    "p=\"(m.*a){3}\"\n",
    "strings=[\"Don't forget to tell your mama that you took the maalox.\"]\n",
    "for s in strings:\n",
    "    print(\"string = \" + s)\n",
    "    check_search(p,s)\n",
    "    print(\"\\n\")"
   ]
  },
  {
   "cell_type": "code",
   "execution_count": 75,
   "metadata": {},
   "outputs": [
    {
     "name": "stdout",
     "output_type": "stream",
     "text": [
      "string = Don't forget to tell your mama that you took the maalox.\n",
      "pattern matches from 26 to 52 with substring = mama that you took the maa\n",
      "\n",
      "\n"
     ]
    }
   ],
   "source": [
    "import re\n",
    "p=\"(m.*a){2}.*(m.*a)\"\n",
    "strings=[\"Don't forget to tell your mama that you took the maalox.\"]\n",
    "for s in strings:\n",
    "    print(\"string = \" + s)\n",
    "    check_search(p,s)\n",
    "    print(\"\\n\")"
   ]
  },
  {
   "cell_type": "markdown",
   "metadata": {},
   "source": [
    "# Using ? to eliminating greediness encourage laziness."
   ]
  },
  {
   "cell_type": "markdown",
   "metadata": {},
   "source": [
    "In order to ensure that matching is done in a non-greedy fashion, we can use  \\*?. In the following example, we see greediness in action."
   ]
  },
  {
   "cell_type": "code",
   "execution_count": 76,
   "metadata": {},
   "outputs": [
    {
     "name": "stdout",
     "output_type": "stream",
     "text": [
      "string = <item>blah1</item><item>blah2</item>\n",
      "pattern matches from 0 to 36 with substring = <item>blah1</item><item>blah2</item>\n",
      "\n",
      "\n"
     ]
    }
   ],
   "source": [
    "import re\n",
    "p=\"<item>.*</item>\"\n",
    "strings=[\"<item>blah1</item><item>blah2</item>\"]\n",
    "for s in strings:\n",
    "    print(\"string = \" + s)\n",
    "    check_search(p,s)\n",
    "    print(\"\\n\")"
   ]
  },
  {
   "cell_type": "markdown",
   "metadata": {},
   "source": [
    "But we wanted to stop when we got to the first closing tag. The .\\*? says match any number characters between the two tags, but include a minimal amount to get the match. In other words, we want to stop searching if we match the smallest portion of the string that gives a match."
   ]
  },
  {
   "cell_type": "code",
   "execution_count": 77,
   "metadata": {
    "scrolled": true
   },
   "outputs": [
    {
     "name": "stdout",
     "output_type": "stream",
     "text": [
      "string = <item>blah1</item><item>blah2</item>\n",
      "pattern matches from 0 to 18 with substring = <item>blah1</item>\n",
      "\n",
      "\n"
     ]
    }
   ],
   "source": [
    "import re\n",
    "p=\"<item>(.*?)</item>\"\n",
    "strings=[\"<item>blah1</item><item>blah2</item>\"]\n",
    "for s in strings:\n",
    "    print(\"string = \" + s)\n",
    "    check_search(p,s)\n",
    "    print(\"\\n\")"
   ]
  },
  {
   "cell_type": "markdown",
   "metadata": {},
   "source": [
    "The ? character also works when appearing after the + quantifier. Again, it ensures that at least one match occurs, \n",
    "but makes the seach lazy by minimizing portion needed to match."
   ]
  },
  {
   "cell_type": "code",
   "execution_count": 78,
   "metadata": {},
   "outputs": [
    {
     "name": "stdout",
     "output_type": "stream",
     "text": [
      "string = <item></item>\n",
      "no match\n",
      "\n",
      "\n",
      "string = <item>some stuff</item>\n",
      "pattern matches from 0 to 23 with substring = <item>some stuff</item>\n",
      "\n",
      "\n"
     ]
    }
   ],
   "source": [
    "import re\n",
    "p=\"<item>(.+?)</item>\"\n",
    "strings=[\"<item></item>\",\"<item>some stuff</item>\" ]\n",
    "for s in strings:\n",
    "    print(\"string = \" + s)\n",
    "    check_search(p,s)\n",
    "    print(\"\\n\")"
   ]
  },
  {
   "cell_type": "markdown",
   "metadata": {},
   "source": [
    "Finally ? is not greedy ?? is lazy in the sense that the attempt to match stops after finding the initial patter without the optional expression."
   ]
  },
  {
   "cell_type": "code",
   "execution_count": 79,
   "metadata": {},
   "outputs": [
    {
     "name": "stdout",
     "output_type": "stream",
     "text": [
      "string = Can I play with your friends?\n",
      "pattern matches from 21 to 28 with substring = friends\n",
      "\n",
      "\n"
     ]
    }
   ],
   "source": [
    "import re\n",
    "p=\"friends?\"\n",
    "strings=[\"Can I play with your friends?\" ]\n",
    "for s in strings:\n",
    "    print(\"string = \" + s)\n",
    "    check_search(p,s)\n",
    "    print(\"\\n\")"
   ]
  },
  {
   "cell_type": "code",
   "execution_count": 80,
   "metadata": {},
   "outputs": [
    {
     "name": "stdout",
     "output_type": "stream",
     "text": [
      "string = Can I play with your friends?\n",
      "pattern matches from 21 to 27 with substring = friend\n",
      "\n",
      "\n"
     ]
    }
   ],
   "source": [
    "import re\n",
    "p=\"friends??\"\n",
    "strings=[\"Can I play with your friends?\" ]\n",
    "for s in strings:\n",
    "    print(\"string = \" + s)\n",
    "    check_search(p,s)\n",
    "    print(\"\\n\")"
   ]
  },
  {
   "cell_type": "markdown",
   "metadata": {},
   "source": [
    "The ? character allows us to create non-greedy versions of the {} patterns."
   ]
  },
  {
   "cell_type": "code",
   "execution_count": 81,
   "metadata": {},
   "outputs": [
    {
     "name": "stdout",
     "output_type": "stream",
     "text": [
      "string = xo i really love you xoxo\n",
      "pattern matches from 21 to 25 with substring = xoxo\n",
      "\n",
      "\n",
      "string = xo i really love you xoxoxox\n",
      "pattern matches from 21 to 27 with substring = xoxoxo\n",
      "\n",
      "\n"
     ]
    }
   ],
   "source": [
    "import re\n",
    "p=\"(xo){2,}\"\n",
    "strings=[\"xo i really love you xoxo\",\n",
    "     \"xo i really love you xoxoxox\"]        \n",
    "for s in strings:\n",
    "    print(\"string = \" + s)\n",
    "    check_search(p,s)\n",
    "    print(\"\\n\")\n"
   ]
  },
  {
   "cell_type": "code",
   "execution_count": 82,
   "metadata": {},
   "outputs": [
    {
     "name": "stdout",
     "output_type": "stream",
     "text": [
      "string = xo i really love you xoxo\n",
      "pattern matches from 21 to 25 with substring = xoxo\n",
      "\n",
      "\n",
      "string = xo i really love you xoxoxox\n",
      "pattern matches from 21 to 25 with substring = xoxo\n",
      "\n",
      "\n"
     ]
    }
   ],
   "source": [
    "import re\n",
    "p=\"(xo){2,}?\"\n",
    "strings=[\"xo i really love you xoxo\",\n",
    "     \"xo i really love you xoxoxox\"]        \n",
    "for s in strings:\n",
    "    print(\"string = \" + s)\n",
    "    check_search(p,s)\n",
    "    print(\"\\n\")\n"
   ]
  },
  {
   "cell_type": "markdown",
   "metadata": {},
   "source": [
    "# Character groups and []'s\n",
    "\n",
    "We use square brackets to define character groups. For example, suppose we want a match for any expression of the form\n",
    "\"p_t\" where the underscore character can be any vowel from among a,e,i, or o. We can define a character group [aeio]."
   ]
  },
  {
   "cell_type": "code",
   "execution_count": 83,
   "metadata": {},
   "outputs": [
    {
     "name": "stdout",
     "output_type": "stream",
     "text": [
      "string = Is that your pet?\n",
      "pattern matches from 13 to 16 with substring = pet\n",
      "\n",
      "\n",
      "string = When I see you I get a funny feeling in the pit of my stomachAre you a pot-smoker?\n",
      "pattern matches from 44 to 47 with substring = pit\n",
      "\n",
      "\n",
      "string = I've got to give you a pat on the back!\n",
      "pattern matches from 23 to 26 with substring = pat\n",
      "\n",
      "\n",
      "string = Is 'pyt' a word?\n",
      "no match\n",
      "\n",
      "\n"
     ]
    }
   ],
   "source": [
    "import re\n",
    "p=\"p[aeio]t?\"\n",
    "strings=[\"Is that your pet?\",\n",
    "     \"When I see you I get a funny feeling in the pit of my stomach\"\n",
    "    \"Are you a pot-smoker?\",\n",
    "    \"I've got to give you a pat on the back!\",\n",
    "        \"Is 'pyt' a word?\"]        \n",
    "for s in strings:\n",
    "    print(\"string = \" + s)\n",
    "    check_search(p,s)\n",
    "    print(\"\\n\")\n"
   ]
  },
  {
   "cell_type": "markdown",
   "metadata": {},
   "source": [
    "To simplify writing down certain character groups, we can use the dash. For example, for all digits 0,1,2,3,4,5,6,7,8,9\n",
    "we can use [0-9]."
   ]
  },
  {
   "cell_type": "code",
   "execution_count": 84,
   "metadata": {},
   "outputs": [
    {
     "name": "stdout",
     "output_type": "stream",
     "text": [
      "string = My office phone number is 410-516-7203.\n",
      "pattern matches from 26 to 29 with substring = 410\n",
      "\n",
      "\n",
      "string = My social security number is 897999131.\n",
      "pattern matches from 29 to 38 with substring = 897999131\n",
      "\n",
      "\n"
     ]
    }
   ],
   "source": [
    "import re\n",
    "p=\"[0-9]+\"\n",
    "strings=[\"My office phone number is 410-516-7203.\",\n",
    "     \"My social security number is 897999131.\"]\n",
    "for s in strings:\n",
    "    print(\"string = \" + s)\n",
    "    check_search(p,s)\n",
    "    print(\"\\n\")\n"
   ]
  },
  {
   "cell_type": "markdown",
   "metadata": {},
   "source": [
    "# Exercise: \n",
    "\n",
    "Assume a phone number is always of the form: xxx-xxx-xxxx or 1-yxx-yxx-xxx where the x's are all digits from 0-9. \n",
    "        Write code to find the first phone number in a string."
   ]
  },
  {
   "cell_type": "code",
   "execution_count": 133,
   "metadata": {},
   "outputs": [
    {
     "name": "stdout",
     "output_type": "stream",
     "text": [
      "string = My office phone number is 110-116-1203.\n",
      "pattern matches from 26 to 37 with substring = 110-116-120\n",
      "\n",
      "\n",
      "string = My social security number is 897999131.\n",
      "no match\n",
      "\n",
      "\n"
     ]
    }
   ],
   "source": [
    "import re\n",
    "p=\"(1-)?([1-9][0-9]{2}-){2}[0-9]{3}\"\n",
    "strings=[\"My office phone number is 110-116-1203.\",\n",
    "     \"My social security number is 897999131.\"]\n",
    "for s in strings:\n",
    "    print(\"string = \" + s)\n",
    "    check_search(p,s)\n",
    "    print(\"\\n\")"
   ]
  },
  {
   "cell_type": "code",
   "execution_count": null,
   "metadata": {},
   "outputs": [],
   "source": []
  },
  {
   "cell_type": "markdown",
   "metadata": {},
   "source": [
    "# Meta-characters in inside square brackets\n",
    "\n",
    "Inside square brackets, there are only some meta-characters that have special meaning. Others are interpreted as literal characters. \n",
    "\n",
    "The ones that do have meaning are the backslash \\, the hyphen, and the circumflex.\n",
    "\n",
    "The circumflex only has special meaning when it appears immediately after the \\[ and it means \"not\" among these characters."
   ]
  },
  {
   "cell_type": "code",
   "execution_count": 85,
   "metadata": {},
   "outputs": [
    {
     "name": "stdout",
     "output_type": "stream",
     "text": [
      "string = Is that your pet?\n",
      "no match\n",
      "\n",
      "\n",
      "string = When I see you I get a funny feeling in the pit of my stomachAre you a pot-smoker?\n",
      "no match\n",
      "\n",
      "\n",
      "string = I've got to give you a pat on the back!\n",
      "no match\n",
      "\n",
      "\n",
      "string = Is 'pyt' a word?\n",
      "pattern matches from 4 to 7 with substring = pyt\n",
      "\n",
      "\n"
     ]
    }
   ],
   "source": [
    "import re\n",
    "p=\"p[^aeio]t?\"\n",
    "strings=[\"Is that your pet?\",\n",
    "     \"When I see you I get a funny feeling in the pit of my stomach\"\n",
    "    \"Are you a pot-smoker?\",\n",
    "    \"I've got to give you a pat on the back!\",\n",
    "        \"Is 'pyt' a word?\"]        \n",
    "for s in strings:\n",
    "    print(\"string = \" + s)\n",
    "    check_search(p,s)\n",
    "    print(\"\\n\")"
   ]
  },
  {
   "cell_type": "markdown",
   "metadata": {},
   "source": []
  },
  {
   "cell_type": "markdown",
   "metadata": {},
   "source": [
    "# The backslash: \\\n",
    "\n",
    "The backslash character is used to escape a special character in a regex pattern. So, for example, for searching for a +, you would need to do something like the followng."
   ]
  },
  {
   "cell_type": "code",
   "execution_count": 86,
   "metadata": {},
   "outputs": [
    {
     "data": {
      "text/plain": [
       "<re.Match object; span=(1, 2), match='+'>"
      ]
     },
     "execution_count": 86,
     "metadata": {},
     "output_type": "execute_result"
    }
   ],
   "source": [
    "import re\n",
    "pattern=\"\\+\"\n",
    "text=\"2+5=7\"\n",
    "re.search(pattern,text)"
   ]
  },
  {
   "cell_type": "markdown",
   "metadata": {},
   "source": [
    "The backslash is used by Python in various ways in string literals. For example,\n",
    "for new line \"\\n\", or to represent an ascii character using a hexadecimal value."
   ]
  },
  {
   "cell_type": "code",
   "execution_count": 87,
   "metadata": {},
   "outputs": [
    {
     "name": "stdout",
     "output_type": "stream",
     "text": [
      "C\n",
      "A\n",
      "T\n"
     ]
    }
   ],
   "source": [
    "txt=\"\\x43\\n\\x41\\n\\x54\"\n",
    "print(txt)"
   ]
  },
  {
   "cell_type": "markdown",
   "metadata": {},
   "source": [
    "So some care is required when using backslash in a pattern.\n",
    "\n",
    "Getting a backslash character in a string can be a slight challenge. The unicode code point for backslash is 005c (hexadecimal), i.e. 92 in decimal. We can also put a backslash in a string by escaping it with a backslash. We can also try to create a \"raw\" string with a single backslash but that fails because \\\" is interpreted as escaping the \" character. For this we need two backslashes."
   ]
  },
  {
   "cell_type": "code",
   "execution_count": 88,
   "metadata": {},
   "outputs": [
    {
     "name": "stdout",
     "output_type": "stream",
     "text": [
      "\\\\\\\\\n",
      "b'\\\\\\\\\\\\\\\\'\n",
      "\\\\\\\\\n",
      "True\n",
      "True\n",
      "True\n"
     ]
    }
   ],
   "source": [
    "txt1=u'\\u005c'\n",
    "txt2=chr(92)\n",
    "txt3='\\\\'\n",
    "txt4='\\\\'\n",
    "mystr=txt1+txt2+txt3+txt4\n",
    "print(mystr)\n",
    "bytestr=mystr.encode('utf-8')\n",
    "print(bytestr)\n",
    "print(bytestr.decode())\n",
    "print(txt1==txt2)\n",
    "print(txt1==txt3)\n",
    "print(txt1==txt4)"
   ]
  },
  {
   "cell_type": "markdown",
   "metadata": {},
   "source": [
    "When backslashes appear in patterns, they might be interpreted rather than taken literally."
   ]
  },
  {
   "cell_type": "code",
   "execution_count": 89,
   "metadata": {},
   "outputs": [
    {
     "data": {
      "text/plain": [
       "<re.Match object; span=(2, 3), match='C'>"
      ]
     },
     "execution_count": 89,
     "metadata": {},
     "output_type": "execute_result"
    }
   ],
   "source": [
    "import re\n",
    "pattern=\"\\x43\"\n",
    "text=\"ABCDEF\"\n",
    "re.search(pattern,text)"
   ]
  },
  {
   "cell_type": "markdown",
   "metadata": {},
   "source": [
    "The same goes for backslashes in text."
   ]
  },
  {
   "cell_type": "code",
   "execution_count": 90,
   "metadata": {},
   "outputs": [
    {
     "data": {
      "text/plain": [
       "<re.Match object; span=(2, 3), match='C'>"
      ]
     },
     "execution_count": 90,
     "metadata": {},
     "output_type": "execute_result"
    }
   ],
   "source": [
    "import re\n",
    "pattern=\"\\x43\"\n",
    "text=\"AB\\x43DEF\"\n",
    "re.search(pattern,text)"
   ]
  },
  {
   "cell_type": "code",
   "execution_count": 91,
   "metadata": {},
   "outputs": [
    {
     "name": "stdout",
     "output_type": "stream",
     "text": [
      "Roses are red,\n",
      "violets are blue,\n",
      "I stink at math\n",
      "How about You?\n"
     ]
    }
   ],
   "source": [
    "mytext=\"Roses are red,\\nviolets are blue,\\nI stink at math\\nHow about You?\"\n",
    "print(mytext)"
   ]
  },
  {
   "cell_type": "markdown",
   "metadata": {},
   "source": [
    "There will be instances in which the backslash needs to be treated literally rather than interpreted. In such cases, we are advised to use raw strings."
   ]
  },
  {
   "cell_type": "code",
   "execution_count": 92,
   "metadata": {},
   "outputs": [
    {
     "name": "stdout",
     "output_type": "stream",
     "text": [
      "in this raw string there is a backslash character (i.e. \\) appearing\n",
      "Roses are red,\\nviolets are blue,\\nI stink at math\\nHow about You?\n"
     ]
    }
   ],
   "source": [
    "text=r'in this raw string there is a backslash character (i.e. \\) appearing'\n",
    "print(text)\n",
    "mytext=r'Roses are red,\\nviolets are blue,\\nI stink at math\\nHow about You?'\n",
    "print(mytext)"
   ]
  },
  {
   "cell_type": "markdown",
   "metadata": {},
   "source": [
    "The following attempt to create a single backslash in a string fails."
   ]
  },
  {
   "cell_type": "code",
   "execution_count": 93,
   "metadata": {},
   "outputs": [
    {
     "ename": "SyntaxError",
     "evalue": "EOL while scanning string literal (<ipython-input-93-7859c47daaaa>, line 1)",
     "output_type": "error",
     "traceback": [
      "\u001b[0;36m  File \u001b[0;32m\"<ipython-input-93-7859c47daaaa>\"\u001b[0;36m, line \u001b[0;32m1\u001b[0m\n\u001b[0;31m    txt=\"\\\"\u001b[0m\n\u001b[0m           ^\u001b[0m\n\u001b[0;31mSyntaxError\u001b[0m\u001b[0;31m:\u001b[0m EOL while scanning string literal\n"
     ]
    }
   ],
   "source": [
    "txt=\"\\\"\n",
    "print(txt)"
   ]
  },
  {
   "cell_type": "markdown",
   "metadata": {},
   "source": [
    "This fails also. "
   ]
  },
  {
   "cell_type": "code",
   "execution_count": 94,
   "metadata": {},
   "outputs": [
    {
     "ename": "SyntaxError",
     "evalue": "EOL while scanning string literal (<ipython-input-94-96bc300b1b45>, line 1)",
     "output_type": "error",
     "traceback": [
      "\u001b[0;36m  File \u001b[0;32m\"<ipython-input-94-96bc300b1b45>\"\u001b[0;36m, line \u001b[0;32m1\u001b[0m\n\u001b[0;31m    txt=r\"\\\"\u001b[0m\n\u001b[0m            ^\u001b[0m\n\u001b[0;31mSyntaxError\u001b[0m\u001b[0;31m:\u001b[0m EOL while scanning string literal\n"
     ]
    }
   ],
   "source": [
    "txt=r\"\\\"\n",
    "print(txt)"
   ]
  },
  {
   "cell_type": "markdown",
   "metadata": {},
   "source": [
    "But this works."
   ]
  },
  {
   "cell_type": "code",
   "execution_count": 95,
   "metadata": {},
   "outputs": [
    {
     "name": "stdout",
     "output_type": "stream",
     "text": [
      "\\\n"
     ]
    }
   ],
   "source": [
    "text=\"\\\\\"\n",
    "print(text)"
   ]
  },
  {
   "cell_type": "markdown",
   "metadata": {},
   "source": [
    "But this fails."
   ]
  },
  {
   "cell_type": "code",
   "execution_count": 96,
   "metadata": {},
   "outputs": [],
   "source": [
    "text=r\"\\\\\""
   ]
  },
  {
   "cell_type": "code",
   "execution_count": 97,
   "metadata": {},
   "outputs": [
    {
     "name": "stdout",
     "output_type": "stream",
     "text": [
      "\\\\\n"
     ]
    }
   ],
   "source": [
    "print(text)"
   ]
  },
  {
   "cell_type": "markdown",
   "metadata": {},
   "source": [
    "The backslash is also used to create special sequences of regular expressions, as we will see below."
   ]
  },
  {
   "cell_type": "markdown",
   "metadata": {},
   "source": [
    "Square brackets are used to represent sets of characters. For example, to match one of the letters a, b or c, we can use [abc]."
   ]
  },
  {
   "cell_type": "code",
   "execution_count": 98,
   "metadata": {},
   "outputs": [
    {
     "name": "stdout",
     "output_type": "stream",
     "text": [
      "None\n",
      "<re.Match object; span=(11, 12), match='a'>\n",
      "<re.Match object; span=(0, 2), match='ca'>\n"
     ]
    }
   ],
   "source": [
    "import re\n",
    "pattern=\"[abc]\"\n",
    "print(re.search(pattern,\"d\"))\n",
    "print(re.search(pattern,\"help me please\"))\n",
    "pattern=\"[abcde]{2}\"\n",
    "print(re.search(pattern,\"can you help me find my lost cat please\"))"
   ]
  },
  {
   "cell_type": "markdown",
   "metadata": {},
   "source": [
    "Ranges can be used."
   ]
  },
  {
   "cell_type": "code",
   "execution_count": 99,
   "metadata": {},
   "outputs": [
    {
     "name": "stdout",
     "output_type": "stream",
     "text": [
      "<re.Match object; span=(0, 2), match='ca'>\n"
     ]
    }
   ],
   "source": [
    "import re\n",
    "pattern=\"[a-c]{2}\"\n",
    "print(re.search(pattern,\"can you help me find my lost cat please\"))"
   ]
  },
  {
   "cell_type": "code",
   "execution_count": 100,
   "metadata": {},
   "outputs": [
    {
     "name": "stdout",
     "output_type": "stream",
     "text": [
      "<re.Match object; span=(21, 23), match='my'>\n"
     ]
    }
   ],
   "source": [
    "import re\n",
    "pattern=\"[g-m][t-z]\"\n",
    "print(re.search(pattern,\"can you help me find my lost cat please\"))"
   ]
  },
  {
   "cell_type": "code",
   "execution_count": 101,
   "metadata": {},
   "outputs": [
    {
     "name": "stdout",
     "output_type": "stream",
     "text": [
      "<re.Match object; span=(4, 5), match='y'>\n"
     ]
    }
   ],
   "source": [
    "import re\n",
    "pattern=\"[g-mt-z]\"\n",
    "print(re.search(pattern,\"can you help me find my lost cat please\"))"
   ]
  },
  {
   "cell_type": "code",
   "execution_count": 102,
   "metadata": {},
   "outputs": [
    {
     "name": "stdout",
     "output_type": "stream",
     "text": [
      "<re.Match object; span=(0, 2), match='58'>\n"
     ]
    }
   ],
   "source": [
    "import re\n",
    "pattern=\"[3-5][4-8]\"\n",
    "print(re.search(pattern,\"5823824854782102786467438\"))"
   ]
  },
  {
   "cell_type": "markdown",
   "metadata": {},
   "source": [
    "If you want your set to include the \"-\" character, it needs to be escaped. Here we search for a three character sequence using \"-\" or \" \" "
   ]
  },
  {
   "cell_type": "code",
   "execution_count": 103,
   "metadata": {},
   "outputs": [
    {
     "name": "stdout",
     "output_type": "stream",
     "text": [
      "<re.Match object; span=(23, 26), match=' - '>\n"
     ]
    }
   ],
   "source": [
    "import re\n",
    "pattern=\"[\\- ]{3}\"\n",
    "print(re.search(pattern,\"If you are around today - can you please email me?\"))"
   ]
  },
  {
   "cell_type": "markdown",
   "metadata": {},
   "source": [
    "Special characters inside []'s are taken as literally, i.e. they are not interpreted as having any special meaning."
   ]
  },
  {
   "cell_type": "code",
   "execution_count": 104,
   "metadata": {},
   "outputs": [
    {
     "name": "stdout",
     "output_type": "stream",
     "text": [
      "<re.Match object; span=(1, 2), match='*'>\n"
     ]
    }
   ],
   "source": [
    "import re\n",
    "pattern=\"[\\/*+]\"\n",
    "print(re.search(pattern,\"8*9=72\"))"
   ]
  },
  {
   "cell_type": "markdown",
   "metadata": {},
   "source": [
    "There are special classes of characters that can appear inside sets. For example, \\d refers to any digit (0-9), \\D refers to a non-digit."
   ]
  },
  {
   "cell_type": "code",
   "execution_count": 105,
   "metadata": {},
   "outputs": [
    {
     "name": "stdout",
     "output_type": "stream",
     "text": [
      "<re.Match object; span=(0, 1), match='9'>\n",
      "None\n",
      "None\n",
      "<re.Match object; span=(0, 1), match='-'>\n"
     ]
    }
   ],
   "source": [
    "import re\n",
    "print(re.match(\"[\\d]\",\"9\"))\n",
    "print(re.match(\"[\\d]\",\"-\"))\n",
    "print(re.match(\"[\\D]\",\"9\"))\n",
    "print(re.match(\"[\\D]\",\"-\"))"
   ]
  },
  {
   "cell_type": "markdown",
   "metadata": {},
   "source": [
    "The construction A|B is used to match occurences of one regular expression A or another B."
   ]
  },
  {
   "cell_type": "code",
   "execution_count": 106,
   "metadata": {},
   "outputs": [
    {
     "data": {
      "text/plain": [
       "<re.Match object; span=(13, 16), match='dog'>"
      ]
     },
     "execution_count": 106,
     "metadata": {},
     "output_type": "execute_result"
    }
   ],
   "source": [
    "import re\n",
    "pattern=\"dog|cat\"\n",
    "string=\"I don't like dogs, I do like cats\"\n",
    "re.search(pattern,string)"
   ]
  },
  {
   "cell_type": "markdown",
   "metadata": {},
   "source": [
    "When using A|B if A matches, B is no longer tried, even if it produces a longer match."
   ]
  },
  {
   "cell_type": "code",
   "execution_count": 107,
   "metadata": {},
   "outputs": [
    {
     "data": {
      "text/plain": [
       "<re.Match object; span=(13, 16), match='dog'>"
      ]
     },
     "execution_count": 107,
     "metadata": {},
     "output_type": "execute_result"
    }
   ],
   "source": [
    "import re\n",
    "pattern=\"dog|dogs\"\n",
    "string=\"I don't like dogs, I do like cats\"\n",
    "re.search(pattern,string)"
   ]
  },
  {
   "cell_type": "markdown",
   "metadata": {},
   "source": [
    "Multiple regular expressions separated by | can be used."
   ]
  },
  {
   "cell_type": "code",
   "execution_count": 108,
   "metadata": {},
   "outputs": [
    {
     "data": {
      "text/plain": [
       "<re.Match object; span=(13, 17), match='bird'>"
      ]
     },
     "execution_count": 108,
     "metadata": {},
     "output_type": "execute_result"
    }
   ],
   "source": [
    "import re\n",
    "pattern=\"dog|cat|bird\"\n",
    "string=\"I don't like birds, or cats or dogs.\"\n",
    "re.search(pattern,string)"
   ]
  },
  {
   "cell_type": "markdown",
   "metadata": {
    "collapsed": true
   },
   "source": [
    "In Python, some care is required when newline characters can appear in the text.\n",
    "We might need to use the DOTALL flag to indicate that \".\" refers to all characters, even the newline.\n",
    "\n",
    "Here is an example."
   ]
  },
  {
   "cell_type": "code",
   "execution_count": 109,
   "metadata": {
    "scrolled": true
   },
   "outputs": [
    {
     "name": "stdout",
     "output_type": "stream",
     "text": [
      "None\n",
      "<re.Match object; span=(10, 47), match='xxx fw \\n fwjfk  dfewj fejh geueiu yyy'>\n"
     ]
    }
   ],
   "source": [
    "import re\n",
    "text=\"aj fjewkj xxx fw \\n fwjfk  dfewj fejh geueiu yyy \\n w hfdjwhf\"\n",
    "pattern=\"xxx.*yyy\"\n",
    "print(re.search(pattern,text))\n",
    "print(re.search(pattern,text,re.DOTALL))\n"
   ]
  },
  {
   "cell_type": "markdown",
   "metadata": {},
   "source": [
    "It is common to want to extract what is between two expressions."
   ]
  },
  {
   "cell_type": "code",
   "execution_count": 110,
   "metadata": {},
   "outputs": [
    {
     "data": {
      "text/plain": [
       "'xxx fw \\n fwjfk  dfewj fejh geueiu yyy'"
      ]
     },
     "execution_count": 110,
     "metadata": {},
     "output_type": "execute_result"
    }
   ],
   "source": [
    "import re\n",
    "text=\"aj fjewkj xxx fw \\n fwjfk  dfewj fejh geueiu yyy \\n w hfdjwhf\"\n",
    "pattern=\"xxx.*yyy\"\n",
    "re.search(pattern,text,re.DOTALL).group(0)\n"
   ]
  },
  {
   "cell_type": "markdown",
   "metadata": {},
   "source": [
    "We might want to count occurences of a pattern."
   ]
  },
  {
   "cell_type": "code",
   "execution_count": 111,
   "metadata": {},
   "outputs": [
    {
     "data": {
      "text/plain": [
       "3"
      ]
     },
     "execution_count": 111,
     "metadata": {},
     "output_type": "execute_result"
    }
   ],
   "source": [
    "import re\n",
    "text=\"eieqwor iorwi xxx .fw uifej iyyy  aj fjewkj xxx fw \\n fwjfk  dfewj fejh geueiu yyy \\n w hfdjxxx hfehj hjjfhejh jhhjhjhfjeh yyy whf\"\n",
    "pattern=\"xxx.*?yyy\"\n",
    "res=re.findall(pattern,text,re.DOTALL)\n",
    "len(res)"
   ]
  },
  {
   "cell_type": "markdown",
   "metadata": {},
   "source": [
    "If we are going to use search repeatedly, it helps to compile the pattern."
   ]
  },
  {
   "cell_type": "code",
   "execution_count": 112,
   "metadata": {},
   "outputs": [
    {
     "data": {
      "text/plain": [
       "3"
      ]
     },
     "execution_count": 112,
     "metadata": {},
     "output_type": "execute_result"
    }
   ],
   "source": [
    "import re\n",
    "text=\"eieqwor iorwi xxx .fw uifej iyyy  aj fjewkj xxx fw \\n fwjfk  dfewj fejh geueiu yyy \\n w hfdjxxx hfehj hjjfhejh jhhjhjhfjeh yyy whf\"\n",
    "pattern=\"xxx.*?yyy\"\n",
    "p=re.compile(pattern, re.DOTALL)\n",
    "res=p.findall(text)\n",
    "len(res)\n"
   ]
  },
  {
   "cell_type": "markdown",
   "metadata": {},
   "source": [
    "Suppose we have text files separated into documents delimited by <a> ... </a> that look like:\n",
    "\n",
    "<a> <b>1 .... </a> <a><b>3 .... </a> <a><b>1 ... </a> \n",
    "\n",
    "so the <b>n tag indicates what type of document we have. We want extract all of the documents of the form:\n",
    "\n",
    "<a><b>1 .... </a> \n",
    "\n",
    "where there are no </a> inside the ... .\n",
    "How do we do this?\n",
    "\n"
   ]
  },
  {
   "cell_type": "code",
   "execution_count": 113,
   "metadata": {},
   "outputs": [
    {
     "ename": "SyntaxError",
     "evalue": "unexpected EOF while parsing (<ipython-input-113-106d4ed2ff1c>, line 6)",
     "output_type": "error",
     "traceback": [
      "\u001b[0;36m  File \u001b[0;32m\"<ipython-input-113-106d4ed2ff1c>\"\u001b[0;36m, line \u001b[0;32m6\u001b[0m\n\u001b[0;31m    \u001b[0m\n\u001b[0m    ^\u001b[0m\n\u001b[0;31mSyntaxError\u001b[0m\u001b[0;31m:\u001b[0m unexpected EOF while parsing\n"
     ]
    }
   ],
   "source": [
    "import re\n",
    "text=\"line <a>fehuj<b>1 number 1 </a><a><b>2 dwjjfkwj </a> <a><b>1 dehjfhe</a><a>dwhjf <b>1</a>\"\n",
    "p=re.compile(\"<a>.*?<b>1.*?</a>\",re.DOTALL)\n",
    "pf=p.findall(text)\n",
    "while pf:\n",
    "    "
   ]
  },
  {
   "cell_type": "code",
   "execution_count": 114,
   "metadata": {},
   "outputs": [
    {
     "ename": "NameError",
     "evalue": "name 'pf' is not defined",
     "output_type": "error",
     "traceback": [
      "\u001b[0;31m---------------------------------------------------------------------------\u001b[0m",
      "\u001b[0;31mNameError\u001b[0m                                 Traceback (most recent call last)",
      "\u001b[0;32m<ipython-input-114-6504b1670143>\u001b[0m in \u001b[0;36m<module>\u001b[0;34m\u001b[0m\n\u001b[0;32m----> 1\u001b[0;31m \u001b[0mpf\u001b[0m\u001b[0;34m\u001b[0m\u001b[0;34m\u001b[0m\u001b[0m\n\u001b[0m",
      "\u001b[0;31mNameError\u001b[0m: name 'pf' is not defined"
     ]
    }
   ],
   "source": [
    "pf"
   ]
  },
  {
   "cell_type": "code",
   "execution_count": 115,
   "metadata": {},
   "outputs": [
    {
     "ename": "NameError",
     "evalue": "name 'pf' is not defined",
     "output_type": "error",
     "traceback": [
      "\u001b[0;31m---------------------------------------------------------------------------\u001b[0m",
      "\u001b[0;31mNameError\u001b[0m                                 Traceback (most recent call last)",
      "\u001b[0;32m<ipython-input-115-7a778b4fe178>\u001b[0m in \u001b[0;36m<module>\u001b[0;34m\u001b[0m\n\u001b[0;32m----> 1\u001b[0;31m \u001b[0mpf\u001b[0m\u001b[0;34m.\u001b[0m\u001b[0mgroups\u001b[0m\u001b[0;34m(\u001b[0m\u001b[0;36m0\u001b[0m\u001b[0;34m)\u001b[0m\u001b[0;34m\u001b[0m\u001b[0;34m\u001b[0m\u001b[0m\n\u001b[0m",
      "\u001b[0;31mNameError\u001b[0m: name 'pf' is not defined"
     ]
    }
   ],
   "source": [
    "pf.groups(0)"
   ]
  },
  {
   "cell_type": "code",
   "execution_count": 116,
   "metadata": {},
   "outputs": [
    {
     "data": {
      "text/plain": [
       "<re.Match object; span=(0, 9), match='abababccc'>"
      ]
     },
     "execution_count": 116,
     "metadata": {},
     "output_type": "execute_result"
    }
   ],
   "source": [
    "pattern=\"[ab]+[c]+\"\n",
    "text=\"abababcccababccccc\"\n",
    "re.search(pattern,text)"
   ]
  },
  {
   "cell_type": "markdown",
   "metadata": {},
   "source": [
    "# Getting more information"
   ]
  },
  {
   "cell_type": "markdown",
   "metadata": {},
   "source": [
    "When we get a match we can recover the substrings making up groups in the pattern to be matched. Here, group() refers to the entire match."
   ]
  },
  {
   "cell_type": "code",
   "execution_count": 117,
   "metadata": {},
   "outputs": [
    {
     "name": "stdout",
     "output_type": "stream",
     "text": [
      "Students in financial math are smarter than anyone, I think.\n",
      "Students in financial math are smarter than anyone, I think.\n",
      "Students\n",
      "math\n",
      "smarter\n",
      "one\n"
     ]
    }
   ],
   "source": [
    "text = \"Students in financial math are smarter than anyone, I think.\"\n",
    "pattern = \"(St.*ts) .* (math).* are (.*) than .*(one).*\"\n",
    "m = re.match(pattern, text)\n",
    "print(m.group())\n",
    "for i in range(5):\n",
    "    print(m.group(i))"
   ]
  },
  {
   "cell_type": "markdown",
   "metadata": {},
   "source": [
    "We can determine the positions of those groups that match using the *regs* method which gives a tuple of tuples when a match occurs."
   ]
  },
  {
   "cell_type": "code",
   "execution_count": 118,
   "metadata": {},
   "outputs": [
    {
     "name": "stdout",
     "output_type": "stream",
     "text": [
      "((0, 60), (0, 8), (22, 26), (31, 38), (47, 50))\n",
      "<class 'tuple'>\n",
      "<class 'tuple'>\n",
      "Students in financial math are smarter than anyone, I think.\n",
      "Students\n",
      "math\n",
      "smarter\n",
      "one\n"
     ]
    }
   ],
   "source": [
    "text = \"Students in financial math are smarter than anyone, I think.\"\n",
    "pattern = \"(St.*ts) .* (math).* are (.*) than .*(one).*\"\n",
    "m = re.match( pattern, text, re.M|re.I)\n",
    "print(m.regs)\n",
    "print(type(m.regs))\n",
    "print(type(m.regs[2]))\n",
    "for i in range(len(m.regs)):\n",
    "    print(text[m.regs[i][0]:m.regs[i][1]])"
   ]
  },
  {
   "cell_type": "markdown",
   "metadata": {},
   "source": [
    "Similarly, we can use search to find locations of matching portions of a pattern."
   ]
  },
  {
   "cell_type": "code",
   "execution_count": 119,
   "metadata": {},
   "outputs": [
    {
     "name": "stdout",
     "output_type": "stream",
     "text": [
      "students in financial math are smarter than any\n",
      "students\n",
      "math\n",
      "any\n"
     ]
    }
   ],
   "source": [
    "text = \"I believe that students in financial math are smarter than anyone.\"\n",
    "pattern = \"(st.*ts) .* (math) .*(any)\"\n",
    "m = re.search(pattern, text)\n",
    "print(m.group(0))\n",
    "print(m.group(1))\n",
    "print(m.group(2))\n",
    "print(m.group(3))"
   ]
  },
  {
   "cell_type": "markdown",
   "metadata": {},
   "source": [
    "# Re Flags"
   ]
  },
  {
   "cell_type": "markdown",
   "metadata": {},
   "source": [
    "There are special flags that can be used to help accomplish certain tasks. Here are some examples."
   ]
  },
  {
   "cell_type": "markdown",
   "metadata": {},
   "source": [
    "The .I flag means ignore case."
   ]
  },
  {
   "cell_type": "code",
   "execution_count": 120,
   "metadata": {},
   "outputs": [
    {
     "name": "stdout",
     "output_type": "stream",
     "text": [
      "None\n",
      "<re.Match object; span=(4, 5), match='I'>\n"
     ]
    }
   ],
   "source": [
    "import re\n",
    "text=\"Can I help you?\"\n",
    "pattern=\"i\"\n",
    "print(re.search(pattern,text))\n",
    "print(re.search(pattern,text,re.I))"
   ]
  },
  {
   "cell_type": "markdown",
   "metadata": {},
   "source": [
    "The .M means to interpret ^ as the beginning of any line, and $ to the end of any line."
   ]
  },
  {
   "cell_type": "code",
   "execution_count": 121,
   "metadata": {},
   "outputs": [
    {
     "name": "stdout",
     "output_type": "stream",
     "text": [
      "None\n",
      "<re.Match object; span=(19, 31), match='Can you help'>\n"
     ]
    }
   ],
   "source": [
    "import re\n",
    "text=\"I need some help. \\nCan you help me please?\"\n",
    "pattern=\"^Can.*help\"\n",
    "print(re.search(pattern,text))\n",
    "print(re.search(pattern,text,re.M))"
   ]
  },
  {
   "cell_type": "code",
   "execution_count": 122,
   "metadata": {},
   "outputs": [
    {
     "name": "stdout",
     "output_type": "stream",
     "text": [
      "None\n",
      "<re.Match object; span=(0, 17), match='I need some help.'>\n"
     ]
    }
   ],
   "source": [
    "import re\n",
    "text=\"I need some help.\\nCan you help me please?\"\n",
    "pattern=\".*help\\.$\"\n",
    "print(re.search(pattern,text))\n",
    "print(re.search(pattern,text,re.M))"
   ]
  },
  {
   "cell_type": "markdown",
   "metadata": {},
   "source": [
    "We can split a line using a regular expression as a delimiter. The result is a list of substrings if there are matches."
   ]
  },
  {
   "cell_type": "code",
   "execution_count": 123,
   "metadata": {},
   "outputs": [
    {
     "data": {
      "text/plain": [
       "['this is th',\n",
       " ' crazi',\n",
       " 'st id',\n",
       " 'a you hav',\n",
       " ' ',\n",
       " 'v',\n",
       " 'r pr',\n",
       " 's',\n",
       " 'nt',\n",
       " 'd in all my y',\n",
       " 'ars']"
      ]
     },
     "execution_count": 123,
     "metadata": {},
     "output_type": "execute_result"
    }
   ],
   "source": [
    "import re\n",
    "text=\"this is the craziest idea you have ever presented in all my years\"\n",
    "pattern=\"e\"\n",
    "re.split(pattern,text)"
   ]
  },
  {
   "cell_type": "markdown",
   "metadata": {},
   "source": [
    "If there are no matches, then the output is a list with the whole string."
   ]
  },
  {
   "cell_type": "code",
   "execution_count": 124,
   "metadata": {},
   "outputs": [
    {
     "data": {
      "text/plain": [
       "['this is the craziest idea you have ever presented in all my years']"
      ]
     },
     "execution_count": 124,
     "metadata": {},
     "output_type": "execute_result"
    }
   ],
   "source": [
    "import re\n",
    "text=\"this is the craziest idea you have ever presented in all my years\"\n",
    "pattern=\"q\"\n",
    "re.split(pattern,text)"
   ]
  },
  {
   "cell_type": "markdown",
   "metadata": {},
   "source": [
    "If the start of the line matches, then the list starts with an empty string."
   ]
  },
  {
   "cell_type": "code",
   "execution_count": 125,
   "metadata": {},
   "outputs": [
    {
     "data": {
      "text/plain": [
       "['',\n",
       " 'Woke up from a dream. ',\n",
       " 'fell back asleep. ',\n",
       " 'woke up and felt refreshed.']"
      ]
     },
     "execution_count": 125,
     "metadata": {},
     "output_type": "execute_result"
    }
   ],
   "source": [
    "import re\n",
    "text=\"5AM: Woke up from a dream. 6AM: fell back asleep. 12PM: woke up and felt refreshed.\"\n",
    "pattern=\"\\d+[AP]M: \"\n",
    "re.split(pattern,text)\n"
   ]
  },
  {
   "cell_type": "markdown",
   "metadata": {
    "collapsed": true
   },
   "source": [
    "Final comments:\n",
    "1) How do we find all the \\newsection in text?\n",
    "2) Greedyness (.* vs .*?)\n",
    "3) Flags\n",
    "4) Compiling regex's"
   ]
  },
  {
   "cell_type": "code",
   "execution_count": 10,
   "metadata": {
    "collapsed": true
   },
   "outputs": [],
   "source": []
  },
  {
   "cell_type": "code",
   "execution_count": 14,
   "metadata": {},
   "outputs": [
    {
     "data": {
      "text/plain": [
       "<_sre.SRE_Match object; span=(0, 50), match='here is some text with \\\\newsection appearing in >"
      ]
     },
     "execution_count": 14,
     "metadata": {},
     "output_type": "execute_result"
    }
   ],
   "source": [
    "text=\"here is some text with \\\\newsection appearing in it\"\n",
    "pattern=\"he.*t\"\n",
    "re.search(pattern,text)"
   ]
  },
  {
   "cell_type": "code",
   "execution_count": 15,
   "metadata": {},
   "outputs": [
    {
     "data": {
      "text/plain": [
       "<_sre.SRE_Match object; span=(0, 14), match='here is some t'>"
      ]
     },
     "execution_count": 15,
     "metadata": {},
     "output_type": "execute_result"
    }
   ],
   "source": [
    "text=\"here is some text with \\\\newsection appearing in it\"\n",
    "pattern=\"he.*?t\"\n",
    "re.search(pattern,text)"
   ]
  },
  {
   "cell_type": "raw",
   "metadata": {},
   "source": [
    "re.search(pattern,text)"
   ]
  },
  {
   "cell_type": "code",
   "execution_count": null,
   "metadata": {
    "collapsed": true
   },
   "outputs": [],
   "source": []
  }
 ],
 "metadata": {
  "kernelspec": {
   "display_name": "Python 3",
   "language": "python",
   "name": "python3"
  },
  "language_info": {
   "codemirror_mode": {
    "name": "ipython",
    "version": 3
   },
   "file_extension": ".py",
   "mimetype": "text/x-python",
   "name": "python",
   "nbconvert_exporter": "python",
   "pygments_lexer": "ipython3",
   "version": "3.7.1"
  }
 },
 "nbformat": 4,
 "nbformat_minor": 2
}
