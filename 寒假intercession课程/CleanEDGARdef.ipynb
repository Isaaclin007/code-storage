{
 "cells": [
  {
   "cell_type": "code",
   "execution_count": 1,
   "metadata": {},
   "outputs": [],
   "source": [
    "# We pass the url of an SEC EDGAR complete submission text file.\n",
    "def cleanEdgar(url):\n",
    "  response = requests.get(url)\n",
    "  listOfDocs = re.findall('(?s)<DOCUMENT>(.*?)</DOCUMENT>', response.text)\n",
    "  for doc in listOfDocs:\n",
    "    if re.search('<DESCRIPTION>(.*?)10-K', doc) is not None:\n",
    "      doc10Ktext = re.findall('(?s)<TEXT>(.*?)</TEXT>', doc)[0]\n",
    "      doc10Khtml = re.findall('(?s)<html>(.*)</html>', doc10Ktext)[0]\n",
    "      soup10K = BeautifulSoup(doc10Khtml,'html.parser')\n",
    "      invalid_tags = ['font','sup']\n",
    "      for tag in invalid_tags: \n",
    "        for match in soup10K.findAll(tag):\n",
    "          match.replaceWithChildren()\n",
    "      soup2 = BeautifulSoup(str(soup10K),'html.parser')\n",
    "      soupText = soup2.get_text(\"\\n\")\n",
    "      soupText = soupText.replace('$\\n','$').replace('•\\n','• ').replace('\\n.','.').replace('\\xa0%','%').replace('\\n%','%').replace('\\n)',')')\n",
    "      soupText = re.sub(r'(\\n\\xa0)+','\\n\\xa0',soupText)\n",
    "      soupText = re.sub(r'\\n+','\\n',soupText)\n",
    "      return soupText\n",
    "  return 0"
   ]
  },
  {
   "cell_type": "code",
   "execution_count": null,
   "metadata": {},
   "outputs": [],
   "source": []
  }
 ],
 "metadata": {
  "kernelspec": {
   "display_name": "Python 3",
   "language": "python",
   "name": "python3"
  },
  "language_info": {
   "codemirror_mode": {
    "name": "ipython",
    "version": 3
   },
   "file_extension": ".py",
   "mimetype": "text/x-python",
   "name": "python",
   "nbconvert_exporter": "python",
   "pygments_lexer": "ipython3",
   "version": "3.7.0"
  }
 },
 "nbformat": 4,
 "nbformat_minor": 2
}
