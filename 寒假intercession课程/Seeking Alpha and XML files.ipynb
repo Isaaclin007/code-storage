{
 "cells": [
  {
   "cell_type": "markdown",
   "metadata": {},
   "source": [
    "We saw that some articles are available in the Seeking Alpha site.\n",
    "We can request a summary news articles about a particular company from this site as in the following example."
   ]
  },
  {
   "cell_type": "code",
   "execution_count": 27,
   "metadata": {},
   "outputs": [
    {
     "data": {
      "text/plain": [
       "200"
      ]
     },
     "execution_count": 27,
     "metadata": {},
     "output_type": "execute_result"
    }
   ],
   "source": [
    "import requests\n",
    "url=\"https://seekingalpha.com/api/sa/combined/GOOGL.xml\"\n",
    "req=requests.get(url)\n",
    "req.status_code"
   ]
  },
  {
   "cell_type": "code",
   "execution_count": 29,
   "metadata": {},
   "outputs": [
    {
     "data": {
      "text/plain": [
       "'<?xml version=\"1.0\"?>\\n<rss xmlns:sa=\"https://seekingalpha.com/api/1.0\" xmlns:media=\"http://search.yahoo.com/mrss/\" version=\"2.0\">\\n  <channel>\\n    <title>Alphabet, Inc. Cl A - News and Analysis on Seeking Alpha</title>\\n    <link>https://seekingalpha.com</link>\\n    <description>&#xA9; seekingalpha.com. Use of this feed is limited to personal, non-commercial use and is governed by Seeking Alpha\\'s Terms of Use (https://seekingalpha.com/page/terms-of-use). Publishing this feed for public or commercial use and/or misrepresentation by a third party is prohibited.</description>\\n    <item>\\n      <title>EU deciding on Google privacy scope</title>\\n      <link>https://seekingalpha.com/symbol/GOOGL/news?source=feed_symbol_GOOGL</link>\\n      <guid isPermaLink=\"false\">https://seekingalpha.com/MarketCurrent:3421782</guid>\\n      <pubDate>Wed, 09 Jan 2019 10:14:48 -0500</pubDate>\\n      <sa:author_name>Brandy Betz</sa:author_name>\\n      <media:thumbnail url=\"\"/>\\n      <sa:picture/>\\n      <sa:stock>\\n        <sa:symbol>GOOG</sa:symbol>\\n        <sa:company_name>Alphabet, Inc. Cl C</sa:company_name>\\n      </sa:stock>\\n      <sa:stock>\\n        <sa:symbol>GOOGL</sa:symbol>\\n        <sa:company_name>Alphabet, Inc. Cl A</sa:company_name>\\n      </sa:stock>\\n    </item>\\n    <item>\\n      <title>Google roundup: Assistant\\'s busy CES19</title>\\n      <link>https://seekingalpha.com/symbol/GOOGL/news?source=feed_symbol_GOOGL</link>\\n      <guid isPermaLink=\"false\">https://seekingalpha.com/MarketCurrent:3421537</guid>\\n      <pubDate>Tue, 08 Jan 2019 14:56:56 -0500</pubDate>\\n      <sa:author_name>Brandy Betz</sa:author_name>\\n      <media:thumbnail url=\"\"/>\\n      <sa:picture/>\\n      <sa:stock>\\n        <sa:symbol>GOOGL</sa:symbol>\\n        <sa:company_name>Alphabet, Inc. Cl A</sa:company_name>\\n      </sa:stock>\\n      <sa:stock>\\n        <sa:symbol>GOOG</sa:symbol>\\n        <sa:company_name>Alphabet, Inc. Cl C</sa:company_name>\\n      </sa:stock>\\n      <sa:stock>\\n        <sa:symbol>WHR</sa:symbol>\\n        <sa:company_name>Whirlpool Corporation</sa:company_name>\\n      </sa:stock>\\n      <sa:stock>\\n        <sa:symbol>SONO</sa:symbol>\\n        <sa:company_name>Sonos, Inc.</sa:company_name>\\n      </sa:stock>\\n    </item>\\n    <item>\\n      <title>Alphabet roundup: Assistant hits 1B, Pivotal upgrade</title>\\n      <link>https://seekingalpha.com/symbol/GOOGL/news?source=feed_symbol_GOOGL</link>\\n      <guid isPermaLink=\"false\">https://seekingalpha.com/MarketCurrent:3421001</guid>\\n      <pubDate>Mon, 07 Jan 2019 09:27:05 -0500</pubDate>\\n      <sa:author_name>Brandy Betz</sa:author_name>\\n      <media:thumbnail url=\"\"/>\\n      <sa:picture/>\\n      <sa:stock>\\n        <sa:symbol>GOOGL</sa:symbol>\\n        <sa:company_name>Alphabet, Inc. Cl A</sa:company_name>\\n      </sa:stock>\\n    </item>\\n    <item>\\n      <title>Verily announces new funding round</title>\\n      <link>https://seekingalpha.com/symbol/GOOGL/news?source=feed_symbol_GOOGL</link>\\n      <guid isPermaLink=\"false\">https://seekingalpha.com/MarketCurrent:3420630</guid>\\n      <pubDate>Fri, 04 Jan 2019 07:45:34 -0500</pubDate>\\n      <sa:author_name>Clark Schultz</sa:author_name>\\n      <media:thumbnail url=\"\"/>\\n      <sa:picture/>\\n      <sa:stock>\\n        <sa:symbol>GOOG</sa:symbol>\\n        <sa:company_name>Alphabet, Inc. Cl C</sa:company_name>\\n      </sa:stock>\\n      <sa:stock>\\n        <sa:symbol>GOOGL</sa:symbol>\\n        <sa:company_name>Alphabet, Inc. Cl A</sa:company_name>\\n      </sa:stock>\\n    </item>\\n    <item>\\n      <title>Alphabet\\'s Verily announces $1B round</title>\\n      <link>https://seekingalpha.com/symbol/GOOGL/news?source=feed_symbol_GOOGL</link>\\n      <guid isPermaLink=\"false\">https://seekingalpha.com/MarketCurrent:3420537</guid>\\n      <pubDate>Thu, 03 Jan 2019 16:45:31 -0500</pubDate>\\n      <sa:author_name>Brandy Betz</sa:author_name>\\n      <media:thumbnail url=\"\"/>\\n      <sa:picture/>\\n      <sa:stock>\\n        <sa:symbol>GOOGL</sa:symbol>\\n        <sa:company_name>Alphabet, Inc. Cl A</sa:company_name>\\n      </sa:stock>\\n    </item>\\n    <item>\\n      <title>Google shifted $23B to Bermuda</title>\\n      <link>https://seekingalpha.com/symbol/GOOGL/news?source=feed_symbol_GOOGL</link>\\n      <guid isPermaLink=\"false\">https://seekingalpha.com/MarketCurrent:3420481</guid>\\n      <pubDate>Thu, 03 Jan 2019 13:59:49 -0500</pubDate>\\n      <sa:author_name>Brandy Betz</sa:author_name>\\n      <media:thumbnail url=\"\"/>\\n      <sa:picture/>\\n      <sa:stock>\\n        <sa:symbol>GOOG</sa:symbol>\\n        <sa:company_name>Alphabet, Inc. Cl C</sa:company_name>\\n      </sa:stock>\\n      <sa:stock>\\n        <sa:symbol>GOOGL</sa:symbol>\\n        <sa:company_name>Alphabet, Inc. Cl A</sa:company_name>\\n      </sa:stock>\\n    </item>\\n    <item>\\n      <title>Canaccord ups Alphabet on modest Amazon competition</title>\\n      <link>https://seekingalpha.com/symbol/GOOGL/news?source=feed_symbol_GOOGL</link>\\n      <guid isPermaLink=\"false\">https://seekingalpha.com/MarketCurrent:3420413</guid>\\n      <pubDate>Thu, 03 Jan 2019 11:24:12 -0500</pubDate>\\n      <sa:author_name>Brandy Betz</sa:author_name>\\n      <media:thumbnail url=\"\"/>\\n      <sa:picture/>\\n      <sa:stock>\\n        <sa:symbol>GOOGL</sa:symbol>\\n        <sa:company_name>Alphabet, Inc. Cl A</sa:company_name>\\n      </sa:stock>\\n      <sa:stock>\\n        <sa:symbol>AMZN</sa:symbol>\\n        <sa:company_name>Amazon.com, Inc.</sa:company_name>\\n      </sa:stock>\\n    </item>\\n    <item>\\n      <title>Immersion +11.6% on Google haptics deal</title>\\n      <link>https://seekingalpha.com/symbol/GOOGL/news?source=feed_symbol_GOOGL</link>\\n      <guid isPermaLink=\"false\">https://seekingalpha.com/MarketCurrent:3420310</guid>\\n      <pubDate>Thu, 03 Jan 2019 09:13:02 -0500</pubDate>\\n      <sa:author_name>Brandy Betz</sa:author_name>\\n      <media:thumbnail url=\"\"/>\\n      <sa:picture/>\\n      <sa:stock>\\n        <sa:symbol>IMMR</sa:symbol>\\n        <sa:company_name>Immersion Corporation</sa:company_name>\\n      </sa:stock>\\n      <sa:stock>\\n        <sa:symbol>GOOGL</sa:symbol>\\n        <sa:company_name>Alphabet, Inc. Cl A</sa:company_name>\\n      </sa:stock>\\n    </item>\\n    <item>\\n      <title>FCC gives nod to Google\\'s miniature radar</title>\\n      <link>https://seekingalpha.com/symbol/GOOGL/news?source=feed_symbol_GOOGL</link>\\n      <guid isPermaLink=\"false\">https://seekingalpha.com/MarketCurrent:3419855</guid>\\n      <pubDate>Wed, 02 Jan 2019 03:06:29 -0500</pubDate>\\n      <sa:author_name>Yoel Minkoff</sa:author_name>\\n      <media:thumbnail url=\"\"/>\\n      <sa:picture/>\\n      <sa:stock>\\n        <sa:symbol>GOOG</sa:symbol>\\n        <sa:company_name>Alphabet, Inc. Cl C</sa:company_name>\\n      </sa:stock>\\n      <sa:stock>\\n        <sa:symbol>GOOGL</sa:symbol>\\n        <sa:company_name>Alphabet, Inc. Cl A</sa:company_name>\\n      </sa:stock>\\n    </item>\\n    <item>\\n      <title>How will the FAANGs perform in 2019?</title>\\n      <link>https://seekingalpha.com/symbol/GOOGL/news?source=feed_symbol_GOOGL</link>\\n      <guid isPermaLink=\"false\">https://seekingalpha.com/MarketCurrent:3419838</guid>\\n      <pubDate>Tue, 01 Jan 2019 05:32:12 -0500</pubDate>\\n      <sa:author_name>Yoel Minkoff</sa:author_name>\\n      <media:thumbnail url=\"\"/>\\n      <sa:picture/>\\n      <sa:stock>\\n        <sa:symbol>FB</sa:symbol>\\n        <sa:company_name>Facebook</sa:company_name>\\n      </sa:stock>\\n      <sa:stock>\\n        <sa:symbol>AMZN</sa:symbol>\\n        <sa:company_name>Amazon.com, Inc.</sa:company_name>\\n      </sa:stock>\\n      <sa:stock>\\n        <sa:symbol>AAPL</sa:symbol>\\n        <sa:company_name>Apple Inc.</sa:company_name>\\n      </sa:stock>\\n      <sa:stock>\\n        <sa:symbol>NFLX</sa:symbol>\\n        <sa:company_name>Netflix, Inc.</sa:company_name>\\n      </sa:stock>\\n      <sa:stock>\\n        <sa:symbol>GOOG</sa:symbol>\\n        <sa:company_name>Alphabet, Inc. Cl C</sa:company_name>\\n      </sa:stock>\\n      <sa:stock>\\n        <sa:symbol>GOOGL</sa:symbol>\\n        <sa:company_name>Alphabet, Inc. Cl A</sa:company_name>\\n      </sa:stock>\\n    </item>\\n    <item>\\n      <title>Analyst: Market needs FAANG to recover</title>\\n      <link>https://seekingalpha.com/symbol/GOOGL/news?source=feed_symbol_GOOGL</link>\\n      <guid isPermaLink=\"false\">https://seekingalpha.com/MarketCurrent:3419782</guid>\\n      <pubDate>Mon, 31 Dec 2018 13:56:40 -0500</pubDate>\\n      <sa:author_name>Brandy Betz</sa:author_name>\\n      <media:thumbnail url=\"\"/>\\n      <sa:picture/>\\n      <sa:stock>\\n        <sa:symbol>FB</sa:symbol>\\n        <sa:company_name>Facebook</sa:company_name>\\n      </sa:stock>\\n      <sa:stock>\\n        <sa:symbol>AAPL</sa:symbol>\\n        <sa:company_name>Apple Inc.</sa:company_name>\\n      </sa:stock>\\n      <sa:stock>\\n        <sa:symbol>AMZN</sa:symbol>\\n        <sa:company_name>Amazon.com, Inc.</sa:company_name>\\n      </sa:stock>\\n      <sa:stock>\\n        <sa:symbol>NFLX</sa:symbol>\\n        <sa:company_name>Netflix, Inc.</sa:company_name>\\n      </sa:stock>\\n      <sa:stock>\\n        <sa:symbol>GOOGL</sa:symbol>\\n        <sa:company_name>Alphabet, Inc. Cl A</sa:company_name>\\n      </sa:stock>\\n      <sa:stock>\\n        <sa:symbol>XLK</sa:symbol>\\n        <sa:company_name>Technology Select Sector SPDR ETF</sa:company_name>\\n      </sa:stock>\\n      <sa:stock>\\n        <sa:symbol>VGT</sa:symbol>\\n        <sa:company_name>Vanguard Information Technology ETF</sa:company_name>\\n      </sa:stock>\\n      <sa:stock>\\n        <sa:symbol>TECL</sa:symbol>\\n        <sa:company_name>Direxion Technology Bull 3x Shares ETF</sa:company_name>\\n      </sa:stock>\\n      <sa:stock>\\n        <sa:symbol>FTEC</sa:symbol>\\n        <sa:company_name>Fidelity MSCI Information Technology Index ETF</sa:company_name>\\n      </sa:stock>\\n      <sa:stock>\\n        <sa:symbol>IYW</sa:symbol>\\n        <sa:company_name>iShares U.S. Technology ETF</sa:company_name>\\n      </sa:stock>\\n      <sa:stock>\\n        <sa:symbol>ROM</sa:symbol>\\n        <sa:company_name>ProShares Ultra Technology ETF</sa:company_name>\\n      </sa:stock>\\n      <sa:stock>\\n        <sa:symbol>QTEC</sa:symbol>\\n        <sa:company_name>First Trust NASDAQ-100-Tech Index ETF</sa:company_name>\\n      </sa:stock>\\n      <sa:stock>\\n        <sa:symbol>RYT</sa:symbol>\\n        <sa:company_name>Invesco S&amp;P 500 Equal Weight Technology ETF</sa:company_name>\\n      </sa:stock>\\n      <sa:stock>\\n        <sa:symbol>FNG</sa:symbol>\\n        <sa:company_name>AdvisorShares New Tech and Media ETF</sa:company_name>\\n      </sa:stock>\\n      <sa:stock>\\n        <sa:symbol>TECS</sa:symbol>\\n        <sa:company_name>Direxion Technology Bear 3x Shares ETF</sa:company_name>\\n      </sa:stock>\\n      <sa:stock>\\n        <sa:symbol>IGM</sa:symbol>\\n        <sa:company_name>iShares North American Tech ETF</sa:company_name>\\n      </sa:stock>\\n      <sa:stock>\\n        <sa:symbol>FXL</sa:symbol>\\n        <sa:company_name>First Trust Tech AlphaDEX ETF</sa:company_name>\\n      </sa:stock>\\n      <sa:stock>\\n        <sa:symbol>XNTK</sa:symbol>\\n        <sa:company_name>SPDR NYSE Technology ETF</sa:company_name>\\n      </sa:stock>\\n      <sa:stock>\\n        <sa:symbol>REW</sa:symbol>\\n        <sa:company_name>ProShares UltraShort Technology ETF</sa:company_name>\\n      </sa:stock>\\n      <sa:stock>\\n        <sa:symbol>JHMT</sa:symbol>\\n        <sa:company_name>John Hancock Multifactor Technology ETF</sa:company_name>\\n      </sa:stock>\\n      <sa:stock>\\n        <sa:symbol>XITK</sa:symbol>\\n        <sa:company_name>SPDR Innovative Technology ETF</sa:company_name>\\n      </sa:stock>\\n    </item>\\n    <item>\\n      <title>Epic Games takes on Apple and Google</title>\\n      <link>https://seekingalpha.com/symbol/GOOGL/news?source=feed_symbol_GOOGL</link>\\n      <guid isPermaLink=\"false\">https://seekingalpha.com/MarketCurrent:3419715</guid>\\n      <pubDate>Mon, 31 Dec 2018 09:04:14 -0500</pubDate>\\n      <sa:author_name>Brandy Betz</sa:author_name>\\n      <media:thumbnail url=\"\"/>\\n      <sa:picture/>\\n      <sa:stock>\\n        <sa:symbol>AAPL</sa:symbol>\\n        <sa:company_name>Apple Inc.</sa:company_name>\\n      </sa:stock>\\n      <sa:stock>\\n        <sa:symbol>GOOGL</sa:symbol>\\n        <sa:company_name>Alphabet, Inc. Cl A</sa:company_name>\\n      </sa:stock>\\n    </item>\\n    <item>\\n      <title>Bloomberg: Self-driving cars \"down the road\"</title>\\n      <link>https://seekingalpha.com/symbol/GOOGL/news?source=feed_symbol_GOOGL</link>\\n      <guid isPermaLink=\"false\">https://seekingalpha.com/MarketCurrent:3419696</guid>\\n      <pubDate>Mon, 31 Dec 2018 08:17:46 -0500</pubDate>\\n      <sa:author_name>Brandy Betz</sa:author_name>\\n      <media:thumbnail url=\"\"/>\\n      <sa:picture/>\\n      <sa:stock>\\n        <sa:symbol>GOOGL</sa:symbol>\\n        <sa:company_name>Alphabet, Inc. Cl A</sa:company_name>\\n      </sa:stock>\\n      <sa:stock>\\n        <sa:symbol>GM</sa:symbol>\\n        <sa:company_name>General Motors Company</sa:company_name>\\n      </sa:stock>\\n      <sa:stock>\\n        <sa:symbol>F</sa:symbol>\\n        <sa:company_name>Ford Motor Company</sa:company_name>\\n      </sa:stock>\\n    </item>\\n    <item>\\n      <title>Alphabet: Hardly Matters</title>\\n      <link>https://seekingalpha.com/article/4230027-alphabet-hardly-matters?source=feed_symbol_GOOGL</link>\\n      <guid isPermaLink=\"false\">https://seekingalpha.com/Article:4230027</guid>\\n      <pubDate>Mon, 24 Dec 2018 14:19:44 -0500</pubDate>\\n      <sa:author_name>Stone Fox Capital</sa:author_name>\\n      <media:thumbnail url=\"\"/>\\n      <sa:picture/>\\n      <sa:stock>\\n        <sa:symbol>AAPL</sa:symbol>\\n        <sa:company_name>Apple Inc.</sa:company_name>\\n      </sa:stock>\\n      <sa:stock>\\n        <sa:symbol>AMZN</sa:symbol>\\n        <sa:company_name>Amazon.com, Inc.</sa:company_name>\\n      </sa:stock>\\n      <sa:stock>\\n        <sa:symbol>GOOG</sa:symbol>\\n        <sa:company_name>Alphabet, Inc. Cl C</sa:company_name>\\n      </sa:stock>\\n      <sa:stock>\\n        <sa:symbol>SONO</sa:symbol>\\n        <sa:company_name>Sonos, Inc.</sa:company_name>\\n      </sa:stock>\\n      <sa:stock>\\n        <sa:symbol>GOOGL</sa:symbol>\\n        <sa:company_name>Alphabet, Inc. Cl A</sa:company_name>\\n      </sa:stock>\\n    </item>\\n    <item>\\n      <title>RBC: Google hardware will hit $20B in three years</title>\\n      <link>https://seekingalpha.com/symbol/GOOGL/news?source=feed_symbol_GOOGL</link>\\n      <guid isPermaLink=\"false\">https://seekingalpha.com/MarketCurrent:3418905</guid>\\n      <pubDate>Fri, 21 Dec 2018 13:32:52 -0500</pubDate>\\n      <sa:author_name>Brandy Betz</sa:author_name>\\n      <media:thumbnail url=\"\"/>\\n      <sa:picture/>\\n      <sa:stock>\\n        <sa:symbol>GOOG</sa:symbol>\\n        <sa:company_name>Alphabet, Inc. Cl C</sa:company_name>\\n      </sa:stock>\\n      <sa:stock>\\n        <sa:symbol>GOOGL</sa:symbol>\\n        <sa:company_name>Alphabet, Inc. Cl A</sa:company_name>\\n      </sa:stock>\\n    </item>\\n    <item>\\n      <title>Dealreporter: Atlassian good acquisition target for Google</title>\\n      <link>https://seekingalpha.com/symbol/GOOGL/news?source=feed_symbol_GOOGL</link>\\n      <guid isPermaLink=\"false\">https://seekingalpha.com/MarketCurrent:3418642</guid>\\n      <pubDate>Thu, 20 Dec 2018 15:56:52 -0500</pubDate>\\n      <sa:author_name>Brandy Betz</sa:author_name>\\n      <media:thumbnail url=\"\"/>\\n      <sa:picture/>\\n      <sa:stock>\\n        <sa:symbol>TEAM</sa:symbol>\\n        <sa:company_name>Atlassian</sa:company_name>\\n      </sa:stock>\\n      <sa:stock>\\n        <sa:symbol>GOOG</sa:symbol>\\n        <sa:company_name>Alphabet, Inc. Cl C</sa:company_name>\\n      </sa:stock>\\n      <sa:stock>\\n        <sa:symbol>GOOGL</sa:symbol>\\n        <sa:company_name>Alphabet, Inc. Cl A</sa:company_name>\\n      </sa:stock>\\n    </item>\\n    <item>\\n      <title>Walgreens, Verily partner to cut health costs</title>\\n      <link>https://seekingalpha.com/symbol/GOOGL/news?source=feed_symbol_GOOGL</link>\\n      <guid isPermaLink=\"false\">https://seekingalpha.com/MarketCurrent:3418395</guid>\\n      <pubDate>Thu, 20 Dec 2018 03:04:32 -0500</pubDate>\\n      <sa:author_name>Yoel Minkoff</sa:author_name>\\n      <media:thumbnail url=\"\"/>\\n      <sa:picture/>\\n      <sa:stock>\\n        <sa:symbol>WBA</sa:symbol>\\n        <sa:company_name>Walgreens Boots Alliance, Inc.</sa:company_name>\\n      </sa:stock>\\n      <sa:stock>\\n        <sa:symbol>GOOG</sa:symbol>\\n        <sa:company_name>Alphabet, Inc. Cl C</sa:company_name>\\n      </sa:stock>\\n      <sa:stock>\\n        <sa:symbol>GOOGL</sa:symbol>\\n        <sa:company_name>Alphabet, Inc. Cl A</sa:company_name>\\n      </sa:stock>\\n    </item>\\n    <item>\\n      <title>Auto safety agency speeds self-driving reviews</title>\\n      <link>https://seekingalpha.com/symbol/GOOGL/news?source=feed_symbol_GOOGL</link>\\n      <guid isPermaLink=\"false\">https://seekingalpha.com/MarketCurrent:3417974</guid>\\n      <pubDate>Tue, 18 Dec 2018 15:02:47 -0500</pubDate>\\n      <sa:author_name>Brandy Betz</sa:author_name>\\n      <media:thumbnail url=\"\"/>\\n      <sa:picture/>\\n      <sa:stock>\\n        <sa:symbol>GM</sa:symbol>\\n        <sa:company_name>General Motors Company</sa:company_name>\\n      </sa:stock>\\n      <sa:stock>\\n        <sa:symbol>GOOG</sa:symbol>\\n        <sa:company_name>Alphabet, Inc. Cl C</sa:company_name>\\n      </sa:stock>\\n      <sa:stock>\\n        <sa:symbol>GOOGL</sa:symbol>\\n        <sa:company_name>Alphabet, Inc. Cl A</sa:company_name>\\n      </sa:stock>\\n      <sa:stock>\\n        <sa:symbol>UBER</sa:symbol>\\n        <sa:company_name>Uber</sa:company_name>\\n      </sa:stock>\\n      <sa:stock>\\n        <sa:symbol>TM</sa:symbol>\\n        <sa:company_name>Toyota Motor Corporation</sa:company_name>\\n      </sa:stock>\\n      <sa:stock>\\n        <sa:symbol>F</sa:symbol>\\n        <sa:company_name>Ford Motor Company</sa:company_name>\\n      </sa:stock>\\n    </item>\\n    <item>\\n      <title>EU court kicks Yelp out of Google appeal</title>\\n      <link>https://seekingalpha.com/symbol/GOOGL/news?source=feed_symbol_GOOGL</link>\\n      <guid isPermaLink=\"false\">https://seekingalpha.com/MarketCurrent:3417965</guid>\\n      <pubDate>Tue, 18 Dec 2018 14:18:18 -0500</pubDate>\\n      <sa:author_name>Brandy Betz</sa:author_name>\\n      <media:thumbnail url=\"\"/>\\n      <sa:picture/>\\n      <sa:stock>\\n        <sa:symbol>YELP</sa:symbol>\\n        <sa:company_name>Yelp</sa:company_name>\\n      </sa:stock>\\n      <sa:stock>\\n        <sa:symbol>GOOG</sa:symbol>\\n        <sa:company_name>Alphabet, Inc. Cl C</sa:company_name>\\n      </sa:stock>\\n      <sa:stock>\\n        <sa:symbol>GOOGL</sa:symbol>\\n        <sa:company_name>Alphabet, Inc. Cl A</sa:company_name>\\n      </sa:stock>\\n    </item>\\n    <item>\\n      <title>Report: Google \"effectively\" ends China project</title>\\n      <link>https://seekingalpha.com/symbol/GOOGL/news?source=feed_symbol_GOOGL</link>\\n      <guid isPermaLink=\"false\">https://seekingalpha.com/MarketCurrent:3417591</guid>\\n      <pubDate>Mon, 17 Dec 2018 13:02:39 -0500</pubDate>\\n      <sa:author_name>Brandy Betz</sa:author_name>\\n      <media:thumbnail url=\"\"/>\\n      <sa:picture/>\\n      <sa:stock>\\n        <sa:symbol>GOOG</sa:symbol>\\n        <sa:company_name>Alphabet, Inc. Cl C</sa:company_name>\\n      </sa:stock>\\n      <sa:stock>\\n        <sa:symbol>GOOGL</sa:symbol>\\n        <sa:company_name>Alphabet, Inc. Cl A</sa:company_name>\\n      </sa:stock>\\n    </item>\\n    <item>\\n      <title>France moves ahead with tech tax</title>\\n      <link>https://seekingalpha.com/symbol/GOOGL/news?source=feed_symbol_GOOGL</link>\\n      <guid isPermaLink=\"false\">https://seekingalpha.com/MarketCurrent:3417549</guid>\\n      <pubDate>Mon, 17 Dec 2018 11:33:51 -0500</pubDate>\\n      <sa:author_name>Brandy Betz</sa:author_name>\\n      <media:thumbnail url=\"\"/>\\n      <sa:picture/>\\n      <sa:stock>\\n        <sa:symbol>GOOGL</sa:symbol>\\n        <sa:company_name>Alphabet, Inc. Cl A</sa:company_name>\\n      </sa:stock>\\n      <sa:stock>\\n        <sa:symbol>AAPL</sa:symbol>\\n        <sa:company_name>Apple Inc.</sa:company_name>\\n      </sa:stock>\\n      <sa:stock>\\n        <sa:symbol>FB</sa:symbol>\\n        <sa:company_name>Facebook</sa:company_name>\\n      </sa:stock>\\n      <sa:stock>\\n        <sa:symbol>AMZN</sa:symbol>\\n        <sa:company_name>Amazon.com, Inc.</sa:company_name>\\n      </sa:stock>\\n    </item>\\n    <item>\\n      <title>Russia disinformation report calls out big tech</title>\\n      <link>https://seekingalpha.com/symbol/GOOGL/news?source=feed_symbol_GOOGL</link>\\n      <guid isPermaLink=\"false\">https://seekingalpha.com/MarketCurrent:3417462</guid>\\n      <pubDate>Mon, 17 Dec 2018 09:11:25 -0500</pubDate>\\n      <sa:author_name>Brandy Betz</sa:author_name>\\n      <media:thumbnail url=\"\"/>\\n      <sa:picture/>\\n      <sa:stock>\\n        <sa:symbol>TWTR</sa:symbol>\\n        <sa:company_name>Twitter, Inc.</sa:company_name>\\n      </sa:stock>\\n      <sa:stock>\\n        <sa:symbol>FB</sa:symbol>\\n        <sa:company_name>Facebook</sa:company_name>\\n      </sa:stock>\\n      <sa:stock>\\n        <sa:symbol>GOOGL</sa:symbol>\\n        <sa:company_name>Alphabet, Inc. Cl A</sa:company_name>\\n      </sa:stock>\\n    </item>\\n    <item>\\n      <title>Goldman Sachs makes defensive picks</title>\\n      <link>https://seekingalpha.com/symbol/GOOGL/news?source=feed_symbol_GOOGL</link>\\n      <guid isPermaLink=\"false\">https://seekingalpha.com/MarketCurrent:3417451</guid>\\n      <pubDate>Mon, 17 Dec 2018 08:57:39 -0500</pubDate>\\n      <sa:author_name>Clark Schultz</sa:author_name>\\n      <media:thumbnail url=\"\"/>\\n      <sa:picture/>\\n      <sa:stock>\\n        <sa:symbol>GOOGL</sa:symbol>\\n        <sa:company_name>Alphabet, Inc. Cl A</sa:company_name>\\n      </sa:stock>\\n      <sa:stock>\\n        <sa:symbol>GOOG</sa:symbol>\\n        <sa:company_name>Alphabet, Inc. Cl C</sa:company_name>\\n      </sa:stock>\\n      <sa:stock>\\n        <sa:symbol>MA</sa:symbol>\\n        <sa:company_name>Mastercard, Inc.</sa:company_name>\\n      </sa:stock>\\n      <sa:stock>\\n        <sa:symbol>PEP</sa:symbol>\\n        <sa:company_name>PepsiCo Inc.</sa:company_name>\\n      </sa:stock>\\n    </item>\\n    <item>\\n      <title>Google to spend $1B on new New York campus</title>\\n      <link>https://seekingalpha.com/symbol/GOOGL/news?source=feed_symbol_GOOGL</link>\\n      <guid isPermaLink=\"false\">https://seekingalpha.com/MarketCurrent:3417375</guid>\\n      <pubDate>Mon, 17 Dec 2018 06:36:05 -0500</pubDate>\\n      <sa:author_name>Yoel Minkoff</sa:author_name>\\n      <media:thumbnail url=\"\"/>\\n      <sa:picture/>\\n      <sa:stock>\\n        <sa:symbol>GOOG</sa:symbol>\\n        <sa:company_name>Alphabet, Inc. Cl C</sa:company_name>\\n      </sa:stock>\\n      <sa:stock>\\n        <sa:symbol>GOOGL</sa:symbol>\\n        <sa:company_name>Alphabet, Inc. Cl A</sa:company_name>\\n      </sa:stock>\\n    </item>\\n    <item>\\n      <title>Google Shopping comes to India</title>\\n      <link>https://seekingalpha.com/symbol/GOOGL/news?source=feed_symbol_GOOGL</link>\\n      <guid isPermaLink=\"false\">https://seekingalpha.com/MarketCurrent:3417164</guid>\\n      <pubDate>Fri, 14 Dec 2018 10:38:22 -0500</pubDate>\\n      <sa:author_name>Brandy Betz</sa:author_name>\\n      <media:thumbnail url=\"\"/>\\n      <sa:picture/>\\n      <sa:stock>\\n        <sa:symbol>GOOG</sa:symbol>\\n        <sa:company_name>Alphabet, Inc. Cl C</sa:company_name>\\n      </sa:stock>\\n      <sa:stock>\\n        <sa:symbol>GOOGL</sa:symbol>\\n        <sa:company_name>Alphabet, Inc. Cl A</sa:company_name>\\n      </sa:stock>\\n    </item>\\n    <item>\\n      <title>YouTube removed 58M videos in Q3</title>\\n      <link>https://seekingalpha.com/symbol/GOOGL/news?source=feed_symbol_GOOGL</link>\\n      <guid isPermaLink=\"false\">https://seekingalpha.com/MarketCurrent:3416892</guid>\\n      <pubDate>Thu, 13 Dec 2018 14:00:14 -0500</pubDate>\\n      <sa:author_name>Brandy Betz</sa:author_name>\\n      <media:thumbnail url=\"\"/>\\n      <sa:picture/>\\n      <sa:stock>\\n        <sa:symbol>GOOG</sa:symbol>\\n        <sa:company_name>Alphabet, Inc. Cl C</sa:company_name>\\n      </sa:stock>\\n      <sa:stock>\\n        <sa:symbol>GOOGL</sa:symbol>\\n        <sa:company_name>Alphabet, Inc. Cl A</sa:company_name>\\n      </sa:stock>\\n    </item>\\n    <item>\\n      <title>Google launches AI program for eye disease</title>\\n      <link>https://seekingalpha.com/symbol/GOOGL/news?source=feed_symbol_GOOGL</link>\\n      <guid isPermaLink=\"false\">https://seekingalpha.com/MarketCurrent:3416775</guid>\\n      <pubDate>Thu, 13 Dec 2018 09:18:06 -0500</pubDate>\\n      <sa:author_name>Brandy Betz</sa:author_name>\\n      <media:thumbnail url=\"\"/>\\n      <sa:picture/>\\n      <sa:stock>\\n        <sa:symbol>GOOG</sa:symbol>\\n        <sa:company_name>Alphabet, Inc. Cl C</sa:company_name>\\n      </sa:stock>\\n      <sa:stock>\\n        <sa:symbol>GOOGL</sa:symbol>\\n        <sa:company_name>Alphabet, Inc. Cl A</sa:company_name>\\n      </sa:stock>\\n    </item>\\n    <item>\\n      <title>Should Google licensing fees be halted?</title>\\n      <link>https://seekingalpha.com/symbol/GOOGL/news?source=feed_symbol_GOOGL</link>\\n      <guid isPermaLink=\"false\">https://seekingalpha.com/MarketCurrent:3416662</guid>\\n      <pubDate>Thu, 13 Dec 2018 06:23:16 -0500</pubDate>\\n      <sa:author_name>Yoel Minkoff</sa:author_name>\\n      <media:thumbnail url=\"\"/>\\n      <sa:picture/>\\n      <sa:stock>\\n        <sa:symbol>GOOG</sa:symbol>\\n        <sa:company_name>Alphabet, Inc. Cl C</sa:company_name>\\n      </sa:stock>\\n      <sa:stock>\\n        <sa:symbol>GOOGL</sa:symbol>\\n        <sa:company_name>Alphabet, Inc. Cl A</sa:company_name>\\n      </sa:stock>\\n    </item>\\n    <item>\\n      <title>Report: Japan to increase scrutiny of foreign big-data firms</title>\\n      <link>https://seekingalpha.com/symbol/GOOGL/news?source=feed_symbol_GOOGL</link>\\n      <guid isPermaLink=\"false\">https://seekingalpha.com/MarketCurrent:3416239</guid>\\n      <pubDate>Tue, 11 Dec 2018 18:00:25 -0500</pubDate>\\n      <sa:author_name>Jason Aycock</sa:author_name>\\n      <media:thumbnail url=\"\"/>\\n      <sa:picture/>\\n      <sa:stock>\\n        <sa:symbol>FB</sa:symbol>\\n        <sa:company_name>Facebook</sa:company_name>\\n      </sa:stock>\\n      <sa:stock>\\n        <sa:symbol>AMZN</sa:symbol>\\n        <sa:company_name>Amazon.com, Inc.</sa:company_name>\\n      </sa:stock>\\n      <sa:stock>\\n        <sa:symbol>NFLX</sa:symbol>\\n        <sa:company_name>Netflix, Inc.</sa:company_name>\\n      </sa:stock>\\n      <sa:stock>\\n        <sa:symbol>GOOG</sa:symbol>\\n        <sa:company_name>Alphabet, Inc. Cl C</sa:company_name>\\n      </sa:stock>\\n      <sa:stock>\\n        <sa:symbol>GOOGL</sa:symbol>\\n        <sa:company_name>Alphabet, Inc. Cl A</sa:company_name>\\n      </sa:stock>\\n      <sa:stock>\\n        <sa:symbol>BABA</sa:symbol>\\n        <sa:company_name>Alibaba Group Holding Limited</sa:company_name>\\n      </sa:stock>\\n    </item>\\n    <item>\\n      <title>Facebook testing search advertising as new revenue stream</title>\\n      <link>https://seekingalpha.com/symbol/GOOGL/news?source=feed_symbol_GOOGL</link>\\n      <guid isPermaLink=\"false\">https://seekingalpha.com/MarketCurrent:3416129</guid>\\n      <pubDate>Tue, 11 Dec 2018 14:34:54 -0500</pubDate>\\n      <sa:author_name>Jason Aycock</sa:author_name>\\n      <media:thumbnail url=\"\"/>\\n      <sa:picture/>\\n      <sa:stock>\\n        <sa:symbol>GOOG</sa:symbol>\\n        <sa:company_name>Alphabet, Inc. Cl C</sa:company_name>\\n      </sa:stock>\\n      <sa:stock>\\n        <sa:symbol>GOOGL</sa:symbol>\\n        <sa:company_name>Alphabet, Inc. Cl A</sa:company_name>\\n      </sa:stock>\\n      <sa:stock>\\n        <sa:symbol>FB</sa:symbol>\\n        <sa:company_name>Facebook</sa:company_name>\\n      </sa:stock>\\n    </item>\\n  </channel>\\n</rss>\\n\\n'"
      ]
     },
     "execution_count": 29,
     "metadata": {},
     "output_type": "execute_result"
    }
   ],
   "source": [
    "req.text"
   ]
  },
  {
   "cell_type": "markdown",
   "metadata": {},
   "source": [
    "We see that the file returned is an XML file.  XML is another commonly used standard format for creating documents that store information in a text file.\n",
    "\n",
    "Here is a link to a nice tutorial:\n",
    "\n",
    "    https://www.tutorialspoint.com/xml/index.htm\n",
    "    \n",
    "    \n",
    "A key takeway from the tutorial is that XML has a tree structure with nodes that have \n",
    "-  tags\n",
    "-  attributes, and \n",
    "-  text.\n",
    "\n",
    "There is a nice package for navigating through the tree as shown in this example. Before demonstrating that capability, we can open up the text file in a text editor and an XML previewer and look at its structure.\n",
    "\n",
    "When looking at the file in a text editor the newline characters help. Let's write the file out and have a look at it.\n"
   ]
  },
  {
   "cell_type": "code",
   "execution_count": 30,
   "metadata": {},
   "outputs": [],
   "source": [
    "fout=open(\"GOOGLE.xml\",\"w\")\n",
    "fout.write(req.text)\n",
    "fout.close()"
   ]
  },
  {
   "cell_type": "markdown",
   "metadata": {},
   "source": [
    "Now we try a Python package for inspecting the file. The following command gives us the root node of the tree.  From the code below we see that a tag is a strings, the attributes are returned as dictionaries and text is a string."
   ]
  },
  {
   "cell_type": "code",
   "execution_count": 43,
   "metadata": {},
   "outputs": [
    {
     "name": "stdout",
     "output_type": "stream",
     "text": [
      "<class 'str'>\n",
      "<class 'dict'>\n",
      "<class 'str'>\n",
      "root tag = rss\n",
      "root attrib = {'version': '2.0'}\n",
      "root text\n",
      "  \n"
     ]
    }
   ],
   "source": [
    "import xml.etree.ElementTree as ET\n",
    "root = ET.fromstring(req.text)\n",
    "print(type(root.tag))\n",
    "print(type(root.attrib))\n",
    "print(type(root.text))\n",
    "print(\"root tag = \" + root.tag)\n",
    "print(\"root attrib = \" + str(root.attrib))\n",
    "print(\"root text\" + root.text)"
   ]
  },
  {
   "cell_type": "markdown",
   "metadata": {},
   "source": [
    "Next we look at the children of the root node. How many children does this node have?"
   ]
  },
  {
   "cell_type": "code",
   "execution_count": 48,
   "metadata": {},
   "outputs": [
    {
     "name": "stdout",
     "output_type": "stream",
     "text": [
      "1\n"
     ]
    }
   ],
   "source": [
    "print(len(root))"
   ]
  },
  {
   "cell_type": "markdown",
   "metadata": {},
   "source": [
    "We can extract a child of a node using its index."
   ]
  },
  {
   "cell_type": "code",
   "execution_count": 56,
   "metadata": {},
   "outputs": [],
   "source": [
    "child=root[0]"
   ]
  },
  {
   "cell_type": "markdown",
   "metadata": {},
   "source": [
    "How many children does this child have?"
   ]
  },
  {
   "cell_type": "code",
   "execution_count": 57,
   "metadata": {},
   "outputs": [
    {
     "data": {
      "text/plain": [
       "33"
      ]
     },
     "execution_count": 57,
     "metadata": {},
     "output_type": "execute_result"
    }
   ],
   "source": [
    "len(child)"
   ]
  },
  {
   "cell_type": "markdown",
   "metadata": {},
   "source": [
    "We can iterate over the children. (Nodes are iterable.)"
   ]
  },
  {
   "cell_type": "code",
   "execution_count": 85,
   "metadata": {},
   "outputs": [
    {
     "name": "stdout",
     "output_type": "stream",
     "text": [
      "title\n",
      "0\n",
      "link\n",
      "0\n",
      "description\n",
      "0\n",
      "item\n",
      "9\n",
      "item\n",
      "11\n",
      "item\n",
      "8\n",
      "item\n",
      "9\n",
      "item\n",
      "8\n",
      "item\n",
      "9\n",
      "item\n",
      "9\n",
      "item\n",
      "9\n",
      "item\n",
      "9\n",
      "item\n",
      "13\n",
      "item\n",
      "28\n",
      "item\n",
      "9\n",
      "item\n",
      "10\n",
      "item\n",
      "12\n",
      "item\n",
      "9\n",
      "item\n",
      "10\n",
      "item\n",
      "10\n",
      "item\n",
      "13\n",
      "item\n",
      "10\n",
      "item\n",
      "9\n",
      "item\n",
      "11\n",
      "item\n",
      "10\n",
      "item\n",
      "11\n",
      "item\n",
      "9\n",
      "item\n",
      "9\n",
      "item\n",
      "9\n",
      "item\n",
      "9\n",
      "item\n",
      "9\n",
      "item\n",
      "13\n",
      "item\n",
      "10\n"
     ]
    }
   ],
   "source": [
    "for ch in child:\n",
    "    print(ch.tag)\n",
    "    print(len(ch))"
   ]
  },
  {
   "cell_type": "markdown",
   "metadata": {},
   "source": [
    "We see that the first 3 nodes have no children. We can view the text associated with these nodes."
   ]
  },
  {
   "cell_type": "code",
   "execution_count": 88,
   "metadata": {},
   "outputs": [
    {
     "name": "stdout",
     "output_type": "stream",
     "text": [
      "text = Alphabet, Inc. Cl A - News and Analysis on Seeking Alpha\n",
      "text = https://seekingalpha.com\n",
      "text = © seekingalpha.com. Use of this feed is limited to personal, non-commercial use and is governed by Seeking Alpha's Terms of Use (https://seekingalpha.com/page/terms-of-use). Publishing this feed for public or commercial use and/or misrepresentation by a third party is prohibited.\n"
     ]
    }
   ],
   "source": [
    "for i in range(3):\n",
    "    print(\"text = \" + child[i].text)\n"
   ]
  },
  {
   "cell_type": "markdown",
   "metadata": {},
   "source": [
    "Now we have a look at an item."
   ]
  },
  {
   "cell_type": "code",
   "execution_count": 93,
   "metadata": {},
   "outputs": [
    {
     "data": {
      "text/plain": [
       "9"
      ]
     },
     "execution_count": 93,
     "metadata": {},
     "output_type": "execute_result"
    }
   ],
   "source": [
    "item=child[3]\n",
    "len(item)"
   ]
  },
  {
   "cell_type": "code",
   "execution_count": 99,
   "metadata": {},
   "outputs": [
    {
     "name": "stdout",
     "output_type": "stream",
     "text": [
      "tag = title\n",
      "text = EU deciding on Google privacy scope\n",
      "tag = link\n",
      "text = https://seekingalpha.com/symbol/GOOGL/news?source=feed_symbol_GOOGL\n",
      "tag = guid\n",
      "text = https://seekingalpha.com/MarketCurrent:3421782\n",
      "tag = pubDate\n",
      "text = Wed, 09 Jan 2019 10:14:48 -0500\n",
      "tag = {https://seekingalpha.com/api/1.0}author_name\n",
      "text = Brandy Betz\n",
      "tag = {http://search.yahoo.com/mrss/}thumbnail\n",
      "tag = {https://seekingalpha.com/api/1.0}picture\n",
      "tag = {https://seekingalpha.com/api/1.0}stock\n",
      "text = \n",
      "        \n",
      "tag = {https://seekingalpha.com/api/1.0}stock\n",
      "text = \n",
      "        \n"
     ]
    }
   ],
   "source": [
    "for i in item:\n",
    "    print(\"tag = \" + i.tag)\n",
    "    if type(i.text) is str:\n",
    "        print(\"text = \" + i.text)"
   ]
  },
  {
   "cell_type": "code",
   "execution_count": null,
   "metadata": {},
   "outputs": [],
   "source": []
  }
 ],
 "metadata": {
  "kernelspec": {
   "display_name": "Python 3",
   "language": "python",
   "name": "python3"
  },
  "language_info": {
   "codemirror_mode": {
    "name": "ipython",
    "version": 3
   },
   "file_extension": ".py",
   "mimetype": "text/x-python",
   "name": "python",
   "nbconvert_exporter": "python",
   "pygments_lexer": "ipython3",
   "version": "3.7.0"
  }
 },
 "nbformat": 4,
 "nbformat_minor": 2
}
